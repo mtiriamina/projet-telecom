{
 "cells": [
  {
   "cell_type": "code",
   "execution_count": 16,
   "metadata": {},
   "outputs": [],
   "source": [
    "from sklearn.model_selection import train_test_split\n",
    "import pandas as pd\n",
    "#importation de DecisionTreeClassifier\n",
    "from sklearn.tree import DecisionTreeClassifier\n",
    "from sklearn.metrics import classification_report,confusion_matrix\n",
    "#Importaion du StandardScaler\n",
    "from sklearn.preprocessing import MinMaxScaler\n",
    "from sklearn import metrics\n",
    "import warnings\n",
    "import matplotlib.pyplot as plt\n",
    "from matplotlib import pyplot\n",
    "warnings.filterwarnings('ignore')"
   ]
  },
  {
   "cell_type": "code",
   "execution_count": 3,
   "metadata": {},
   "outputs": [
    {
     "name": "stdout",
     "output_type": "stream",
     "text": [
      "(1439, 90)\n"
     ]
    },
    {
     "data": {
      "text/html": [
       "<div>\n",
       "<style scoped>\n",
       "    .dataframe tbody tr th:only-of-type {\n",
       "        vertical-align: middle;\n",
       "    }\n",
       "\n",
       "    .dataframe tbody tr th {\n",
       "        vertical-align: top;\n",
       "    }\n",
       "\n",
       "    .dataframe thead th {\n",
       "        text-align: right;\n",
       "    }\n",
       "</style>\n",
       "<table border=\"1\" class=\"dataframe\">\n",
       "  <thead>\n",
       "    <tr style=\"text-align: right;\">\n",
       "      <th></th>\n",
       "      <th>city</th>\n",
       "      <th>NB_Emp</th>\n",
       "      <th>Size_Comp</th>\n",
       "      <th>Sect_Comp</th>\n",
       "      <th>Opert_Princ</th>\n",
       "      <th>Opert_Period</th>\n",
       "      <th>Abonnement_Orange</th>\n",
       "      <th>Abonnement_Ooredoo</th>\n",
       "      <th>Abonnement_Telecom</th>\n",
       "      <th>Opert_Princ_Type_Offer</th>\n",
       "      <th>...</th>\n",
       "      <th>Ooredoo</th>\n",
       "      <th>TunisieTélécom</th>\n",
       "      <th>Info_Facility_Understand_numeric</th>\n",
       "      <th>Visit_Eval_numeric</th>\n",
       "      <th>Store_Staff_numeric</th>\n",
       "      <th>Request_Comprehension_numeric</th>\n",
       "      <th>Proposed_solution_in_Store_numeric</th>\n",
       "      <th>privileged welcome as a business customer_numeric</th>\n",
       "      <th>Profiling_Kmeans</th>\n",
       "      <th>satisfaction</th>\n",
       "    </tr>\n",
       "  </thead>\n",
       "  <tbody>\n",
       "    <tr>\n",
       "      <th>0</th>\n",
       "      <td>TUNIS</td>\n",
       "      <td>20</td>\n",
       "      <td>10-24</td>\n",
       "      <td>Industrie</td>\n",
       "      <td>Ooredoo</td>\n",
       "      <td>1 an à moins de 2 ans</td>\n",
       "      <td>Les abonnements mobiles sont fournis par l’en...</td>\n",
       "      <td>Les abonnements mobiles sont fournis par l’en...</td>\n",
       "      <td>999</td>\n",
       "      <td>Offre mobile prépayée</td>\n",
       "      <td>...</td>\n",
       "      <td>1</td>\n",
       "      <td>0</td>\n",
       "      <td>999</td>\n",
       "      <td>999</td>\n",
       "      <td>999</td>\n",
       "      <td>999</td>\n",
       "      <td>999</td>\n",
       "      <td>999</td>\n",
       "      <td>2</td>\n",
       "      <td>moins satisfait</td>\n",
       "    </tr>\n",
       "    <tr>\n",
       "      <th>1</th>\n",
       "      <td>TUNIS</td>\n",
       "      <td>11</td>\n",
       "      <td>10-24</td>\n",
       "      <td>Services</td>\n",
       "      <td>Orange</td>\n",
       "      <td>3 ans ou plus</td>\n",
       "      <td>Certains ou tous les employés ont leur propre...</td>\n",
       "      <td>999</td>\n",
       "      <td>999</td>\n",
       "      <td>Offre mobile postpayé</td>\n",
       "      <td>...</td>\n",
       "      <td>0</td>\n",
       "      <td>0</td>\n",
       "      <td>11</td>\n",
       "      <td>999</td>\n",
       "      <td>999</td>\n",
       "      <td>999</td>\n",
       "      <td>999</td>\n",
       "      <td>999</td>\n",
       "      <td>2</td>\n",
       "      <td>moins satisfait</td>\n",
       "    </tr>\n",
       "    <tr>\n",
       "      <th>2</th>\n",
       "      <td>TUNIS</td>\n",
       "      <td>11</td>\n",
       "      <td>10-24</td>\n",
       "      <td>Services</td>\n",
       "      <td>Orange</td>\n",
       "      <td>3 ans ou plus</td>\n",
       "      <td>Certains ou tous les employés ont leur propre...</td>\n",
       "      <td>999</td>\n",
       "      <td>999</td>\n",
       "      <td>Offre mobile prépayée</td>\n",
       "      <td>...</td>\n",
       "      <td>0</td>\n",
       "      <td>0</td>\n",
       "      <td>6</td>\n",
       "      <td>999</td>\n",
       "      <td>999</td>\n",
       "      <td>999</td>\n",
       "      <td>999</td>\n",
       "      <td>999</td>\n",
       "      <td>2</td>\n",
       "      <td>moins satisfait</td>\n",
       "    </tr>\n",
       "    <tr>\n",
       "      <th>3</th>\n",
       "      <td>TUNIS</td>\n",
       "      <td>10</td>\n",
       "      <td>10-24</td>\n",
       "      <td>Industrie</td>\n",
       "      <td>Ooredoo</td>\n",
       "      <td>3 mois à moins de 6 mois</td>\n",
       "      <td>999</td>\n",
       "      <td>Les abonnements mobiles sont fournis par l’en...</td>\n",
       "      <td>999</td>\n",
       "      <td>Offre mobile prépayée</td>\n",
       "      <td>...</td>\n",
       "      <td>1</td>\n",
       "      <td>0</td>\n",
       "      <td>999</td>\n",
       "      <td>999</td>\n",
       "      <td>999</td>\n",
       "      <td>999</td>\n",
       "      <td>999</td>\n",
       "      <td>999</td>\n",
       "      <td>2</td>\n",
       "      <td>moins satisfait</td>\n",
       "    </tr>\n",
       "    <tr>\n",
       "      <th>4</th>\n",
       "      <td>TUNIS</td>\n",
       "      <td>29</td>\n",
       "      <td>25-50</td>\n",
       "      <td>Industrie</td>\n",
       "      <td>Ooredoo</td>\n",
       "      <td>3 ans ou plus</td>\n",
       "      <td>Certains ou tous les employés ont leur propre...</td>\n",
       "      <td>Les abonnements mobiles sont fournis par l’en...</td>\n",
       "      <td>999</td>\n",
       "      <td>Offre mobile postpayé</td>\n",
       "      <td>...</td>\n",
       "      <td>1</td>\n",
       "      <td>0</td>\n",
       "      <td>9</td>\n",
       "      <td>999</td>\n",
       "      <td>999</td>\n",
       "      <td>999</td>\n",
       "      <td>999</td>\n",
       "      <td>999</td>\n",
       "      <td>2</td>\n",
       "      <td>moins satisfait</td>\n",
       "    </tr>\n",
       "  </tbody>\n",
       "</table>\n",
       "<p>5 rows × 90 columns</p>\n",
       "</div>"
      ],
      "text/plain": [
       "    city  NB_Emp Size_Comp  Sect_Comp Opert_Princ              Opert_Period  \\\n",
       "0  TUNIS      20     10-24  Industrie     Ooredoo     1 an à moins de 2 ans   \n",
       "1  TUNIS      11     10-24   Services      Orange             3 ans ou plus   \n",
       "2  TUNIS      11     10-24   Services      Orange             3 ans ou plus   \n",
       "3  TUNIS      10     10-24  Industrie     Ooredoo  3 mois à moins de 6 mois   \n",
       "4  TUNIS      29     25-50  Industrie     Ooredoo             3 ans ou plus   \n",
       "\n",
       "                                   Abonnement_Orange  \\\n",
       "0   Les abonnements mobiles sont fournis par l’en...   \n",
       "1   Certains ou tous les employés ont leur propre...   \n",
       "2   Certains ou tous les employés ont leur propre...   \n",
       "3                                                999   \n",
       "4   Certains ou tous les employés ont leur propre...   \n",
       "\n",
       "                                  Abonnement_Ooredoo Abonnement_Telecom  \\\n",
       "0   Les abonnements mobiles sont fournis par l’en...                999   \n",
       "1                                                999                999   \n",
       "2                                                999                999   \n",
       "3   Les abonnements mobiles sont fournis par l’en...                999   \n",
       "4   Les abonnements mobiles sont fournis par l’en...                999   \n",
       "\n",
       "  Opert_Princ_Type_Offer  ...  Ooredoo  TunisieTélécom  \\\n",
       "0  Offre mobile prépayée  ...        1               0   \n",
       "1  Offre mobile postpayé  ...        0               0   \n",
       "2  Offre mobile prépayée  ...        0               0   \n",
       "3  Offre mobile prépayée  ...        1               0   \n",
       "4  Offre mobile postpayé  ...        1               0   \n",
       "\n",
       "   Info_Facility_Understand_numeric  Visit_Eval_numeric  Store_Staff_numeric  \\\n",
       "0                               999                 999                  999   \n",
       "1                                11                 999                  999   \n",
       "2                                 6                 999                  999   \n",
       "3                               999                 999                  999   \n",
       "4                                 9                 999                  999   \n",
       "\n",
       "   Request_Comprehension_numeric  Proposed_solution_in_Store_numeric  \\\n",
       "0                            999                                 999   \n",
       "1                            999                                 999   \n",
       "2                            999                                 999   \n",
       "3                            999                                 999   \n",
       "4                            999                                 999   \n",
       "\n",
       "   privileged welcome as a business customer_numeric  Profiling_Kmeans  \\\n",
       "0                                                999                 2   \n",
       "1                                                999                 2   \n",
       "2                                                999                 2   \n",
       "3                                                999                 2   \n",
       "4                                                999                 2   \n",
       "\n",
       "      satisfaction  \n",
       "0  moins satisfait  \n",
       "1  moins satisfait  \n",
       "2  moins satisfait  \n",
       "3  moins satisfait  \n",
       "4  moins satisfait  \n",
       "\n",
       "[5 rows x 90 columns]"
      ]
     },
     "execution_count": 3,
     "metadata": {},
     "output_type": "execute_result"
    }
   ],
   "source": [
    "df = pd.read_excel('Clustring.xlsx')\n",
    "print(df.shape)\n",
    "df.head()"
   ]
  },
  {
   "cell_type": "code",
   "execution_count": 4,
   "metadata": {},
   "outputs": [
    {
     "name": "stdout",
     "output_type": "stream",
     "text": [
      "(1439, 90)\n"
     ]
    },
    {
     "data": {
      "text/html": [
       "<div>\n",
       "<style scoped>\n",
       "    .dataframe tbody tr th:only-of-type {\n",
       "        vertical-align: middle;\n",
       "    }\n",
       "\n",
       "    .dataframe tbody tr th {\n",
       "        vertical-align: top;\n",
       "    }\n",
       "\n",
       "    .dataframe thead th {\n",
       "        text-align: right;\n",
       "    }\n",
       "</style>\n",
       "<table border=\"1\" class=\"dataframe\">\n",
       "  <thead>\n",
       "    <tr style=\"text-align: right;\">\n",
       "      <th></th>\n",
       "      <th>city</th>\n",
       "      <th>NB_Emp</th>\n",
       "      <th>Size_Comp</th>\n",
       "      <th>Sect_Comp</th>\n",
       "      <th>Opert_Princ</th>\n",
       "      <th>Opert_Period</th>\n",
       "      <th>Abonnement_Orange</th>\n",
       "      <th>Abonnement_Ooredoo</th>\n",
       "      <th>Abonnement_Telecom</th>\n",
       "      <th>Opert_Princ_Type_Offer</th>\n",
       "      <th>...</th>\n",
       "      <th>Ooredoo</th>\n",
       "      <th>TunisieTélécom</th>\n",
       "      <th>Info_Facility_Understand_numeric</th>\n",
       "      <th>Visit_Eval_numeric</th>\n",
       "      <th>Store_Staff_numeric</th>\n",
       "      <th>Request_Comprehension_numeric</th>\n",
       "      <th>Proposed_solution_in_Store_numeric</th>\n",
       "      <th>privileged welcome as a business customer_numeric</th>\n",
       "      <th>Profiling_Kmeans</th>\n",
       "      <th>satisfaction</th>\n",
       "    </tr>\n",
       "  </thead>\n",
       "  <tbody>\n",
       "    <tr>\n",
       "      <th>0</th>\n",
       "      <td>0</td>\n",
       "      <td>0</td>\n",
       "      <td>0</td>\n",
       "      <td>0</td>\n",
       "      <td>0</td>\n",
       "      <td>0</td>\n",
       "      <td>0</td>\n",
       "      <td>0</td>\n",
       "      <td>0</td>\n",
       "      <td>0</td>\n",
       "      <td>...</td>\n",
       "      <td>0</td>\n",
       "      <td>0</td>\n",
       "      <td>0</td>\n",
       "      <td>0</td>\n",
       "      <td>0</td>\n",
       "      <td>0</td>\n",
       "      <td>0</td>\n",
       "      <td>0</td>\n",
       "      <td>0</td>\n",
       "      <td>0</td>\n",
       "    </tr>\n",
       "    <tr>\n",
       "      <th>1</th>\n",
       "      <td>0</td>\n",
       "      <td>1</td>\n",
       "      <td>0</td>\n",
       "      <td>1</td>\n",
       "      <td>1</td>\n",
       "      <td>1</td>\n",
       "      <td>1</td>\n",
       "      <td>1</td>\n",
       "      <td>0</td>\n",
       "      <td>1</td>\n",
       "      <td>...</td>\n",
       "      <td>1</td>\n",
       "      <td>0</td>\n",
       "      <td>1</td>\n",
       "      <td>0</td>\n",
       "      <td>0</td>\n",
       "      <td>0</td>\n",
       "      <td>0</td>\n",
       "      <td>0</td>\n",
       "      <td>0</td>\n",
       "      <td>0</td>\n",
       "    </tr>\n",
       "    <tr>\n",
       "      <th>2</th>\n",
       "      <td>0</td>\n",
       "      <td>1</td>\n",
       "      <td>0</td>\n",
       "      <td>1</td>\n",
       "      <td>1</td>\n",
       "      <td>1</td>\n",
       "      <td>1</td>\n",
       "      <td>1</td>\n",
       "      <td>0</td>\n",
       "      <td>0</td>\n",
       "      <td>...</td>\n",
       "      <td>1</td>\n",
       "      <td>0</td>\n",
       "      <td>2</td>\n",
       "      <td>0</td>\n",
       "      <td>0</td>\n",
       "      <td>0</td>\n",
       "      <td>0</td>\n",
       "      <td>0</td>\n",
       "      <td>0</td>\n",
       "      <td>0</td>\n",
       "    </tr>\n",
       "    <tr>\n",
       "      <th>3</th>\n",
       "      <td>0</td>\n",
       "      <td>2</td>\n",
       "      <td>0</td>\n",
       "      <td>0</td>\n",
       "      <td>0</td>\n",
       "      <td>2</td>\n",
       "      <td>2</td>\n",
       "      <td>2</td>\n",
       "      <td>0</td>\n",
       "      <td>0</td>\n",
       "      <td>...</td>\n",
       "      <td>0</td>\n",
       "      <td>0</td>\n",
       "      <td>0</td>\n",
       "      <td>0</td>\n",
       "      <td>0</td>\n",
       "      <td>0</td>\n",
       "      <td>0</td>\n",
       "      <td>0</td>\n",
       "      <td>0</td>\n",
       "      <td>0</td>\n",
       "    </tr>\n",
       "    <tr>\n",
       "      <th>4</th>\n",
       "      <td>0</td>\n",
       "      <td>3</td>\n",
       "      <td>1</td>\n",
       "      <td>0</td>\n",
       "      <td>0</td>\n",
       "      <td>1</td>\n",
       "      <td>1</td>\n",
       "      <td>0</td>\n",
       "      <td>0</td>\n",
       "      <td>1</td>\n",
       "      <td>...</td>\n",
       "      <td>0</td>\n",
       "      <td>0</td>\n",
       "      <td>3</td>\n",
       "      <td>0</td>\n",
       "      <td>0</td>\n",
       "      <td>0</td>\n",
       "      <td>0</td>\n",
       "      <td>0</td>\n",
       "      <td>0</td>\n",
       "      <td>0</td>\n",
       "    </tr>\n",
       "    <tr>\n",
       "      <th>...</th>\n",
       "      <td>...</td>\n",
       "      <td>...</td>\n",
       "      <td>...</td>\n",
       "      <td>...</td>\n",
       "      <td>...</td>\n",
       "      <td>...</td>\n",
       "      <td>...</td>\n",
       "      <td>...</td>\n",
       "      <td>...</td>\n",
       "      <td>...</td>\n",
       "      <td>...</td>\n",
       "      <td>...</td>\n",
       "      <td>...</td>\n",
       "      <td>...</td>\n",
       "      <td>...</td>\n",
       "      <td>...</td>\n",
       "      <td>...</td>\n",
       "      <td>...</td>\n",
       "      <td>...</td>\n",
       "      <td>...</td>\n",
       "      <td>...</td>\n",
       "    </tr>\n",
       "    <tr>\n",
       "      <th>1434</th>\n",
       "      <td>0</td>\n",
       "      <td>22</td>\n",
       "      <td>1</td>\n",
       "      <td>6</td>\n",
       "      <td>2</td>\n",
       "      <td>1</td>\n",
       "      <td>0</td>\n",
       "      <td>1</td>\n",
       "      <td>1</td>\n",
       "      <td>0</td>\n",
       "      <td>...</td>\n",
       "      <td>1</td>\n",
       "      <td>1</td>\n",
       "      <td>5</td>\n",
       "      <td>4</td>\n",
       "      <td>7</td>\n",
       "      <td>8</td>\n",
       "      <td>3</td>\n",
       "      <td>0</td>\n",
       "      <td>2</td>\n",
       "      <td>2</td>\n",
       "    </tr>\n",
       "    <tr>\n",
       "      <th>1435</th>\n",
       "      <td>1</td>\n",
       "      <td>8</td>\n",
       "      <td>0</td>\n",
       "      <td>2</td>\n",
       "      <td>2</td>\n",
       "      <td>1</td>\n",
       "      <td>0</td>\n",
       "      <td>1</td>\n",
       "      <td>1</td>\n",
       "      <td>0</td>\n",
       "      <td>...</td>\n",
       "      <td>1</td>\n",
       "      <td>1</td>\n",
       "      <td>2</td>\n",
       "      <td>1</td>\n",
       "      <td>2</td>\n",
       "      <td>1</td>\n",
       "      <td>4</td>\n",
       "      <td>0</td>\n",
       "      <td>2</td>\n",
       "      <td>2</td>\n",
       "    </tr>\n",
       "    <tr>\n",
       "      <th>1436</th>\n",
       "      <td>0</td>\n",
       "      <td>20</td>\n",
       "      <td>1</td>\n",
       "      <td>3</td>\n",
       "      <td>2</td>\n",
       "      <td>0</td>\n",
       "      <td>0</td>\n",
       "      <td>1</td>\n",
       "      <td>1</td>\n",
       "      <td>0</td>\n",
       "      <td>...</td>\n",
       "      <td>1</td>\n",
       "      <td>1</td>\n",
       "      <td>4</td>\n",
       "      <td>9</td>\n",
       "      <td>7</td>\n",
       "      <td>8</td>\n",
       "      <td>3</td>\n",
       "      <td>0</td>\n",
       "      <td>2</td>\n",
       "      <td>2</td>\n",
       "    </tr>\n",
       "    <tr>\n",
       "      <th>1437</th>\n",
       "      <td>0</td>\n",
       "      <td>17</td>\n",
       "      <td>1</td>\n",
       "      <td>3</td>\n",
       "      <td>2</td>\n",
       "      <td>1</td>\n",
       "      <td>0</td>\n",
       "      <td>1</td>\n",
       "      <td>1</td>\n",
       "      <td>0</td>\n",
       "      <td>...</td>\n",
       "      <td>1</td>\n",
       "      <td>1</td>\n",
       "      <td>6</td>\n",
       "      <td>5</td>\n",
       "      <td>6</td>\n",
       "      <td>1</td>\n",
       "      <td>5</td>\n",
       "      <td>0</td>\n",
       "      <td>2</td>\n",
       "      <td>2</td>\n",
       "    </tr>\n",
       "    <tr>\n",
       "      <th>1438</th>\n",
       "      <td>0</td>\n",
       "      <td>22</td>\n",
       "      <td>1</td>\n",
       "      <td>6</td>\n",
       "      <td>2</td>\n",
       "      <td>1</td>\n",
       "      <td>0</td>\n",
       "      <td>1</td>\n",
       "      <td>1</td>\n",
       "      <td>0</td>\n",
       "      <td>...</td>\n",
       "      <td>1</td>\n",
       "      <td>1</td>\n",
       "      <td>5</td>\n",
       "      <td>4</td>\n",
       "      <td>7</td>\n",
       "      <td>8</td>\n",
       "      <td>3</td>\n",
       "      <td>0</td>\n",
       "      <td>2</td>\n",
       "      <td>2</td>\n",
       "    </tr>\n",
       "  </tbody>\n",
       "</table>\n",
       "<p>1439 rows × 90 columns</p>\n",
       "</div>"
      ],
      "text/plain": [
       "      city  NB_Emp  Size_Comp  Sect_Comp  Opert_Princ  Opert_Period  \\\n",
       "0        0       0          0          0            0             0   \n",
       "1        0       1          0          1            1             1   \n",
       "2        0       1          0          1            1             1   \n",
       "3        0       2          0          0            0             2   \n",
       "4        0       3          1          0            0             1   \n",
       "...    ...     ...        ...        ...          ...           ...   \n",
       "1434     0      22          1          6            2             1   \n",
       "1435     1       8          0          2            2             1   \n",
       "1436     0      20          1          3            2             0   \n",
       "1437     0      17          1          3            2             1   \n",
       "1438     0      22          1          6            2             1   \n",
       "\n",
       "      Abonnement_Orange  Abonnement_Ooredoo  Abonnement_Telecom  \\\n",
       "0                     0                   0                   0   \n",
       "1                     1                   1                   0   \n",
       "2                     1                   1                   0   \n",
       "3                     2                   2                   0   \n",
       "4                     1                   0                   0   \n",
       "...                 ...                 ...                 ...   \n",
       "1434                  0                   1                   1   \n",
       "1435                  0                   1                   1   \n",
       "1436                  0                   1                   1   \n",
       "1437                  0                   1                   1   \n",
       "1438                  0                   1                   1   \n",
       "\n",
       "      Opert_Princ_Type_Offer  ...  Ooredoo  TunisieTélécom  \\\n",
       "0                          0  ...        0               0   \n",
       "1                          1  ...        1               0   \n",
       "2                          0  ...        1               0   \n",
       "3                          0  ...        0               0   \n",
       "4                          1  ...        0               0   \n",
       "...                      ...  ...      ...             ...   \n",
       "1434                       0  ...        1               1   \n",
       "1435                       0  ...        1               1   \n",
       "1436                       0  ...        1               1   \n",
       "1437                       0  ...        1               1   \n",
       "1438                       0  ...        1               1   \n",
       "\n",
       "      Info_Facility_Understand_numeric  Visit_Eval_numeric  \\\n",
       "0                                    0                   0   \n",
       "1                                    1                   0   \n",
       "2                                    2                   0   \n",
       "3                                    0                   0   \n",
       "4                                    3                   0   \n",
       "...                                ...                 ...   \n",
       "1434                                 5                   4   \n",
       "1435                                 2                   1   \n",
       "1436                                 4                   9   \n",
       "1437                                 6                   5   \n",
       "1438                                 5                   4   \n",
       "\n",
       "      Store_Staff_numeric  Request_Comprehension_numeric  \\\n",
       "0                       0                              0   \n",
       "1                       0                              0   \n",
       "2                       0                              0   \n",
       "3                       0                              0   \n",
       "4                       0                              0   \n",
       "...                   ...                            ...   \n",
       "1434                    7                              8   \n",
       "1435                    2                              1   \n",
       "1436                    7                              8   \n",
       "1437                    6                              1   \n",
       "1438                    7                              8   \n",
       "\n",
       "      Proposed_solution_in_Store_numeric  \\\n",
       "0                                      0   \n",
       "1                                      0   \n",
       "2                                      0   \n",
       "3                                      0   \n",
       "4                                      0   \n",
       "...                                  ...   \n",
       "1434                                   3   \n",
       "1435                                   4   \n",
       "1436                                   3   \n",
       "1437                                   5   \n",
       "1438                                   3   \n",
       "\n",
       "      privileged welcome as a business customer_numeric  Profiling_Kmeans  \\\n",
       "0                                                     0                 0   \n",
       "1                                                     0                 0   \n",
       "2                                                     0                 0   \n",
       "3                                                     0                 0   \n",
       "4                                                     0                 0   \n",
       "...                                                 ...               ...   \n",
       "1434                                                  0                 2   \n",
       "1435                                                  0                 2   \n",
       "1436                                                  0                 2   \n",
       "1437                                                  0                 2   \n",
       "1438                                                  0                 2   \n",
       "\n",
       "      satisfaction  \n",
       "0                0  \n",
       "1                0  \n",
       "2                0  \n",
       "3                0  \n",
       "4                0  \n",
       "...            ...  \n",
       "1434             2  \n",
       "1435             2  \n",
       "1436             2  \n",
       "1437             2  \n",
       "1438             2  \n",
       "\n",
       "[1439 rows x 90 columns]"
      ]
     },
     "execution_count": 4,
     "metadata": {},
     "output_type": "execute_result"
    }
   ],
   "source": [
    "#data = pd.get_dummies(df,drop_first=True)\n",
    "data= df.apply(lambda x: pd.factorize(x)[0])\n",
    "print(data.shape)\n",
    "data"
   ]
  },
  {
   "cell_type": "code",
   "execution_count": 5,
   "metadata": {},
   "outputs": [],
   "source": [
    "#Partition de la dataframe en une variable à expliquer et des variable explicatives\n",
    "y= data[\"satisfaction\"]\n",
    "X= data.drop(\"satisfaction\",axis=1)"
   ]
  },
  {
   "cell_type": "code",
   "execution_count": 42,
   "metadata": {},
   "outputs": [],
   "source": [
    "from sklearn.preprocessing import RobustScaler\n",
    "#instanciation de l'objet\n",
    "sc = RobustScaler()\n",
    "#transformation – centrage-réduction\n",
    "X= sc.fit_transform(X)"
   ]
  },
  {
   "cell_type": "code",
   "execution_count": 43,
   "metadata": {},
   "outputs": [],
   "source": [
    "X_train, X_test, y_train, y_test = train_test_split(X, y, test_size=0.3,random_state=43)"
   ]
  },
  {
   "cell_type": "code",
   "execution_count": 44,
   "metadata": {},
   "outputs": [
    {
     "name": "stdout",
     "output_type": "stream",
     "text": [
      "Accuracy of DecisionTree on training set: 1.0000\n",
      "Accuracy of DecisionTree on test set: 0.9907\n"
     ]
    }
   ],
   "source": [
    "dt = DecisionTreeClassifier()\n",
    "dt.fit(X_train, y_train)\n",
    "print('Accuracy of DecisionTree on training set: {:.4f}'.format(dt.score(X_train, y_train)))\n",
    "print('Accuracy of DecisionTree on test set: {:.4f}'.format(dt.score(X_test, y_test)))"
   ]
  },
  {
   "cell_type": "code",
   "execution_count": 22,
   "metadata": {},
   "outputs": [],
   "source": [
    "y_pred = dt.predict(X_test)"
   ]
  },
  {
   "cell_type": "code",
   "execution_count": 23,
   "metadata": {},
   "outputs": [
    {
     "name": "stdout",
     "output_type": "stream",
     "text": [
      "              precision    recall  f1-score   support\n",
      "\n",
      "           0       0.99      1.00      1.00       267\n",
      "           1       1.00      0.95      0.98        86\n",
      "           2       0.98      1.00      0.99        79\n",
      "\n",
      "    accuracy                           0.99       432\n",
      "   macro avg       0.99      0.98      0.99       432\n",
      "weighted avg       0.99      0.99      0.99       432\n",
      "\n"
     ]
    }
   ],
   "source": [
    "print(classification_report(y_pred, y_test))"
   ]
  },
  {
   "cell_type": "code",
   "execution_count": 12,
   "metadata": {},
   "outputs": [],
   "source": [
    "from sklearn.neighbors import KNeighborsClassifier\n",
    "from sklearn.ensemble import RandomForestClassifier\n",
    "from sklearn.naive_bayes import GaussianNB\n",
    "from sklearn.svm import SVC\n",
    "from xgboost import XGBClassifier"
   ]
  },
  {
   "cell_type": "code",
   "execution_count": 13,
   "metadata": {},
   "outputs": [],
   "source": [
    "XGBM=XGBClassifier()"
   ]
  },
  {
   "cell_type": "code",
   "execution_count": 14,
   "metadata": {},
   "outputs": [
    {
     "name": "stderr",
     "output_type": "stream",
     "text": [
      "C:\\Users\\ASUS\\anaconda3\\lib\\site-packages\\xgboost\\sklearn.py:888: UserWarning: The use of label encoder in XGBClassifier is deprecated and will be removed in a future release. To remove this warning, do the following: 1) Pass option use_label_encoder=False when constructing XGBClassifier object; and 2) Encode your labels (y) as integers starting with 0, i.e. 0, 1, 2, ..., [num_class - 1].\n",
      "  warnings.warn(label_encoder_deprecation_msg, UserWarning)\n"
     ]
    },
    {
     "name": "stdout",
     "output_type": "stream",
     "text": [
      "[06:28:12] WARNING: ..\\src\\learner.cc:1061: Starting in XGBoost 1.3.0, the default evaluation metric used with the objective 'multi:softprob' was changed from 'merror' to 'mlogloss'. Explicitly set eval_metric if you'd like to restore the old behavior.\n"
     ]
    },
    {
     "data": {
      "text/plain": [
       "XGBClassifier(base_score=0.5, booster='gbtree', colsample_bylevel=1,\n",
       "              colsample_bynode=1, colsample_bytree=1, gamma=0, gpu_id=-1,\n",
       "              importance_type='gain', interaction_constraints='',\n",
       "              learning_rate=0.300000012, max_delta_step=0, max_depth=6,\n",
       "              min_child_weight=1, missing=nan, monotone_constraints='()',\n",
       "              n_estimators=100, n_jobs=4, num_parallel_tree=1,\n",
       "              objective='multi:softprob', random_state=0, reg_alpha=0,\n",
       "              reg_lambda=1, scale_pos_weight=None, subsample=1,\n",
       "              tree_method='exact', validate_parameters=1, verbosity=None)"
      ]
     },
     "execution_count": 14,
     "metadata": {},
     "output_type": "execute_result"
    }
   ],
   "source": [
    "XGBM.fit(X_train, y_train)"
   ]
  },
  {
   "cell_type": "code",
   "execution_count": 24,
   "metadata": {},
   "outputs": [
    {
     "name": "stdout",
     "output_type": "stream",
     "text": [
      "Accuracy of XGBClassifier on training set: 1.0000\n",
      "Accuracy of XGBClassifier on test set: 1.0000\n"
     ]
    }
   ],
   "source": [
    "print('Accuracy of XGBClassifier on training set: {:.4f}'.format(XGBM.score(X_train, y_train)))\n",
    "print('Accuracy of XGBClassifier on test set: {:.4f}'.format(XGBM.score(X_test, y_test)))"
   ]
  },
  {
   "cell_type": "code",
   "execution_count": 25,
   "metadata": {},
   "outputs": [
    {
     "name": "stdout",
     "output_type": "stream",
     "text": [
      "              precision    recall  f1-score   support\n",
      "\n",
      "           0       1.00      1.00      1.00       269\n",
      "           1       1.00      1.00      1.00        82\n",
      "           2       1.00      1.00      1.00        81\n",
      "\n",
      "    accuracy                           1.00       432\n",
      "   macro avg       1.00      1.00      1.00       432\n",
      "weighted avg       1.00      1.00      1.00       432\n",
      "\n"
     ]
    }
   ],
   "source": [
    "y_pred = XGBM.predict(X_test)\n",
    "print(classification_report(y_pred, y_test))"
   ]
  },
  {
   "cell_type": "code",
   "execution_count": 33,
   "metadata": {},
   "outputs": [
    {
     "data": {
      "text/plain": [
       "<matplotlib.legend.Legend at 0x2e9e962f730>"
      ]
     },
     "execution_count": 33,
     "metadata": {},
     "output_type": "execute_result"
    },
    {
     "data": {
      "image/png": "[encoded data removed]",
      "text/plain": [
       "<Figure size 432x288 with 1 Axes>"
      ]
     },
     "metadata": {
      "needs_background": "light"
     },
     "output_type": "display_data"
    }
   ],
   "source": [
    "from sklearn.model_selection import validation_curve\n",
    "model = KNeighborsClassifier()\n",
    "k = np.arange(1, 88)\n",
    "\n",
    "train_score, val_score = validation_curve(model, X_train, y_train,\n",
    "                                          'n_neighbors', k, cv=5)\n",
    "\n",
    "plt.plot(k, val_score.mean(axis=1), label='validation')\n",
    "plt.plot(k, train_score.mean(axis=1), label='train')\n",
    "\n",
    "plt.ylabel('score')\n",
    "plt.xlabel('n_neighbors')\n",
    "plt.legend()"
   ]
  },
  {
   "cell_type": "code",
   "execution_count": 40,
   "metadata": {},
   "outputs": [
    {
     "data": {
      "text/plain": [
       "GridSearchCV(cv=5, estimator=KNeighborsClassifier(),\n",
       "             param_grid={'metric': ['euclidean', 'manhattan'],\n",
       "                         'n_neighbors': array([ 1,  2,  3,  4,  5,  6,  7,  8,  9, 10, 11, 12, 13, 14, 15, 16, 17,\n",
       "       18, 19, 20, 21, 22, 23, 24, 25, 26, 27, 28, 29, 30, 31, 32, 33, 34,\n",
       "       35, 36, 37, 38, 39, 40, 41, 42, 43, 44, 45, 46, 47, 48, 49, 50, 51,\n",
       "       52, 53, 54, 55, 56, 57, 58, 59, 60, 61, 62, 63, 64, 65, 66, 67, 68,\n",
       "       69, 70, 71, 72, 73, 74, 75, 76, 77, 78, 79, 80, 81, 82, 83, 84, 85,\n",
       "       86, 87])})"
      ]
     },
     "execution_count": 40,
     "metadata": {},
     "output_type": "execute_result"
    }
   ],
   "source": [
    "from sklearn.model_selection import GridSearchCV\n",
    "param_grid = {'n_neighbors': np.arange(1, 88),\n",
    "              'metric': ['euclidean', 'manhattan']}\n",
    "\n",
    "grid = GridSearchCV(KNeighborsClassifier(), param_grid, cv=5)\n",
    "\n",
    "grid.fit(X_train, y_train)"
   ]
  },
  {
   "cell_type": "code",
   "execution_count": 41,
   "metadata": {},
   "outputs": [
    {
     "name": "stdout",
     "output_type": "stream",
     "text": [
      "KNeighborsClassifier(metric='manhattan', n_neighbors=1)\n"
     ]
    },
    {
     "data": {
      "text/plain": [
       "0.9861111111111112"
      ]
     },
     "execution_count": 41,
     "metadata": {},
     "output_type": "execute_result"
    }
   ],
   "source": [
    "model = grid.best_estimator_\n",
    "print(model)\n",
    "model.score(X_test, y_test)"
   ]
  },
  {
   "cell_type": "code",
   "execution_count": 37,
   "metadata": {},
   "outputs": [
    {
     "name": "stdout",
     "output_type": "stream",
     "text": [
      "Accuracy of KNN on training set: 0.9682\n",
      "Accuracy of KNN on test set: 0.9306\n"
     ]
    }
   ],
   "source": [
    "knn=KNeighborsClassifier()\n",
    "knn.fit(X_train, y_train)\n",
    "print('Accuracy of KNN on training set: {:.4f}'.format(knn.score(X_train, y_train)))\n",
    "print('Accuracy of KNN on test set: {:.4f}'.format(knn.score(X_test, y_test)))"
   ]
  },
  {
   "cell_type": "code",
   "execution_count": 114,
   "metadata": {},
   "outputs": [
    {
     "name": "stdout",
     "output_type": "stream",
     "text": [
      "              precision    recall  f1-score   support\n",
      "\n",
      "           0       1.00      0.96      0.98       226\n",
      "           1       0.91      1.00      0.95        61\n",
      "           2       0.93      0.97      0.95        73\n",
      "\n",
      "    accuracy                           0.97       360\n",
      "   macro avg       0.95      0.98      0.96       360\n",
      "weighted avg       0.97      0.97      0.97       360\n",
      "\n"
     ]
    }
   ],
   "source": [
    "y_pred = knn.predict(X_test)\n",
    "print(classification_report(y_pred, y_test))"
   ]
  },
  {
   "cell_type": "code",
   "execution_count": 115,
   "metadata": {},
   "outputs": [],
   "source": [
    "from sklearn import decomposition, datasets\n",
    "from sklearn import tree\n",
    "from sklearn.pipeline import Pipeline\n",
    "from sklearn.model_selection import GridSearchCV\n",
    "from sklearn.preprocessing import StandardScaler"
   ]
  },
  {
   "cell_type": "code",
   "execution_count": 116,
   "metadata": {},
   "outputs": [],
   "source": [
    "std_slc = StandardScaler()\n",
    "\n",
    "pca = decomposition.PCA()\n",
    "\n",
    "dec_tree = tree.DecisionTreeClassifier()\n",
    "\n",
    "pipe = Pipeline(steps=[('std_slc', std_slc),\n",
    "                           ('pca', pca),\n",
    "                           ('dec_tree', dec_tree)])\n",
    "\n",
    "n_components = list(range(1,X.shape[1]+1,1))\n",
    "\n",
    "criterion = ['gini', 'entropy']\n",
    "max_depth = [2,4,6,8,10,12]\n",
    "\n",
    "parameters = dict(pca__n_components=n_components,\n",
    "                      dec_tree__criterion=criterion,\n",
    "                      dec_tree__max_depth=max_depth)"
   ]
  },
  {
   "cell_type": "code",
   "execution_count": 117,
   "metadata": {},
   "outputs": [
    {
     "data": {
      "text/plain": [
       "GridSearchCV(estimator=Pipeline(steps=[('std_slc', StandardScaler()),\n",
       "                                       ('pca', PCA()),\n",
       "                                       ('dec_tree', DecisionTreeClassifier())]),\n",
       "             param_grid={'dec_tree__criterion': ['gini', 'entropy'],\n",
       "                         'dec_tree__max_depth': [2, 4, 6, 8, 10, 12],\n",
       "                         'pca__n_components': [1, 2, 3, 4, 5, 6, 7, 8, 9, 10,\n",
       "                                               11, 12, 13, 14, 15, 16, 17, 18,\n",
       "                                               19, 20, 21, 22, 23, 24, 25, 26,\n",
       "                                               27, 28, 29, 30, ...]})"
      ]
     },
     "execution_count": 117,
     "metadata": {},
     "output_type": "execute_result"
    }
   ],
   "source": [
    "clf_GS = GridSearchCV(pipe, parameters)\n",
    "clf_GS.fit(X_train, y_train)"
   ]
  },
  {
   "cell_type": "code",
   "execution_count": 118,
   "metadata": {},
   "outputs": [
    {
     "data": {
      "text/plain": [
       "Pipeline(steps=[('std_slc', StandardScaler()), ('pca', PCA(n_components=6)),\n",
       "                ('dec_tree',\n",
       "                 DecisionTreeClassifier(criterion='entropy', max_depth=8))])"
      ]
     },
     "execution_count": 118,
     "metadata": {},
     "output_type": "execute_result"
    }
   ],
   "source": [
    "clf_GS.best_estimator_"
   ]
  },
  {
   "cell_type": "code",
   "execution_count": 119,
   "metadata": {},
   "outputs": [
    {
     "name": "stdout",
     "output_type": "stream",
     "text": [
      "Accuracy of KNN on training set: 1.0000\n",
      "Accuracy of KNN on test set: 1.0000\n"
     ]
    }
   ],
   "source": [
    "print('Accuracy of KNN on training set: {:.4f}'.format(clf_GS.score(X_train, y_train)))\n",
    "print('Accuracy of KNN on test set: {:.4f}'.format(clf_GS.score(X_test, y_test)))"
   ]
  },
  {
   "cell_type": "code",
   "execution_count": 120,
   "metadata": {},
   "outputs": [
    {
     "name": "stdout",
     "output_type": "stream",
     "text": [
      "              precision    recall  f1-score   support\n",
      "\n",
      "           0       1.00      1.00      1.00       217\n",
      "           1       1.00      1.00      1.00        67\n",
      "           2       1.00      1.00      1.00        76\n",
      "\n",
      "    accuracy                           1.00       360\n",
      "   macro avg       1.00      1.00      1.00       360\n",
      "weighted avg       1.00      1.00      1.00       360\n",
      "\n"
     ]
    }
   ],
   "source": [
    "y_pred = clf_GS.predict(X_test)\n",
    "print(classification_report(y_pred, y_test))"
   ]
  },
  {
   "cell_type": "code",
   "execution_count": 47,
   "metadata": {},
   "outputs": [
    {
     "name": "stdout",
     "output_type": "stream",
     "text": [
      "LogisticRegression 0.9950337597725657\n",
      "SVC 0.9970178867566927\n",
      "LinearSVC 0.9970178867566927\n",
      "KNeighbors 0.9692164179104478\n",
      "DecisionTree 0.9940387348969439\n",
      "RandomForest 0.9980129116323146\n",
      "RandomForest2 0.9960287846481877\n",
      "MLPClassifier 0.9940387348969439\n"
     ]
    }
   ],
   "source": [
    "from sklearn.linear_model import LogisticRegression\n",
    "from sklearn.svm import SVC, LinearSVC\n",
    "from sklearn.neighbors import KNeighborsClassifier\n",
    "from sklearn.tree import DecisionTreeClassifier\n",
    "from sklearn.ensemble import RandomForestClassifier\n",
    "from sklearn.naive_bayes import GaussianNB\n",
    "from sklearn.neural_network import MLPClassifier\n",
    "\n",
    "from sklearn.model_selection import cross_val_score\n",
    "\n",
    "models = []\n",
    "\n",
    "models.append((\"LogisticRegression\",LogisticRegression()))\n",
    "models.append((\"SVC\",SVC()))\n",
    "models.append((\"LinearSVC\",LinearSVC()))\n",
    "models.append((\"KNeighbors\",KNeighborsClassifier()))\n",
    "models.append((\"DecisionTree\",DecisionTreeClassifier()))\n",
    "models.append((\"RandomForest\",RandomForestClassifier()))\n",
    "rf2 = RandomForestClassifier(n_estimators=100, criterion='gini',\n",
    "                                max_depth=10, random_state=0, max_features=None)\n",
    "models.append((\"RandomForest2\",rf2))\n",
    "models.append((\"MLPClassifier\",MLPClassifier(solver='lbfgs', random_state=0)))\n",
    "\n",
    "\n",
    "results = []\n",
    "names = []\n",
    "for name,model in models:\n",
    "    result = cross_val_score(model, X_train, y_train,  cv=3)\n",
    "    names.append(name)\n",
    "    results.append(result)\n",
    "l=[]\n",
    "for i in range(len(names)):\n",
    "    print(names[i],results[i].mean())\n",
    "    l.append(results[i].mean())"
   ]
  },
  {
   "cell_type": "code",
   "execution_count": 62,
   "metadata": {},
   "outputs": [
    {
     "data": {
      "image/png": "[encoded data removed]",
      "text/plain": [
       "<Figure size 1080x504 with 1 Axes>"
      ]
     },
     "metadata": {
      "needs_background": "light"
     },
     "output_type": "display_data"
    }
   ],
   "source": [
    "import matplotlib\n",
    "import matplotlib.pyplot as plt\n",
    "import numpy as np\n",
    "\n",
    "\n",
    "labels = ['LogisticRegression ', 'SVC','LinearSVC ', 'KNeighbors', 'DecisionTree','RandomForest','RandomForest','MLPClassifier ']\n",
    "\n",
    "\n",
    "test =l\n",
    "train = l\n",
    "\n",
    "x = np.arange(len(labels))  # the label locations\n",
    "width = 0.35  # the width of the bars\n",
    "\n",
    "fig, ax = plt.subplots()\n",
    "rects1 = ax.bar(x - width/2, test, width, label='Test')\n",
    "\n",
    "\n",
    "# Add some text for labels, title and custom x-axis tick labels, etc.\n",
    "ax.set_ylabel('Scores',fontsize = 25)\n",
    "ax.set_xticks(x)\n",
    "ax.set_xticklabels(labels,fontsize = 15)\n",
    "ax.legend(fontsize = 16)\n",
    "fig.set_figheight(7)\n",
    "fig.set_figwidth(15)\n",
    "fig.tight_layout(pad=2,h_pad=3,w_pad=5)\n",
    "fig.savefig('comp.jpg')\n",
    "plt.show()"
   ]
  },
  {
   "cell_type": "code",
   "execution_count": null,
   "metadata": {},
   "outputs": [],
   "source": []
  }
 ],
 "metadata": {
  "kernelspec": {
   "display_name": "Python 3",
   "language": "python",
   "name": "python3"
  },
  "language_info": {
   "codemirror_mode": {
    "name": "ipython",
    "version": 3
   },
   "file_extension": ".py",
   "mimetype": "text/x-python",
   "name": "python",
   "nbconvert_exporter": "python",
   "pygments_lexer": "ipython3",
   "version": "3.8.5"
  },
  "toc": {
   "base_numbering": 1,
   "nav_menu": {},
   "number_sections": true,
   "sideBar": true,
   "skip_h1_title": false,
   "title_cell": "Table of Contents",
   "title_sidebar": "Contents",
   "toc_cell": false,
   "toc_position": {},
   "toc_section_display": true,
   "toc_window_display": false
  },
  "varInspector": {
   "cols": {
    "lenName": 16,
    "lenType": 16,
    "lenVar": 40
   },
   "kernels_config": {
    "python": {
     "delete_cmd_postfix": "",
     "delete_cmd_prefix": "del ",
     "library": "var_list.py",
     "varRefreshCmd": "print(var_dic_list())"
    },
    "r": {
     "delete_cmd_postfix": ") ",
     "delete_cmd_prefix": "rm(",
     "library": "var_list.r",
     "varRefreshCmd": "cat(var_dic_list()) "
    }
   },
   "types_to_exclude": [
    "module",
    "function",
    "builtin_function_or_method",
    "instance",
    "_Feature"
   ],
   "window_display": false
  }
 },
 "nbformat": 4,
 "nbformat_minor": 2
}
