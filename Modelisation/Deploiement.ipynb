{
 "cells": [
  {
   "cell_type": "code",
   "execution_count": 1,
   "metadata": {},
   "outputs": [],
   "source": [
    "import numpy as np\n",
    "from matplotlib import pyplot as plt\n",
    "import pandas as pd\n",
    "import seaborn as sns\n",
    "import warnings\n",
    "from sklearn.ensemble import ExtraTreesRegressor\n",
    "from sklearn.ensemble import BaggingRegressor\n",
    "\n",
    "\n",
    "from sklearn.model_selection import GridSearchCV \n",
    "from sklearn.model_selection import train_test_split\n",
    "import sklearn.metrics as metrics\n",
    "warnings.filterwarnings('ignore')\n"
   ]
  },
  {
   "cell_type": "code",
   "execution_count": null,
   "metadata": {},
   "outputs": [],
   "source": []
  },
  {
   "cell_type": "code",
   "execution_count": 2,
   "metadata": {},
   "outputs": [
    {
     "name": "stdout",
     "output_type": "stream",
     "text": [
      "Connecting to wss://anvil.works/uplink\n",
      "Anvil websocket open\n",
      "Connected to \"Default environment (dev)\" as SERVER\n"
     ]
    }
   ],
   "source": [
    "import anvil.server\n",
    "\n",
    "anvil.server.connect(\"SPOMCZ2FDG7OYRNAEKRRKNG5-ZO4IJK7VO4KKSQXA\")"
   ]
  },
  {
   "cell_type": "code",
   "execution_count": 20,
   "metadata": {},
   "outputs": [],
   "source": [
    "df = pd.read_excel('readyForModelisation2.xlsx',index_col=0)\n",
    "pd.set_option('display.max_columns',88)"
   ]
  },
  {
   "cell_type": "code",
   "execution_count": 21,
   "metadata": {},
   "outputs": [],
   "source": [
    "from sklearn.compose import make_column_selector\n",
    "categorical=make_column_selector(dtype_exclude=np.number)\n",
    "numerical=make_column_selector(dtype_include=np.number)\n",
    "x=df[categorical]"
   ]
  },
  {
   "cell_type": "code",
   "execution_count": 22,
   "metadata": {},
   "outputs": [],
   "source": [
    "df.replace(999,np.nan,inplace=True)\n",
    "df.replace(11,np.nan,inplace=True)"
   ]
  },
  {
   "cell_type": "code",
   "execution_count": 23,
   "metadata": {},
   "outputs": [],
   "source": [
    "StoreEval=df[['Info_Facility_Understand_numeric', 'Visit_Eval_numeric',\n",
    "       'Store_Staff_numeric', 'Request_Comprehension_numeric',\n",
    "       'Proposed_solution_in_Store_numeric',\n",
    "       'privileged welcome as a business customer_numeric','Waiting_Time_in_Store',\n",
    "        'Commercial_Eval','Time_Before_talk','commercial_understanding','commercial_solution','Visit_Eval.1',\n",
    "            ]]\n",
    "\n",
    "\n",
    "AppelEval=df[['Network_Quality','Rate_SOS',\n",
    "       'Call_efficiency', 'Network_Coverage', 'Call_Voice_Quality',\n",
    "       'Communication_Quality', 'Voice_Comm_Inside', 'Voice_Comm_Outside',\n",
    "             'Rate_Conf_Call', 'Rate_Voice_Message']]\n",
    "\n",
    "\n",
    "InternetEval=df[['Quality_Internet_Connection',\n",
    "       'Mob_Internet_Accessibility', 'Navigation_Speed_Mobile',\n",
    "       'Price_Quality_Mob_Int','Rate_Trans_Internet']]\n",
    "\n",
    "RoamingEval=df[['Rate_Roaming_Service', 'Network_Accessibility', 'Quality_Voice',\n",
    "       'Quality_Mobile_Internet', 'Info_cost_Roaming_Service',\n",
    "       'Cost_Roaming_Service']]\n"
   ]
  },
  {
   "cell_type": "code",
   "execution_count": 24,
   "metadata": {},
   "outputs": [],
   "source": [
    "df_clean=df.drop([  'Info_Facility_Understand_numeric', 'Visit_Eval_numeric',\n",
    "       'Store_Staff_numeric', 'Request_Comprehension_numeric',\n",
    "       'Proposed_solution_in_Store_numeric',\n",
    "       'privileged welcome as a business customer_numeric','Waiting_Time_in_Store',\n",
    "        'Commercial_Eval','Time_Before_talk','commercial_understanding','commercial_solution','Visit_Eval.1','Network_Quality','Rate_SOS',\n",
    "       'Call_efficiency', 'Network_Coverage', 'Call_Voice_Quality',\n",
    "       'Communication_Quality', 'Voice_Comm_Inside', 'Voice_Comm_Outside',\n",
    "             'Rate_Conf_Call', 'Rate_Voice_Message','Quality_Internet_Connection',\n",
    "       'Mob_Internet_Accessibility', 'Navigation_Speed_Mobile',\n",
    "       'Price_Quality_Mob_Int','Rate_Trans_Internet','Rate_Roaming_Service', 'Network_Accessibility', 'Quality_Voice',\n",
    "       'Quality_Mobile_Internet', 'Info_cost_Roaming_Service',\n",
    "       'Cost_Roaming_Service'],axis=1,errors='ignore')"
   ]
  },
  {
   "cell_type": "code",
   "execution_count": 25,
   "metadata": {},
   "outputs": [],
   "source": [
    "df_clean['Appel_score']=AppelEval.mean(axis=1)\n",
    "df_clean['Roamnig_score']=RoamingEval.mean(axis=1)\n",
    "df_clean['Internet_score']=InternetEval.mean(axis=1)\n",
    "df_clean['Store_score']=StoreEval.mean(axis=1)\n",
    "AppelEval['Appel_score']=AppelEval.mean(axis=1)\n",
    "RoamingEval['Roamnig_score']=RoamingEval.mean(axis=1)\n",
    "InternetEval['Internet_score']=InternetEval.mean(axis=1)\n",
    "StoreEval['store_score']=StoreEval.mean(axis=1)\n",
    "df_clean['note']=df_clean[['Appel_score','Roamnig_score','Internet_score','Store_score']].mean(axis=1)"
   ]
  },
  {
   "cell_type": "code",
   "execution_count": 26,
   "metadata": {},
   "outputs": [
    {
     "data": {
      "text/plain": [
       "6.362897    31\n",
       "6.362153    30\n",
       "6.961285    20\n",
       "6.627650    18\n",
       "6.329332    14\n",
       "            ..\n",
       "5.716139     2\n",
       "6.226260     2\n",
       "6.710987     2\n",
       "6.877650     2\n",
       "6.222946     2\n",
       "Name: note, Length: 296, dtype: int64"
      ]
     },
     "execution_count": 26,
     "metadata": {},
     "output_type": "execute_result"
    }
   ],
   "source": [
    "df_clean['note'].value_counts()"
   ]
  },
  {
   "cell_type": "code",
   "execution_count": 27,
   "metadata": {},
   "outputs": [],
   "source": [
    "y_appel=df_clean['Appel_score'] \n",
    "y_roaming=df_clean['Roamnig_score'] \n",
    "y_internet=df_clean['Internet_score']  \n",
    "y_store=df_clean['Store_score'] \n",
    "y_note=df_clean['note']"
   ]
  },
  {
   "cell_type": "code",
   "execution_count": 28,
   "metadata": {},
   "outputs": [],
   "source": [
    "status = pd.get_dummies(x,drop_first=False)"
   ]
  },
  {
   "cell_type": "code",
   "execution_count": 29,
   "metadata": {},
   "outputs": [],
   "source": [
    "df_clean= pd.concat([y_appel,y_roaming,y_internet,y_store,status],axis=1)"
   ]
  },
  {
   "cell_type": "code",
   "execution_count": 30,
   "metadata": {},
   "outputs": [],
   "source": [
    "AppelEval=pd.concat([AppelEval['Appel_score'],status],axis=1)\n",
    "RoamingEval=pd.concat([RoamingEval['Roamnig_score'],status],axis=1)\n",
    "InternetEval=pd.concat([InternetEval['Internet_score'],status],axis=1)"
   ]
  },
  {
   "cell_type": "code",
   "execution_count": 31,
   "metadata": {},
   "outputs": [],
   "source": [
    "StoreEval.dropna(inplace=True)"
   ]
  },
  {
   "cell_type": "code",
   "execution_count": 32,
   "metadata": {},
   "outputs": [],
   "source": [
    "# Putting feature variable to X\n",
    "X = df_clean[['city_GABES', 'city_SFAX', 'city_TUNIS', 'Sect_Comp_Administration',\n",
    "       'Sect_Comp_Assurances', 'Sect_Comp_Banque', 'Sect_Comp_Commerce',\n",
    "       'Sect_Comp_INFORMATIQUE', 'Sect_Comp_Industrie', 'Sect_Comp_Santé',\n",
    "       'Sect_Comp_Services', 'Sect_Comp_Tourisme', 'Opert_Princ_Ooredoo',\n",
    "       'Opert_Princ_Orange', 'Opert_Princ_Tunisie Télécom', 'Opert_Period_1 an à moins de 2 ans',\n",
    "       'Opert_Period_2 ans à moins de 3 ans', 'Opert_Period_3 ans ou plus',\n",
    "       'Opert_Period_3 mois à moins de 6 mois',\n",
    "       'Opert_Period_6 mois à moins de 12 mois',\n",
    "       'Opert_Period_Il y a moins de 3 mois',\n",
    "       'Abonnement_Orange_ Certains ou tous les employés ont leur propre abonnement  mobile et ne se font pas rembourser du tout leur facture par votre entreprise',\n",
    "       'Abonnement_Orange_ Certains ou tous les employés ont souscrit leur propre abonnement  mobile mais se font rembourser en partie ou en totalité leur facture par l’entreprise',\n",
    "       'Abonnement_Orange_ Les abonnements mobiles sont fournis par l’entreprise à certains ou à tous les employés et les factures sont payées en intégralité par l’entreprise.',\n",
    "       'Abonnement_Orange_ Les abonnements mobiles sont fournis par l’entreprise à certains ou à tous les employés et les factures sont payées en partie par l’entreprise',\n",
    "       'Abonnement_Ooredoo_ Certains ou tous les employés ont leur propre abonnement  mobile et ne se font pas rembourser du tout leur facture par votre entreprise',\n",
    "       'Abonnement_Ooredoo_ Certains ou tous les employés ont souscrit leur propre abonnement  mobile mais se font rembourser en partie ou en totalité leur facture par l’entreprise',\n",
    "       'Abonnement_Ooredoo_ Les abonnements mobiles sont fournis par l’entreprise à certains ou à tous les employés et les factures sont payées en intégralité par l’entreprise.',\n",
    "       'Abonnement_Ooredoo_ Les abonnements mobiles sont fournis par l’entreprise à certains ou à tous les employés et les factures sont payées en partie par l’entreprise',\n",
    "       'Abonnement_Telecom_ Certains ou tous les employés ont leur propre abonnement  mobile et ne se font pas rembourser du tout leur facture par votre entreprise',\n",
    "       'Abonnement_Telecom_ Certains ou tous les employés ont souscrit leur propre abonnement  mobile mais se font rembourser en partie ou en totalité leur facture par l’entreprise',\n",
    "       'Abonnement_Telecom_ Les abonnements mobiles sont fournis par l’entreprise à certains ou à tous les employés et les factures sont payées en intégralité par l’entreprise.',\n",
    "       'Abonnement_Telecom_ Les abonnements mobiles sont fournis par l’entreprise à certains ou à tous les employés et les factures sont payées en partie par l’entreprise',\n",
    "       'Opert_Princ_Type_Offer_Offre hybride',\n",
    "       'Opert_Princ_Type_Offer_Offre mobile postpayé',\n",
    "       'Opert_Princ_Type_Offer_Offre mobile postpayée avec tarif préférentiel intra-flotte',\n",
    "       'Opert_Princ_Type_Offer_Offre mobile prépayée',\n",
    "       'Opert_Princ_Type_Offer_Offre mobile prépayée avec tarif préférentiel intra-flotte',\n",
    "       ]]\n"
   ]
  },
  {
   "cell_type": "code",
   "execution_count": 41,
   "metadata": {},
   "outputs": [],
   "source": [
    "X.to_excel(\"features.xlsx\",index=False)"
   ]
  },
  {
   "cell_type": "code",
   "execution_count": 33,
   "metadata": {
    "scrolled": true
   },
   "outputs": [],
   "source": [
    "X.rename(columns={'city_GABES': 'Gabes',\n",
    "                  'city_SFAX': 'Sfax', 'city_TUNIS': 'Tunis', 'Sect_Comp_Administration': 'Administration',\n",
    "                  'Sect_Comp_Assurances': 'Assurance', 'Sect_Comp_Banque': 'Banque',\n",
    "                  'Sect_Comp_Commerce': 'Commerce', 'Sect_Comp_INFORMATIQUE': 'Informatique',\n",
    "                  'Sect_Comp_Industrie': 'Industrie', 'Sect_Comp_Santé': 'Santé', 'Sect_Comp_Services': 'Services',\n",
    "                  'Sect_Comp_Tourisme': 'Tourisme', 'Opert_Princ_Orange': 'Orange Tunisie',\n",
    "                  'Opert_Princ_Tunisie Télécom': 'Tunisie Télécom', 'Opert_Princ_Ooredoo': 'Ooredoo Tunisie',\n",
    "                  'Opert_Period_1 an à moins de 2 ans': 'Entre 1 et 2 ans',\n",
    "                  'Opert_Period_2 ans à moins de 3 ans': 'Entre 2 et 3 ans', 'Opert_Period_3 ans ou plus': '3 ans plus',\n",
    "                  'Opert_Period_3 mois à moins de 6 mois': 'Entre 3 et 6 mois',\n",
    "                  'Opert_Period_6 mois à moins de 12 mois': 'Entre 6 et 12 mois',\n",
    "                  'Opert_Period_Il y a moins de 3 mois': '3 mois',\n",
    "                  'Opert_Princ_Type_Offer_Offre hybride': 'Hybride',\n",
    "                  'Opert_Princ_Type_Offer_Offre mobile postpayé': 'Mobile Postpayé',\n",
    "                  'Opert_Princ_Type_Offer_Offre mobile postpayée avec tarif préférentiel intra-flotte': 'Mobile postpayée avec tarif préférentiel intra-flotte',\n",
    "                  'Opert_Princ_Type_Offer_Offre mobile prépayée': 'Mobile prépayée',\n",
    "                  'Opert_Princ_Type_Offer_Offre mobile prépayée avec tarif préférentiel intra-flotte': 'Mobile prépayée avec tarif préférentiel intra-flotte'\n",
    "\n",
    "                  }, inplace=True)"
   ]
  },
  {
   "cell_type": "code",
   "execution_count": 33,
   "metadata": {},
   "outputs": [],
   "source": [
    "@anvil.server.callable\n",
    "def note(orange,ooredoo,telecom,secteur,ville,offre,operateur,periode):\n",
    "    X_train_note, X_test_note, y_train_note, y_test_note = train_test_split(X, y_note, train_size=0.8 , random_state=43)\n",
    "    extNote=ExtraTreesRegressor(random_state=42)\n",
    "    extNote.fit(X_train_note, y_train_note)\n",
    "    preds=X.copy()\n",
    "    for col in preds.columns:\n",
    "        preds[col].values[:] = 0\n",
    "    preds=preds.head(1)\n",
    "    if orange!=None:\n",
    "        preds[orange]=1\n",
    "    elif ooredoo!=None:\n",
    "        preds[ooredoo]=1\n",
    "    elif telecom!=None:\n",
    "        preds[telecom]=1\n",
    "    else :\n",
    "        pass\n",
    "    preds[[secteur,ville,offre,operateur,periode]]=1\n",
    "    extNote.predict(preds)\n",
    "    return round(extNote.predict(preds)[0],2)\n"
   ]
  },
  {
   "cell_type": "code",
   "execution_count": 34,
   "metadata": {},
   "outputs": [],
   "source": [
    "@anvil.server.callable\n",
    "def roaming(orange,ooredoo,telecom,secteur,ville,offre,operateur,periode):\n",
    "    X_train_roaming, X_test_roaming, y_train_roaming, y_test_roaming = train_test_split(X, y_roaming, train_size=0.8 , random_state=43)\n",
    "    bagRoaming=BaggingRegressor(random_state=42)\n",
    "    bagRoaming.fit(X_train_roaming, y_train_roaming)\n",
    "    preds=X.copy()\n",
    "    for col in preds.columns:\n",
    "        preds[col].values[:] = 0\n",
    "    preds=preds.head(1)\n",
    "    if orange!=None:\n",
    "        preds[orange]=1\n",
    "    elif ooredoo!=None:\n",
    "        preds[ooredoo]=1\n",
    "    elif telecom!=None:\n",
    "        preds[telecom]=1\n",
    "    else :\n",
    "        pass\n",
    "    preds[[secteur,ville,offre,operateur,periode]]=1\n",
    "    bagRoaming.predict(preds)\n",
    "    return round(bagRoaming.predict(preds)[0],2)"
   ]
  },
  {
   "cell_type": "code",
   "execution_count": 35,
   "metadata": {},
   "outputs": [],
   "source": [
    "@anvil.server.callable\n",
    "def internet(orange,ooredoo,telecom,secteur,ville,offre,operateur,periode):\n",
    "    X_train_internet, X_test_internet, y_train_internet, y_test_internet = train_test_split(X, y_internet, train_size=0.8 , random_state=43)\n",
    "    extInternet=ExtraTreesRegressor(random_state=42)\n",
    "    extInternet.fit(X_train_internet, y_train_internet)\n",
    "    preds=X.copy()\n",
    "    for col in preds.columns:\n",
    "        preds[col].values[:] = 0\n",
    "    preds=preds.head(1)\n",
    "    if orange!=None:\n",
    "        preds[orange]=1\n",
    "    elif ooredoo!=None:\n",
    "        preds[ooredoo]=1\n",
    "    elif telecom!=None:\n",
    "        preds[telecom]=1\n",
    "    else :\n",
    "        pass\n",
    "    preds[[secteur,ville,offre,operateur,periode]]=1\n",
    "    extInternet.predict(preds)\n",
    "    return round(extInternet.predict(preds)[0],2)"
   ]
  },
  {
   "cell_type": "code",
   "execution_count": 36,
   "metadata": {},
   "outputs": [],
   "source": [
    "@anvil.server.callable\n",
    "def appel(orange,ooredoo,telecom,secteur,ville,offre,operateur,periode):\n",
    "    X_train_appel, X_test_appel, y_train_appel, y_test_appel = train_test_split(X, y_appel, train_size=0.8 , random_state=43)\n",
    "    bagAppel=BaggingRegressor(random_state=42)\n",
    "    bagAppel.fit(X_train_appel, y_train_appel)\n",
    "    preds=X.copy()\n",
    "    for col in preds.columns:\n",
    "        preds[col].values[:] = 0\n",
    "    preds=preds.head(1)\n",
    "    if orange!=None:\n",
    "        preds[orange]=1\n",
    "    elif ooredoo!=None:\n",
    "        preds[ooredoo]=1\n",
    "    elif telecom!=None:\n",
    "        preds[telecom]=1\n",
    "    else :\n",
    "        pass\n",
    "    preds[[secteur,ville,offre,operateur,periode]]=1\n",
    "    bagAppel.predict(preds)\n",
    "    return round(bagAppel.predict(preds)[0],2)"
   ]
  }
 ],
 "metadata": {
  "kernelspec": {
   "display_name": "Python 3",
   "language": "python",
   "name": "python3"
  },
  "language_info": {
   "codemirror_mode": {
    "name": "ipython",
    "version": 3
   },
   "file_extension": ".py",
   "mimetype": "text/x-python",
   "name": "python",
   "nbconvert_exporter": "python",
   "pygments_lexer": "ipython3",
   "version": "3.8.5"
  },
  "toc": {
   "base_numbering": 1,
   "nav_menu": {},
   "number_sections": true,
   "sideBar": true,
   "skip_h1_title": false,
   "title_cell": "Table of Contents",
   "title_sidebar": "Contents",
   "toc_cell": false,
   "toc_position": {},
   "toc_section_display": true,
   "toc_window_display": false
  },
  "varInspector": {
   "cols": {
    "lenName": 16,
    "lenType": 16,
    "lenVar": 40
   },
   "kernels_config": {
    "python": {
     "delete_cmd_postfix": "",
     "delete_cmd_prefix": "del ",
     "library": "var_list.py",
     "varRefreshCmd": "print(var_dic_list())"
    },
    "r": {
     "delete_cmd_postfix": ") ",
     "delete_cmd_prefix": "rm(",
     "library": "var_list.r",
     "varRefreshCmd": "cat(var_dic_list()) "
    }
   },
   "types_to_exclude": [
    "module",
    "function",
    "builtin_function_or_method",
    "instance",
    "_Feature"
   ],
   "window_display": false
  }
 },
 "nbformat": 4,
 "nbformat_minor": 4
}
