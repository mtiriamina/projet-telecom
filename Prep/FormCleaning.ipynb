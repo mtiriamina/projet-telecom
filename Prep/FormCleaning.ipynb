{
 "cells": [
  {
   "cell_type": "code",
   "execution_count": 50,
   "metadata": {},
   "outputs": [],
   "source": [
    "import pandas as pd\n",
    "import numpy as np \n",
    "import pandas as pd \n",
    "import seaborn as sns\n",
    "import matplotlib.pyplot as plt\n",
    "import datetime as dt\n",
    "from sklearn.model_selection import GridSearchCV \n",
    "%config Completer.use_jedi = False\n",
    "import warnings\n",
    "warnings.filterwarnings('ignore')"
   ]
  },
  {
   "cell_type": "code",
   "execution_count": 51,
   "metadata": {},
   "outputs": [],
   "source": [
    "df=pd.read_excel('Form.xlsx')"
   ]
  },
  {
   "cell_type": "code",
   "execution_count": 52,
   "metadata": {},
   "outputs": [],
   "source": [
    "df.rename(columns={\n",
    "    \n",
    "    'Horodateur':'Date','Combien de lignes de téléphonie mobile possédez vous?':'Nb_Lignes',\n",
    "    'Quel est votre opérateur téléphonique principal?':'Opert_Princ','Quel est votre âge ?':'Age',\n",
    "    'Dans quel gouvernorat vous passez le plus de temps  ? ( lieu d\\'habitat / de travail / d\\'étude .. )':'City',\n",
    "    'Quel est votre degré de satisfaction à l\\'égard de votre opérateur téléphonique principal ?':'Satisfaction_Global',\n",
    "    'A l\\'égard de ce même opérateur , veuillez donner votre note de satisfaction entre 0 et 10 :  [Couverture réseau de votre région]':'Coverage',\n",
    "    'A l\\'égard de ce même opérateur , veuillez donner votre note de satisfaction entre 0 et 10 :  [Qualité des appels téléphoniques]':'Call_Quality',\n",
    "    'A l\\'égard de ce même opérateur , veuillez donner votre note de satisfaction entre 0 et 10 :  [Qualité de connexion à l\\'internet]':'Network_Quality',\n",
    "    'A l\\'égard de ce même opérateur , veuillez donner votre note de satisfaction entre 0 et 10 :  [Promotions et bonus]':'Promotions_Rate',\n",
    "    'A l\\'égard de ce même opérateur , veuillez donner votre note de satisfaction entre 0 et 10 :  [Prix d\\'abonnement actuel ]':'Subscription_Price_Rate',\n",
    "    'A l\\'égard de ce même opérateur , veuillez donner votre note de satisfaction entre 0 et 10 :  [Tarifs des communications locales]':'Local_Comm_Price_Rate',\n",
    "    'A l\\'égard de ce même opérateur , veuillez donner votre note de satisfaction entre 0 et 10 :  [Tarifs des communications internationales]':'Inter_Comm_Price_Rate',\n",
    "    'A l\\'égard de ce même opérateur , veuillez donner votre note de satisfaction entre 0 et 10 :  [Tarif du roaming international ]':'Roaming_Price_Rate',\n",
    "    'A l\\'égard de ce même opérateur , veuillez donner votre note de satisfaction entre 0 et 10 :  [Tarif de l\\'internet mobile ]':'Internet_Price_Rate',\n",
    "    'A l\\'égard de ce même opérateur , veuillez donner votre note de satisfaction entre 0 et 10 :  [Tarif des sms ]':'Sms_Price_Rate',\n",
    "    'A l\\'égard de ce même opérateur , veuillez donner votre note de satisfaction entre 0 et 10 :  [Service clientèle ]':'Service_Client_Rate'\n",
    "},inplace=True)"
   ]
  },
  {
   "cell_type": "code",
   "execution_count": 53,
   "metadata": {},
   "outputs": [],
   "source": [
    "df['Date']=df['Date'].dt.date\n",
    "df.drop('Date',axis=1,inplace=True)"
   ]
  },
  {
   "cell_type": "code",
   "execution_count": 54,
   "metadata": {},
   "outputs": [],
   "source": [
    "\n",
    "cols=['Age']\n",
    "df = df.apply(lambda col: col.str.replace('Entre ', '') if col.name in cols else col)\n",
    "df = df.apply(lambda col: col.str.replace(' et ', '-') if col.name in cols else col)\n",
    "df = df.apply(lambda col: col.str.replace('ans .', '') if col.name in cols else col)\n",
    "df = df.apply(lambda col: col.str.replace('Moins de ', '') if col.name in cols else col)\n",
    "df = df.apply(lambda col: col.str.replace(' ans-plus .', '') if col.name in cols else col)\n"
   ]
  },
  {
   "cell_type": "code",
   "execution_count": 55,
   "metadata": {
    "scrolled": true
   },
   "outputs": [
    {
     "data": {
      "text/plain": [
       "0      18-25 \n",
       "1      18-25 \n",
       "2      18-25 \n",
       "3      18-25 \n",
       "4      18-25 \n",
       "        ...  \n",
       "189    18-25 \n",
       "190    18-25 \n",
       "191    18-25 \n",
       "192    18-25 \n",
       "193    18-25 \n",
       "Name: Age, Length: 194, dtype: object"
      ]
     },
     "execution_count": 55,
     "metadata": {},
     "output_type": "execute_result"
    }
   ],
   "source": [
    "df['Age']"
   ]
  },
  {
   "cell_type": "code",
   "execution_count": 56,
   "metadata": {},
   "outputs": [],
   "source": [
    "df.replace({'J\\'utilise pas ce service':0,'Je n\\'utilise pas ce service':0},inplace=True)"
   ]
  },
  {
   "cell_type": "code",
   "execution_count": 57,
   "metadata": {},
   "outputs": [],
   "source": [
    "from sklearn.compose import make_column_selector\n",
    "numerical=make_column_selector(dtype_include=np.number)\n",
    "numeric=df[numerical]\n",
    "numeric.drop('Nb_Lignes',axis=1,inplace=True)"
   ]
  },
  {
   "cell_type": "code",
   "execution_count": 58,
   "metadata": {},
   "outputs": [],
   "source": [
    "df['note']=numeric.mean(axis=1).round()"
   ]
  },
  {
   "cell_type": "code",
   "execution_count": 59,
   "metadata": {},
   "outputs": [],
   "source": [
    "from sklearn.model_selection import train_test_split\n",
    "trainset,testset = train_test_split(df,test_size=0.25,random_state=0)"
   ]
  },
  {
   "cell_type": "code",
   "execution_count": 60,
   "metadata": {},
   "outputs": [],
   "source": [
    "def preprocessing(df):\n",
    "    for column in df.columns:\n",
    "        if df.dtypes[column] =='object':  \n",
    "            df[column]=pd.factorize(df[column])[0] \n",
    "    X= df.drop('note',axis=1)\n",
    "    Y= df['note']\n",
    "    return X,Y"
   ]
  },
  {
   "cell_type": "code",
   "execution_count": 61,
   "metadata": {},
   "outputs": [],
   "source": [
    "X_train , y_train = preprocessing(trainset)"
   ]
  },
  {
   "cell_type": "code",
   "execution_count": 62,
   "metadata": {},
   "outputs": [],
   "source": [
    "X_test , y_test= preprocessing(testset)"
   ]
  },
  {
   "cell_type": "code",
   "execution_count": 63,
   "metadata": {},
   "outputs": [],
   "source": [
    "from sklearn.metrics import f1_score,confusion_matrix,classification_report\n",
    "def evaluation(model):\n",
    "    from sklearn.metrics import plot_confusion_matrix\n",
    "    model.fit(X_train, y_train)\n",
    "    ypred = model.predict(X_test)    \n",
    "    print(classification_report(y_test, ypred))    "
   ]
  },
  {
   "cell_type": "code",
   "execution_count": 64,
   "metadata": {},
   "outputs": [],
   "source": [
    "from sklearn.neighbors import KNeighborsClassifier\n",
    "Knn=KNeighborsClassifier()"
   ]
  },
  {
   "cell_type": "code",
   "execution_count": 76,
   "metadata": {},
   "outputs": [
    {
     "name": "stdout",
     "output_type": "stream",
     "text": [
      "              precision    recall  f1-score   support\n",
      "\n",
      "         0.0       0.00      0.00      0.00         1\n",
      "         1.0       0.64      0.88      0.74         8\n",
      "         2.0       0.00      0.00      0.00         3\n",
      "         3.0       1.00      0.50      0.67         8\n",
      "         4.0       0.44      1.00      0.61         7\n",
      "         5.0       0.67      0.25      0.36         8\n",
      "         6.0       0.83      0.71      0.77         7\n",
      "         7.0       0.33      1.00      0.50         2\n",
      "         8.0       0.50      0.25      0.33         4\n",
      "         9.0       0.00      0.00      0.00         1\n",
      "\n",
      "    accuracy                           0.57        49\n",
      "   macro avg       0.44      0.46      0.40        49\n",
      "weighted avg       0.61      0.57      0.53        49\n",
      "\n"
     ]
    }
   ],
   "source": [
    "evaluation(Knn)\n",
    "scoreKnn=Knn.score(X_test,y_test)"
   ]
  },
  {
   "cell_type": "code",
   "execution_count": 66,
   "metadata": {},
   "outputs": [
    {
     "name": "stdout",
     "output_type": "stream",
     "text": [
      "[5.]\n"
     ]
    },
    {
     "data": {
      "text/plain": [
       "6.0"
      ]
     },
     "execution_count": 66,
     "metadata": {},
     "output_type": "execute_result"
    }
   ],
   "source": [
    "a=20\n",
    "print(Knn.predict([X_test.iloc[a]]))\n",
    "y_test.iloc[a]"
   ]
  },
  {
   "cell_type": "code",
   "execution_count": 77,
   "metadata": {},
   "outputs": [
    {
     "name": "stdout",
     "output_type": "stream",
     "text": [
      "              precision    recall  f1-score   support\n",
      "\n",
      "         0.0       1.00      1.00      1.00         1\n",
      "         1.0       1.00      1.00      1.00         8\n",
      "         2.0       0.40      0.67      0.50         3\n",
      "         3.0       0.80      0.50      0.62         8\n",
      "         4.0       0.38      0.71      0.50         7\n",
      "         5.0       0.50      0.12      0.20         8\n",
      "         6.0       0.50      0.43      0.46         7\n",
      "         7.0       0.20      0.50      0.29         2\n",
      "         8.0       1.00      0.50      0.67         4\n",
      "         9.0       0.50      1.00      0.67         1\n",
      "\n",
      "    accuracy                           0.57        49\n",
      "   macro avg       0.63      0.64      0.59        49\n",
      "weighted avg       0.65      0.57      0.56        49\n",
      "\n"
     ]
    }
   ],
   "source": [
    "from sklearn.ensemble import RandomForestClassifier\n",
    "RandomForest = RandomForestClassifier()\n",
    "evaluation(RandomForest)\n",
    "scoreRandomForest=RandomForest.score(X_test,y_test)"
   ]
  },
  {
   "cell_type": "code",
   "execution_count": 78,
   "metadata": {},
   "outputs": [
    {
     "name": "stdout",
     "output_type": "stream",
     "text": [
      "[04:28:50] WARNING: ..\\src\\learner.cc:1061: Starting in XGBoost 1.3.0, the default evaluation metric used with the objective 'multi:softprob' was changed from 'merror' to 'mlogloss'. Explicitly set eval_metric if you'd like to restore the old behavior.\n",
      "              precision    recall  f1-score   support\n",
      "\n",
      "         0.0       0.50      1.00      0.67         1\n",
      "         1.0       1.00      0.62      0.77         8\n",
      "         2.0       0.29      0.67      0.40         3\n",
      "         3.0       0.75      0.38      0.50         8\n",
      "         4.0       0.33      0.57      0.42         7\n",
      "         5.0       0.33      0.12      0.18         8\n",
      "         6.0       0.67      0.57      0.62         7\n",
      "         7.0       0.00      0.00      0.00         2\n",
      "         8.0       0.67      1.00      0.80         4\n",
      "         9.0       0.50      1.00      0.67         1\n",
      "\n",
      "    accuracy                           0.51        49\n",
      "   macro avg       0.50      0.59      0.50        49\n",
      "weighted avg       0.58      0.51      0.50        49\n",
      "\n"
     ]
    }
   ],
   "source": [
    "from xgboost import XGBClassifier                         \n",
    "import xgboost as xgb\n",
    "model_xgb=XGBClassifier()\n",
    "evaluation(model_xgb)\n",
    "scorexgb=model_xgb.score(X_test,y_test)"
   ]
  },
  {
   "cell_type": "code",
   "execution_count": 79,
   "metadata": {},
   "outputs": [
    {
     "name": "stdout",
     "output_type": "stream",
     "text": [
      "              precision    recall  f1-score   support\n",
      "\n",
      "         0.0       1.00      1.00      1.00         1\n",
      "         1.0       1.00      1.00      1.00         8\n",
      "         2.0       0.33      0.67      0.44         3\n",
      "         3.0       0.80      0.50      0.62         8\n",
      "         4.0       0.42      0.71      0.53         7\n",
      "         5.0       0.67      0.25      0.36         8\n",
      "         6.0       0.60      0.43      0.50         7\n",
      "         7.0       0.20      0.50      0.29         2\n",
      "         8.0       1.00      0.50      0.67         4\n",
      "         9.0       0.50      1.00      0.67         1\n",
      "\n",
      "    accuracy                           0.59        49\n",
      "   macro avg       0.65      0.66      0.61        49\n",
      "weighted avg       0.69      0.59      0.60        49\n",
      "\n"
     ]
    }
   ],
   "source": [
    "param_grid = { \n",
    "    'n_estimators': [200, 500],\n",
    "    'max_features': ['auto', 'sqrt', 'log2'],\n",
    "    'max_depth' : [4,5,6,7,8],\n",
    "    'criterion' :['gini', 'entropy']\n",
    "}\n",
    "\n",
    "CV_rfc = GridSearchCV(estimator=RandomForestClassifier(), param_grid=param_grid, cv= 2)\n",
    "CV_rfc.fit(X_train, y_train)\n",
    "evaluation(CV_rfc.best_estimator_)\n",
    "scoreCV_rfc=CV_rfc.score(X_test,y_test)"
   ]
  },
  {
   "cell_type": "code",
   "execution_count": 81,
   "metadata": {
    "scrolled": true
   },
   "outputs": [
    {
     "name": "stdout",
     "output_type": "stream",
     "text": [
      "              precision    recall  f1-score   support\n",
      "\n",
      "         0.0       0.00      0.00      0.00         1\n",
      "         1.0       0.80      1.00      0.89         8\n",
      "         2.0       1.00      0.67      0.80         3\n",
      "         3.0       0.83      0.62      0.71         8\n",
      "         4.0       0.45      0.71      0.56         7\n",
      "         5.0       0.43      0.38      0.40         8\n",
      "         6.0       0.67      0.57      0.62         7\n",
      "         7.0       0.50      1.00      0.67         2\n",
      "         8.0       0.67      0.50      0.57         4\n",
      "         9.0       0.00      0.00      0.00         1\n",
      "\n",
      "    accuracy                           0.63        49\n",
      "   macro avg       0.53      0.55      0.52        49\n",
      "weighted avg       0.63      0.63      0.62        49\n",
      "\n"
     ]
    }
   ],
   "source": [
    "from sklearn.naive_bayes import GaussianNB \n",
    "GaussianNB = GaussianNB()\n",
    "GaussianNB.fit(X_train,y_train)\n",
    "evaluation(GaussianNB)\n",
    "scoreGaussianNB=GaussianNB.score(X_test,y_test)"
   ]
  },
  {
   "cell_type": "code",
   "execution_count": 82,
   "metadata": {},
   "outputs": [
    {
     "name": "stdout",
     "output_type": "stream",
     "text": [
      "              precision    recall  f1-score   support\n",
      "\n",
      "         0.0       0.00      0.00      0.00         1\n",
      "         1.0       0.70      0.88      0.78         8\n",
      "         2.0       0.33      0.33      0.33         3\n",
      "         3.0       1.00      0.88      0.93         8\n",
      "         4.0       0.50      0.71      0.59         7\n",
      "         5.0       0.50      0.25      0.33         8\n",
      "         6.0       0.67      0.57      0.62         7\n",
      "         7.0       0.25      0.50      0.33         2\n",
      "         8.0       1.00      0.50      0.67         4\n",
      "         9.0       0.00      0.00      0.00         1\n",
      "        10.0       0.00      0.00      0.00         0\n",
      "\n",
      "    accuracy                           0.59        49\n",
      "   macro avg       0.45      0.42      0.42        49\n",
      "weighted avg       0.64      0.59      0.59        49\n",
      "\n"
     ]
    }
   ],
   "source": [
    "from sklearn.linear_model import LogisticRegression\n",
    "param_grid={'penalty': ['l1', 'l2', 'elasticnet', 'none'],\n",
    "          'max_iter': [100,1000, 2000, 3000]}\n",
    "grid_LogisticRegression=GridSearchCV(LogisticRegression(),param_grid,cv=5)\n",
    "grid_LogisticRegression.fit(X_train,y_train)\n",
    "evaluation(grid_LogisticRegression.best_estimator_)\n",
    "scoregrid_LogisticRegression=grid_LogisticRegression.score(X_test,y_test)"
   ]
  },
  {
   "cell_type": "code",
   "execution_count": 83,
   "metadata": {},
   "outputs": [
    {
     "name": "stdout",
     "output_type": "stream",
     "text": [
      "              precision    recall  f1-score   support\n",
      "\n",
      "         0.0       0.00      0.00      0.00         1\n",
      "         1.0       0.86      0.75      0.80         8\n",
      "         2.0       0.25      0.67      0.36         3\n",
      "         3.0       1.00      0.12      0.22         8\n",
      "         4.0       0.50      0.71      0.59         7\n",
      "         5.0       0.33      0.25      0.29         8\n",
      "         6.0       0.60      0.43      0.50         7\n",
      "         7.0       0.00      0.00      0.00         2\n",
      "         8.0       0.33      0.25      0.29         4\n",
      "         9.0       0.00      0.00      0.00         1\n",
      "        10.0       0.00      0.00      0.00         0\n",
      "\n",
      "    accuracy                           0.41        49\n",
      "   macro avg       0.35      0.29      0.28        49\n",
      "weighted avg       0.56      0.41      0.41        49\n",
      "\n"
     ]
    }
   ],
   "source": [
    "from sklearn.tree import DecisionTreeClassifier\n",
    "param_grid = {'criterion': ['gini', 'entropy'],\n",
    "              'max_depth': np.arange(1,29)}\n",
    "gridDecisionTree=GridSearchCV(DecisionTreeClassifier(),param_grid,cv=6)\n",
    "gridDecisionTree.fit(X_train,y_train)\n",
    "evaluation(gridDecisionTree.best_estimator_)\n",
    "scoregridDecisionTree=gridDecisionTree.score(X_test,y_test)"
   ]
  },
  {
   "cell_type": "code",
   "execution_count": null,
   "metadata": {},
   "outputs": [],
   "source": []
  },
  {
   "cell_type": "code",
   "execution_count": 154,
   "metadata": {},
   "outputs": [
    {
     "data": {
      "image/png": "[encoded data removed]",
      "text/plain": [
       "<Figure size 720x504 with 1 Axes>"
      ]
     },
     "metadata": {
      "needs_background": "light"
     },
     "output_type": "display_data"
    }
   ],
   "source": [
    "import matplotlib\n",
    "import matplotlib.pyplot as plt\n",
    "import numpy as np\n",
    "\n",
    "\n",
    "labels = ['Knn', 'GausianNB', 'LogisticRegression', 'DecisionTree','RandomForest']\n",
    "scoreKnn=Knn.score(X_test,y_test)\n",
    "scoreGaussianNB=GaussianNB.score(X_test,y_test)\n",
    "scoregrid_LogisticRegression=grid_LogisticRegression.score(X_test,y_test)\n",
    "scoregridDecisionTree=gridDecisionTree.score(X_test,y_test)\n",
    "scoreRandomForest=RandomForest.score(X_test,y_test)\n",
    "\n",
    "trainscoreKnn=Knn.score(X_train,y_train)\n",
    "trainscoreGaussianNB=GaussianNB.score(X_train,y_train)\n",
    "trainscoregrid_LogisticRegression=grid_LogisticRegression.score(X_train,y_train)\n",
    "trainscoregridDecisionTree=gridDecisionTree.score(X_train,y_train)\n",
    "trainscoreRandomForest=RandomForest.score(X_train,y_train)\n",
    "\n",
    "test = [scoreKnn, scoreGaussianNB, scoregrid_LogisticRegression, scoregridDecisionTree,scoreRandomForest]\n",
    "train = [trainscoreKnn, trainscoreGaussianNB, trainscoregrid_LogisticRegression, trainscoregridDecisionTree,trainscoreRandomForest]\n",
    "\n",
    "x = np.arange(len(labels))  # the label locations\n",
    "width = 0.35  # the width of the bars\n",
    "\n",
    "fig, ax = plt.subplots()\n",
    "rects1 = ax.bar(x - width/2, test, width, label='Test')\n",
    "rects2 = ax.bar(x + width/2, train, width, label='Train')\n",
    "\n",
    "# Add some text for labels, title and custom x-axis tick labels, etc.\n",
    "ax.set_ylabel('Scores',fontsize = 25)\n",
    "ax.set_xticks(x)\n",
    "ax.set_xticklabels(labels,fontsize = 15)\n",
    "ax.legend(fontsize = 16)\n",
    "fig.set_figheight(7)\n",
    "fig.set_figwidth(10)\n",
    "fig.tight_layout(pad=2,h_pad=3,w_pad=3)\n",
    "fig.savefig('comp.jpg')\n",
    "plt.show()\n"
   ]
  }
 ],
 "metadata": {
  "kernelspec": {
   "display_name": "Python 3",
   "language": "python",
   "name": "python3"
  },
  "language_info": {
   "codemirror_mode": {
    "name": "ipython",
    "version": 3
   },
   "file_extension": ".py",
   "mimetype": "text/x-python",
   "name": "python",
   "nbconvert_exporter": "python",
   "pygments_lexer": "ipython3",
   "version": "3.8.5"
  },
  "toc": {
   "base_numbering": 1,
   "nav_menu": {},
   "number_sections": true,
   "sideBar": true,
   "skip_h1_title": false,
   "title_cell": "Table of Contents",
   "title_sidebar": "Contents",
   "toc_cell": false,
   "toc_position": {},
   "toc_section_display": true,
   "toc_window_display": false
  },
  "varInspector": {
   "cols": {
    "lenName": 16,
    "lenType": 16,
    "lenVar": 40
   },
   "kernels_config": {
    "python": {
     "delete_cmd_postfix": "",
     "delete_cmd_prefix": "del ",
     "library": "var_list.py",
     "varRefreshCmd": "print(var_dic_list())"
    },
    "r": {
     "delete_cmd_postfix": ") ",
     "delete_cmd_prefix": "rm(",
     "library": "var_list.r",
     "varRefreshCmd": "cat(var_dic_list()) "
    }
   },
   "types_to_exclude": [
    "module",
    "function",
    "builtin_function_or_method",
    "instance",
    "_Feature"
   ],
   "window_display": false
  }
 },
 "nbformat": 4,
 "nbformat_minor": 4
}
