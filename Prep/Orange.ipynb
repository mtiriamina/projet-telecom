{
 "cells": [
  {
   "cell_type": "markdown",
   "metadata": {
    "toc": true
   },
   "source": [
    "# Orange"
   ]
  },
  {
   "cell_type": "code",
   "execution_count": null,
   "metadata": {},
   "outputs": [],
   "source": [
    "from bs4 import BeautifulSoup\n",
    "import requests\n",
    "import pandas as pd\n",
    "import re"
   ]
  },
  {
   "cell_type": "code",
   "execution_count": null,
   "metadata": {},
   "outputs": [],
   "source": [
    "contents =list()\n",
    "titles=list()\n",
    "dates=list()"
   ]
  },
  {
   "cell_type": "code",
   "execution_count": null,
   "metadata": {},
   "outputs": [],
   "source": [
    "for i in range(1,178):\n",
    "\n",
    "    page = requests.get(\"https://fr.trustpilot.com/review/www.orange.fr?page=\"+str(i)).text\n",
    "    soup = BeautifulSoup(page, \"lxml\")\n",
    "    comments=soup.find_all('section', class_=\"review__content\")\n",
    "    for comment in comments:\n",
    "\n",
    "        if (comment.find('p', class_=\"review-content__text\") is not None ) :\n",
    "             dates.append(comment.find('div',class_=\"review-content-header__dates\").script)\n",
    "             titles.append(comment.find('a', class_=\"link link--large link--dark\").text.replace(\"\\n\",\"\"))\n",
    "             contents.append(comment.find('p', class_=\"review-content__text\").text.replace(\"\\n\",\"\"))\n",
    "df=pd.DataFrame(zip(dates,titles,contents),columns=['Date','Titres','Contents'])\n",
    "df['Titres'] = df['Titres'].str.strip()\n",
    "df['Contents'] = df['Contents'].str.strip()\n",
    "for i in range(len(df)):\n",
    "    x=re.findall(r'\\d+',str(df['Date'][i]))\n",
    "    df.iloc[i,df.columns.get_loc(\"Date\")]=str(x[0]+'-'+x[1]+'-'+x[2])\n",
    "df.to_excel('OrangeFR.xlsx',index=False)"
   ]
  }
 ],
 "metadata": {
  "kernelspec": {
   "display_name": "Python 3",
   "language": "python",
   "name": "python3"
  },
  "language_info": {
   "codemirror_mode": {
    "name": "ipython",
    "version": 3
   },
   "file_extension": ".py",
   "mimetype": "text/x-python",
   "name": "python",
   "nbconvert_exporter": "python",
   "pygments_lexer": "ipython3",
   "version": "3.8.5"
  },
  "toc": {
   "base_numbering": 1,
   "nav_menu": {},
   "number_sections": true,
   "sideBar": true,
   "skip_h1_title": false,
   "title_cell": "Table of Contents",
   "title_sidebar": "Contents",
   "toc_cell": true,
   "toc_position": {},
   "toc_section_display": true,
   "toc_window_display": true
  }
 },
 "nbformat": 4,
 "nbformat_minor": 4
}
