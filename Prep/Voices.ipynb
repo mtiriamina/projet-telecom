{
 "cells": [
  {
   "cell_type": "code",
   "execution_count": 64,
   "metadata": {},
   "outputs": [],
   "source": [
    "import speech_recognition as sr\n",
    "import os\n",
    "import csv\n",
    "import pandas as pd"
   ]
  },
  {
   "cell_type": "code",
   "execution_count": 68,
   "metadata": {},
   "outputs": [],
   "source": [
    "r = sr.Recognizer()\n",
    "list=[]\n",
    "DIRNAME = r'C:\\Users\\ASUS\\MachineLearning\\ProjetDS\\Voice'\n",
    "OUTPUTFILE = r'C:\\Users\\ASUS\\MachineLearning\\ProjetDS\\Voice.csv'\n",
    "\n",
    "file_paths = []  \n",
    "for root, directories, files in os.walk(DIRNAME):\n",
    "    for filename in files:\n",
    "        filepath = os.path.join(root, filename)\n",
    "        file_paths.append(filepath)  \n",
    "for i in file_paths:\n",
    "    with sr.AudioFile(i) as source:\n",
    "            r.adjust_for_ambient_noise(source)\n",
    "            r.non_speaking_duration=0.5\n",
    "            r.pause_threshold = 0.8\n",
    "            audio = r.record(source)\n",
    "            try:\n",
    "                text = r.recognize_google(audio,language=\"fr-FR\")\n",
    "                list.append(text)\n",
    "            except:\n",
    "                print(\"Mafhemt chay !\")\n",
    "df=pd.DataFrame(list)"
   ]
  },
  {
   "cell_type": "code",
   "execution_count": 69,
   "metadata": {},
   "outputs": [],
   "source": [
    "df.to_excel(\"Voice.xlsx\")"
   ]
  },
  {
   "cell_type": "code",
   "execution_count": 72,
   "metadata": {},
   "outputs": [
    {
     "data": {
      "text/html": [
       "<div>\n",
       "<style scoped>\n",
       "    .dataframe tbody tr th:only-of-type {\n",
       "        vertical-align: middle;\n",
       "    }\n",
       "\n",
       "    .dataframe tbody tr th {\n",
       "        vertical-align: top;\n",
       "    }\n",
       "\n",
       "    .dataframe thead th {\n",
       "        text-align: right;\n",
       "    }\n",
       "</style>\n",
       "<table border=\"1\" class=\"dataframe\">\n",
       "  <thead>\n",
       "    <tr style=\"text-align: right;\">\n",
       "      <th></th>\n",
       "      <th>0</th>\n",
       "    </tr>\n",
       "  </thead>\n",
       "  <tbody>\n",
       "    <tr>\n",
       "      <th>0</th>\n",
       "      <td>combien de lignes de téléphonie mobile posséde...</td>\n",
       "    </tr>\n",
       "    <tr>\n",
       "      <th>1</th>\n",
       "      <td>combien de lignes téléphonie mobile possédez-v...</td>\n",
       "    </tr>\n",
       "    <tr>\n",
       "      <th>2</th>\n",
       "      <td>combien de lignes de téléphonie mobile quel es...</td>\n",
       "    </tr>\n",
       "    <tr>\n",
       "      <th>3</th>\n",
       "      <td>combien de lignes de téléphonie mobile quel es...</td>\n",
       "    </tr>\n",
       "    <tr>\n",
       "      <th>4</th>\n",
       "      <td>combien de lignes de téléphonie mobile quel es...</td>\n",
       "    </tr>\n",
       "    <tr>\n",
       "      <th>5</th>\n",
       "      <td>combien de lignes de téléphonie mobile posséde...</td>\n",
       "    </tr>\n",
       "    <tr>\n",
       "      <th>6</th>\n",
       "      <td>combien de livres de téléphonie mobile posséde...</td>\n",
       "    </tr>\n",
       "    <tr>\n",
       "      <th>7</th>\n",
       "      <td>combien de lignes de téléphonie mobile posséde...</td>\n",
       "    </tr>\n",
       "    <tr>\n",
       "      <th>8</th>\n",
       "      <td>combien de lignes de téléphonie mobile posséde...</td>\n",
       "    </tr>\n",
       "  </tbody>\n",
       "</table>\n",
       "</div>"
      ],
      "text/plain": [
       "                                                   0\n",
       "0  combien de lignes de téléphonie mobile posséde...\n",
       "1  combien de lignes téléphonie mobile possédez-v...\n",
       "2  combien de lignes de téléphonie mobile quel es...\n",
       "3  combien de lignes de téléphonie mobile quel es...\n",
       "4  combien de lignes de téléphonie mobile quel es...\n",
       "5  combien de lignes de téléphonie mobile posséde...\n",
       "6  combien de livres de téléphonie mobile posséde...\n",
       "7  combien de lignes de téléphonie mobile posséde...\n",
       "8  combien de lignes de téléphonie mobile posséde..."
      ]
     },
     "execution_count": 72,
     "metadata": {},
     "output_type": "execute_result"
    }
   ],
   "source": [
    "df"
   ]
  },
  {
   "cell_type": "code",
   "execution_count": null,
   "metadata": {},
   "outputs": [],
   "source": []
  }
 ],
 "metadata": {
  "kernelspec": {
   "display_name": "Python 3",
   "language": "python",
   "name": "python3"
  },
  "language_info": {
   "codemirror_mode": {
    "name": "ipython",
    "version": 3
   },
   "file_extension": ".py",
   "mimetype": "text/x-python",
   "name": "python",
   "nbconvert_exporter": "python",
   "pygments_lexer": "ipython3",
   "version": "3.8.5"
  }
 },
 "nbformat": 4,
 "nbformat_minor": 4
}
