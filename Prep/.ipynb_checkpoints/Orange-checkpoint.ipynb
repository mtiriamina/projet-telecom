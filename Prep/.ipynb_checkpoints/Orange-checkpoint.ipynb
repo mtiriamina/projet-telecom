{
 "cells": [
  {
   "cell_type": "markdown",
   "metadata": {
    "toc": true
   },
   "source": [
    "<h1>Table of Contents<span class=\"tocSkip\"></span></h1>\n",
    "<div class=\"toc\"><ul class=\"toc-item\"></ul></div>"
   ]
  },
  {
   "cell_type": "code",
   "execution_count": 2,
   "metadata": {},
   "outputs": [],
   "source": [
    "from bs4 import BeautifulSoup\n",
    "import requests\n",
    "import pandas as pd\n",
    "import re"
   ]
  },
  {
   "cell_type": "code",
   "execution_count": 2,
   "metadata": {},
   "outputs": [],
   "source": [
    "contents =list()\n",
    "titles=list()\n",
    "dates=list()"
   ]
  },
  {
   "cell_type": "code",
   "execution_count": 4,
   "metadata": {},
   "outputs": [],
   "source": [
    "for i in range(1,345):\n",
    "\n",
    "    page = requests.get(\"https://fr.trustpilot.com/review/www.sfr.fr?page=\"+str(i)).text\n",
    "    soup = BeautifulSoup(page, \"lxml\")\n",
    "    comments=soup.find_all('section', class_=\"review__content\")\n",
    "    for comment in comments:\n",
    "\n",
    "        if (comment.find('p', class_=\"review-content__text\") is not None ):\n",
    "             dates.append(comment.find('div',class_=\"review-content-header__dates\").script)\n",
    "             titles.append(comment.find('a', class_=\"link link--large link--dark\").text.replace(\"\\n\",\"\"))\n",
    "             contents.append(comment.find('p', class_=\"review-content__text\").text.replace(\"\\n\",\"\"))\n",
    "df=pd.DataFrame(zip(dates,titles,contents),columns=['Date','Titres','Contents'])\n",
    "df['Titres'] = df['Titres'].str.strip()\n",
    "df['Contents'] = df['Contents'].str.strip()\n",
    "for i in range(len(df)):\n",
    "    x=re.findall(r'\\d+',str(df['Date'][i]))\n",
    "    df.iloc[i,df.columns.get_loc(\"Date\")]=str(x[0]+'-'+x[1]+'-'+x[2])\n",
    "df.to_excel('SFR-FR.xlsx',index=False)"
   ]
  },
  {
   "cell_type": "code",
   "execution_count": 3,
   "metadata": {},
   "outputs": [
    {
     "data": {
      "text/html": [
       "<div>\n",
       "<style scoped>\n",
       "    .dataframe tbody tr th:only-of-type {\n",
       "        vertical-align: middle;\n",
       "    }\n",
       "\n",
       "    .dataframe tbody tr th {\n",
       "        vertical-align: top;\n",
       "    }\n",
       "\n",
       "    .dataframe thead th {\n",
       "        text-align: right;\n",
       "    }\n",
       "</style>\n",
       "<table border=\"1\" class=\"dataframe\">\n",
       "  <thead>\n",
       "    <tr style=\"text-align: right;\">\n",
       "      <th></th>\n",
       "      <th>Date</th>\n",
       "      <th>Titres</th>\n",
       "      <th>Contents</th>\n",
       "    </tr>\n",
       "  </thead>\n",
       "  <tbody>\n",
       "    <tr>\n",
       "      <th>0</th>\n",
       "      <td>2021-03-31</td>\n",
       "      <td>arnaque</td>\n",
       "      <td>Mon père qui vient de décéder possédait une of...</td>\n",
       "    </tr>\n",
       "    <tr>\n",
       "      <th>1</th>\n",
       "      <td>2021-03-31</td>\n",
       "      <td>c'est trop long à expliqué tellement…</td>\n",
       "      <td>c'est trop long à expliqué tellement aucunes d...</td>\n",
       "    </tr>\n",
       "    <tr>\n",
       "      <th>2</th>\n",
       "      <td>2021-03-31</td>\n",
       "      <td>Le service client d'Orange est déplorable !</td>\n",
       "      <td>Le service client téléphonique d'Orange est dé...</td>\n",
       "    </tr>\n",
       "    <tr>\n",
       "      <th>3</th>\n",
       "      <td>2021-03-30</td>\n",
       "      <td>J'attend toujours ma carte sim depuis plus de ...</td>\n",
       "      <td>J'ai dut changer de mobil suite à un vol, j'ai...</td>\n",
       "    </tr>\n",
       "    <tr>\n",
       "      <th>4</th>\n",
       "      <td>2021-03-30</td>\n",
       "      <td>Orange c'est quoi la fibre ?</td>\n",
       "      <td>Orange c'est quoi la fibre ?Voila plusieurs mo...</td>\n",
       "    </tr>\n",
       "    <tr>\n",
       "      <th>...</th>\n",
       "      <td>...</td>\n",
       "      <td>...</td>\n",
       "      <td>...</td>\n",
       "    </tr>\n",
       "    <tr>\n",
       "      <th>3488</th>\n",
       "      <td>2011-03-08</td>\n",
       "      <td>saperlipopette!!!!</td>\n",
       "      <td>Beaucoup trop cher!!!</td>\n",
       "    </tr>\n",
       "    <tr>\n",
       "      <th>3489</th>\n",
       "      <td>2011-02-17</td>\n",
       "      <td>Bon réseau, mauvais service clientèle</td>\n",
       "      <td>Déjà je veux dire qu'Orange ont un réseau supe...</td>\n",
       "    </tr>\n",
       "    <tr>\n",
       "      <th>3490</th>\n",
       "      <td>2010-08-05</td>\n",
       "      <td>Site pas tres clair</td>\n",
       "      <td>Il faut beaucoup naviguer avant d'aboutir à ce...</td>\n",
       "    </tr>\n",
       "    <tr>\n",
       "      <th>3491</th>\n",
       "      <td>2010-08-04</td>\n",
       "      <td>Bons &amp; mauvais..</td>\n",
       "      <td>de bons produits, mauvais service.</td>\n",
       "    </tr>\n",
       "    <tr>\n",
       "      <th>3492</th>\n",
       "      <td>2010-04-28</td>\n",
       "      <td>Pas toujours clair!</td>\n",
       "      <td>Orange reste dans la lignée de france telecom,...</td>\n",
       "    </tr>\n",
       "  </tbody>\n",
       "</table>\n",
       "<p>3493 rows × 3 columns</p>\n",
       "</div>"
      ],
      "text/plain": [
       "            Date                                             Titres  \\\n",
       "0     2021-03-31                                            arnaque   \n",
       "1     2021-03-31              c'est trop long à expliqué tellement…   \n",
       "2     2021-03-31        Le service client d'Orange est déplorable !   \n",
       "3     2021-03-30  J'attend toujours ma carte sim depuis plus de ...   \n",
       "4     2021-03-30                       Orange c'est quoi la fibre ?   \n",
       "...          ...                                                ...   \n",
       "3488  2011-03-08                                 saperlipopette!!!!   \n",
       "3489  2011-02-17              Bon réseau, mauvais service clientèle   \n",
       "3490  2010-08-05                                Site pas tres clair   \n",
       "3491  2010-08-04                                   Bons & mauvais..   \n",
       "3492  2010-04-28                                Pas toujours clair!   \n",
       "\n",
       "                                               Contents  \n",
       "0     Mon père qui vient de décéder possédait une of...  \n",
       "1     c'est trop long à expliqué tellement aucunes d...  \n",
       "2     Le service client téléphonique d'Orange est dé...  \n",
       "3     J'ai dut changer de mobil suite à un vol, j'ai...  \n",
       "4     Orange c'est quoi la fibre ?Voila plusieurs mo...  \n",
       "...                                                 ...  \n",
       "3488                              Beaucoup trop cher!!!  \n",
       "3489  Déjà je veux dire qu'Orange ont un réseau supe...  \n",
       "3490  Il faut beaucoup naviguer avant d'aboutir à ce...  \n",
       "3491                 de bons produits, mauvais service.  \n",
       "3492  Orange reste dans la lignée de france telecom,...  \n",
       "\n",
       "[3493 rows x 3 columns]"
      ]
     },
     "execution_count": 3,
     "metadata": {},
     "output_type": "execute_result"
    }
   ],
   "source": [
    "pd.read_excel('OrangeFR.xlsx')"
   ]
  },
  {
   "cell_type": "code",
   "execution_count": null,
   "metadata": {},
   "outputs": [],
   "source": []
  }
 ],
 "metadata": {
  "kernelspec": {
   "display_name": "Python 3",
   "language": "python",
   "name": "python3"
  },
  "language_info": {
   "codemirror_mode": {
    "name": "ipython",
    "version": 3
   },
   "file_extension": ".py",
   "mimetype": "text/x-python",
   "name": "python",
   "nbconvert_exporter": "python",
   "pygments_lexer": "ipython3",
   "version": "3.8.5"
  },
  "toc": {
   "base_numbering": 1,
   "nav_menu": {},
   "number_sections": true,
   "sideBar": true,
   "skip_h1_title": false,
   "title_cell": "Table of Contents",
   "title_sidebar": "Contents",
   "toc_cell": true,
   "toc_position": {},
   "toc_section_display": true,
   "toc_window_display": true
  }
 },
 "nbformat": 4,
 "nbformat_minor": 4
}
