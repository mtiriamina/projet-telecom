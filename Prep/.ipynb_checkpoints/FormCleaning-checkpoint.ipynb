{
 "cells": [
  {
   "cell_type": "code",
   "execution_count": 1,
   "metadata": {},
   "outputs": [],
   "source": [
    "import pandas as pd\n",
    "import numpy as np \n",
    "import pandas as pd \n",
    "import seaborn as sns\n",
    "import matplotlib.pyplot as plt\n",
    "import datetime as dt\n",
    "from sklearn import linear_model\n",
    "%config Completer.use_jedi = False"
   ]
  },
  {
   "cell_type": "code",
   "execution_count": 2,
   "metadata": {},
   "outputs": [],
   "source": [
    "df=pd.read_excel('Form.xlsx')"
   ]
  },
  {
   "cell_type": "code",
   "execution_count": 3,
   "metadata": {},
   "outputs": [],
   "source": [
    "df.rename(columns={\n",
    "    \n",
    "    'Horodateur':'Date','Combien de lignes de téléphonie mobile possédez vous?':'Nb_Lignes',\n",
    "    'Quel est votre opérateur téléphonique principal?':'Opert_Princ','Quel est votre âge ?':'Age',\n",
    "    'Dans quel gouvernorat vous passez le plus de temps  ? ( lieu d\\'habitat / de travail / d\\'étude .. )':'City',\n",
    "    'Quel est votre degré de satisfaction à l\\'égard de votre opérateur téléphonique principal ?':'Satisfaction_Global',\n",
    "    'A l\\'égard de ce même opérateur , veuillez donner votre note de satisfaction entre 0 et 10 :  [Couverture réseau de votre région]':'Coverage',\n",
    "    'A l\\'égard de ce même opérateur , veuillez donner votre note de satisfaction entre 0 et 10 :  [Qualité des appels téléphoniques]':'Call_Quality',\n",
    "    'A l\\'égard de ce même opérateur , veuillez donner votre note de satisfaction entre 0 et 10 :  [Qualité de connexion à l\\'internet]':'Network_Quality',\n",
    "    'A l\\'égard de ce même opérateur , veuillez donner votre note de satisfaction entre 0 et 10 :  [Promotions et bonus]':'Promotions_Rate',\n",
    "    'A l\\'égard de ce même opérateur , veuillez donner votre note de satisfaction entre 0 et 10 :  [Prix d\\'abonnement actuel ]':'Subscription_Price_Rate',\n",
    "    'A l\\'égard de ce même opérateur , veuillez donner votre note de satisfaction entre 0 et 10 :  [Tarifs des communications locales]':'Local_Comm_Price_Rate',\n",
    "    'A l\\'égard de ce même opérateur , veuillez donner votre note de satisfaction entre 0 et 10 :  [Tarifs des communications internationales]':'Inter_Comm_Price_Rate',\n",
    "    'A l\\'égard de ce même opérateur , veuillez donner votre note de satisfaction entre 0 et 10 :  [Tarif du roaming international ]':'Roaming_Price_Rate',\n",
    "    'A l\\'égard de ce même opérateur , veuillez donner votre note de satisfaction entre 0 et 10 :  [Tarif de l\\'internet mobile ]':'Internet_Price_Rate',\n",
    "    'A l\\'égard de ce même opérateur , veuillez donner votre note de satisfaction entre 0 et 10 :  [Tarif des sms ]':'Sms_Price_Rate',\n",
    "    'A l\\'égard de ce même opérateur , veuillez donner votre note de satisfaction entre 0 et 10 :  [Service clientèle ]':'Service_Client_Rate'\n",
    "},inplace=True)"
   ]
  },
  {
   "cell_type": "code",
   "execution_count": 4,
   "metadata": {},
   "outputs": [],
   "source": [
    "df['Date']=df['Date'].dt.date\n",
    "df.drop('Date',axis=1,inplace=True)"
   ]
  },
  {
   "cell_type": "code",
   "execution_count": 5,
   "metadata": {},
   "outputs": [],
   "source": [
    "\n",
    "cols=['Age']\n",
    "df = df.apply(lambda col: col.str.replace('Entre ', '') if col.name in cols else col)\n",
    "df = df.apply(lambda col: col.str.replace(' et ', '-') if col.name in cols else col)\n",
    "df = df.apply(lambda col: col.str.replace('ans .', '') if col.name in cols else col)\n",
    "df = df.apply(lambda col: col.str.replace('Moins de ', '') if col.name in cols else col)\n",
    "df = df.apply(lambda col: col.str.replace(' ans-plus .', '') if col.name in cols else col)\n"
   ]
  },
  {
   "cell_type": "code",
   "execution_count": 6,
   "metadata": {
    "scrolled": true
   },
   "outputs": [
    {
     "data": {
      "text/plain": [
       "0      18-25 \n",
       "1      18-25 \n",
       "2      18-25 \n",
       "3      18-25 \n",
       "4      18-25 \n",
       "        ...  \n",
       "189    18-25 \n",
       "190    18-25 \n",
       "191    18-25 \n",
       "192    18-25 \n",
       "193    18-25 \n",
       "Name: Age, Length: 194, dtype: object"
      ]
     },
     "execution_count": 6,
     "metadata": {},
     "output_type": "execute_result"
    }
   ],
   "source": [
    "df['Age']"
   ]
  },
  {
   "cell_type": "code",
   "execution_count": 7,
   "metadata": {},
   "outputs": [],
   "source": [
    "df.replace({'J\\'utilise pas ce service':11,'Je n\\'utilise pas ce service':11},inplace=True)"
   ]
  },
  {
   "cell_type": "code",
   "execution_count": 8,
   "metadata": {},
   "outputs": [],
   "source": [
    "df['note']=df.loc[:,df.columns.difference(['Nb_Lignes','Age','Opert_Princ','City','note'])].mean(axis=1)"
   ]
  },
  {
   "cell_type": "code",
   "execution_count": 9,
   "metadata": {},
   "outputs": [],
   "source": [
    "from sklearn.compose import make_column_selector\n",
    "categorical_features=make_column_selector(dtype_exclude=np.number)\n",
    "x=pd.get_dummies(df[['Age','Opert_Princ','City']])\n",
    "df.drop(['Age','Opert_Princ','City'],axis=1,inplace=True)\n",
    "x=pd.concat([x,df['note']],axis=1)\n"
   ]
  },
  {
   "cell_type": "code",
   "execution_count": 10,
   "metadata": {},
   "outputs": [],
   "source": [
    "from sklearn.preprocessing import RobustScaler\n",
    "scaler=RobustScaler()\n",
    "df_scaled=scaler.fit_transform(x)\n",
    "df=pd.DataFrame(data=df_scaled,columns=x.columns)"
   ]
  },
  {
   "cell_type": "code",
   "execution_count": 11,
   "metadata": {},
   "outputs": [
    {
     "data": {
      "text/html": [
       "<div>\n",
       "<style scoped>\n",
       "    .dataframe tbody tr th:only-of-type {\n",
       "        vertical-align: middle;\n",
       "    }\n",
       "\n",
       "    .dataframe tbody tr th {\n",
       "        vertical-align: top;\n",
       "    }\n",
       "\n",
       "    .dataframe thead th {\n",
       "        text-align: right;\n",
       "    }\n",
       "</style>\n",
       "<table border=\"1\" class=\"dataframe\">\n",
       "  <thead>\n",
       "    <tr style=\"text-align: right;\">\n",
       "      <th></th>\n",
       "      <th>Age_18</th>\n",
       "      <th>Age_18-25</th>\n",
       "      <th>Age_26-34</th>\n",
       "      <th>Age_35-49</th>\n",
       "      <th>Age_50-59</th>\n",
       "      <th>Age_60</th>\n",
       "      <th>Opert_Princ_Autre</th>\n",
       "      <th>Opert_Princ_Ooredoo</th>\n",
       "      <th>Opert_Princ_Orange</th>\n",
       "      <th>City_Ariana</th>\n",
       "      <th>...</th>\n",
       "      <th>City_Manouba</th>\n",
       "      <th>City_Monastir</th>\n",
       "      <th>City_Médenine</th>\n",
       "      <th>City_Nabeul</th>\n",
       "      <th>City_Sfax</th>\n",
       "      <th>City_Sousse</th>\n",
       "      <th>City_Tozeur</th>\n",
       "      <th>City_Tunis</th>\n",
       "      <th>City_Zaghouan</th>\n",
       "      <th>note</th>\n",
       "    </tr>\n",
       "  </thead>\n",
       "  <tbody>\n",
       "    <tr>\n",
       "      <th>0</th>\n",
       "      <td>0.0</td>\n",
       "      <td>0.0</td>\n",
       "      <td>0.0</td>\n",
       "      <td>0.0</td>\n",
       "      <td>0.0</td>\n",
       "      <td>0.0</td>\n",
       "      <td>0.0</td>\n",
       "      <td>0.0</td>\n",
       "      <td>1.0</td>\n",
       "      <td>1.0</td>\n",
       "      <td>...</td>\n",
       "      <td>0.0</td>\n",
       "      <td>0.0</td>\n",
       "      <td>0.0</td>\n",
       "      <td>0.0</td>\n",
       "      <td>0.0</td>\n",
       "      <td>0.0</td>\n",
       "      <td>0.0</td>\n",
       "      <td>0.0</td>\n",
       "      <td>0.0</td>\n",
       "      <td>0.169492</td>\n",
       "    </tr>\n",
       "    <tr>\n",
       "      <th>1</th>\n",
       "      <td>0.0</td>\n",
       "      <td>0.0</td>\n",
       "      <td>0.0</td>\n",
       "      <td>0.0</td>\n",
       "      <td>0.0</td>\n",
       "      <td>0.0</td>\n",
       "      <td>0.0</td>\n",
       "      <td>0.0</td>\n",
       "      <td>1.0</td>\n",
       "      <td>1.0</td>\n",
       "      <td>...</td>\n",
       "      <td>0.0</td>\n",
       "      <td>0.0</td>\n",
       "      <td>0.0</td>\n",
       "      <td>0.0</td>\n",
       "      <td>0.0</td>\n",
       "      <td>0.0</td>\n",
       "      <td>0.0</td>\n",
       "      <td>0.0</td>\n",
       "      <td>0.0</td>\n",
       "      <td>-0.322034</td>\n",
       "    </tr>\n",
       "    <tr>\n",
       "      <th>2</th>\n",
       "      <td>0.0</td>\n",
       "      <td>0.0</td>\n",
       "      <td>0.0</td>\n",
       "      <td>0.0</td>\n",
       "      <td>0.0</td>\n",
       "      <td>0.0</td>\n",
       "      <td>0.0</td>\n",
       "      <td>1.0</td>\n",
       "      <td>0.0</td>\n",
       "      <td>1.0</td>\n",
       "      <td>...</td>\n",
       "      <td>0.0</td>\n",
       "      <td>0.0</td>\n",
       "      <td>0.0</td>\n",
       "      <td>0.0</td>\n",
       "      <td>0.0</td>\n",
       "      <td>0.0</td>\n",
       "      <td>0.0</td>\n",
       "      <td>0.0</td>\n",
       "      <td>0.0</td>\n",
       "      <td>-0.728814</td>\n",
       "    </tr>\n",
       "    <tr>\n",
       "      <th>3</th>\n",
       "      <td>0.0</td>\n",
       "      <td>0.0</td>\n",
       "      <td>0.0</td>\n",
       "      <td>0.0</td>\n",
       "      <td>0.0</td>\n",
       "      <td>0.0</td>\n",
       "      <td>0.0</td>\n",
       "      <td>1.0</td>\n",
       "      <td>0.0</td>\n",
       "      <td>0.0</td>\n",
       "      <td>...</td>\n",
       "      <td>0.0</td>\n",
       "      <td>0.0</td>\n",
       "      <td>0.0</td>\n",
       "      <td>0.0</td>\n",
       "      <td>0.0</td>\n",
       "      <td>0.0</td>\n",
       "      <td>0.0</td>\n",
       "      <td>0.0</td>\n",
       "      <td>0.0</td>\n",
       "      <td>-0.949153</td>\n",
       "    </tr>\n",
       "    <tr>\n",
       "      <th>4</th>\n",
       "      <td>0.0</td>\n",
       "      <td>0.0</td>\n",
       "      <td>0.0</td>\n",
       "      <td>0.0</td>\n",
       "      <td>0.0</td>\n",
       "      <td>0.0</td>\n",
       "      <td>1.0</td>\n",
       "      <td>0.0</td>\n",
       "      <td>0.0</td>\n",
       "      <td>0.0</td>\n",
       "      <td>...</td>\n",
       "      <td>1.0</td>\n",
       "      <td>0.0</td>\n",
       "      <td>0.0</td>\n",
       "      <td>0.0</td>\n",
       "      <td>0.0</td>\n",
       "      <td>0.0</td>\n",
       "      <td>0.0</td>\n",
       "      <td>0.0</td>\n",
       "      <td>0.0</td>\n",
       "      <td>-0.559322</td>\n",
       "    </tr>\n",
       "    <tr>\n",
       "      <th>...</th>\n",
       "      <td>...</td>\n",
       "      <td>...</td>\n",
       "      <td>...</td>\n",
       "      <td>...</td>\n",
       "      <td>...</td>\n",
       "      <td>...</td>\n",
       "      <td>...</td>\n",
       "      <td>...</td>\n",
       "      <td>...</td>\n",
       "      <td>...</td>\n",
       "      <td>...</td>\n",
       "      <td>...</td>\n",
       "      <td>...</td>\n",
       "      <td>...</td>\n",
       "      <td>...</td>\n",
       "      <td>...</td>\n",
       "      <td>...</td>\n",
       "      <td>...</td>\n",
       "      <td>...</td>\n",
       "      <td>...</td>\n",
       "      <td>...</td>\n",
       "    </tr>\n",
       "    <tr>\n",
       "      <th>189</th>\n",
       "      <td>0.0</td>\n",
       "      <td>0.0</td>\n",
       "      <td>0.0</td>\n",
       "      <td>0.0</td>\n",
       "      <td>0.0</td>\n",
       "      <td>0.0</td>\n",
       "      <td>0.0</td>\n",
       "      <td>1.0</td>\n",
       "      <td>0.0</td>\n",
       "      <td>0.0</td>\n",
       "      <td>...</td>\n",
       "      <td>0.0</td>\n",
       "      <td>0.0</td>\n",
       "      <td>0.0</td>\n",
       "      <td>0.0</td>\n",
       "      <td>0.0</td>\n",
       "      <td>0.0</td>\n",
       "      <td>0.0</td>\n",
       "      <td>1.0</td>\n",
       "      <td>0.0</td>\n",
       "      <td>0.593220</td>\n",
       "    </tr>\n",
       "    <tr>\n",
       "      <th>190</th>\n",
       "      <td>0.0</td>\n",
       "      <td>0.0</td>\n",
       "      <td>0.0</td>\n",
       "      <td>0.0</td>\n",
       "      <td>0.0</td>\n",
       "      <td>0.0</td>\n",
       "      <td>1.0</td>\n",
       "      <td>0.0</td>\n",
       "      <td>0.0</td>\n",
       "      <td>0.0</td>\n",
       "      <td>...</td>\n",
       "      <td>0.0</td>\n",
       "      <td>0.0</td>\n",
       "      <td>0.0</td>\n",
       "      <td>0.0</td>\n",
       "      <td>0.0</td>\n",
       "      <td>0.0</td>\n",
       "      <td>0.0</td>\n",
       "      <td>1.0</td>\n",
       "      <td>0.0</td>\n",
       "      <td>0.677966</td>\n",
       "    </tr>\n",
       "    <tr>\n",
       "      <th>191</th>\n",
       "      <td>0.0</td>\n",
       "      <td>0.0</td>\n",
       "      <td>0.0</td>\n",
       "      <td>0.0</td>\n",
       "      <td>0.0</td>\n",
       "      <td>0.0</td>\n",
       "      <td>1.0</td>\n",
       "      <td>0.0</td>\n",
       "      <td>0.0</td>\n",
       "      <td>1.0</td>\n",
       "      <td>...</td>\n",
       "      <td>0.0</td>\n",
       "      <td>0.0</td>\n",
       "      <td>0.0</td>\n",
       "      <td>0.0</td>\n",
       "      <td>0.0</td>\n",
       "      <td>0.0</td>\n",
       "      <td>0.0</td>\n",
       "      <td>0.0</td>\n",
       "      <td>0.0</td>\n",
       "      <td>0.135593</td>\n",
       "    </tr>\n",
       "    <tr>\n",
       "      <th>192</th>\n",
       "      <td>0.0</td>\n",
       "      <td>0.0</td>\n",
       "      <td>0.0</td>\n",
       "      <td>0.0</td>\n",
       "      <td>0.0</td>\n",
       "      <td>0.0</td>\n",
       "      <td>1.0</td>\n",
       "      <td>0.0</td>\n",
       "      <td>0.0</td>\n",
       "      <td>1.0</td>\n",
       "      <td>...</td>\n",
       "      <td>0.0</td>\n",
       "      <td>0.0</td>\n",
       "      <td>0.0</td>\n",
       "      <td>0.0</td>\n",
       "      <td>0.0</td>\n",
       "      <td>0.0</td>\n",
       "      <td>0.0</td>\n",
       "      <td>0.0</td>\n",
       "      <td>0.0</td>\n",
       "      <td>0.084746</td>\n",
       "    </tr>\n",
       "    <tr>\n",
       "      <th>193</th>\n",
       "      <td>0.0</td>\n",
       "      <td>0.0</td>\n",
       "      <td>0.0</td>\n",
       "      <td>0.0</td>\n",
       "      <td>0.0</td>\n",
       "      <td>0.0</td>\n",
       "      <td>0.0</td>\n",
       "      <td>0.0</td>\n",
       "      <td>1.0</td>\n",
       "      <td>0.0</td>\n",
       "      <td>...</td>\n",
       "      <td>0.0</td>\n",
       "      <td>0.0</td>\n",
       "      <td>0.0</td>\n",
       "      <td>1.0</td>\n",
       "      <td>0.0</td>\n",
       "      <td>0.0</td>\n",
       "      <td>0.0</td>\n",
       "      <td>0.0</td>\n",
       "      <td>0.0</td>\n",
       "      <td>0.830508</td>\n",
       "    </tr>\n",
       "  </tbody>\n",
       "</table>\n",
       "<p>194 rows × 26 columns</p>\n",
       "</div>"
      ],
      "text/plain": [
       "     Age_18   Age_18-25   Age_26-34   Age_35-49   Age_50-59   Age_60  \\\n",
       "0        0.0         0.0         0.0         0.0         0.0     0.0   \n",
       "1        0.0         0.0         0.0         0.0         0.0     0.0   \n",
       "2        0.0         0.0         0.0         0.0         0.0     0.0   \n",
       "3        0.0         0.0         0.0         0.0         0.0     0.0   \n",
       "4        0.0         0.0         0.0         0.0         0.0     0.0   \n",
       "..       ...         ...         ...         ...         ...     ...   \n",
       "189      0.0         0.0         0.0         0.0         0.0     0.0   \n",
       "190      0.0         0.0         0.0         0.0         0.0     0.0   \n",
       "191      0.0         0.0         0.0         0.0         0.0     0.0   \n",
       "192      0.0         0.0         0.0         0.0         0.0     0.0   \n",
       "193      0.0         0.0         0.0         0.0         0.0     0.0   \n",
       "\n",
       "     Opert_Princ_Autre  Opert_Princ_Ooredoo  Opert_Princ_Orange  City_Ariana  \\\n",
       "0                  0.0                  0.0                 1.0          1.0   \n",
       "1                  0.0                  0.0                 1.0          1.0   \n",
       "2                  0.0                  1.0                 0.0          1.0   \n",
       "3                  0.0                  1.0                 0.0          0.0   \n",
       "4                  1.0                  0.0                 0.0          0.0   \n",
       "..                 ...                  ...                 ...          ...   \n",
       "189                0.0                  1.0                 0.0          0.0   \n",
       "190                1.0                  0.0                 0.0          0.0   \n",
       "191                1.0                  0.0                 0.0          1.0   \n",
       "192                1.0                  0.0                 0.0          1.0   \n",
       "193                0.0                  0.0                 1.0          0.0   \n",
       "\n",
       "     ...  City_Manouba  City_Monastir  City_Médenine  City_Nabeul  City_Sfax  \\\n",
       "0    ...           0.0            0.0            0.0          0.0        0.0   \n",
       "1    ...           0.0            0.0            0.0          0.0        0.0   \n",
       "2    ...           0.0            0.0            0.0          0.0        0.0   \n",
       "3    ...           0.0            0.0            0.0          0.0        0.0   \n",
       "4    ...           1.0            0.0            0.0          0.0        0.0   \n",
       "..   ...           ...            ...            ...          ...        ...   \n",
       "189  ...           0.0            0.0            0.0          0.0        0.0   \n",
       "190  ...           0.0            0.0            0.0          0.0        0.0   \n",
       "191  ...           0.0            0.0            0.0          0.0        0.0   \n",
       "192  ...           0.0            0.0            0.0          0.0        0.0   \n",
       "193  ...           0.0            0.0            0.0          1.0        0.0   \n",
       "\n",
       "     City_Sousse  City_Tozeur  City_Tunis  City_Zaghouan      note  \n",
       "0            0.0          0.0         0.0            0.0  0.169492  \n",
       "1            0.0          0.0         0.0            0.0 -0.322034  \n",
       "2            0.0          0.0         0.0            0.0 -0.728814  \n",
       "3            0.0          0.0         0.0            0.0 -0.949153  \n",
       "4            0.0          0.0         0.0            0.0 -0.559322  \n",
       "..           ...          ...         ...            ...       ...  \n",
       "189          0.0          0.0         1.0            0.0  0.593220  \n",
       "190          0.0          0.0         1.0            0.0  0.677966  \n",
       "191          0.0          0.0         0.0            0.0  0.135593  \n",
       "192          0.0          0.0         0.0            0.0  0.084746  \n",
       "193          0.0          0.0         0.0            0.0  0.830508  \n",
       "\n",
       "[194 rows x 26 columns]"
      ]
     },
     "execution_count": 11,
     "metadata": {},
     "output_type": "execute_result"
    }
   ],
   "source": [
    "df"
   ]
  },
  {
   "cell_type": "code",
   "execution_count": 12,
   "metadata": {},
   "outputs": [],
   "source": [
    "from sklearn.model_selection import train_test_split\n",
    "X = df.drop(['note'],axis=1)\n",
    "y = df['note']\n",
    "X_train, X_test, y_train, y_test = train_test_split(X, y, test_size=0.3, random_state=42)"
   ]
  },
  {
   "cell_type": "code",
   "execution_count": 13,
   "metadata": {},
   "outputs": [],
   "source": [
    "lm=linear_model.LinearRegression(normalize=True)"
   ]
  },
  {
   "cell_type": "code",
   "execution_count": 14,
   "metadata": {},
   "outputs": [
    {
     "data": {
      "text/plain": [
       "LinearRegression(normalize=True)"
      ]
     },
     "execution_count": 14,
     "metadata": {},
     "output_type": "execute_result"
    }
   ],
   "source": [
    "lm.fit(X_train,y_train)"
   ]
  },
  {
   "cell_type": "code",
   "execution_count": 15,
   "metadata": {
    "scrolled": true
   },
   "outputs": [
    {
     "data": {
      "image/png": "[encoded data removed]",
      "text/plain": [
       "<Figure size 432x288 with 1 Axes>"
      ]
     },
     "metadata": {
      "needs_background": "light"
     },
     "output_type": "display_data"
    }
   ],
   "source": [
    "pred = lm.predict(X_test)\n",
    "plt.scatter(pred,y_test)\n",
    "plt.show()"
   ]
  },
  {
   "cell_type": "code",
   "execution_count": 16,
   "metadata": {
    "scrolled": false
   },
   "outputs": [
    {
     "name": "stderr",
     "output_type": "stream",
     "text": [
      "C:\\Users\\ASUS\\anaconda3\\lib\\site-packages\\seaborn\\distributions.py:2551: FutureWarning: `distplot` is a deprecated function and will be removed in a future version. Please adapt your code to use either `displot` (a figure-level function with similar flexibility) or `histplot` (an axes-level function for histograms).\n",
      "  warnings.warn(msg, FutureWarning)\n"
     ]
    },
    {
     "data": {
      "text/plain": [
       "<AxesSubplot:xlabel='note', ylabel='Density'>"
      ]
     },
     "execution_count": 16,
     "metadata": {},
     "output_type": "execute_result"
    },
    {
     "data": {
      "image/png": "[encoded data removed]",
      "text/plain": [
       "<Figure size 432x288 with 1 Axes>"
      ]
     },
     "metadata": {
      "needs_background": "light"
     },
     "output_type": "display_data"
    }
   ],
   "source": [
    "sns.distplot((y_test - pred))\n"
   ]
  },
  {
   "cell_type": "code",
   "execution_count": 17,
   "metadata": {
    "scrolled": true
   },
   "outputs": [
    {
     "data": {
      "text/plain": [
       "-0.480717100106433"
      ]
     },
     "execution_count": 17,
     "metadata": {},
     "output_type": "execute_result"
    }
   ],
   "source": [
    "lm.score(X_test,y_test)"
   ]
  },
  {
   "cell_type": "code",
   "execution_count": 32,
   "metadata": {},
   "outputs": [
    {
     "data": {
      "text/plain": [
       "0.4193548387096775"
      ]
     },
     "execution_count": 32,
     "metadata": {},
     "output_type": "execute_result"
    }
   ],
   "source": [
    "y_test.iloc[40]"
   ]
  },
  {
   "cell_type": "code",
   "execution_count": 31,
   "metadata": {
    "scrolled": false
   },
   "outputs": [
    {
     "data": {
      "text/plain": [
       "array([0.6301962])"
      ]
     },
     "execution_count": 31,
     "metadata": {},
     "output_type": "execute_result"
    }
   ],
   "source": [
    "lm.predict([X_test.iloc[40]])"
   ]
  },
  {
   "cell_type": "code",
   "execution_count": 19,
   "metadata": {},
   "outputs": [
    {
     "data": {
      "text/plain": [
       "<matplotlib.collections.PathCollection at 0x2952fce41f0>"
      ]
     },
     "execution_count": 19,
     "metadata": {},
     "output_type": "execute_result"
    },
    {
     "data": {
      "image/png": "[encoded data removed]",
      "text/plain": [
       "<Figure size 432x288 with 1 Axes>"
      ]
     },
     "metadata": {
      "needs_background": "light"
     },
     "output_type": "display_data"
    }
   ],
   "source": [
    "from sklearn.linear_model import Lasso\n",
    "model = Lasso(alpha=0.1, \n",
    "              precompute=True, \n",
    "#               warm_start=True, \n",
    "              positive=True, \n",
    "              selection='random',\n",
    "              random_state=42)\n",
    "model.fit(X_train, y_train)\n",
    "\n",
    "test_pred = model.predict(X_test)\n",
    "plt.scatter(y_test,test_pred)"
   ]
  },
  {
   "cell_type": "code",
   "execution_count": 20,
   "metadata": {},
   "outputs": [
    {
     "data": {
      "text/plain": [
       "-0.014324977381623638"
      ]
     },
     "execution_count": 20,
     "metadata": {},
     "output_type": "execute_result"
    }
   ],
   "source": [
    "model.score(X_test,y_test)"
   ]
  },
  {
   "cell_type": "code",
   "execution_count": null,
   "metadata": {},
   "outputs": [],
   "source": []
  }
 ],
 "metadata": {
  "kernelspec": {
   "display_name": "Python 3",
   "language": "python",
   "name": "python3"
  },
  "language_info": {
   "codemirror_mode": {
    "name": "ipython",
    "version": 3
   },
   "file_extension": ".py",
   "mimetype": "text/x-python",
   "name": "python",
   "nbconvert_exporter": "python",
   "pygments_lexer": "ipython3",
   "version": "3.8.5"
  }
 },
 "nbformat": 4,
 "nbformat_minor": 4
}
