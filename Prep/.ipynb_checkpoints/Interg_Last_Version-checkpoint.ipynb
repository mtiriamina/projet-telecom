{
 "cells": [
  {
   "cell_type": "code",
   "execution_count": 398,
   "metadata": {
    "hide_input": true,
    "scrolled": true
   },
   "outputs": [
    {
     "ename": "FileNotFoundError",
     "evalue": "[Errno 2] No such file or directory: 'telecom.png'",
     "output_type": "error",
     "traceback": [
      "\u001b[1;31m---------------------------------------------------------------------------\u001b[0m",
      "\u001b[1;31mFileNotFoundError\u001b[0m                         Traceback (most recent call last)",
      "\u001b[1;32m<ipython-input-398-3eb182452b53>\u001b[0m in \u001b[0;36m<module>\u001b[1;34m\u001b[0m\n\u001b[0;32m      1\u001b[0m \u001b[1;32mfrom\u001b[0m \u001b[0mIPython\u001b[0m\u001b[1;33m.\u001b[0m\u001b[0mdisplay\u001b[0m \u001b[1;32mimport\u001b[0m \u001b[0mImage\u001b[0m\u001b[1;33m\u001b[0m\u001b[1;33m\u001b[0m\u001b[0m\n\u001b[1;32m----> 2\u001b[1;33m \u001b[0mim\u001b[0m\u001b[1;33m=\u001b[0m\u001b[0mImage\u001b[0m\u001b[1;33m(\u001b[0m\u001b[0mfilename\u001b[0m\u001b[1;33m=\u001b[0m\u001b[1;34m'telecom.png'\u001b[0m\u001b[1;33m)\u001b[0m\u001b[1;33m\u001b[0m\u001b[1;33m\u001b[0m\u001b[0m\n\u001b[0m\u001b[0;32m      3\u001b[0m \u001b[0mim\u001b[0m\u001b[1;33m.\u001b[0m\u001b[0mwidth\u001b[0m\u001b[1;33m=\u001b[0m\u001b[1;36m900\u001b[0m\u001b[1;33m\u001b[0m\u001b[1;33m\u001b[0m\u001b[0m\n\u001b[0;32m      4\u001b[0m \u001b[0mim\u001b[0m\u001b[1;33m\u001b[0m\u001b[1;33m\u001b[0m\u001b[0m\n",
      "\u001b[1;32mC:\\ProgramData\\Anaconda3\\lib\\site-packages\\IPython\\core\\display.py\u001b[0m in \u001b[0;36m__init__\u001b[1;34m(self, data, url, filename, format, embed, width, height, retina, unconfined, metadata)\u001b[0m\n\u001b[0;32m   1195\u001b[0m         \u001b[0mself\u001b[0m\u001b[1;33m.\u001b[0m\u001b[0munconfined\u001b[0m \u001b[1;33m=\u001b[0m \u001b[0munconfined\u001b[0m\u001b[1;33m\u001b[0m\u001b[1;33m\u001b[0m\u001b[0m\n\u001b[0;32m   1196\u001b[0m         super(Image, self).__init__(data=data, url=url, filename=filename, \n\u001b[1;32m-> 1197\u001b[1;33m                 metadata=metadata)\n\u001b[0m\u001b[0;32m   1198\u001b[0m \u001b[1;33m\u001b[0m\u001b[0m\n\u001b[0;32m   1199\u001b[0m         \u001b[1;32mif\u001b[0m \u001b[0mself\u001b[0m\u001b[1;33m.\u001b[0m\u001b[0mwidth\u001b[0m \u001b[1;32mis\u001b[0m \u001b[1;32mNone\u001b[0m \u001b[1;32mand\u001b[0m \u001b[0mself\u001b[0m\u001b[1;33m.\u001b[0m\u001b[0mmetadata\u001b[0m\u001b[1;33m.\u001b[0m\u001b[0mget\u001b[0m\u001b[1;33m(\u001b[0m\u001b[1;34m'width'\u001b[0m\u001b[1;33m,\u001b[0m \u001b[1;33m{\u001b[0m\u001b[1;33m}\u001b[0m\u001b[1;33m)\u001b[0m\u001b[1;33m:\u001b[0m\u001b[1;33m\u001b[0m\u001b[1;33m\u001b[0m\u001b[0m\n",
      "\u001b[1;32mC:\\ProgramData\\Anaconda3\\lib\\site-packages\\IPython\\core\\display.py\u001b[0m in \u001b[0;36m__init__\u001b[1;34m(self, data, url, filename, metadata)\u001b[0m\n\u001b[0;32m    618\u001b[0m             \u001b[0mself\u001b[0m\u001b[1;33m.\u001b[0m\u001b[0mmetadata\u001b[0m \u001b[1;33m=\u001b[0m \u001b[1;33m{\u001b[0m\u001b[1;33m}\u001b[0m\u001b[1;33m\u001b[0m\u001b[1;33m\u001b[0m\u001b[0m\n\u001b[0;32m    619\u001b[0m \u001b[1;33m\u001b[0m\u001b[0m\n\u001b[1;32m--> 620\u001b[1;33m         \u001b[0mself\u001b[0m\u001b[1;33m.\u001b[0m\u001b[0mreload\u001b[0m\u001b[1;33m(\u001b[0m\u001b[1;33m)\u001b[0m\u001b[1;33m\u001b[0m\u001b[1;33m\u001b[0m\u001b[0m\n\u001b[0m\u001b[0;32m    621\u001b[0m         \u001b[0mself\u001b[0m\u001b[1;33m.\u001b[0m\u001b[0m_check_data\u001b[0m\u001b[1;33m(\u001b[0m\u001b[1;33m)\u001b[0m\u001b[1;33m\u001b[0m\u001b[1;33m\u001b[0m\u001b[0m\n\u001b[0;32m    622\u001b[0m \u001b[1;33m\u001b[0m\u001b[0m\n",
      "\u001b[1;32mC:\\ProgramData\\Anaconda3\\lib\\site-packages\\IPython\\core\\display.py\u001b[0m in \u001b[0;36mreload\u001b[1;34m(self)\u001b[0m\n\u001b[0;32m   1226\u001b[0m         \u001b[1;34m\"\"\"Reload the raw data from file or URL.\"\"\"\u001b[0m\u001b[1;33m\u001b[0m\u001b[1;33m\u001b[0m\u001b[0m\n\u001b[0;32m   1227\u001b[0m         \u001b[1;32mif\u001b[0m \u001b[0mself\u001b[0m\u001b[1;33m.\u001b[0m\u001b[0membed\u001b[0m\u001b[1;33m:\u001b[0m\u001b[1;33m\u001b[0m\u001b[1;33m\u001b[0m\u001b[0m\n\u001b[1;32m-> 1228\u001b[1;33m             \u001b[0msuper\u001b[0m\u001b[1;33m(\u001b[0m\u001b[0mImage\u001b[0m\u001b[1;33m,\u001b[0m\u001b[0mself\u001b[0m\u001b[1;33m)\u001b[0m\u001b[1;33m.\u001b[0m\u001b[0mreload\u001b[0m\u001b[1;33m(\u001b[0m\u001b[1;33m)\u001b[0m\u001b[1;33m\u001b[0m\u001b[1;33m\u001b[0m\u001b[0m\n\u001b[0m\u001b[0;32m   1229\u001b[0m             \u001b[1;32mif\u001b[0m \u001b[0mself\u001b[0m\u001b[1;33m.\u001b[0m\u001b[0mretina\u001b[0m\u001b[1;33m:\u001b[0m\u001b[1;33m\u001b[0m\u001b[1;33m\u001b[0m\u001b[0m\n\u001b[0;32m   1230\u001b[0m                 \u001b[0mself\u001b[0m\u001b[1;33m.\u001b[0m\u001b[0m_retina_shape\u001b[0m\u001b[1;33m(\u001b[0m\u001b[1;33m)\u001b[0m\u001b[1;33m\u001b[0m\u001b[1;33m\u001b[0m\u001b[0m\n",
      "\u001b[1;32mC:\\ProgramData\\Anaconda3\\lib\\site-packages\\IPython\\core\\display.py\u001b[0m in \u001b[0;36mreload\u001b[1;34m(self)\u001b[0m\n\u001b[0;32m    643\u001b[0m         \u001b[1;34m\"\"\"Reload the raw data from file or URL.\"\"\"\u001b[0m\u001b[1;33m\u001b[0m\u001b[1;33m\u001b[0m\u001b[0m\n\u001b[0;32m    644\u001b[0m         \u001b[1;32mif\u001b[0m \u001b[0mself\u001b[0m\u001b[1;33m.\u001b[0m\u001b[0mfilename\u001b[0m \u001b[1;32mis\u001b[0m \u001b[1;32mnot\u001b[0m \u001b[1;32mNone\u001b[0m\u001b[1;33m:\u001b[0m\u001b[1;33m\u001b[0m\u001b[1;33m\u001b[0m\u001b[0m\n\u001b[1;32m--> 645\u001b[1;33m             \u001b[1;32mwith\u001b[0m \u001b[0mopen\u001b[0m\u001b[1;33m(\u001b[0m\u001b[0mself\u001b[0m\u001b[1;33m.\u001b[0m\u001b[0mfilename\u001b[0m\u001b[1;33m,\u001b[0m \u001b[0mself\u001b[0m\u001b[1;33m.\u001b[0m\u001b[0m_read_flags\u001b[0m\u001b[1;33m)\u001b[0m \u001b[1;32mas\u001b[0m \u001b[0mf\u001b[0m\u001b[1;33m:\u001b[0m\u001b[1;33m\u001b[0m\u001b[1;33m\u001b[0m\u001b[0m\n\u001b[0m\u001b[0;32m    646\u001b[0m                 \u001b[0mself\u001b[0m\u001b[1;33m.\u001b[0m\u001b[0mdata\u001b[0m \u001b[1;33m=\u001b[0m \u001b[0mf\u001b[0m\u001b[1;33m.\u001b[0m\u001b[0mread\u001b[0m\u001b[1;33m(\u001b[0m\u001b[1;33m)\u001b[0m\u001b[1;33m\u001b[0m\u001b[1;33m\u001b[0m\u001b[0m\n\u001b[0;32m    647\u001b[0m         \u001b[1;32melif\u001b[0m \u001b[0mself\u001b[0m\u001b[1;33m.\u001b[0m\u001b[0murl\u001b[0m \u001b[1;32mis\u001b[0m \u001b[1;32mnot\u001b[0m \u001b[1;32mNone\u001b[0m\u001b[1;33m:\u001b[0m\u001b[1;33m\u001b[0m\u001b[1;33m\u001b[0m\u001b[0m\n",
      "\u001b[1;31mFileNotFoundError\u001b[0m: [Errno 2] No such file or directory: 'telecom.png'"
     ]
    }
   ],
   "source": [
    "from IPython.display import Image\n",
    "im=Image(filename='telecom.png')\n",
    "im.width=900\n",
    "im"
   ]
  },
  {
   "cell_type": "code",
   "execution_count": null,
   "metadata": {
    "hide_input": true
   },
   "outputs": [],
   "source": [
    "%%html\n",
    "<h1> Libraries 📚 </h1>"
   ]
  },
  {
   "cell_type": "code",
   "execution_count": 942,
   "metadata": {
    "hide_input": true
   },
   "outputs": [],
   "source": [
    "import numpy as np\n",
    "import pandas as pd\n",
    "import seaborn as sns\n",
    "import matplotlib as plt\n",
    "import matplotlib.pyplot as pplt\n",
    "from datetime import datetime\n",
    "import seaborn as sns\n",
    "import warnings\n",
    "\n",
    "warnings.filterwarnings('ignore')"
   ]
  },
  {
   "cell_type": "code",
   "execution_count": 943,
   "metadata": {
    "hide_input": true
   },
   "outputs": [
    {
     "data": {
      "text/html": [
       "<h1>Excell file 📁</h1>\n"
      ],
      "text/plain": [
       "<IPython.core.display.HTML object>"
      ]
     },
     "metadata": {},
     "output_type": "display_data"
    }
   ],
   "source": [
    "%%html\n",
    "<h1>Excell file 📁</h1>"
   ]
  },
  {
   "cell_type": "code",
   "execution_count": 1156,
   "metadata": {
    "hide_input": false
   },
   "outputs": [
    {
     "name": "stdout",
     "output_type": "stream",
     "text": [
      "Total Recordings in Excell Data: 1,688  Total features:  169\n"
     ]
    }
   ],
   "source": [
    "df = pd.read_excel ('telecom.xlsx')\n",
    "pd.set_option('display.max_column',169)\n",
    "print(\"Total Recordings in Excell Data: {:,}\".format(df.shape[0])+\"  Total features:  {:,}\".format(df.shape[1]))"
   ]
  },
  {
   "cell_type": "markdown",
   "metadata": {
    "hide_input": false
   },
   "source": [
    "# Renaming columns\n",
    "\n",
    "📌Note: The cell bellow is hidden  for better visibility of the notebook : In this cell we're renaming the dataframe columns ⬇ "
   ]
  },
  {
   "cell_type": "code",
   "execution_count": 1157,
   "metadata": {
    "hide_input": true
   },
   "outputs": [],
   "source": [
    "df.rename(\n",
    "    columns={\n",
    "        #Amal\n",
    "        '1 - [196] Code enquêteur':\n",
    "        'COD_Investigator',\n",
    "        '2 - [197] Numéro du questionnaire':\n",
    "        'NB_Quest',\n",
    "        '3 - [4] S0.1 Code ville':\n",
    "        'city',\n",
    "        '4 - [12] S0.2. Sexe :':\n",
    "        'Gender',\n",
    "        '5 - [198] Code pays':\n",
    "        'COD_Count',\n",
    "        '6 - [9] Langue de passation du questionnaire':\n",
    "        'Quest_Lang',\n",
    "        '7 - [14] Date de passation du questionnaire':\n",
    "        'Quest_Date',\n",
    "        '8 - [199] S1. Combien de salariés travaillent dans votre entreprise, c’est-à-dire tous sites confondus, y compris celui où on se trouve ?':\n",
    "        'NB_Emp',\n",
    "        '9 - [188] S1.bis Taille de l\\'entreprise':\n",
    "        'Size_Comp',\n",
    "        '10 - [15] S1ter. Dans quel secteur d’activité travaillez-vous ?':\n",
    "        'Sect_Comp',\n",
    "        '11 - [16] S2. Votre entreprise utilise-t-elle actuellement des téléphones mobiles ?':\n",
    "        'Mobile_Comp',\n",
    "        '12 - [17] S2A. Parmi ces téléphones, y a-t-il des Smartphones ?':\n",
    "        'Type_Smart',\n",
    "        '13 - [18] S3. Etes-vous le décideur concernant ces choix ?':\n",
    "        'smart_decider',\n",
    "        '14 - [19] S4. Quels sont tous les opérateurs que votre entreprise utilise':\n",
    "        'Opert_Comp',\n",
    "        '15 - [20] S5. Et quel est l’opérateur principal, c\\'est-à-dire, l’opérateur mobile chez qui vous avez souscrit le plus de lignes mobiles ? ':\n",
    "        'Opert_Princ',\n",
    "        '16 - [21] S6. Depuis combien de temps votre entreprise est-elle cliente de cet opérateur principal [V15] ?':\n",
    "        'Opert_Period',\n",
    "        '17 - [23] S7. Pour tous les opérateurs présents dans votre entreprise, pouvez-vous indiquer quel énoncé, parmi les suivants, décrit le mieux la situation de votre entreprise ? ':\n",
    "        's7_orange',\n",
    "        '18 - [22] S7. Pour tous les opérateurs présents dans votre entreprise, pouvez-vous indiquer quel énoncé, parmi les suivants, décrit le mieux la situation de votre entreprise ? ':\n",
    "        's7_Ooreedoo',\n",
    "        '19 - [24] S7. Pour tous les opérateurs présents dans votre entreprise, pouvez-vous indiquer quel énoncé, parmi les suivants, décrit le mieux la situation de votre entreprise ? ':\n",
    "        's7_Telecom',\n",
    "        '20 - [25] S8. Quel type d’offre votre entreprise ou vos salariés ont-ils le plus souscrit chez votre opérateur principal [V15] ?':\n",
    "        'Opert_Princ_Type_Offer',\n",
    "        '21 - [26] Q01A. Recommanderiez-vous les services de téléphonie mobile de votre opérateur principal [V15]  à vos collègues ou partenaire commercial ?':\n",
    "        'Opert_Princ_Recom',\n",
    "        '22 - [27] Q01B. Toujours sur une échelle de 1 à 10, dans quelle mesure recommanderiez-vous vos autres opérateurs à un de vos proches, vos amis et votre famille ?':\n",
    "        'Opert_Princ_Recom_Orangef',\n",
    "        '23 - [29] Q01B. Toujours sur une échelle de 1 à 10, dans quelle mesure recommanderiez-vous vos autres opérateurs à un de vos proches, vos amis et votre famille ?':\n",
    "        'Opert_Princ_Recom_Oorf',\n",
    "        '24 - [30] Q01B. Toujours sur une échelle de 1 à 10, dans quelle mesure recommanderiez-vous vos autres opérateurs à un de vos proches, vos amis et votre famille ?':\n",
    "        'Opert_Princ_Recom_Telf',\n",
    "        #Arij\n",
    "        '25 - [32] A TOUS ':\n",
    "        'Opert_Orange_Offer_Beyond_Expectations',\n",
    "        '26 - [200] A TOUS ':\n",
    "        'Opert_Orange_Offer_Below_Expectations',\n",
    "        '27 - [34] A TOUS ':\n",
    "        'Opert_Princ_Offer_Eval_Global',\n",
    "        '28 - [35] Q02. Comment évaluez-vous le COUT GLOBAL des offres et services de [V15] ?  Ce coût inclut le coût de votre/vos contrat/s, les coûts des forfaits, l’achat initial ou les coûts de renouvellement des appareils ainsi que les coûts des communications. Veuillez utiliser une échelle de 1 à 10 où 1 signifie médiocre et 10 excellent.':\n",
    "        'Opert_Princ_Offer_Eval',\n",
    "        '29 - [36] Q03.Pour résumer, sur une échelle de 1 à 10, évaluez le rapport qualité-prix, c’est-à-dire dans quelle mesure vous pensez que le prix que votre entreprise paye à votre opérateur [V15] est justifié par rapport aux services que vous recevez ':\n",
    "        'Opert_Princ_Value_Money',\n",
    "        '30 - [38] Q04.1 C’est un opérateur qui m’inspire confiance':\n",
    "        'Opert_Confidence',\n",
    "        '31 - [39] Q04.2 C’est un opérateur qui contribue à simplifier la vie de ses clients entreprise':\n",
    "        'Opert_Simplify_Customers',\n",
    "        '32 - [40] Q04.3 C’est un opérateur qui écoute ses clients et comprend ce qu’ils veulent':\n",
    "        'Opert_Understand_Customers',\n",
    "        '33 - [41] Q04.4 C’est un opérateur qui récompense la fidélité des clients entreprise':\n",
    "        'Opert_Corp_Customers',\n",
    "        '34 - [42] Q04.5 C’est un opérateur qui résout mes problèmes lorsque c’est  nécessaire':\n",
    "        'Opert_Prob_Customers',\n",
    "        '35 - [43] Q04.6 Je me sens apprécié en tant que client entreprise':\n",
    "        'Opert_Appreciation_Customer',\n",
    "        '36 - [44] Q04.7 C’est un opérateur qui me propose des offres et services qui me sont essentiels':\n",
    "        'Opert_Essential_service_Customer',\n",
    "        '37 - [45] Q05. Connaissez-vous les offres entreprises de votre opérateur ?':\n",
    "        'Opert_Comp_Offers_K',\n",
    "        '38 - [46] Q05A.1 … cherché des informations sur l’opérateur de votre entreprise ou ses offres':\n",
    "        'Opert_offers_Looked',\n",
    "        '39 - [47] Q05A.2 … reçu des informations de la part de cet opérateur (par exemple via des publicités, par courrier, SMS, etc)':\n",
    "        'Opert_Information_Receipt',\n",
    "        '40 - [49] Q05B. Par quels principaux moyens avez-vous trouvé les informations que vous recherchiez ?':\n",
    "        'Opert_Information_Found',\n",
    "        '41 - [220] 9. Autre moyen':\n",
    "        'Other_Option',\n",
    "        '42 - [52] Q05C. Par quels principaux moyens avez-vous reçu ces informations de la part de votre opérateur ?':\n",
    "        'Other_Opert_Information_Receipt',\n",
    "        '43 - [221] 12. Autre moyen':\n",
    "        'Other_Option_Found',\n",
    "        '44 - [215] Q06.1 La facilité à trouver les informations que vous recherchiez, quel que soit le moyen (Internet,boutique, etc.)':\n",
    "        'Info_Facility_Found',\n",
    "        #Amina\n",
    "        '45 - [217] Q06.2 La facilité à comprendre ces informations':\n",
    "        'Info_Facility_Understand',\n",
    "        '46 - [58] Q07A. Parmi les choix suivants, qu’avez-vous fait dans les 12 derniers mois :':\n",
    "        'Contract_Operation',\n",
    "        '47 - [59] Q07B. Pour cette démarche, avez-vous…':\n",
    "        'Way_For_Operation',\n",
    "        '48 - [61] Q08.Globalement, sur une échelle de 1 à 10, comment évaluez-vous la visite de ce commercial?':\n",
    "        'Visit_Eval',\n",
    "        '49 - [62] Q09.Pour cette visite pouvez-vous préciser si elle a eu lieu face à face avec votre commercial':\n",
    "        'Visite_Date',\n",
    "        '50 - [63] Q10.1 L’amabilité du commercial':\n",
    "        'Store_Staff',\n",
    "        '51 - [64] Q10.2 la compréhension de votre demande par le commercial':\n",
    "        'Request_Comprehension',\n",
    "        '52 - [65] Q10.3 la réponse ou la proposition qui vous a été faite par le commercial':\n",
    "        'Proposed_solution_in_Store',\n",
    "        '53 - [66] Q11.1 L’accueil privilégié en tant que client entreprise':\n",
    "        'privileged welcome as a business customer',\n",
    "        '54 - [67] Q11.2 Le temps d’attente avant de pouvoir parler à un commercial':\n",
    "        'Waiting_Time_in_Store',\n",
    "        '55 - [68] Q11.3 L’accueil, l’amabilité du personnel de la boutique / l’agence à votre arrivée':\n",
    "        'Commercial_Eval',\n",
    "        '56 - [69] Q11.8 La façon dont on vous a aidé à occuper votre temps en attendant d’être pris(e) en charge par un commercial':\n",
    "        'Time_Before_talk',\n",
    "        '57 - [71] Q11.4 La compréhension de votre demande par le commercial':\n",
    "        'commercial_understanding',\n",
    "        '58 - [72] Q11.5 La réponse ou la proposition qui vous a été faite par le commercial':\n",
    "        'commercial_solution',\n",
    "        '59 - [73] Q11.7… Finalement, évaluez globalement votre satisfaction en sortant de ce point de vente':\n",
    "        'Visit_Eval.1',\n",
    "        '60 - [75] Q12.1 La capacité de [V15] à proposer des offres qui correspondent aux besoins de votre entreprise':\n",
    "        'Offer_Needs',\n",
    "        '61 - [77] Q12.2 La clarté des tarifs à destination des entreprises':\n",
    "        'Prices_clarity',\n",
    "        '62 - [78] Q12.3 La capacité de [V15] à proposer aux entreprises des offres/services différentes de ses concurrents':\n",
    "        'Distinguished_Offers',\n",
    "        '63 - [80] Q12.4 Sa capacité à proposer des offres innovantes':\n",
    "        'ability innovative offers',\n",
    "        '64 - [74] Q13. Globalement, sur une échelle de 1 à 10, comment évaluez-vous la mise en service de vos offres et services achetés chez votre opérateur (activation de la flotte mobile, prise en main des téléphones…) ?':\n",
    "        'Services_Activation',\n",
    "        '65 - [81] A TOUS ':'Network_Quality',\n",
    "        #Ayoub\n",
    "        '66 - [82] Q15. Arrivez-vous à passer votre appel dès la première tentative ? ': 'Call_efficiency', \n",
    "                      '67 - [84] Q16.1 La couverture réseau de votre opérateur dans les lieux où vous l’utilisez': 'Network_Coverage',\n",
    "                      '68 - [85] Q16.2 La qualité de la voix : c’est à dire la possibilité d’entendre clairement votre interlocuteur':'Call_Voice_Quality',\n",
    "                      '69 - [86] Q16.3 La qualité de la communication : par exemple pouvoir appeler sans coupure de communication inexpliquée':'Communication_Quality',\n",
    "                      '70 - [88] Q16.4 La qualité de la voix et de la communication à l’intérieur des bâtiments':'Voice_Comm_Inside',\n",
    "                      '71 - [89] Q16.5 La qualité de la voix et de la communication à l’extérieur des bâtiments':'Voice_Comm_Outside',\n",
    "                      '72 - [83] Q16A. Avez-vous subit une panne de réseau de [V15] (coupure, non accessibilité, interruption momentanée) au cours des 6 derniers mois ?':'Breakdown_6_Months',\n",
    "                      '73 - [90] Q16B. Comment évaluez-vous l’accompagnement de [V15] pendant ces périodes de panne de réseau ? ':'Rate_Support',\n",
    "                      '74 - [93] Transfert de crédit':'Trans_Cred',\n",
    "                      '75 - [94] Transfert Internet':'Trans_Internet',\n",
    "                      '76 - [95] SOS crédit / Minute SOS/ SOS Solde':'SOS',\n",
    "                      '77 - [96] Orange fidélité/ Points Merci/ Kelma':'Fidelity_Offers',\n",
    "                      '78 - [97] Messagerie vocale':'Voice_Message',\n",
    "                      '79 - [98] Appelez jusqu\\'à six/ Conf Call pro/ Appel en conférence':'Conf_Call',\n",
    "                      '80 - [101] Transfert de crédit':'Rate_Trans_Cred',\n",
    "                      '81 - [102] Transfert Internet':'Rate_Trans_Internet',\n",
    "                      '82 - [103] SOS crédit / Minute SOS/ SOS Solde':'Rate_SOS',\n",
    "                      '83 - [104] Orange fidélité/ Points Merci/ Kelma':'Rate_Fidelity_Offers',\n",
    "                      '84 - [105] Messagerie vocale':'Rate_Voice_Message',\n",
    "                      '85 - [106] Appelez jusqu\\'à six/ Conf Call pro/ Appel en conférence':'Rate_Conf_Call',\n",
    "\n",
    "        #Elyes\n",
    "        '86 - [108] Orange Money':\n",
    "        'Orange_Money',\n",
    "        '87 - [109] Mobicash (ooredoo)':\n",
    "        'Ooredoo_Mobicash',\n",
    "        '88 - [110] Mdinar (TT)':\n",
    "        'Telecom_Mdinar',\n",
    "        '101 - [126] Q18. Au cours de 12 derniers mois, avez-vous dans votre entreprise utilisé le service roaming [V15], c\\'est-à-dire passé ou reçu des appels ou sms ou naviguer sur Internet depuis un mobile alors qu’il se trouvait à l’étranger, et ce sans changer de carte SIM ?':\n",
    "        'Roaming_Service',\n",
    "        '102 - [127] Q20. Globalement, sur une échelle de 1 à 10, comment évaluez-vous le service roaming [V15] ?':\n",
    "        'Rate_Roaming_Service',\n",
    "        '103 - [128] Q20bis.1 L’accessibilité au réseau':\n",
    "        'Network_Accessibility',\n",
    "        '104 - [129] Q20bis.2 La qualité de la voix (c’est-à-dire la capacité à entendre clairement votre interlocuteur)':\n",
    "        'Quality_Voice',\n",
    "        '105 - [130] Q20bis.3 La qualité de la connexion à l’internet mobile':\n",
    "        'Quality_Mobile_Internet',\n",
    "        '106 - [131] Q20bis.4 L’information transmise par votre opérateur sur les coûts d’utilisation du service roaming quand vous arrivez à l’étranger':\n",
    "        'Info_cost_Roaming_Service',\n",
    "        '107 - [133] Q20bis.5 Le coût du service roaming':\n",
    "        'Cost_Roaming_Service',\n",
    "        '108 - [134] Q21. Votre entreprise a-t-elle souscrit pour un ou plusieurs salariés une offre Internet mobile [V15] ?':\n",
    "        'Int_Mob_Sal',\n",
    "        '109 - [135] Q23. Globalement, sur une échelle de 1 à 10, comment évaluez-vous la qualité de la connexion internet [V15] ?':\n",
    "        'Quality_Internet_Connection',\n",
    "        '110 - [136] Q25.1  l’accessibilité au réseau Internet mobile de votre opérateur':\n",
    "        'Mob_Internet_Accessibility',\n",
    "        '111 - [137] Q25.2 La vitesse de navigation et de chargement des pages sur Internet mobile de votre opérateur':\n",
    "        'Navigation_Speed_Mobile',\n",
    "        '112 - [138] Q25.3 Le rapport qualité-prix de l’offre Internet mobile, c’est-à-dire dans quelle mesure vous pensez que le prix que votre entreprise paye est justifié par rapport aux services que vous recevez':\n",
    "        'Price_Quality_Mob_Int',\n",
    "        '113 - [140] Q27. Dans les 6 prochains mois, votre entreprise envisage-t-elle de souscrire une offre Internet mobile pour un ou plusieurs salariés ?':\n",
    "        'New_MobInt_Off',\n",
    "        '114 - [141] Q28. Chez quel opérateur ?':\n",
    "        'Operator_Name',\n",
    "        '116 - [143] Q29. Dans les 6 derniers mois, avez-vous eu besoin d’aide auprès de [V15] concernant les offres souscrites ?':\n",
    "        'Help_Operator',\n",
    "        '117 - [144] Q31. Et pour cette démarche vous avez : ':\n",
    "        'Action_Procc',\n",
    "        #Abdou\n",
    "        '118 - [145] Q32.1 La compréhension de votre demande ou réclamation':'Under_request',\n",
    "                        '119 - [146] Q32.2 La rapidité de traitement de votre demande ou réclamation': 'Speed_Request', \n",
    "                      '120 - [147] Q33. Après cette démarche, avez-vous dû recontacter un commercial pour la même demande / le même problème ?': 'Contact_sales_Request',\n",
    "                      '121 - [148] Q34. Vous avez appelé le service client. Avez-vous réussi à parler à un conseiller ?':'Talk_Consult',\n",
    "                      '136 - [166] Q40.1 Recevez-vous une facture papier par courrier ?':'paper_recieved',\n",
    "                      '137 - [167] Q40.2 Et recevez-vous une facture via internet ?':'Invoice_recieved',\n",
    "                      '138 - [168] Q40.3 Payez-vous votre facture dans un point de vente ?':'Payment_Method',\n",
    "                      '139 - [169] Q40.4 Payez-vous votre facture via internet ?':'Internet_payment',\n",
    "                      '140 - [170] Q40.5 Payez-vous votre facture via Orange Money ?':'Invoice_payment',\n",
    "                      '141 - [172] Q40.6 Votre première facture vous a-t-elle été expliquée (par votre commercial ou en point de vente) ?':'firstInvoice_place',\n",
    "                      '142 - [174] Q41. Globalement, sur une échelle de 1 à 10, comment évaluez-vous le ou les systèmes de facturation proposés par [V15] ?':'InvoicingSystems _estimation',\n",
    "                      '143 - [176] Q42.1 Le délai de réception de la facture':'receiptInvoice _deadline',\n",
    "                      '144 - [177] Q42.2 La facilité à comprendre la facture':'Invoice_easiness',\n",
    "                      '145 - [178] Q42.3 La justesse de votre facture':'Invoice_ correctness',\n",
    "                      '146 - [175] Q43. Utilisez-vous le service de distribution de crédit centralisé pour gérer le rechargement des utilisateurs salariés ?':'using_OfCredit_centralized',\n",
    "                      '147 - [179] Q44. Globalement, sur une échelle de 1 à 10, comment évaluez-vous la qualité du service de distribution de crédit centralisé ?':'serviceDistribCentralizedCredit_quality',\n",
    "                      '148 - [180] Q45. Pour finir, dans quelle mesure est-il probable qu’au cours des 6 prochains mois, [V15] reste le principal opérateur de votre entreprise. Utilisez une échelle de 1 à 10 où 1 signifie très peu probable et 10 extrêmement probable ?':'serviceDistribCentralizedCredit_quality.1',\n",
    "                      '149 - [181] Q46. Pour quel autre opérateur principal changeriez-vous ?':'second_MainOperator',\n",
    "                      '150 - [204] 5.Autre opérateur':'other_operator',\n",
    "                      '151 - [227] Q46. Pour quel autre opérateur principal changeriez-vous ?':'secondMainOperator',\n",
    "                      '152 - [183] Q47. Suite à ce questionnaire, pour être sûr de répondre à vos attentes, acceptez-vous de transmettre votre nom et vos coordonnées avec vos réponses à votre opérateur principal ?':'customer_agreement',\n",
    "                      '153 - [205] Prénom':'customer_firstname',\n",
    "                      '154 - [206] Nom':'customer_lastname',\n",
    "                      '155 - [207] Numéro de téléphone':'Customer_phonenumber',\n",
    "                      \"156 - [208] Nom de l'entreprise\":'company name'\n",
    "    },\n",
    "    inplace=True)"
   ]
  },
  {
   "cell_type": "markdown",
   "metadata": {
    "hide_input": true
   },
   "source": [
    "# Any Missing Values 🕵️‍♀️❔\n"
   ]
  },
  {
   "cell_type": "markdown",
   "metadata": {},
   "source": [
    "####  📌Note: \n",
    " 164775 missing values😵"
   ]
  },
  {
   "cell_type": "markdown",
   "metadata": {},
   "source": [
    "###  Elimination of columns with 90% nan values \n",
    "\n"
   ]
  },
  {
   "cell_type": "code",
   "execution_count": 946,
   "metadata": {
    "hide_input": false
   },
   "outputs": [],
   "source": [
    "df_clean=df[df.columns[df.isna().sum()/df.shape[0] < 0.9]]"
   ]
  },
  {
   "cell_type": "markdown",
   "metadata": {
    "hide_input": false
   },
   "source": [
    "####  ✔️Result: \n"
   ]
  },
  {
   "cell_type": "code",
   "execution_count": 947,
   "metadata": {
    "hide_input": true
   },
   "outputs": [
    {
     "name": "stdout",
     "output_type": "stream",
     "text": [
      "94060 Remainin missing values\n",
      "125 Remaining columns\n"
     ]
    }
   ],
   "source": [
    "print(str(df_clean.isna().sum().sum())+\" Remainin missing values\")\n",
    "print(str(df_clean.shape[1])+\" Remaining columns\")"
   ]
  },
  {
   "cell_type": "markdown",
   "metadata": {},
   "source": [
    "#  Dropping unnecessary columns 🗑️\n",
    "📌Note: Opert_Princ : This Column is Constant : unique value oui "
   ]
  },
  {
   "cell_type": "code",
   "execution_count": null,
   "metadata": {},
   "outputs": [],
   "source": []
  },
  {
   "cell_type": "code",
   "execution_count": 948,
   "metadata": {
    "hide_input": false
   },
   "outputs": [],
   "source": [
    "df_clean.drop(\"COD_Count\",axis=1,inplace=True,errors=\"ignore\")\n",
    "df_clean.drop(\"NB_Quest\",axis=1,inplace=True,errors=\"ignore\")\n",
    "df_clean=df_clean.drop('COD_Investigator',axis=1,errors=\"ignore\")\n",
    "df_clean=df_clean.drop('Unnamed: 156',axis=1,errors=\"ignore\")\n",
    "df_clean=df_clean.drop('customer_agreement',axis=1,errors=\"ignore\")\n",
    "df_clean=df_clean.drop('Quest_Lang',axis=1,errors=\"ignore\")\n",
    "df_clean=df_clean.drop('smart_decider',axis=1,errors=\"ignore\")\n",
    "df_clean=df_clean.drop('Mobile_Comp',axis=1,errors=\"ignore\")\n"
   ]
  },
  {
   "cell_type": "markdown",
   "metadata": {},
   "source": [
    "✔️ Result"
   ]
  },
  {
   "cell_type": "code",
   "execution_count": 949,
   "metadata": {
    "hide_input": true
   },
   "outputs": [
    {
     "name": "stdout",
     "output_type": "stream",
     "text": [
      "91814 missing values remaining\n",
      "117 Remaining columns\n"
     ]
    }
   ],
   "source": [
    "print(str(df_clean.isna().sum().sum())+\" missing values remaining\")\n",
    "print(str(df_clean.shape[1])+\" Remaining columns\")"
   ]
  },
  {
   "cell_type": "markdown",
   "metadata": {
    "hide_input": false
   },
   "source": [
    "# Dropping rows with 90% missing values 🗑️"
   ]
  },
  {
   "cell_type": "code",
   "execution_count": 950,
   "metadata": {
    "hide_input": true
   },
   "outputs": [
    {
     "name": "stdout",
     "output_type": "stream",
     "text": [
      "Avant : 1688\n",
      "Apres : 1439\n"
     ]
    }
   ],
   "source": [
    "print(f'Avant : {len(df_clean)}')\n",
    "a=[]\n",
    "for i in range(len(df_clean)):\n",
    "    if (df_clean.iloc[i].isna().sum()/df_clean.shape[1])>0.9:\n",
    "        a.append(i)\n",
    "df_clean=df_clean.drop(a,errors=\"ignore\")\n",
    "print(f'Apres : {len(df_clean)}')\n",
    "df_clean.reset_index(inplace=True, drop=True)\n"
   ]
  },
  {
   "cell_type": "markdown",
   "metadata": {
    "hide_input": true
   },
   "source": [
    "####  ✔️Result: \n"
   ]
  },
  {
   "cell_type": "code",
   "execution_count": 951,
   "metadata": {
    "hide_input": true
   },
   "outputs": [
    {
     "name": "stdout",
     "output_type": "stream",
     "text": [
      "64122 Missing values remaining\n",
      "1439 Rows remaining\n"
     ]
    }
   ],
   "source": [
    "print(str(df_clean.isna().sum().sum())+\" Missing values remaining\")\n",
    "print(str(df_clean.shape[0])+\" Rows remaining\")"
   ]
  },
  {
   "cell_type": "code",
   "execution_count": 952,
   "metadata": {
    "hide_input": false
   },
   "outputs": [],
   "source": [
    "#pplt.figure(figsize=(20,10))\n",
    "#sns.heatmap(df_clean.isna(),cbar=False)"
   ]
  },
  {
   "cell_type": "markdown",
   "metadata": {},
   "source": [
    "# Columns cleaning 🧽"
   ]
  },
  {
   "cell_type": "code",
   "execution_count": 953,
   "metadata": {
    "hide_input": false
   },
   "outputs": [],
   "source": [
    "#for col in df_clean.select_dtypes('object'):\n",
    "    #print(f'{col:-<80}{df_clean[col].unique()}')"
   ]
  },
  {
   "cell_type": "markdown",
   "metadata": {},
   "source": [
    "## Gender 👫  / city 🌏"
   ]
  },
  {
   "cell_type": "code",
   "execution_count": 954,
   "metadata": {
    "hide_input": false
   },
   "outputs": [],
   "source": [
    "df_clean['Gender']=df['Gender'].str.upper()\n",
    "df_clean['city']=df['city'].str.upper()\n",
    "cols = ['Gender', 'city','Opert_Comp'] # list of all columns with value to replace\n",
    "df_clean = df_clean.apply(lambda col: col.str.replace('1.', '') if col.name in cols else col)\n",
    "df_clean = df_clean.apply(lambda col: col.str.replace('2.', '') if col.name in cols else col)\n",
    "df_clean = df_clean.apply(lambda col: col.str.replace('3.', '') if col.name in cols else col)\n",
    "df_clean = df_clean.apply(lambda col: col.str.replace(' ', '') if col.name in cols else col)\n",
    "df_clean = df_clean.apply(lambda col: col.str.replace('HOM%ME', 'HOMME') if col.name in cols else col)\n",
    "index_tunisie=df_clean[df_clean['city']==\"TUNISIE\"].index\n",
    "df_clean.drop(index=index_tunisie,axis=1,inplace=True,errors=\"ignore\")\n"
   ]
  },
  {
   "cell_type": "code",
   "execution_count": 955,
   "metadata": {},
   "outputs": [],
   "source": [
    "df_clean=df_clean.drop('Gender',axis=1,errors=\"ignore\")"
   ]
  },
  {
   "cell_type": "markdown",
   "metadata": {},
   "source": [
    "## Quest_Date cleaning 📆"
   ]
  },
  {
   "cell_type": "markdown",
   "metadata": {},
   "source": [
    "📌Note: This column contains both strings and date time values.We will first covert all the column types to datetime\n",
    " Then we will fenerate time features from it"
   ]
  },
  {
   "cell_type": "code",
   "execution_count": 406,
   "metadata": {
    "hide_input": false
   },
   "outputs": [],
   "source": [
    "# Convert the column type  to datetype \n",
    "df_clean['Quest_Date'] = pd.to_datetime(df_clean['Quest_Date'])"
   ]
  },
  {
   "cell_type": "code",
   "execution_count": 407,
   "metadata": {
    "hide_input": true,
    "scrolled": true
   },
   "outputs": [],
   "source": [
    "# Create some time features\n",
    "df_clean['Questyear'] = df_clean['Quest_Date'].dt.year\n",
    "df_clean['Questmonth'] = df_clean['Quest_Date'].dt.month\n",
    "df_clean['QuestDay'] = df_clean['Quest_Date'].dt.day\n",
    "df_clean=df_clean.drop(\"Quest_Date\",axis=1,errors=\"ignore\")"
   ]
  },
  {
   "cell_type": "markdown",
   "metadata": {},
   "source": [
    "## Size_Comp cleaning\n",
    "📌Note: This column is supposed to inform about the company size . But in some rows this column contains\n",
    "the date 24-10-2017 . this date value will be replaced by 10-24 in the next cell :"
   ]
  },
  {
   "cell_type": "code",
   "execution_count": 408,
   "metadata": {},
   "outputs": [],
   "source": [
    "import datetime\n",
    "for i in (df_clean[\"Size_Comp\"]):\n",
    "    if i==datetime.datetime(2017, 10, 24, 0, 0):\n",
    "        df_clean[\"Size_Comp\"]=df_clean[\"Size_Comp\"].replace(i,\"10_24\")"
   ]
  },
  {
   "cell_type": "markdown",
   "metadata": {},
   "source": [
    "📌 Size comp contains two values : the min and max number of employees , separated with ' - ' or  ' _ '\n",
    "    we will start with unifing the separation . then we will generate new columns for min and max size."
   ]
  },
  {
   "cell_type": "code",
   "execution_count": 409,
   "metadata": {
    "hide_input": true,
    "scrolled": true
   },
   "outputs": [],
   "source": [
    "#unifing the seperation : replacing _ with - \n",
    "cols=['Size_Comp']\n",
    "df_clean = df_clean.apply(lambda col: col.str.replace('_', '-') if col.name in cols else col)"
   ]
  },
  {
   "cell_type": "code",
   "execution_count": 410,
   "metadata": {
    "hide_input": true
   },
   "outputs": [],
   "source": [
    "#let's generate two new columns for  min and max size comp\n",
    "size_CompSplit=df_clean['Size_Comp'].str.split('-',expand=True)\n",
    "size_CompSplit.rename(columns={0:'Size_CompMin',1:'Size_CompMax'},inplace=True)\n",
    "df_clean['Size_CompMin']=size_CompSplit['Size_CompMin']\n",
    "df_clean['Size_CompMax']=size_CompSplit['Size_CompMax']\n",
    "df_clean.drop(\"Size_Comp\",axis=1,inplace=True,errors=\"ignore\")\n",
    "#df_clean['size_CompMean']=(df_clean['Size_CompMin']+df_clean['Size_CompMax'])/2"
   ]
  },
  {
   "cell_type": "markdown",
   "metadata": {},
   "source": [
    "## Opert_Comp cleaning 📞\n",
    "📌Note: For company using more than one operator, these operators are stocked in the same column , seperated with slash /\n",
    "for every company We will be affording a column for each operator. The code below is hidden ⬇ "
   ]
  },
  {
   "cell_type": "code",
   "execution_count": 411,
   "metadata": {
    "hide_input": false
   },
   "outputs": [],
   "source": [
    "# Let's start by splitting the column ( split endicator : / )\n",
    "opertComp=df_clean['Opert_Comp'].str.split('/',expand=True)\n",
    "# column with index 4 is empty : we're dropping it\n",
    "cols=[0,1,2,3]\n",
    "opertComp =opertComp.apply(lambda col: col.str.replace(' ', '') if col.name in cols else col)\n",
    "opertComp.drop(4,axis=1,inplace=True,errors=\"ignore\")"
   ]
  },
  {
   "cell_type": "code",
   "execution_count": 412,
   "metadata": {
    "hide_input": false
   },
   "outputs": [],
   "source": [
    "opertComp[\"Orange\"]=0\n",
    "opertComp[\"Ooredoo\"]=0\n",
    "opertComp[\"TunisieTélécom\"]=0"
   ]
  },
  {
   "cell_type": "code",
   "execution_count": 413,
   "metadata": {
    "hide_input": false
   },
   "outputs": [],
   "source": [
    "opertComp['Orange'] = opertComp.apply(lambda x: 1 if (x[0] =='Orange')|(x[1] =='Orange')|(x[2] =='Orange')|(x[3] =='Orange')  else x['Orange'], axis = 1)\n",
    "opertComp['Ooredoo'] = opertComp.apply(lambda x: 1 if (x[0] =='Ooredoo')|(x[1] =='Ooredoo')|(x[2] =='Ooredoo')|(x[3] =='Ooredoo')  else x['Ooredoo'], axis = 1)\n",
    "opertComp['TunisieTélécom'] = opertComp.apply(lambda x: 1 if (x[0] =='TunisieTélécom')|(x[1] =='TunisieTélécom')|(x[2] =='TunisieTélécom')|(x[3] =='TunisieTélécom')  else x['TunisieTélécom'], axis = 1)\n",
    "    "
   ]
  },
  {
   "cell_type": "code",
   "execution_count": 414,
   "metadata": {
    "hide_input": false
   },
   "outputs": [
    {
     "name": "stdout",
     "output_type": "stream",
     "text": [
      "orange: 512 => 0 927=> 1\n",
      "Ooredoo: 807 => 0 632=> 1\n",
      "Télécom: 882 => 0 557=> 1\n"
     ]
    }
   ],
   "source": [
    "print('orange: '+str(opertComp['Orange'].value_counts()[0]) + \" => 0 \"+ str(opertComp['Orange'].value_counts()[1])+\"=> 1\")\n",
    "print('Ooredoo: '+str(opertComp['Ooredoo'].value_counts()[0]) + \" => 0 \"+ str(opertComp['Ooredoo'].value_counts()[1])+\"=> 1\")\n",
    "print('Télécom: '+str(opertComp['TunisieTélécom'].value_counts()[0]) + \" => 0 \"+ str(opertComp['TunisieTélécom'].value_counts()[1])+\"=> 1\")"
   ]
  },
  {
   "cell_type": "markdown",
   "metadata": {},
   "source": [
    "### Dropping opert Comp"
   ]
  },
  {
   "cell_type": "code",
   "execution_count": 415,
   "metadata": {
    "hide_input": true
   },
   "outputs": [],
   "source": [
    "df_clean=df_clean.drop(\"Opert_Comp\",axis=1,errors=\"ignore\")"
   ]
  },
  {
   "cell_type": "code",
   "execution_count": 416,
   "metadata": {
    "hide_input": true
   },
   "outputs": [],
   "source": [
    "df_clean[\"Orange\"]=opertComp[\"Orange\"]\n",
    "df_clean[\"Ooredoo\"]=opertComp[\"Ooredoo\"]\n",
    "df_clean[\"TunisieTélécom\"]=opertComp[\"TunisieTélécom\"]"
   ]
  },
  {
   "cell_type": "markdown",
   "metadata": {},
   "source": [
    "###  Type_Smart Column Cleaning 📱\n",
    "📌Note: This column indicates if the company is using smart phone or not.After visualising this column we found two ways to decline the use of a smartphone non and Non. So we wil unify this value "
   ]
  },
  {
   "cell_type": "markdown",
   "metadata": {},
   "source": [
    "✔️ Result after cleaning"
   ]
  },
  {
   "cell_type": "code",
   "execution_count": 417,
   "metadata": {
    "hide_input": true
   },
   "outputs": [
    {
     "data": {
      "text/plain": [
       "OUI    974\n",
       "NON    328\n",
       "Name: Type_Smart, dtype: int64"
      ]
     },
     "execution_count": 417,
     "metadata": {},
     "output_type": "execute_result"
    }
   ],
   "source": [
    "# on a 2 modalités différentes Non et NON. On va les fusionner en NON par un str.upper\n",
    "df_clean['Type_Smart']=df['Type_Smart'].str.upper()\n",
    "df_clean[\"Type_Smart\"].value_counts()"
   ]
  },
  {
   "cell_type": "markdown",
   "metadata": {},
   "source": [
    "## S7 columns cleaning \n",
    "📌Note : Code is hidden "
   ]
  },
  {
   "cell_type": "code",
   "execution_count": 418,
   "metadata": {
    "hide_input": false
   },
   "outputs": [],
   "source": [
    "cols=['s7_orange','s7_Ooreedoo','s7_Telecom']\n",
    "df_clean = df_clean.apply(lambda col: col.str.replace('S7.1', '') if col.name in cols else col)\n",
    "df_clean = df_clean.apply(lambda col: col.str.replace('S7.2', '') if col.name in cols else col)\n",
    "df_clean = df_clean.apply(lambda col: col.str.replace('S7.3', '') if col.name in cols else col)\n",
    "df_clean = df_clean.apply(lambda col: col.str.replace('S7.4', '') if col.name in cols else col)"
   ]
  },
  {
   "cell_type": "code",
   "execution_count": 419,
   "metadata": {
    "hide_input": true
   },
   "outputs": [],
   "source": [
    "df_clean = df_clean.apply(lambda col: col.str.replace('/', '') if col.name in cols else col)"
   ]
  },
  {
   "cell_type": "markdown",
   "metadata": {},
   "source": [
    "## DUMMIES"
   ]
  },
  {
   "cell_type": "code",
   "execution_count": 420,
   "metadata": {
    "hide_input": true
   },
   "outputs": [],
   "source": [
    "city_dummies = pd.get_dummies(df_clean['city'])\n",
    "#city_dummies\n",
    "#df_clean.head(0)"
   ]
  },
  {
   "cell_type": "markdown",
   "metadata": {},
   "source": [
    "## Opert_Princ Cleaning 🏅\n",
    "📌Note : Records with missing opert_princ aren't answering any other questions about operators . we're deleting these records.\n"
   ]
  },
  {
   "cell_type": "code",
   "execution_count": 421,
   "metadata": {
    "hide_input": false
   },
   "outputs": [],
   "source": [
    "index_without_oper=df_clean[df_clean['Opert_Princ'].isna()].index\n",
    "df_clean.drop(index=index_without_oper,axis=0,inplace=True,errors=\"ignore\")"
   ]
  },
  {
   "cell_type": "markdown",
   "metadata": {
    "hide_input": true
   },
   "source": [
    "✔️Result:"
   ]
  },
  {
   "cell_type": "code",
   "execution_count": 422,
   "metadata": {
    "hide_input": false
   },
   "outputs": [
    {
     "name": "stdout",
     "output_type": "stream",
     "text": [
      "63169 Missing values remaining\n",
      "1439 Records remaining\n"
     ]
    }
   ],
   "source": [
    "print(str(df_clean.isna().sum().sum()) + \" Missing values remaining\")\n",
    "print(str(df_clean.shape[0])+\" Records remaining\")"
   ]
  },
  {
   "cell_type": "markdown",
   "metadata": {},
   "source": [
    "### Opert_Princ_Type_Offer Cleaning 🔮"
   ]
  },
  {
   "cell_type": "code",
   "execution_count": 423,
   "metadata": {
    "hide_input": false,
    "scrolled": true
   },
   "outputs": [
    {
     "data": {
      "text/plain": [
       "Offre mobile prépayée                                          820\n",
       "Offre mobile postpayé                                          363\n",
       "Offre mobile prépayée avec tarif préférentiel intra-flotte     158\n",
       "Offre mobile postpayée avec tarif préférentiel intra-flotte     58\n",
       "Offre hybride                                                   32\n",
       "NaN                                                              8\n",
       "Name: Opert_Princ_Type_Offer, dtype: int64"
      ]
     },
     "execution_count": 423,
     "metadata": {},
     "output_type": "execute_result"
    }
   ],
   "source": [
    "df_clean[\"Opert_Princ_Type_Offer\"].value_counts(dropna=False)"
   ]
  },
  {
   "cell_type": "code",
   "execution_count": 424,
   "metadata": {},
   "outputs": [
    {
     "data": {
      "text/plain": [
       "NaN                                                                                                                                                          896\n",
       " Les abonnements mobiles sont fournis par l’entreprise à certains ou à tous les employés et les factures sont payées en intégralité par l’entreprise.        388\n",
       " Certains ou tous les employés ont souscrit leur propre abonnement  mobile mais se font rembourser en partie ou en totalité leur facture par l’entreprise     90\n",
       " Les abonnements mobiles sont fournis par l’entreprise à certains ou à tous les employés et les factures sont payées en partie par l’entreprise               51\n",
       " Certains ou tous les employés ont leur propre abonnement  mobile et ne se font pas rembourser du tout leur facture par votre entreprise                      14\n",
       "Name: s7_Telecom, dtype: int64"
      ]
     },
     "execution_count": 424,
     "metadata": {},
     "output_type": "execute_result"
    }
   ],
   "source": [
    "df_clean['s7_Telecom'].value_counts(dropna=\n",
    "                                   False)"
   ]
  },
  {
   "cell_type": "markdown",
   "metadata": {
    "hide_input": false
   },
   "source": [
    "### Opert_Princ_Recom Cleaning 👍🏻\n",
    "📌Remember: Missing values were treated :D Replaced with 11 ( as indicated in the documentation )"
   ]
  },
  {
   "cell_type": "code",
   "execution_count": 425,
   "metadata": {
    "hide_input": false
   },
   "outputs": [],
   "source": [
    "df_clean[\"Opert_Princ_Recom\"]=df_clean[\"Opert_Princ_Recom\"].replace(\"1 (Ne recommanderait certainement PAS)\",1)\n",
    "df_clean[\"Opert_Princ_Recom\"]=df_clean[\"Opert_Princ_Recom\"].replace(\"10 (Recommanderait certainement)\",10)\n",
    "df_clean[\"Opert_Princ_Recom\"]=df_clean[\"Opert_Princ_Recom\"].replace(\"11 (Ne sait pas/Non applicable)\",11)\n",
    "df_clean[\"Opert_Princ_Recom\"].fillna(11,inplace=True)"
   ]
  },
  {
   "cell_type": "code",
   "execution_count": 426,
   "metadata": {
    "scrolled": true
   },
   "outputs": [
    {
     "data": {
      "text/plain": [
       "7.0     564\n",
       "8.0     358\n",
       "6.0     260\n",
       "9.0      66\n",
       "5.0      48\n",
       "3.0      32\n",
       "10.0     31\n",
       "NaN      24\n",
       "4.0      21\n",
       "2.0      14\n",
       "1.0      14\n",
       "11.0      7\n",
       "Name: Opert_Princ_Recom, dtype: int64"
      ]
     },
     "execution_count": 426,
     "metadata": {},
     "output_type": "execute_result"
    }
   ],
   "source": [
    "df_clean[\"Opert_Princ_Recom\"].value_counts(dropna=False)"
   ]
  },
  {
   "cell_type": "markdown",
   "metadata": {
    "hide_input": true
   },
   "source": [
    "### Opert_Princ_Recom_Orangef  🍊\n",
    "📌Note : if you're using orange as a prinicipal operatoe , would you recommand telecom and oredoo? <=> droppp !"
   ]
  },
  {
   "cell_type": "code",
   "execution_count": 427,
   "metadata": {
    "hide_input": false
   },
   "outputs": [],
   "source": [
    "df_clean[\"Opert_Princ_Recom_Orangef\"]=df_clean[\"Opert_Princ_Recom_Orangef\"].replace(\"10 (Recommanderait certainement)\",10)\n",
    "df_clean.drop('Opert_Princ_Recom_Orangef',axis=1,inplace=True,errors='ignore')"
   ]
  },
  {
   "cell_type": "code",
   "execution_count": null,
   "metadata": {},
   "outputs": [],
   "source": []
  },
  {
   "cell_type": "markdown",
   "metadata": {},
   "source": [
    "# ARIJ  👩‍🦰"
   ]
  },
  {
   "cell_type": "markdown",
   "metadata": {
    "hide_input": false
   },
   "source": [
    "### Opert_offers_looked and Opert_Information_Found\n",
    "  📌Note: if Opert_offers_looked == NON ==> ALL Opert_Information_Found should be nan (healthy) => yes verified => will be replaced with 999\n"
   ]
  },
  {
   "cell_type": "markdown",
   "metadata": {},
   "source": [
    "📌Note: if Opert_offers_looked == OUI ==> Missing values are bad ==> BUt we don't have this problem verified"
   ]
  },
  {
   "cell_type": "markdown",
   "metadata": {},
   "source": [
    "📌Note: if Opert_offers_looked == NE SAIT PAS==> Missing values are healty==> will be replaced with 999"
   ]
  },
  {
   "cell_type": "markdown",
   "metadata": {},
   "source": [
    "✔️Opert_Information_Found : on est partis avec 1211 nan et apres transformation de healty on est avec 297 nan"
   ]
  },
  {
   "cell_type": "code",
   "execution_count": 428,
   "metadata": {
    "hide_input": false
   },
   "outputs": [],
   "source": [
    "#df_clean[df_clean['Opert_offers_Looked']=='NE SAIT PAS']['Opert_Information_Found'].isna().sum()\n",
    "#df_clean[df_clean['Opert_offers_Looked']=='OUI']['Opert_Information_Found'].isna().sum()\n",
    "#df_clean[df_clean['Opert_offers_Looked']=='NON']['Opert_Information_Found'].isna().sum()"
   ]
  },
  {
   "cell_type": "code",
   "execution_count": 429,
   "metadata": {
    "hide_input": false
   },
   "outputs": [],
   "source": [
    "for i in range(len(df_clean)):\n",
    "    if ((df_clean.iloc[i,df_clean.columns.get_loc(\"Opert_offers_Looked\")]==\"NON\") and (pd.isnull(df_clean.iloc[i,df_clean.columns.get_loc(\"Opert_Information_Found\")])==True)):\n",
    "        df_clean.iloc[i,df_clean.columns.get_loc(\"Opert_Information_Found\")]=999\n",
    "        \n",
    "for i in range(len(df_clean)):\n",
    "    if ((df_clean.iloc[i,df_clean.columns.get_loc(\"Opert_offers_Looked\")]==\"NE SAIT PAS\") and (pd.isnull(df_clean.iloc[i,df_clean.columns.get_loc(\"Opert_Information_Found\")])==True)):\n",
    "        df_clean.iloc[i,df_clean.columns.get_loc(\"Opert_Information_Found\")]=999"
   ]
  },
  {
   "cell_type": "code",
   "execution_count": 430,
   "metadata": {
    "hide_input": false,
    "scrolled": true
   },
   "outputs": [
    {
     "name": "stdout",
     "output_type": "stream",
     "text": [
      "0\n",
      "0\n",
      "0\n",
      "48\n"
     ]
    }
   ],
   "source": [
    "print(str(df_clean[df_clean['Opert_offers_Looked']=='NON']['Opert_Information_Found'].isna().sum()))\n",
    "print(str(df_clean[df_clean['Opert_offers_Looked']=='NE SAIT PAS']['Opert_Information_Found'].isna().sum()))\n",
    "print(str(df_clean[df_clean['Opert_offers_Looked']=='OUI']['Opert_Information_Found'].isna().sum()))\n",
    "print(str(df_clean[df_clean['Opert_offers_Looked'].isna()]['Opert_Information_Found'].isna().sum()))"
   ]
  },
  {
   "cell_type": "markdown",
   "metadata": {},
   "source": [
    "# Opert_Orange_Offer_Below_Expectations"
   ]
  },
  {
   "cell_type": "code",
   "execution_count": 431,
   "metadata": {},
   "outputs": [
    {
     "data": {
      "text/plain": [
       "Ras                                                                               367\n",
       "ras                                                                               302\n",
       "Cv                                                                                151\n",
       "R a d                                                                              88\n",
       "Rien                                                                               62\n",
       "Nn                                                                                 41\n",
       "Non                                                                                37\n",
       "cv                                                                                 31\n",
       "NaN                                                                                24\n",
       "Rad                                                                                23\n",
       "Rien à signaler                                                                    23\n",
       "4ans                                                                               22\n",
       "connexion                                                                          21\n",
       "Riseau                                                                             16\n",
       "cvpas                                                                              14\n",
       "Reseau ,internet                                                                   14\n",
       "Manque d'information et d'aide                                                      9\n",
       "Faible couverture dans les zones loins du centre                                    9\n",
       "Cv pas                                                                              9\n",
       "Les offres d'orange sont rentables pour nous                                        9\n",
       "10 ans                                                                              9\n",
       "RAS                                                                                 8\n",
       "Ffg                                                                                 8\n",
       "Problèmes de facturations                                                           8\n",
       "Cout tres chére                                                                     8\n",
       "Commande de payment                                                                 8\n",
       "Cout                                                                                8\n",
       "Test                                                                                8\n",
       "Probleme de reseau                                                                  8\n",
       "Rien a dire                                                                         8\n",
       "rien a signaler                                                                     8\n",
       "Reseau cv pa                                                                        8\n",
       "Service apres vente cv pas                                                          8\n",
       "R á d                                                                               8\n",
       "non                                                                                 7\n",
       "faible rendement sur le plan ADSL                                                   7\n",
       "problème de logistique ( la facture n'arrive pas dans les délais convenable )       7\n",
       "une faible performance a propos les appels téléphoniques                            7\n",
       "2Ans                                                                                7\n",
       "Cvb                                                                                 6\n",
       "Cvpa                                                                                6\n",
       "Faible couverture à  la Soukra le matin, manque d'information sur les services      5\n",
       "Les offres d'ooredoo sont rentables pour nous                                       2\n",
       "Name: Opert_Orange_Offer_Below_Expectations, dtype: int64"
      ]
     },
     "execution_count": 431,
     "metadata": {},
     "output_type": "execute_result"
    }
   ],
   "source": [
    "df_clean['Opert_Orange_Offer_Below_Expectations'].value_counts(dropna=False)"
   ]
  },
  {
   "cell_type": "code",
   "execution_count": 432,
   "metadata": {},
   "outputs": [],
   "source": [
    "df_clean['Opert_Orange_Offer_Below_Expectations']=np.where((df_clean['Opert_Princ']!='Orange') & (pd.isna(df_clean['Opert_Orange_Offer_Below_Expectations'])==True)\n",
    "                                     ,999 , df_clean['Opert_Orange_Offer_Below_Expectations'])"
   ]
  },
  {
   "cell_type": "code",
   "execution_count": 433,
   "metadata": {},
   "outputs": [
    {
     "data": {
      "text/plain": [
       "Ooredoo            519\n",
       "Orange             484\n",
       "Tunisie Télécom    436\n",
       "Name: Opert_Princ, dtype: int64"
      ]
     },
     "execution_count": 433,
     "metadata": {},
     "output_type": "execute_result"
    }
   ],
   "source": [
    "df_clean['Opert_Princ'].value_counts(dropna=False)"
   ]
  },
  {
   "cell_type": "code",
   "execution_count": 434,
   "metadata": {},
   "outputs": [
    {
     "data": {
      "text/plain": [
       "Ras                                                                               367\n",
       "ras                                                                               302\n",
       "Cv                                                                                151\n",
       "R a d                                                                              88\n",
       "Rien                                                                               62\n",
       "Nn                                                                                 41\n",
       "Non                                                                                37\n",
       "cv                                                                                 31\n",
       "Rad                                                                                23\n",
       "Rien à signaler                                                                    23\n",
       "4ans                                                                               22\n",
       "connexion                                                                          21\n",
       "999                                                                                16\n",
       "Riseau                                                                             16\n",
       "Reseau ,internet                                                                   14\n",
       "cvpas                                                                              14\n",
       "Manque d'information et d'aide                                                      9\n",
       "Faible couverture dans les zones loins du centre                                    9\n",
       "10 ans                                                                              9\n",
       "Les offres d'orange sont rentables pour nous                                        9\n",
       "Cv pas                                                                              9\n",
       "Commande de payment                                                                 8\n",
       "Cout                                                                                8\n",
       "Reseau cv pa                                                                        8\n",
       "Test                                                                                8\n",
       "Cout tres chére                                                                     8\n",
       "Problèmes de facturations                                                           8\n",
       "rien a signaler                                                                     8\n",
       "Rien a dire                                                                         8\n",
       "Service apres vente cv pas                                                          8\n",
       "R á d                                                                               8\n",
       "RAS                                                                                 8\n",
       "Probleme de reseau                                                                  8\n",
       "Ffg                                                                                 8\n",
       "NaN                                                                                 8\n",
       "faible rendement sur le plan ADSL                                                   7\n",
       "2Ans                                                                                7\n",
       "non                                                                                 7\n",
       "une faible performance a propos les appels téléphoniques                            7\n",
       "problème de logistique ( la facture n'arrive pas dans les délais convenable )       7\n",
       "Cvb                                                                                 6\n",
       "Cvpa                                                                                6\n",
       "Faible couverture à  la Soukra le matin, manque d'information sur les services      5\n",
       "Les offres d'ooredoo sont rentables pour nous                                       2\n",
       "Name: Opert_Orange_Offer_Below_Expectations, dtype: int64"
      ]
     },
     "execution_count": 434,
     "metadata": {},
     "output_type": "execute_result"
    }
   ],
   "source": [
    "df_clean['Opert_Orange_Offer_Below_Expectations'].value_counts(dropna=False)"
   ]
  },
  {
   "cell_type": "markdown",
   "metadata": {},
   "source": [
    "# Opert_Orange_Offer_Beyond_Expectations"
   ]
  },
  {
   "cell_type": "code",
   "execution_count": 435,
   "metadata": {},
   "outputs": [
    {
     "data": {
      "text/plain": [
       "Ras                                                            280\n",
       "ras                                                            246\n",
       "Cv                                                             119\n",
       "Riseau cv                                                       73\n",
       "Rien                                                            62\n",
       "Non                                                             42\n",
       "RAS                                                             36\n",
       "6ans                                                            33\n",
       "4ans                                                            30\n",
       "Cout ,riseau,offre                                              28\n",
       "1ans                                                            25\n",
       "NaN                                                             24\n",
       "Bien                                                            23\n",
       "Rien à signaler                                                 23\n",
       "2ans                                                            23\n",
       "cv                                                              23\n",
       "non                                                             18\n",
       "Cv bien                                                         17\n",
       "5ans                                                            17\n",
       "Oui                                                             16\n",
       "RAs                                                             14\n",
       "Le prix de la minute est minimisė                               14\n",
       "7                                                               14\n",
       "Bonne couverture, offres exellents, récompenses de fidélité     14\n",
       "Pris bas cle 3G avec une bonne couverture                       14\n",
       "Facilité des tâches                                             14\n",
       "offrir des offres destineé aux entreprises                      14\n",
       "Cnx faible                                                       9\n",
       "Cvtres bien                                                      9\n",
       "Ras-                                                             9\n",
       "6mois                                                            9\n",
       "10 ans                                                           9\n",
       "Bonne qualité de réseau                                          9\n",
       "R a s                                                            8\n",
       "Bonus                                                            8\n",
       "K                                                                8\n",
       "Ccv                                                              8\n",
       "bien                                                             8\n",
       "Rien a dire                                                      8\n",
       "Nn                                                               8\n",
       "rien a signaler                                                  8\n",
       "Test                                                             8\n",
       "انترنات تقص                                                      7\n",
       "connexions                                                       7\n",
       "1 mois                                                           7\n",
       "2014                                                             7\n",
       "cv pas                                                           7\n",
       "Pa bien                                                          6\n",
       "Cb                                                               6\n",
       "Lignes favorisées                                                5\n",
       "3ans                                                             5\n",
       "Name: Opert_Orange_Offer_Beyond_Expectations, dtype: int64"
      ]
     },
     "execution_count": 435,
     "metadata": {},
     "output_type": "execute_result"
    }
   ],
   "source": [
    "df_clean['Opert_Orange_Offer_Beyond_Expectations'].value_counts(dropna=False)"
   ]
  },
  {
   "cell_type": "code",
   "execution_count": 436,
   "metadata": {},
   "outputs": [],
   "source": [
    "df_clean['Opert_Orange_Offer_Beyond_Expectations']=np.where((df_clean['Opert_Princ']!='Orange') & (pd.isna(df_clean['Opert_Orange_Offer_Beyond_Expectations'])==True)\n",
    "                                     ,999 , df_clean['Opert_Orange_Offer_Beyond_Expectations'])"
   ]
  },
  {
   "cell_type": "code",
   "execution_count": 437,
   "metadata": {},
   "outputs": [
    {
     "data": {
      "text/plain": [
       "Ras                                                            280\n",
       "ras                                                            246\n",
       "Cv                                                             119\n",
       "Riseau cv                                                       73\n",
       "Rien                                                            62\n",
       "Non                                                             42\n",
       "RAS                                                             36\n",
       "6ans                                                            33\n",
       "4ans                                                            30\n",
       "Cout ,riseau,offre                                              28\n",
       "1ans                                                            25\n",
       "Bien                                                            23\n",
       "Rien à signaler                                                 23\n",
       "2ans                                                            23\n",
       "cv                                                              23\n",
       "non                                                             18\n",
       "Cv bien                                                         17\n",
       "5ans                                                            17\n",
       "Oui                                                             16\n",
       "999                                                             16\n",
       "Bonne couverture, offres exellents, récompenses de fidélité     14\n",
       "Pris bas cle 3G avec une bonne couverture                       14\n",
       "offrir des offres destineé aux entreprises                      14\n",
       "Facilité des tâches                                             14\n",
       "RAs                                                             14\n",
       "7                                                               14\n",
       "Le prix de la minute est minimisė                               14\n",
       "Ras-                                                             9\n",
       "6mois                                                            9\n",
       "Bonne qualité de réseau                                          9\n",
       "10 ans                                                           9\n",
       "Cvtres bien                                                      9\n",
       "Cnx faible                                                       9\n",
       "bien                                                             8\n",
       "Bonus                                                            8\n",
       "Nn                                                               8\n",
       "Rien a dire                                                      8\n",
       "Test                                                             8\n",
       "rien a signaler                                                  8\n",
       "Ccv                                                              8\n",
       "R a s                                                            8\n",
       "K                                                                8\n",
       "NaN                                                              8\n",
       "cv pas                                                           7\n",
       "connexions                                                       7\n",
       "انترنات تقص                                                      7\n",
       "1 mois                                                           7\n",
       "2014                                                             7\n",
       "Cb                                                               6\n",
       "Pa bien                                                          6\n",
       "3ans                                                             5\n",
       "Lignes favorisées                                                5\n",
       "Name: Opert_Orange_Offer_Beyond_Expectations, dtype: int64"
      ]
     },
     "execution_count": 437,
     "metadata": {},
     "output_type": "execute_result"
    }
   ],
   "source": [
    "df_clean['Opert_Orange_Offer_Beyond_Expectations'].value_counts(dropna=False)"
   ]
  },
  {
   "cell_type": "markdown",
   "metadata": {},
   "source": [
    "## Opert_Princ_Offer_Eval_Global ✔️"
   ]
  },
  {
   "cell_type": "code",
   "execution_count": 438,
   "metadata": {},
   "outputs": [
    {
     "data": {
      "text/plain": [
       "7                            470\n",
       "8                            386\n",
       "6                            327\n",
       "5                             94\n",
       "9                             71\n",
       "NaN                           32\n",
       "4                             24\n",
       "10 (La meilleure note)        18\n",
       "1 (La plus mauvaise note)      9\n",
       "3                              8\n",
       "Name: Opert_Princ_Offer_Eval_Global, dtype: int64"
      ]
     },
     "execution_count": 438,
     "metadata": {},
     "output_type": "execute_result"
    }
   ],
   "source": [
    "df_clean['Opert_Princ_Offer_Eval_Global'].replace('10 (La meilleure note)',10)\n",
    "df_clean['Opert_Princ_Offer_Eval_Global'].replace('1 (La plus mauvaise note)',1)\n",
    "df_clean['Opert_Princ_Offer_Eval_Global'].value_counts(dropna=False)\n",
    "                                                  \n",
    "                                    "
   ]
  },
  {
   "cell_type": "markdown",
   "metadata": {},
   "source": [
    "## Opert_Princ_Value_Money : \n",
    "9 nan tous pour Ooredoo\n"
   ]
  },
  {
   "cell_type": "code",
   "execution_count": 439,
   "metadata": {},
   "outputs": [],
   "source": [
    "df_clean['Opert_Princ_Value_Money'].replace({\"10 (La meilleure note)\":10,\"11 (Ne sait pas/Non applicable)\":11},inplace=True)"
   ]
  },
  {
   "cell_type": "code",
   "execution_count": 440,
   "metadata": {},
   "outputs": [
    {
     "ename": "KeyError",
     "evalue": "'Opert_Princ_Value_Money'",
     "output_type": "error",
     "traceback": [
      "\u001b[1;31m---------------------------------------------------------------------------\u001b[0m",
      "\u001b[1;31mKeyError\u001b[0m                                  Traceback (most recent call last)",
      "\u001b[1;32mC:\\ProgramData\\Anaconda3\\lib\\site-packages\\pandas\\core\\indexes\\base.py\u001b[0m in \u001b[0;36mget_loc\u001b[1;34m(self, key, method, tolerance)\u001b[0m\n\u001b[0;32m   2896\u001b[0m             \u001b[1;32mtry\u001b[0m\u001b[1;33m:\u001b[0m\u001b[1;33m\u001b[0m\u001b[1;33m\u001b[0m\u001b[0m\n\u001b[1;32m-> 2897\u001b[1;33m                 \u001b[1;32mreturn\u001b[0m \u001b[0mself\u001b[0m\u001b[1;33m.\u001b[0m\u001b[0m_engine\u001b[0m\u001b[1;33m.\u001b[0m\u001b[0mget_loc\u001b[0m\u001b[1;33m(\u001b[0m\u001b[0mkey\u001b[0m\u001b[1;33m)\u001b[0m\u001b[1;33m\u001b[0m\u001b[1;33m\u001b[0m\u001b[0m\n\u001b[0m\u001b[0;32m   2898\u001b[0m             \u001b[1;32mexcept\u001b[0m \u001b[0mKeyError\u001b[0m\u001b[1;33m:\u001b[0m\u001b[1;33m\u001b[0m\u001b[1;33m\u001b[0m\u001b[0m\n",
      "\u001b[1;32mpandas\\_libs\\index.pyx\u001b[0m in \u001b[0;36mpandas._libs.index.IndexEngine.get_loc\u001b[1;34m()\u001b[0m\n",
      "\u001b[1;32mpandas\\_libs\\index.pyx\u001b[0m in \u001b[0;36mpandas._libs.index.IndexEngine.get_loc\u001b[1;34m()\u001b[0m\n",
      "\u001b[1;32mpandas\\_libs\\hashtable_class_helper.pxi\u001b[0m in \u001b[0;36mpandas._libs.hashtable.PyObjectHashTable.get_item\u001b[1;34m()\u001b[0m\n",
      "\u001b[1;32mpandas\\_libs\\hashtable_class_helper.pxi\u001b[0m in \u001b[0;36mpandas._libs.hashtable.PyObjectHashTable.get_item\u001b[1;34m()\u001b[0m\n",
      "\u001b[1;31mKeyError\u001b[0m: 'Opert_Princ_Value_Money'",
      "\nDuring handling of the above exception, another exception occurred:\n",
      "\u001b[1;31mKeyError\u001b[0m                                  Traceback (most recent call last)",
      "\u001b[1;32m<ipython-input-440-13a5b74eab84>\u001b[0m in \u001b[0;36m<module>\u001b[1;34m\u001b[0m\n\u001b[0;32m      1\u001b[0m \u001b[0mgroupBySecteur\u001b[0m\u001b[1;33m=\u001b[0m\u001b[0mdf_clean\u001b[0m\u001b[1;33m[\u001b[0m\u001b[0mdf_clean\u001b[0m\u001b[1;33m[\u001b[0m\u001b[1;34m'Opert_Princ_Value_Money'\u001b[0m\u001b[1;33m]\u001b[0m\u001b[1;33m!=\u001b[0m\u001b[1;36m11\u001b[0m\u001b[1;33m]\u001b[0m\u001b[1;33m.\u001b[0m\u001b[0mgroupby\u001b[0m\u001b[1;33m(\u001b[0m\u001b[1;33m[\u001b[0m\u001b[1;34m'city'\u001b[0m\u001b[1;33m,\u001b[0m\u001b[1;34m'Opert_Princ'\u001b[0m\u001b[1;33m,\u001b[0m\u001b[1;34m'Sect_Comp'\u001b[0m\u001b[1;33m]\u001b[0m\u001b[1;33m)\u001b[0m\u001b[1;33m\u001b[0m\u001b[1;33m\u001b[0m\u001b[0m\n\u001b[1;32m----> 2\u001b[1;33m \u001b[0mgroupBySecteur\u001b[0m\u001b[1;33m.\u001b[0m\u001b[0mmean\u001b[0m\u001b[1;33m(\u001b[0m\u001b[1;33m)\u001b[0m\u001b[1;33m[\u001b[0m\u001b[1;34m'Opert_Princ_Value_Money'\u001b[0m\u001b[1;33m]\u001b[0m\u001b[1;33m\u001b[0m\u001b[1;33m\u001b[0m\u001b[0m\n\u001b[0m\u001b[0;32m      3\u001b[0m \u001b[1;31m#df_clean['Opert_Princ_Value_Money'].value_counts(dropna=False)\u001b[0m\u001b[1;33m\u001b[0m\u001b[1;33m\u001b[0m\u001b[1;33m\u001b[0m\u001b[0m\n",
      "\u001b[1;32mC:\\ProgramData\\Anaconda3\\lib\\site-packages\\pandas\\core\\frame.py\u001b[0m in \u001b[0;36m__getitem__\u001b[1;34m(self, key)\u001b[0m\n\u001b[0;32m   2978\u001b[0m             \u001b[1;32mif\u001b[0m \u001b[0mself\u001b[0m\u001b[1;33m.\u001b[0m\u001b[0mcolumns\u001b[0m\u001b[1;33m.\u001b[0m\u001b[0mnlevels\u001b[0m \u001b[1;33m>\u001b[0m \u001b[1;36m1\u001b[0m\u001b[1;33m:\u001b[0m\u001b[1;33m\u001b[0m\u001b[1;33m\u001b[0m\u001b[0m\n\u001b[0;32m   2979\u001b[0m                 \u001b[1;32mreturn\u001b[0m \u001b[0mself\u001b[0m\u001b[1;33m.\u001b[0m\u001b[0m_getitem_multilevel\u001b[0m\u001b[1;33m(\u001b[0m\u001b[0mkey\u001b[0m\u001b[1;33m)\u001b[0m\u001b[1;33m\u001b[0m\u001b[1;33m\u001b[0m\u001b[0m\n\u001b[1;32m-> 2980\u001b[1;33m             \u001b[0mindexer\u001b[0m \u001b[1;33m=\u001b[0m \u001b[0mself\u001b[0m\u001b[1;33m.\u001b[0m\u001b[0mcolumns\u001b[0m\u001b[1;33m.\u001b[0m\u001b[0mget_loc\u001b[0m\u001b[1;33m(\u001b[0m\u001b[0mkey\u001b[0m\u001b[1;33m)\u001b[0m\u001b[1;33m\u001b[0m\u001b[1;33m\u001b[0m\u001b[0m\n\u001b[0m\u001b[0;32m   2981\u001b[0m             \u001b[1;32mif\u001b[0m \u001b[0mis_integer\u001b[0m\u001b[1;33m(\u001b[0m\u001b[0mindexer\u001b[0m\u001b[1;33m)\u001b[0m\u001b[1;33m:\u001b[0m\u001b[1;33m\u001b[0m\u001b[1;33m\u001b[0m\u001b[0m\n\u001b[0;32m   2982\u001b[0m                 \u001b[0mindexer\u001b[0m \u001b[1;33m=\u001b[0m \u001b[1;33m[\u001b[0m\u001b[0mindexer\u001b[0m\u001b[1;33m]\u001b[0m\u001b[1;33m\u001b[0m\u001b[1;33m\u001b[0m\u001b[0m\n",
      "\u001b[1;32mC:\\ProgramData\\Anaconda3\\lib\\site-packages\\pandas\\core\\indexes\\base.py\u001b[0m in \u001b[0;36mget_loc\u001b[1;34m(self, key, method, tolerance)\u001b[0m\n\u001b[0;32m   2897\u001b[0m                 \u001b[1;32mreturn\u001b[0m \u001b[0mself\u001b[0m\u001b[1;33m.\u001b[0m\u001b[0m_engine\u001b[0m\u001b[1;33m.\u001b[0m\u001b[0mget_loc\u001b[0m\u001b[1;33m(\u001b[0m\u001b[0mkey\u001b[0m\u001b[1;33m)\u001b[0m\u001b[1;33m\u001b[0m\u001b[1;33m\u001b[0m\u001b[0m\n\u001b[0;32m   2898\u001b[0m             \u001b[1;32mexcept\u001b[0m \u001b[0mKeyError\u001b[0m\u001b[1;33m:\u001b[0m\u001b[1;33m\u001b[0m\u001b[1;33m\u001b[0m\u001b[0m\n\u001b[1;32m-> 2899\u001b[1;33m                 \u001b[1;32mreturn\u001b[0m \u001b[0mself\u001b[0m\u001b[1;33m.\u001b[0m\u001b[0m_engine\u001b[0m\u001b[1;33m.\u001b[0m\u001b[0mget_loc\u001b[0m\u001b[1;33m(\u001b[0m\u001b[0mself\u001b[0m\u001b[1;33m.\u001b[0m\u001b[0m_maybe_cast_indexer\u001b[0m\u001b[1;33m(\u001b[0m\u001b[0mkey\u001b[0m\u001b[1;33m)\u001b[0m\u001b[1;33m)\u001b[0m\u001b[1;33m\u001b[0m\u001b[1;33m\u001b[0m\u001b[0m\n\u001b[0m\u001b[0;32m   2900\u001b[0m         \u001b[0mindexer\u001b[0m \u001b[1;33m=\u001b[0m \u001b[0mself\u001b[0m\u001b[1;33m.\u001b[0m\u001b[0mget_indexer\u001b[0m\u001b[1;33m(\u001b[0m\u001b[1;33m[\u001b[0m\u001b[0mkey\u001b[0m\u001b[1;33m]\u001b[0m\u001b[1;33m,\u001b[0m \u001b[0mmethod\u001b[0m\u001b[1;33m=\u001b[0m\u001b[0mmethod\u001b[0m\u001b[1;33m,\u001b[0m \u001b[0mtolerance\u001b[0m\u001b[1;33m=\u001b[0m\u001b[0mtolerance\u001b[0m\u001b[1;33m)\u001b[0m\u001b[1;33m\u001b[0m\u001b[1;33m\u001b[0m\u001b[0m\n\u001b[0;32m   2901\u001b[0m         \u001b[1;32mif\u001b[0m \u001b[0mindexer\u001b[0m\u001b[1;33m.\u001b[0m\u001b[0mndim\u001b[0m \u001b[1;33m>\u001b[0m \u001b[1;36m1\u001b[0m \u001b[1;32mor\u001b[0m \u001b[0mindexer\u001b[0m\u001b[1;33m.\u001b[0m\u001b[0msize\u001b[0m \u001b[1;33m>\u001b[0m \u001b[1;36m1\u001b[0m\u001b[1;33m:\u001b[0m\u001b[1;33m\u001b[0m\u001b[1;33m\u001b[0m\u001b[0m\n",
      "\u001b[1;32mpandas\\_libs\\index.pyx\u001b[0m in \u001b[0;36mpandas._libs.index.IndexEngine.get_loc\u001b[1;34m()\u001b[0m\n",
      "\u001b[1;32mpandas\\_libs\\index.pyx\u001b[0m in \u001b[0;36mpandas._libs.index.IndexEngine.get_loc\u001b[1;34m()\u001b[0m\n",
      "\u001b[1;32mpandas\\_libs\\hashtable_class_helper.pxi\u001b[0m in \u001b[0;36mpandas._libs.hashtable.PyObjectHashTable.get_item\u001b[1;34m()\u001b[0m\n",
      "\u001b[1;32mpandas\\_libs\\hashtable_class_helper.pxi\u001b[0m in \u001b[0;36mpandas._libs.hashtable.PyObjectHashTable.get_item\u001b[1;34m()\u001b[0m\n",
      "\u001b[1;31mKeyError\u001b[0m: 'Opert_Princ_Value_Money'"
     ]
    }
   ],
   "source": [
    "groupBySecteur=df_clean[df_clean['Opert_Princ_Value_Money']!=11].groupby(['city','Opert_Princ','Sect_Comp'])\n",
    "groupBySecteur.mean()['Opert_Princ_Value_Money']\n",
    "#df_clean['Opert_Princ_Value_Money'].value_counts(dropna=False)"
   ]
  },
  {
   "cell_type": "code",
   "execution_count": null,
   "metadata": {},
   "outputs": [],
   "source": [
    "df_clean[df_clean['Opert_Princ']==\"Ooredoo\"]['Opert_Princ_Value_Money'].value_counts(dropna=False)"
   ]
  },
  {
   "cell_type": "markdown",
   "metadata": {},
   "source": [
    "## Opert_Confidence :\n",
    "40 nan : 24 Ooredoo et 16 Orange"
   ]
  },
  {
   "cell_type": "markdown",
   "metadata": {},
   "source": [
    "## Opert_Simplify_Customers"
   ]
  },
  {
   "cell_type": "code",
   "execution_count": null,
   "metadata": {
    "scrolled": true
   },
   "outputs": [],
   "source": [
    "df_clean[df_clean['Opert_Simplify_Customers'].isna()]['Opert_Princ'].value_counts()"
   ]
  },
  {
   "cell_type": "markdown",
   "metadata": {},
   "source": [
    "## Opert_Understand_Customers"
   ]
  },
  {
   "cell_type": "code",
   "execution_count": null,
   "metadata": {},
   "outputs": [],
   "source": [
    "df_clean[df_clean['Opert_Understand_Customers'].isna()]['Opert_Princ'].value_counts()"
   ]
  },
  {
   "cell_type": "code",
   "execution_count": null,
   "metadata": {
    "scrolled": true
   },
   "outputs": [],
   "source": [
    "df_clean[df_clean['Opert_Understand_Customers'].isna()]"
   ]
  },
  {
   "cell_type": "markdown",
   "metadata": {},
   "source": [
    "## Opert_Corp_Customers"
   ]
  },
  {
   "cell_type": "code",
   "execution_count": null,
   "metadata": {},
   "outputs": [],
   "source": [
    "df_clean[df_clean['Opert_Corp_Customers'].isna()]['Opert_Princ'].value_counts()"
   ]
  },
  {
   "cell_type": "markdown",
   "metadata": {},
   "source": [
    "## Opert_Prob_Customers"
   ]
  },
  {
   "cell_type": "code",
   "execution_count": null,
   "metadata": {},
   "outputs": [],
   "source": [
    "#df_clean[df_clean['Opert_Comp_Offers_K'].isna()]"
   ]
  },
  {
   "cell_type": "markdown",
   "metadata": {
    "hide_input": true
   },
   "source": [
    "# amina 👩\n",
    "📌Note: DECALAGE IMPOSSIBLE 😪👉🏻👈🏻"
   ]
  },
  {
   "cell_type": "markdown",
   "metadata": {},
   "source": [
    "### Info_Facility_Understand Cleaning 📝\n",
    "👻Hidden code\n",
    "📌Note: Some values of this column aren't matching the column's description . we're replacing them with null for The moment."
   ]
  },
  {
   "cell_type": "code",
   "execution_count": null,
   "metadata": {
    "hide_input": false
   },
   "outputs": [],
   "source": [
    "print(df_clean['Info_Facility_Understand'].value_counts(normalize=True,dropna=False))"
   ]
  },
  {
   "cell_type": "code",
   "execution_count": null,
   "metadata": {},
   "outputs": [],
   "source": [
    "df_clean['Info_Facility_Understand']=df_clean['Info_Facility_Understand'].replace(\"1 (La plus mauvaise note)\", '1')\n",
    "df_clean['Info_Facility_Understand']=df_clean['Info_Facility_Understand'].replace(\"4.\", 4)\n",
    "df_clean['Info_Facility_Understand']=df_clean['Info_Facility_Understand'].replace(\"1.\", 1)\n",
    "df_clean['Info_Facility_Understand']=df_clean['Info_Facility_Understand'].replace(\"2.\", 2)\n",
    "df_clean['Info_Facility_Understand']=df_clean['Info_Facility_Understand'].replace(\"3.\", 3)\n",
    "df_clean['Info_Facility_Understand']=df_clean['Info_Facility_Understand'].replace(\"5.\", 5)"
   ]
  },
  {
   "cell_type": "code",
   "execution_count": null,
   "metadata": {},
   "outputs": [],
   "source": [
    "df_clean[\"Info_Facility_Understand_ajuste\"]=df_clean[\"Info_Facility_Understand\"]"
   ]
  },
  {
   "cell_type": "code",
   "execution_count": null,
   "metadata": {},
   "outputs": [],
   "source": [
    "df_clean[\"Info_Facility_Understand_ajuste\"]=df_clean[\"Info_Facility_Understand_ajuste\"].astype(\"str\")\n",
    "df_clean[~df_clean[\"Info_Facility_Understand_ajuste\"].str.isnumeric()][\"Info_Facility_Understand\"]"
   ]
  },
  {
   "cell_type": "code",
   "execution_count": null,
   "metadata": {},
   "outputs": [],
   "source": [
    "df_clean[\"Info_Facility_Understand_numeric\"]=df_clean[\"Info_Facility_Understand_ajuste\"]\n",
    "#df_clean[~df_clean[\"Info_Facility_Understand_numeric\"].str.isnumeric()][\"Info_Facility_Understand_numeric\"]\n",
    "df_clean.loc[~(df_clean[\"Info_Facility_Understand_numeric\"].str.isnumeric()),'Info_Facility_Understand_numeric']=np.nan"
   ]
  },
  {
   "cell_type": "code",
   "execution_count": null,
   "metadata": {},
   "outputs": [],
   "source": [
    "df_clean[\"Info_Facility_Understand_numeric\"].unique() #   numirc"
   ]
  },
  {
   "cell_type": "code",
   "execution_count": null,
   "metadata": {},
   "outputs": [],
   "source": [
    "df_clean.loc[(df_clean[\"Info_Facility_Understand_ajuste\"].str.isnumeric()),'Info_Facility_Understand_ajuste']=np.nan"
   ]
  },
  {
   "cell_type": "code",
   "execution_count": null,
   "metadata": {},
   "outputs": [],
   "source": [
    "df_clean[\"Info_Facility_Understand_ajuste\"].unique() #  str  #arij"
   ]
  },
  {
   "cell_type": "code",
   "execution_count": null,
   "metadata": {},
   "outputs": [],
   "source": [
    "print(df_clean['Info_Facility_Understand_numeric'].value_counts(normalize=True,dropna=False)) "
   ]
  },
  {
   "cell_type": "code",
   "execution_count": null,
   "metadata": {},
   "outputs": [],
   "source": [
    "df_clean['Info_Facility_Understand_numeric']=np.where((df_clean['Opert_offers_Looked']=='NON') & (pd.isna(df_clean['Info_Facility_Understand_numeric'])==True)\n",
    "                                     ,999 , df_clean['Info_Facility_Understand_numeric'])"
   ]
  },
  {
   "cell_type": "markdown",
   "metadata": {
    "hide_input": true
   },
   "source": [
    "###  Contract_Operation Cleaning\n",
    "👻Hidden code 📌Note: Some values of this column aren't matching the column's description . we're replacing them with null for The moment."
   ]
  },
  {
   "cell_type": "code",
   "execution_count": null,
   "metadata": {
    "hide_input": false
   },
   "outputs": [],
   "source": [
    "df_clean['Contract_Operation'].value_counts()"
   ]
  },
  {
   "cell_type": "code",
   "execution_count": null,
   "metadata": {},
   "outputs": [],
   "source": [
    "df_clean['Contract_Operation']=df_clean['Contract_Operation'].replace(\"/ 4.\\tAucun /\", 'aucun')\n",
    "df_clean['Contract_Operation']=df_clean['Contract_Operation'].replace(\"1 (La plus mauvaise note)\", np.nan)\n",
    "df_clean['Contract_Operation']=df_clean['Contract_Operation'].replace(\"/ 3.\\tVous avez reçu une visite d’un commercial sans besoin particulier de votre part /\", \"Vous avez reçu une visite d’un commercial sans besoin particulier de votre part\")\n",
    "df_clean['Contract_Operation']=df_clean['Contract_Operation'].replace(\"/ 1.\\tSigné un contrat avec votre opérateur principal pour la première fois / 2.\\tRésilié un contrat ou abonnement /\", np.nan)\n",
    "df_clean['Contract_Operation']=df_clean['Contract_Operation'].replace(7, np.nan)\n",
    "df_clean['Contract_Operation']=df_clean['Contract_Operation'].replace(6, np.nan)\n",
    "df_clean['Contract_Operation']=df_clean['Contract_Operation'].replace(4, 'aucun')\n",
    "df_clean['Contract_Operation']=df_clean['Contract_Operation'].replace(9, np.nan)\n",
    "df_clean['Contract_Operation']=df_clean['Contract_Operation'].replace(5, np.nan)\n",
    "df_clean['Contract_Operation']=df_clean['Contract_Operation'].replace(\"2.\", 'Résilié un contrat ou abonnement')\n",
    "df_clean['Contract_Operation']=df_clean['Contract_Operation'].replace(\"Signé un contrat avec votre opérateur principal pour la première fois/2.\", \"Signé un contrat avec votre opérateur principal pour la première fois\")\n",
    "df_clean['Contract_Operation']=df_clean['Contract_Operation'].replace(\"4.\", 'aucun')\n",
    "df_clean['Contract_Operation']=df_clean['Contract_Operation'].replace(\"1.\", 'Signé un contrat avec votre opérateur principal pour la première fois')\n",
    "df_clean['Contract_Operation']=df_clean['Contract_Operation'].replace(8, np.nan)\n",
    "df_clean['Contract_Operation']=df_clean['Contract_Operation'].replace(\"Aucun\", \"aucun\")\n",
    "df_clean['Contract_Operation']=df_clean['Contract_Operation'].replace(\"/ 2.\\tRésilié un contrat ou abonnement /\", 'Résilié un contrat ou abonnement')\n",
    "df_clean['Contract_Operation']=df_clean['Contract_Operation'].replace(\"/ 1.\\tSigné un contrat avec votre opérateur principal pour la première fois /\", 'Signé un contrat avec votre opérateur principal pour la première fois')\n",
    "df_clean['Contract_Operation']=df_clean['Contract_Operation'].replace(\"/ 1.\\tSigné un contrat avec votre opérateur principal pour la première fois / 2.\\tRésilié un contrat ou abonnement / 3.\\tVous avez reçu une visite d’un commercial sans besoin particulier de votre part /\", np.nan)"
   ]
  },
  {
   "cell_type": "code",
   "execution_count": null,
   "metadata": {},
   "outputs": [],
   "source": [
    "#preparation pour après\n",
    "df_clean['Contract_Operation']=df_clean['Contract_Operation'].replace(\"Par SMS (message texte)/9.\", 8)\n",
    "df_clean['Contract_Operation']=df_clean['Contract_Operation'].replace(\"Par SMS (message texte)\", 8)\n",
    "df_clean['Contract_Operation']=df_clean['Contract_Operation'].replace(\"Via la télévision/5.\", 4)\n",
    "df_clean['Contract_Operation']=df_clean['Contract_Operation'].replace(\"Via la télévision/8.\", 4)\n",
    "df_clean['Contract_Operation']=df_clean['Contract_Operation'].replace(\"Dans la presse/6.\", 5)\n",
    "df_clean['Contract_Operation']=df_clean['Contract_Operation'].replace(\"Dans la presse\", 5)\n",
    "df_clean['Contract_Operation']=df_clean['Contract_Operation'].replace(\"Via la radio/4.\", 3)\n",
    "df_clean['Contract_Operation']=df_clean['Contract_Operation'].replace(\"Via affichage publicitaire/7.\", 2)\n",
    "df_clean['Contract_Operation']=df_clean['Contract_Operation'].replace(\"Sur Facebook, Twitter, etc.\", 9)\n",
    "df_clean['Contract_Operation']=df_clean['Contract_Operation'].replace(\"Via la télévision\", 4)\n",
    "df_clean['Contract_Operation']=df_clean['Contract_Operation'].replace(\"Visite d’un commercial/9.\", 1)\n",
    "df_clean['Contract_Operation']=df_clean['Contract_Operation'].replace(\"Dans un mailing, par courrier\", 7)"
   ]
  },
  {
   "cell_type": "code",
   "execution_count": null,
   "metadata": {},
   "outputs": [],
   "source": [
    "df_clean['Contract_Operation'].value_counts(dropna=False,normalize=True)"
   ]
  },
  {
   "cell_type": "code",
   "execution_count": null,
   "metadata": {},
   "outputs": [],
   "source": [
    "df_clean[\"Contract_Operation_ajuste\"]=df_clean[\"Contract_Operation\"]"
   ]
  },
  {
   "cell_type": "code",
   "execution_count": null,
   "metadata": {},
   "outputs": [],
   "source": [
    "df_clean[\"Contract_Operation_ajuste\"]=df_clean[\"Contract_Operation_ajuste\"].astype(\"str\")\n",
    "df_clean[~df_clean[\"Contract_Operation_ajuste\"].str.isnumeric()][\"Contract_Operation_ajuste\"]"
   ]
  },
  {
   "cell_type": "code",
   "execution_count": null,
   "metadata": {},
   "outputs": [],
   "source": [
    "df_clean[\"Contract_Operation_numeric\"]=df_clean[\"Contract_Operation_ajuste\"]\n",
    "#df_clean[~df_clean[\"Info_Facility_Understand_numeric\"].str.isnumeric()][\"Info_Facility_Understand_numeric\"]\n",
    "df_clean.loc[~(df_clean[\"Contract_Operation_numeric\"].str.isnumeric()),'Contract_Operation_numeric']=np.nan"
   ]
  },
  {
   "cell_type": "code",
   "execution_count": null,
   "metadata": {},
   "outputs": [],
   "source": [
    "df_clean[\"Contract_Operation_numeric\"].unique() # arij"
   ]
  },
  {
   "cell_type": "code",
   "execution_count": null,
   "metadata": {},
   "outputs": [],
   "source": [
    "df_clean.loc[(df_clean[\"Contract_Operation_ajuste\"].str.isnumeric()),'Contract_Operation_ajuste']=np.nan"
   ]
  },
  {
   "cell_type": "code",
   "execution_count": null,
   "metadata": {},
   "outputs": [],
   "source": [
    "df_clean[\"Contract_Operation_ajuste\"].unique() #  str  #(besoin)"
   ]
  },
  {
   "cell_type": "code",
   "execution_count": null,
   "metadata": {},
   "outputs": [],
   "source": [
    "df_clean['Contract_Operation_ajuste']=df_clean['Contract_Operation_ajuste'].replace('nan', np.nan)"
   ]
  },
  {
   "cell_type": "code",
   "execution_count": null,
   "metadata": {},
   "outputs": [],
   "source": [
    "df_clean['Contract_Operation_ajuste'].value_counts(dropna=False,normalize=True)"
   ]
  },
  {
   "cell_type": "markdown",
   "metadata": {
    "hide_input": false
   },
   "source": [
    "###  Way_For_Operation Cleaning\n",
    "\n",
    "📌Note: Healthy nan treated with 999 with success"
   ]
  },
  {
   "cell_type": "code",
   "execution_count": null,
   "metadata": {},
   "outputs": [],
   "source": [
    "df_clean['Way_For_Operation']=df_clean['Way_For_Operation'].replace(\"/ 2.\\tEté en boutique / agence /\", \"Eté En boutique\")\n",
    "df_clean['Way_For_Operation']=df_clean['Way_For_Operation'].replace(\"/ 1.\\tReçu la visite d’un commercial /\", \"Reçu la visite d’un commercial\")\n",
    "df_clean['Way_For_Operation']=df_clean['Way_For_Operation'].replace(7,np.nan )\n",
    "df_clean['Way_For_Operation']=df_clean['Way_For_Operation'].replace(6,np.nan )\n",
    "df_clean['Way_For_Operation']=df_clean['Way_For_Operation'].replace(8,np.nan )\n",
    "df_clean['Way_For_Operation']=df_clean['Way_For_Operation'].replace(5,np.nan )\n",
    "df_clean['Way_For_Operation']=df_clean['Way_For_Operation'].replace(9,np.nan )\n",
    "df_clean['Way_For_Operation']=df_clean['Way_For_Operation'].replace(\"1.\",\"Reçu la visite d’un commercial\" )\n",
    "df_clean['Way_For_Operation']=df_clean['Way_For_Operation'].replace(2,\"Eté En boutique\")\n",
    "df_clean['Way_For_Operation']=df_clean['Way_For_Operation'].replace(\"2.\",\"Eté En boutique\")\n",
    "df_clean['Way_For_Operation']=df_clean['Way_For_Operation'].replace(4,np.nan )\n",
    "df_clean['Way_For_Operation']=df_clean['Way_For_Operation'].replace(\"3.\",\"Aucun\" )\n",
    "df_clean['Way_For_Operation']=df_clean['Way_For_Operation'].replace(\"/ 3.\\tAucun /\",\"Aucun\" )\n",
    "df_clean['Way_For_Operation']=df_clean['Way_For_Operation'].replace(\"4.\",np.nan )\n",
    "df_clean['Way_For_Operation']=df_clean['Way_For_Operation'].replace(\"/ 1.\\tReçu la visite d’un commercial / 2.\\tEté en boutique / agence /\",np.nan )\n",
    "df_clean['Way_For_Operation']=df_clean['Way_For_Operation'].replace(\"Signé un contrat avec votre opérateur principal pour la première fois\",np.nan )\n",
    "df_clean['Way_For_Operation']=df_clean['Way_For_Operation'].replace(\"Résilié un contrat ou abonnement\",np.nan )"
   ]
  },
  {
   "cell_type": "code",
   "execution_count": null,
   "metadata": {
    "hide_input": false
   },
   "outputs": [],
   "source": [
    "9#colonne d'après \n",
    "df_clean['Way_For_Operation']=df_clean['Way_For_Operation'].replace(\"Sur Facebook, Twitter, etc. \",9 )\n",
    "df_clean['Way_For_Operation']=df_clean['Way_For_Operation'].replace(\"Sur Facebook, Twitter, etc.\",9 )\n",
    "df_clean['Way_For_Operation']=df_clean['Way_For_Operation'].replace(\"Par SMS (message texte)\",8 )\n",
    "df_clean['Way_For_Operation']=df_clean['Way_For_Operation'].replace(\"Sur Facebook, Twitter, etc./11.\",9 )\n",
    "df_clean['Way_For_Operation']=df_clean['Way_For_Operation'].replace(\"Dans la presse/8.\",5 )\n",
    "df_clean['Way_For_Operation']=df_clean['Way_For_Operation'].replace(\"Visite d’un commercial/2.\",1 )\n",
    "df_clean['Way_For_Operation']=df_clean['Way_For_Operation'].replace(\"Dans un mailing, par courrier\",7 )\n",
    "df_clean['Way_For_Operation']=df_clean['Way_For_Operation'].replace(\"Via la télévision/8.\",4 )\n",
    "df_clean['Way_For_Operation']=df_clean['Way_For_Operation'].replace(\"Via affichage publicitaire/8.\",2 )\n",
    "df_clean['Way_For_Operation']=df_clean['Way_For_Operation'].replace(\"Dans un prospectus/8.\",6 )\n",
    "df_clean['Way_For_Operation']=df_clean['Way_For_Operation'].replace(\"Visite d’un commercial/4.\",1)\n",
    "df_clean['Way_For_Operation']=df_clean['Way_For_Operation'].replace(\"Via affichage publicitaire/4.\",2 )"
   ]
  },
  {
   "cell_type": "code",
   "execution_count": null,
   "metadata": {},
   "outputs": [],
   "source": [
    "df_clean['Way_For_Operation'].value_counts(normalize=True,dropna=False)"
   ]
  },
  {
   "cell_type": "code",
   "execution_count": null,
   "metadata": {},
   "outputs": [],
   "source": [
    "df_clean[\"Way_For_Operation_ajuste\"]=df_clean[\"Way_For_Operation\"]"
   ]
  },
  {
   "cell_type": "code",
   "execution_count": null,
   "metadata": {},
   "outputs": [],
   "source": [
    "df_clean[\"Way_For_Operation_ajuste\"]=df_clean[\"Way_For_Operation_ajuste\"].astype(\"str\")\n",
    "df_clean[~df_clean[\"Way_For_Operation_ajuste\"].str.isnumeric()][\"Way_For_Operation_ajuste\"]"
   ]
  },
  {
   "cell_type": "code",
   "execution_count": null,
   "metadata": {},
   "outputs": [],
   "source": [
    "df_clean[\"Way_For_Operation_numeric\"]=df_clean[\"Way_For_Operation_ajuste\"]\n",
    "#df_clean[~df_clean[\"Info_Facility_Understand_numeric\"].str.isnumeric()][\"Info_Facility_Understand_numeric\"]\n",
    "df_clean.loc[~(df_clean[\"Way_For_Operation_numeric\"].str.isnumeric()),'Way_For_Operation_numeric']=np.nan"
   ]
  },
  {
   "cell_type": "code",
   "execution_count": null,
   "metadata": {},
   "outputs": [],
   "source": [
    "df_clean[\"Way_For_Operation_numeric\"].unique() # arij"
   ]
  },
  {
   "cell_type": "code",
   "execution_count": null,
   "metadata": {},
   "outputs": [],
   "source": [
    "df_clean.loc[(df_clean[\"Way_For_Operation_ajuste\"].str.isnumeric()),'Way_For_Operation_ajuste']=np.nan"
   ]
  },
  {
   "cell_type": "code",
   "execution_count": null,
   "metadata": {},
   "outputs": [],
   "source": [
    "df_clean[\"Way_For_Operation_ajuste\"].unique() #  str  #(besoin)"
   ]
  },
  {
   "cell_type": "code",
   "execution_count": null,
   "metadata": {},
   "outputs": [],
   "source": [
    "df_clean['Way_For_Operation_ajuste']=df_clean['Way_For_Operation_ajuste'].replace('nan', np.nan)"
   ]
  },
  {
   "cell_type": "code",
   "execution_count": null,
   "metadata": {},
   "outputs": [],
   "source": [
    "df_clean[\"Way_For_Operation_ajuste\"]=np.where(df_clean['Contract_Operation_ajuste'].isna()\n",
    "                                     , 999, df_clean['Way_For_Operation_ajuste'])"
   ]
  },
  {
   "cell_type": "code",
   "execution_count": null,
   "metadata": {},
   "outputs": [],
   "source": [
    "df_clean[\"Way_For_Operation_ajuste\"]=np.where(df_clean['Contract_Operation_ajuste']=='aucun'\n",
    "                                     , 999, df_clean['Way_For_Operation_ajuste'])"
   ]
  },
  {
   "cell_type": "code",
   "execution_count": null,
   "metadata": {},
   "outputs": [],
   "source": [
    "df_clean[\"Way_For_Operation_ajuste\"]=np.where(df_clean['Contract_Operation_ajuste']=='Vous avez reçu une visite d’un commercial sans besoin particulier de votre part'\n",
    "                                     , 999, df_clean['Way_For_Operation_ajuste'])"
   ]
  },
  {
   "cell_type": "code",
   "execution_count": null,
   "metadata": {
    "hide_input": false
   },
   "outputs": [],
   "source": [
    "df_clean['Way_For_Operation_ajuste'].value_counts(dropna=False,normalize=True)"
   ]
  },
  {
   "cell_type": "markdown",
   "metadata": {},
   "source": [
    "### Visit_Eval Cleaning"
   ]
  },
  {
   "cell_type": "code",
   "execution_count": null,
   "metadata": {
    "hide_input": false
   },
   "outputs": [],
   "source": [
    "df_clean['Visit_Eval'].value_counts(dropna=False,normalize=True)"
   ]
  },
  {
   "cell_type": "code",
   "execution_count": null,
   "metadata": {
    "hide_input": false,
    "scrolled": true
   },
   "outputs": [],
   "source": [
    "df_clean['Visit_Eval']=df_clean['Visit_Eval'].replace(\"4.\",4 )\n",
    "df_clean['Visit_Eval']=df_clean['Visit_Eval'].replace(\"Signé un contrat avec votre opérateur principal pour la première fois\",np.nan)\n",
    "df_clean['Visit_Eval']=df_clean['Visit_Eval'].replace(\"1.\",1)\n",
    "df_clean['Visit_Eval']=df_clean['Visit_Eval'].replace(\"2.\",2)\n",
    "df_clean['Visit_Eval']=df_clean['Visit_Eval'].replace(\"10 (La meilleure note)\",10)\n",
    "df_clean['Visit_Eval']=df_clean['Visit_Eval'].replace(\"1 (La plus mauvaise note)\",1)\n",
    "df_clean['Visit_Eval']=df_clean['Visit_Eval'].replace(\"Aucun\",np.nan)\n",
    "df_clean['Visit_Eval']=df_clean['Visit_Eval'].replace(\"Vous avez reçu une visite d’un commercial sans besoin particulier de votre part\",np.nan)"
   ]
  },
  {
   "cell_type": "code",
   "execution_count": null,
   "metadata": {},
   "outputs": [],
   "source": [
    "df_clean[\"Visit_Eval_ajuste\"]=df_clean[\"Visit_Eval\"]"
   ]
  },
  {
   "cell_type": "code",
   "execution_count": null,
   "metadata": {},
   "outputs": [],
   "source": [
    "df_clean[\"Visit_Eval_ajuste\"]=df_clean[\"Visit_Eval_ajuste\"].astype(\"str\")\n",
    "df_clean[~df_clean[\"Visit_Eval_ajuste\"].str.isnumeric()][\"Visit_Eval_ajuste\"]"
   ]
  },
  {
   "cell_type": "code",
   "execution_count": null,
   "metadata": {},
   "outputs": [],
   "source": [
    "df_clean[\"Visit_Eval_numeric\"]=df_clean[\"Visit_Eval_ajuste\"]\n",
    "#df_clean[~df_clean[\"Info_Facility_Understand_numeric\"].str.isnumeric()][\"Info_Facility_Understand_numeric\"]\n",
    "df_clean.loc[~(df_clean[\"Visit_Eval_numeric\"].str.isnumeric()),'Visit_Eval_numeric']=np.nan"
   ]
  },
  {
   "cell_type": "code",
   "execution_count": null,
   "metadata": {},
   "outputs": [],
   "source": [
    "df_clean[\"Visit_Eval_numeric\"].unique() # (besoin)"
   ]
  },
  {
   "cell_type": "code",
   "execution_count": null,
   "metadata": {},
   "outputs": [],
   "source": [
    "df_clean.loc[(df_clean[\"Visit_Eval_ajuste\"].str.isnumeric()),'Visit_Eval_ajuste']=np.nan"
   ]
  },
  {
   "cell_type": "code",
   "execution_count": null,
   "metadata": {
    "scrolled": true
   },
   "outputs": [],
   "source": [
    "df_clean[\"Visit_Eval_ajuste\"].unique() #  str  #(arij)"
   ]
  },
  {
   "cell_type": "code",
   "execution_count": null,
   "metadata": {},
   "outputs": [],
   "source": [
    "df_clean['Visit_Eval_numeric'].value_counts(dropna=False)"
   ]
  },
  {
   "cell_type": "code",
   "execution_count": null,
   "metadata": {},
   "outputs": [],
   "source": [
    "df_clean['Visit_Eval_numeric']=np.where( (df_clean['Contract_Operation_ajuste']!=\"Vous avez reçu une visite d’un commercial sans besoin particulier de votre part\" )\n",
    "                                        & (df_clean['Way_For_Operation_ajuste']!=\"Reçu la visite d’un commercial\") \n",
    "                                        & (pd.isnull(df_clean['Visit_Eval_numeric'])==True)\n",
    "                                     ,999 , df_clean['Visit_Eval_numeric'])"
   ]
  },
  {
   "cell_type": "markdown",
   "metadata": {
    "hide_input": true
   },
   "source": [
    "###  Visite_Date Cleaning 📆"
   ]
  },
  {
   "cell_type": "code",
   "execution_count": null,
   "metadata": {
    "hide_input": false
   },
   "outputs": [],
   "source": [
    "df_clean['Visite_Date']=df_clean['Visite_Date'].replace(\"4.\",np.nan)\n",
    "df_clean['Visite_Date']=df_clean['Visite_Date'].replace(\"2.\",np.nan)\n",
    "df_clean['Visite_Date']=df_clean['Visite_Date'].replace(\"1.\",np.nan)\n",
    "df_clean['Visite_Date']=df_clean['Visite_Date'].replace(7,np.nan)\n",
    "df_clean['Visite_Date']=df_clean['Visite_Date'].replace(5,np.nan)\n",
    "df_clean['Visite_Date']=df_clean['Visite_Date'].replace(9,np.nan)\n",
    "df_clean['Visite_Date']=df_clean['Visite_Date'].replace(8,np.nan)\n",
    "df_clean['Visite_Date']=df_clean['Visite_Date'].replace(4,np.nan)\n",
    "df_clean['Visite_Date']=df_clean['Visite_Date'].replace(2,np.nan)\n",
    "df_clean['Visite_Date']=df_clean['Visite_Date'].replace(6,np.nan)\n",
    "df_clean['Visite_Date']=df_clean['Visite_Date'].replace(\"Signé un contrat avec votre opérateur principal pour la première fois\",np.nan)\n",
    "df_clean['Visite_Date']=df_clean['Visite_Date'].replace(\"Reçu la visite d’un commercial\",np.nan)\n",
    "df_clean['Visite_Date']=df_clean['Visite_Date'].replace(\"Résilié un contrat ou abonnement\",np.nan)\n",
    "df_clean['Visite_Date']=df_clean['Visite_Date'].replace(\"Eté en boutique / agence\",np.nan)\n",
    "df_clean['Visite_Date']=df_clean['Visite_Date'].replace(\"Sur Facebook, Twitter, etc.\",np.nan)\n",
    "df_clean['Visite_Date']=df_clean['Visite_Date'].replace(\"Par le service client\",np.nan)\n",
    "df_clean['Visite_Date']=df_clean['Visite_Date'].replace(\"Signé un contrat avec votre opérateur principal pour la première fois/2.\",np.nan)\n",
    "df_clean['Visite_Date']=df_clean['Visite_Date'].replace(\"1 (La plus mauvaise note)\",np.nan)\n",
    "df_clean['Visite_Date']=df_clean['Visite_Date'].replace(\"Dans la presse\",np.nan)\n",
    "df_clean['Visite_Date']=df_clean['Visite_Date'].replace(\"Via la radio\",np.nan)\n",
    "df_clean['Visite_Date']=df_clean['Visite_Date'].replace(\"Dans la presse/8.\",np.nan)\n",
    "df_clean['Visite_Date']=df_clean['Visite_Date'].replace(\"Aucun\",np.nan)"
   ]
  },
  {
   "cell_type": "code",
   "execution_count": null,
   "metadata": {
    "hide_input": false
   },
   "outputs": [],
   "source": [
    "df_clean['Visite_Date'].value_counts(dropna=False,normalize=True)"
   ]
  },
  {
   "cell_type": "code",
   "execution_count": null,
   "metadata": {},
   "outputs": [],
   "source": [
    "df_clean['Visite_Date']=np.where( (df_clean['Contract_Operation_ajuste']!=\"Vous avez reçu une visite d’un commercial sans besoin particulier de votre part\" )\n",
    "                                        & (df_clean['Way_For_Operation_ajuste']!=\"Reçu la visite d’un commercial\") \n",
    "                                        & (pd.isnull(df_clean['Visite_Date'])==True)\n",
    "                                     ,999 , df_clean['Visite_Date'])"
   ]
  },
  {
   "cell_type": "markdown",
   "metadata": {},
   "source": [
    "### Store_Staff Cleaning 👨‍🔧"
   ]
  },
  {
   "cell_type": "code",
   "execution_count": null,
   "metadata": {
    "hide_input": false
   },
   "outputs": [],
   "source": [
    "df_clean['Store_Staff']=df_clean['Store_Staff'].replace(\"4.\",4)\n",
    "df_clean['Store_Staff']=df_clean['Store_Staff'].replace(\"2.\",2)\n",
    "df_clean['Store_Staff']=df_clean['Store_Staff'].replace(\"1.\",1)\n",
    "df_clean['Store_Staff']=df_clean['Store_Staff'].replace(\"'6'\",6)\n",
    "df_clean['Store_Staff']=df_clean['Store_Staff'].replace(\"Aucun\",np.nan)\n",
    "df_clean['Store_Staff']=df_clean['Store_Staff'].replace(\"Eté en boutique / agence\",np.nan)\n",
    "df_clean['Store_Staff']=df_clean['Store_Staff'].replace(\"Résilié un contrat ou abonnement\",np.nan)\n",
    "df_clean['Store_Staff']=df_clean['Store_Staff'].replace(\"Signé un contrat avec votre opérateur principal pour la première fois\",np.nan)\n"
   ]
  },
  {
   "cell_type": "code",
   "execution_count": null,
   "metadata": {},
   "outputs": [],
   "source": [
    "df_clean[\"Store_Staff_ajuste\"]=df_clean[\"Store_Staff\"]"
   ]
  },
  {
   "cell_type": "code",
   "execution_count": null,
   "metadata": {},
   "outputs": [],
   "source": [
    "df_clean[\"Store_Staff_ajuste\"]=df_clean[\"Store_Staff_ajuste\"].astype(\"str\")\n",
    "df_clean[~df_clean[\"Store_Staff_ajuste\"].str.isnumeric()][\"Store_Staff_ajuste\"]"
   ]
  },
  {
   "cell_type": "code",
   "execution_count": null,
   "metadata": {},
   "outputs": [],
   "source": [
    "df_clean[\"Store_Staff_numeric\"]=df_clean[\"Store_Staff_ajuste\"]\n",
    "#df_clean[~df_clean[\"Info_Facility_Understand_numeric\"].str.isnumeric()][\"Info_Facility_Understand_numeric\"]\n",
    "df_clean.loc[~(df_clean[\"Store_Staff_numeric\"].str.isnumeric()),'Store_Staff_numeric']=np.nan"
   ]
  },
  {
   "cell_type": "code",
   "execution_count": null,
   "metadata": {},
   "outputs": [],
   "source": [
    "df_clean[\"Store_Staff_numeric\"].unique() # (besoin)"
   ]
  },
  {
   "cell_type": "code",
   "execution_count": null,
   "metadata": {},
   "outputs": [],
   "source": [
    "df_clean.loc[(df_clean[\"Store_Staff_ajuste\"].str.isnumeric()),'Store_Staff_ajuste']=np.nan"
   ]
  },
  {
   "cell_type": "code",
   "execution_count": null,
   "metadata": {
    "hide_input": false
   },
   "outputs": [],
   "source": [
    "df_clean[\"Store_Staff_ajuste\"].unique() #  str  #(arij)"
   ]
  },
  {
   "cell_type": "code",
   "execution_count": null,
   "metadata": {},
   "outputs": [],
   "source": [
    "df_clean['Store_Staff_numeric']=np.where( (df_clean['Contract_Operation_ajuste']!=\"Vous avez reçu une visite d’un commercial sans besoin particulier de votre part\" )\n",
    "                                        & (df_clean['Way_For_Operation_ajuste']!=\"Reçu la visite d’un commercial\") \n",
    "                                        & (pd.isnull(df_clean['Store_Staff_numeric'])==True)\n",
    "                                     ,999 , df_clean['Store_Staff_numeric'])"
   ]
  },
  {
   "cell_type": "code",
   "execution_count": null,
   "metadata": {},
   "outputs": [],
   "source": [
    "df_clean['Store_Staff_numeric'].value_counts(dropna=False,normalize=True)"
   ]
  },
  {
   "cell_type": "markdown",
   "metadata": {},
   "source": [
    "### Request_Comprehension Cleaning  👩‍🏫"
   ]
  },
  {
   "cell_type": "code",
   "execution_count": null,
   "metadata": {
    "hide_input": false
   },
   "outputs": [],
   "source": [
    "df_clean['Request_Comprehension']=df_clean['Request_Comprehension'].replace(\"1.\",1)\n",
    "df_clean['Request_Comprehension']=df_clean['Request_Comprehension'].replace(\"Aucun\",np.nan)\n",
    "df_clean['Request_Comprehension']=df_clean['Request_Comprehension'].replace(\"3.\",3)\n",
    "df_clean['Request_Comprehension']=df_clean['Request_Comprehension'].replace(\"4.\",4)\n",
    "df_clean['Request_Comprehension']=df_clean['Request_Comprehension'].replace(\"2.\",2)\n",
    "df_clean['Request_Comprehension']=df_clean['Request_Comprehension'].replace(\"10 (La meilleure note)\",10)\n",
    "df_clean['Request_Comprehension']=df_clean['Request_Comprehension'].replace(\"3 mois à moins de 6 mois\",np.nan)\n",
    "df_clean['Request_Comprehension']=df_clean['Request_Comprehension'].replace(\"Signé un contrat avec votre opérateur principal pour la première fois/2.\",np.nan)\n",
    "df_clean['Request_Comprehension']=df_clean['Request_Comprehension'].replace(\"Signé un contrat avec votre opérateur principal pour la première fois\",np.nan)\n",
    "df_clean['Request_Comprehension']=df_clean['Request_Comprehension'].replace(\"Résilié un contrat ou abonnement\",np.nan)\n",
    "df_clean['Request_Comprehension']=df_clean['Request_Comprehension'].replace(\"6 mois à moins de 12 mois\",np.nan)"
   ]
  },
  {
   "cell_type": "code",
   "execution_count": null,
   "metadata": {},
   "outputs": [],
   "source": [
    "df_clean[\"Request_Comprehension_ajuste\"]=df_clean[\"Request_Comprehension\"]"
   ]
  },
  {
   "cell_type": "code",
   "execution_count": null,
   "metadata": {},
   "outputs": [],
   "source": [
    "df_clean[\"Request_Comprehension_ajuste\"]=df_clean[\"Request_Comprehension_ajuste\"].astype(\"str\")\n",
    "df_clean[~df_clean[\"Request_Comprehension_ajuste\"].str.isnumeric()][\"Request_Comprehension_ajuste\"]"
   ]
  },
  {
   "cell_type": "code",
   "execution_count": null,
   "metadata": {},
   "outputs": [],
   "source": [
    "df_clean[\"Request_Comprehension_numeric\"]=df_clean[\"Request_Comprehension_ajuste\"]\n",
    "#df_clean[~df_clean[\"Info_Facility_Understand_numeric\"].str.isnumeric()][\"Info_Facility_Understand_numeric\"]\n",
    "df_clean.loc[~(df_clean[\"Request_Comprehension_numeric\"].str.isnumeric()),'Request_Comprehension_numeric']=np.nan"
   ]
  },
  {
   "cell_type": "code",
   "execution_count": null,
   "metadata": {
    "hide_input": false
   },
   "outputs": [],
   "source": [
    "df_clean[\"Request_Comprehension_numeric\"].unique() "
   ]
  },
  {
   "cell_type": "code",
   "execution_count": null,
   "metadata": {},
   "outputs": [],
   "source": [
    "df_clean.loc[(df_clean[\"Request_Comprehension_ajuste\"].str.isnumeric()),'Request_Comprehension_ajuste']=np.nan"
   ]
  },
  {
   "cell_type": "code",
   "execution_count": null,
   "metadata": {},
   "outputs": [],
   "source": [
    "df_clean[\"Request_Comprehension_ajuste\"].unique() #  str # arij"
   ]
  },
  {
   "cell_type": "code",
   "execution_count": null,
   "metadata": {},
   "outputs": [],
   "source": [
    "df_clean['Request_Comprehension_numeric'].value_counts(normalize=True,dropna=False)"
   ]
  },
  {
   "cell_type": "code",
   "execution_count": null,
   "metadata": {},
   "outputs": [],
   "source": [
    "df_clean['Request_Comprehension_numeric']=np.where( (df_clean['Contract_Operation_ajuste']!=\"Vous avez reçu une visite d’un commercial sans besoin particulier de votre part\" )\n",
    "                                        & (df_clean['Way_For_Operation_ajuste']!=\"Reçu la visite d’un commercial\") \n",
    "                                        & (pd.isnull(df_clean['Request_Comprehension_numeric'])==True)\n",
    "                                     ,999 , df_clean['Request_Comprehension_numeric'])"
   ]
  },
  {
   "cell_type": "markdown",
   "metadata": {},
   "source": [
    "### Proposed_solution_in_Store Cleaning 💡"
   ]
  },
  {
   "cell_type": "code",
   "execution_count": null,
   "metadata": {
    "hide_input": false
   },
   "outputs": [],
   "source": [
    "df_clean['Proposed_solution_in_Store']=df_clean['Proposed_solution_in_Store'].replace(\"4.\",4)\n",
    "df_clean['Proposed_solution_in_Store']=df_clean['Proposed_solution_in_Store'].replace(\"2.\",2)\n",
    "df_clean['Proposed_solution_in_Store']=df_clean['Proposed_solution_in_Store'].replace(\"1.\",1)\n",
    "df_clean['Proposed_solution_in_Store']=df_clean['Proposed_solution_in_Store'].replace(\"Il y a moins de 3 mois\",np.nan)\n",
    "df_clean['Proposed_solution_in_Store']=df_clean['Proposed_solution_in_Store'].replace(\"Signé un contrat avec votre opérateur principal pour la première fois\",np.nan)\n",
    "\n",
    "df_clean['Proposed_solution_in_Store']=df_clean['Proposed_solution_in_Store'].replace(\"Aucun\",np.nan)\n",
    "df_clean['Proposed_solution_in_Store']=df_clean['Proposed_solution_in_Store'].replace(\"6 mois à moins de 12 mois\",np.nan)\n",
    "df_clean['Proposed_solution_in_Store']=df_clean['Proposed_solution_in_Store'].replace(\"Résilié un contrat ou abonnement\",np.nan)\n",
    "df_clean['Proposed_solution_in_Store']=df_clean['Proposed_solution_in_Store'].replace(\"Résilié un contrat ou abonnement/3.\",np.nan)"
   ]
  },
  {
   "cell_type": "code",
   "execution_count": null,
   "metadata": {
    "hide_input": false
   },
   "outputs": [],
   "source": [
    "df_clean[\"Proposed_solution_in_Store_ajuste\"]=df_clean[\"Proposed_solution_in_Store\"]"
   ]
  },
  {
   "cell_type": "code",
   "execution_count": null,
   "metadata": {},
   "outputs": [],
   "source": [
    "df_clean[\"Proposed_solution_in_Store_ajuste\"]=df_clean[\"Proposed_solution_in_Store_ajuste\"].astype(\"str\")\n",
    "df_clean[~df_clean[\"Proposed_solution_in_Store_ajuste\"].str.isnumeric()][\"Proposed_solution_in_Store_ajuste\"]"
   ]
  },
  {
   "cell_type": "code",
   "execution_count": null,
   "metadata": {},
   "outputs": [],
   "source": [
    "df_clean[\"Proposed_solution_in_Store_numeric\"]=df_clean[\"Proposed_solution_in_Store_ajuste\"]\n",
    "#df_clean[~df_clean[\"Info_Facility_Understand_numeric\"].str.isnumeric()][\"Info_Facility_Understand_numeric\"]\n",
    "df_clean.loc[~(df_clean[\"Proposed_solution_in_Store_numeric\"].str.isnumeric()),'Proposed_solution_in_Store_numeric']=np.nan"
   ]
  },
  {
   "cell_type": "code",
   "execution_count": null,
   "metadata": {},
   "outputs": [],
   "source": [
    "df_clean[\"Proposed_solution_in_Store_numeric\"].unique() "
   ]
  },
  {
   "cell_type": "code",
   "execution_count": null,
   "metadata": {},
   "outputs": [],
   "source": [
    "df_clean.loc[(df_clean[\"Proposed_solution_in_Store_ajuste\"].str.isnumeric()),'Proposed_solution_in_Store_ajuste']=np.nan"
   ]
  },
  {
   "cell_type": "code",
   "execution_count": null,
   "metadata": {},
   "outputs": [],
   "source": [
    "df_clean[\"Proposed_solution_in_Store_ajuste\"].unique() #  str # arij"
   ]
  },
  {
   "cell_type": "code",
   "execution_count": null,
   "metadata": {},
   "outputs": [],
   "source": [
    "df_clean['Proposed_solution_in_Store_numeric'].value_counts(normalize=True,dropna=False)"
   ]
  },
  {
   "cell_type": "code",
   "execution_count": null,
   "metadata": {},
   "outputs": [],
   "source": [
    "df_clean['Proposed_solution_in_Store_numeric']=np.where( (df_clean['Contract_Operation_ajuste']!=\"Vous avez reçu une visite d’un commercial sans besoin particulier de votre part\" )\n",
    "                                        & (df_clean['Way_For_Operation_ajuste']!=\"Reçu la visite d’un commercial\") \n",
    "                                        & (pd.isnull(df_clean['Proposed_solution_in_Store_numeric'])==True)\n",
    "                                     ,999 , df_clean['Proposed_solution_in_Store_numeric'])"
   ]
  },
  {
   "cell_type": "markdown",
   "metadata": {},
   "source": [
    "###   privileged welcome as a business customer Cleaning 🙌"
   ]
  },
  {
   "cell_type": "code",
   "execution_count": null,
   "metadata": {
    "hide_input": false
   },
   "outputs": [],
   "source": [
    "df_clean['privileged welcome as a business customer']=df_clean['privileged welcome as a business customer'].replace(\"4.\",4)\n",
    "df_clean['privileged welcome as a business customer']=df_clean['privileged welcome as a business customer'].replace(\"2.\",2)\n",
    "\n",
    "df_clean['privileged welcome as a business customer']=df_clean['privileged welcome as a business customer'].replace(\"6 mois à moins de 12 mois\",np.nan)\n",
    "df_clean['privileged welcome as a business customer']=df_clean['privileged welcome as a business customer'].replace(\"Aucun\",np.nan)\n",
    "df_clean['privileged welcome as a business customer']=df_clean['privileged welcome as a business customer'].replace(\"Résilié un contrat ou abonnement\",np.nan)\n",
    "df_clean['privileged welcome as a business customer']=df_clean['privileged welcome as a business customer'].replace(\"Il y a moins de 3 mois\",np.nan)\n",
    "df_clean['privileged welcome as a business customer']=df_clean['privileged welcome as a business customer'].replace(\"1.\",1)\n",
    "df_clean['privileged welcome as a business customer']=df_clean['privileged welcome as a business customer'].replace(\"3.\",3)\n",
    "df_clean['privileged welcome as a business customer']=df_clean['privileged welcome as a business customer'].replace(\"1 (La mauvaise note)\",1)\n",
    "df_clean['privileged welcome as a business customer']=df_clean['privileged welcome as a business customer'].replace(\"10 (La meilleure note)\",10)"
   ]
  },
  {
   "cell_type": "code",
   "execution_count": null,
   "metadata": {
    "hide_input": false
   },
   "outputs": [],
   "source": [
    "df_clean[\"privileged welcome as a business customer_ajuste\"]=df_clean[\"privileged welcome as a business customer\"]"
   ]
  },
  {
   "cell_type": "code",
   "execution_count": null,
   "metadata": {},
   "outputs": [],
   "source": [
    "df_clean[\"privileged welcome as a business customer_ajuste\"]=df_clean[\"privileged welcome as a business customer_ajuste\"].astype(\"str\")\n",
    "df_clean[~df_clean[\"privileged welcome as a business customer_ajuste\"].str.isnumeric()][\"privileged welcome as a business customer_ajuste\"]"
   ]
  },
  {
   "cell_type": "code",
   "execution_count": null,
   "metadata": {},
   "outputs": [],
   "source": [
    "df_clean[\"privileged welcome as a business customer_numeric\"]=df_clean[\"privileged welcome as a business customer_ajuste\"]\n",
    "#df_clean[~df_clean[\"Info_Facility_Understand_numeric\"].str.isnumeric()][\"Info_Facility_Understand_numeric\"]\n",
    "df_clean.loc[~(df_clean[\"privileged welcome as a business customer_numeric\"].str.isnumeric()),'privileged welcome as a business customer_numeric']=np.nan"
   ]
  },
  {
   "cell_type": "code",
   "execution_count": null,
   "metadata": {},
   "outputs": [],
   "source": [
    "df_clean[\"privileged welcome as a business customer_numeric\"].unique()"
   ]
  },
  {
   "cell_type": "code",
   "execution_count": null,
   "metadata": {},
   "outputs": [],
   "source": [
    "df_clean.loc[(df_clean[\"privileged welcome as a business customer_ajuste\"].str.isnumeric()),'privileged welcome as a business customer_ajuste']=np.nan"
   ]
  },
  {
   "cell_type": "code",
   "execution_count": null,
   "metadata": {},
   "outputs": [],
   "source": [
    "df_clean[\"privileged welcome as a business customer_ajuste\"].unique() #  str # arij"
   ]
  },
  {
   "cell_type": "code",
   "execution_count": null,
   "metadata": {},
   "outputs": [],
   "source": [
    "df_clean['privileged welcome as a business customer_numeric'].value_counts(dropna=False,normalize=True)"
   ]
  },
  {
   "cell_type": "code",
   "execution_count": null,
   "metadata": {},
   "outputs": [],
   "source": [
    "df_clean['privileged welcome as a business customer_numeric']=np.where( (df_clean['Way_For_Operation_ajuste']!=\"Eté En boutique\" )\n",
    "                                         \n",
    "                                        & (pd.isnull(df_clean['privileged welcome as a business customer_numeric'])==True)\n",
    "                                     ,999 , df_clean['privileged welcome as a business customer_numeric'])"
   ]
  },
  {
   "cell_type": "markdown",
   "metadata": {},
   "source": [
    "###  Waiting_Time_in_Store Cleaning ⏳"
   ]
  },
  {
   "cell_type": "code",
   "execution_count": null,
   "metadata": {
    "hide_input": false
   },
   "outputs": [],
   "source": [
    "df_clean['Waiting_Time_in_Store']=df_clean['Waiting_Time_in_Store'].replace(\"1.\",1)\n",
    "df_clean['Waiting_Time_in_Store']=df_clean['Waiting_Time_in_Store'].replace(\"1 (La mauvaise note)\",1)\n",
    "df_clean['Waiting_Time_in_Store']=df_clean['Waiting_Time_in_Store'].replace(\"Aucun\",np.nan)\n",
    "df_clean['Waiting_Time_in_Store']=df_clean['Waiting_Time_in_Store'].replace(\"Reçu la visite d’un commercial\",np.nan)\n",
    "df_clean['Waiting_Time_in_Store']=df_clean['Waiting_Time_in_Store'].replace(\"Il y a moins de 3 mois\",np.nan)\n",
    "df_clean['Waiting_Time_in_Store']=df_clean['Waiting_Time_in_Store'].replace(\"6 mois à moins de 12 mois\",np.nan)\n",
    "df_clean['Waiting_Time_in_Store']=df_clean['Waiting_Time_in_Store'].replace(\"3 mois à moins de 6 mois\",np.nan)\n",
    "df_clean['Waiting_Time_in_Store']=df_clean['Waiting_Time_in_Store'].replace(\"Résilié un contrat ou abonnement\",np.nan)\n",
    "df_clean['Waiting_Time_in_Store']=df_clean['Waiting_Time_in_Store'].replace(\"Vous avez reçu une visite d’un commercial sans besoin particulier de votre part\",np.nan)"
   ]
  },
  {
   "cell_type": "code",
   "execution_count": null,
   "metadata": {
    "hide_input": false,
    "scrolled": true
   },
   "outputs": [],
   "source": [
    "df_clean['Waiting_Time_in_Store'].value_counts(dropna=False,normalize=True)"
   ]
  },
  {
   "cell_type": "code",
   "execution_count": null,
   "metadata": {},
   "outputs": [],
   "source": [
    "df_clean['Waiting_Time_in_Store']=np.where( (df_clean['Way_For_Operation_ajuste']!=\"Eté En boutique\" )\n",
    "                                         \n",
    "                                        & (pd.isnull(df_clean['Waiting_Time_in_Store'])==True)\n",
    "                                     ,999 , df_clean['Waiting_Time_in_Store'])"
   ]
  },
  {
   "cell_type": "markdown",
   "metadata": {},
   "source": [
    "### Commercial_Eval Cleaning"
   ]
  },
  {
   "cell_type": "code",
   "execution_count": null,
   "metadata": {
    "hide_input": false
   },
   "outputs": [],
   "source": [
    "df_clean['Commercial_Eval']=df_clean['Commercial_Eval'].replace(\"1 (La mauvaise note)\",1)\n",
    "df_clean['Commercial_Eval']=df_clean['Commercial_Eval'].replace(\"1.\",1)\n",
    "df_clean['Commercial_Eval']=df_clean['Commercial_Eval'].replace(\"4.\",4)\n",
    "df_clean['Commercial_Eval']=df_clean['Commercial_Eval'].replace(\"Il y a moins de 3 mois\",np.nan)\n",
    "df_clean['Commercial_Eval']=df_clean['Commercial_Eval'].replace(\"6 mois à moins de 12 mois\",np.nan)\n",
    "df_clean['Commercial_Eval']=df_clean['Commercial_Eval'].replace(\"Reçu la visite d’un commercial\",np.nan)\n",
    "df_clean['Commercial_Eval']=df_clean['Commercial_Eval'].replace(\"3 mois à moins de 6 mois\",np.nan)\n",
    "df_clean['Commercial_Eval']=df_clean['Commercial_Eval'].replace(\"Reçu la visite d’un commercial/2.\",np.nan)"
   ]
  },
  {
   "cell_type": "code",
   "execution_count": null,
   "metadata": {
    "hide_input": false
   },
   "outputs": [],
   "source": [
    "df_clean['Commercial_Eval'].value_counts(dropna=False,normalize=True)"
   ]
  },
  {
   "cell_type": "code",
   "execution_count": null,
   "metadata": {},
   "outputs": [],
   "source": [
    "df_clean['Commercial_Eval']=np.where( (df_clean['Way_For_Operation_ajuste']!=\"Eté En boutique\" )\n",
    "                                         \n",
    "                                        & (pd.isnull(df_clean['Commercial_Eval'])==True)\n",
    "                                     ,999 , df_clean['Commercial_Eval'])"
   ]
  },
  {
   "cell_type": "code",
   "execution_count": null,
   "metadata": {},
   "outputs": [],
   "source": []
  },
  {
   "cell_type": "code",
   "execution_count": null,
   "metadata": {},
   "outputs": [],
   "source": []
  },
  {
   "cell_type": "markdown",
   "metadata": {},
   "source": [
    "### Time_Before_talk Cleaning  ⏱👄"
   ]
  },
  {
   "cell_type": "code",
   "execution_count": null,
   "metadata": {
    "hide_input": false
   },
   "outputs": [],
   "source": [
    "df_clean['Time_Before_talk']=df_clean['Time_Before_talk'].replace(\"1 (La mauvaise note)\",1)\n",
    "df_clean['Time_Before_talk']=df_clean['Time_Before_talk'].replace(\"3 mois à moins de 6 mois\",np.nan)\n",
    "df_clean['Time_Before_talk']=df_clean['Time_Before_talk'].replace(\"Aucun\",np.nan)\n",
    "df_clean['Time_Before_talk']=df_clean['Time_Before_talk'].replace(\"6 mois à moins de 12 mois\",np.nan)\n",
    "df_clean['Time_Before_talk']=df_clean['Time_Before_talk'].replace(\"Reçu la visite d’un commercial\",np.nan)\n",
    "df_clean['Time_Before_talk']=df_clean['Time_Before_talk'].replace(\"Il y a moins de 3 mois\",np.nan)\n",
    "df_clean['Time_Before_talk']=df_clean['Time_Before_talk'].replace(\"Eté en boutique / agence\",np.nan)"
   ]
  },
  {
   "cell_type": "code",
   "execution_count": null,
   "metadata": {
    "hide_input": false
   },
   "outputs": [],
   "source": [
    "df_clean['Time_Before_talk'].value_counts(dropna=False,normalize=True)"
   ]
  },
  {
   "cell_type": "code",
   "execution_count": null,
   "metadata": {},
   "outputs": [],
   "source": [
    "df_clean['Time_Before_talk']=np.where( (df_clean['Way_For_Operation_ajuste']!=\"Eté En boutique\" )\n",
    "                                         \n",
    "                                        & (pd.isnull(df_clean['Time_Before_talk'])==True)\n",
    "                                     ,999 , df_clean['Time_Before_talk'])"
   ]
  },
  {
   "cell_type": "markdown",
   "metadata": {},
   "source": [
    "### commercial_understanding Cleaning 🛒"
   ]
  },
  {
   "cell_type": "code",
   "execution_count": null,
   "metadata": {
    "hide_input": false
   },
   "outputs": [],
   "source": [
    "df_clean['commercial_understanding']=df_clean['commercial_understanding'].replace(\"6 mois à moins de 12 mois\",np.nan)\n",
    "df_clean['commercial_understanding']=df_clean['commercial_understanding'].replace(\"3 mois à moins de 6 mois\",np.nan)\n",
    "df_clean['commercial_understanding']=df_clean['commercial_understanding'].replace(\"1 (La mauvaise note)\",1)"
   ]
  },
  {
   "cell_type": "code",
   "execution_count": null,
   "metadata": {
    "hide_input": false
   },
   "outputs": [],
   "source": [
    "df_clean['commercial_understanding'].value_counts(dropna=False,normalize=True)"
   ]
  },
  {
   "cell_type": "code",
   "execution_count": null,
   "metadata": {},
   "outputs": [],
   "source": [
    "df_clean['commercial_understanding']=np.where( (df_clean['Way_For_Operation_ajuste']!=\"Eté En boutique\" )\n",
    "                                         \n",
    "                                        & (pd.isnull(df_clean['commercial_understanding'])==True)\n",
    "                                     ,999 , df_clean['commercial_understanding'])"
   ]
  },
  {
   "cell_type": "markdown",
   "metadata": {},
   "source": [
    "### commercial_solution  Cleaning🛒💡"
   ]
  },
  {
   "cell_type": "code",
   "execution_count": null,
   "metadata": {
    "hide_input": false
   },
   "outputs": [],
   "source": [
    "df_clean['commercial_solution']=df_clean['commercial_solution'].replace(\"1 (La mauvaise note)\",1)\n",
    "df_clean['commercial_solution']=df_clean['commercial_solution'].replace(\"3 mois à moins de 6 mois\",np.nan)"
   ]
  },
  {
   "cell_type": "code",
   "execution_count": null,
   "metadata": {
    "hide_input": false
   },
   "outputs": [],
   "source": [
    "df_clean['commercial_solution'].value_counts(dropna=False,normalize=True)"
   ]
  },
  {
   "cell_type": "code",
   "execution_count": null,
   "metadata": {},
   "outputs": [],
   "source": [
    "df_clean['commercial_solution']=np.where( (df_clean['Way_For_Operation_ajuste']!=\"Eté En boutique\" )\n",
    "                                         \n",
    "                                        & (pd.isnull(df_clean['commercial_solution'])==True)\n",
    "                                     ,999 , df_clean['commercial_solution'])"
   ]
  },
  {
   "cell_type": "markdown",
   "metadata": {},
   "source": [
    "### Visit_Eval.1 Cleaning"
   ]
  },
  {
   "cell_type": "code",
   "execution_count": null,
   "metadata": {
    "hide_input": false
   },
   "outputs": [],
   "source": [
    "df_clean['Visit_Eval.1']=df_clean['Visit_Eval.1'].replace(\"1 (La mauvaise note)\",1)"
   ]
  },
  {
   "cell_type": "code",
   "execution_count": null,
   "metadata": {
    "hide_input": false
   },
   "outputs": [],
   "source": [
    "df_clean['Visit_Eval.1'].value_counts(dropna=False,normalize=True)"
   ]
  },
  {
   "cell_type": "code",
   "execution_count": null,
   "metadata": {},
   "outputs": [],
   "source": [
    "df_clean['Visit_Eval.1']=np.where( (df_clean['Way_For_Operation_ajuste']!=\"Eté En boutique\" )\n",
    "                                         \n",
    "                                        & (pd.isnull(df_clean['Visit_Eval.1'])==True)\n",
    "                                     ,999 , df_clean['Visit_Eval.1'])"
   ]
  },
  {
   "cell_type": "markdown",
   "metadata": {},
   "source": [
    "# Offer_Needs Cleaning"
   ]
  },
  {
   "cell_type": "code",
   "execution_count": null,
   "metadata": {
    "hide_input": false
   },
   "outputs": [],
   "source": [
    "df_clean['Offer_Needs']=df_clean['Offer_Needs'].replace(\"1 (La mauvaise note)\",1)"
   ]
  },
  {
   "cell_type": "code",
   "execution_count": null,
   "metadata": {
    "hide_input": false
   },
   "outputs": [],
   "source": [
    "df_clean['Offer_Needs'].value_counts(dropna=False,normalize=True)"
   ]
  },
  {
   "cell_type": "markdown",
   "metadata": {},
   "source": [
    "### Prices_clarity Cleaning 💰"
   ]
  },
  {
   "cell_type": "code",
   "execution_count": null,
   "metadata": {
    "hide_input": false
   },
   "outputs": [],
   "source": [
    "df_clean['Prices_clarity']=df_clean['Prices_clarity'].replace(\"1 (La mauvaise note)\",1)"
   ]
  },
  {
   "cell_type": "code",
   "execution_count": null,
   "metadata": {
    "hide_input": false
   },
   "outputs": [],
   "source": [
    "df_clean['Prices_clarity'].value_counts(dropna=False,normalize=True)"
   ]
  },
  {
   "cell_type": "markdown",
   "metadata": {},
   "source": [
    "### Distinguished_Offers Cleaning"
   ]
  },
  {
   "cell_type": "code",
   "execution_count": null,
   "metadata": {
    "hide_input": false
   },
   "outputs": [],
   "source": [
    "df_clean['Distinguished_Offers']=df_clean['Distinguished_Offers'].replace(\"1 (La mauvaise note)\",1)"
   ]
  },
  {
   "cell_type": "code",
   "execution_count": null,
   "metadata": {
    "hide_input": false
   },
   "outputs": [],
   "source": [
    "df_clean['Distinguished_Offers'].value_counts(normalize=True,dropna=False)"
   ]
  },
  {
   "cell_type": "markdown",
   "metadata": {},
   "source": [
    "### ability innovative offers Cleaning"
   ]
  },
  {
   "cell_type": "code",
   "execution_count": null,
   "metadata": {
    "hide_input": false
   },
   "outputs": [],
   "source": [
    "df_clean['ability innovative offers']=df_clean['ability innovative offers'].replace(\"10 (La meilleure note)\",10)\n",
    "df_clean['ability innovative offers']=df_clean['ability innovative offers'].replace(\"1 (La mauvaise note)\",1)\n",
    "df_clean['ability innovative offers']=df_clean['ability innovative offers'].replace(\"11 (Ne sait pas/ Non applicable)\",np.nan)"
   ]
  },
  {
   "cell_type": "code",
   "execution_count": null,
   "metadata": {
    "hide_input": false
   },
   "outputs": [],
   "source": [
    "df_clean['ability innovative offers'].value_counts(dropna=False,normalize=True)"
   ]
  },
  {
   "cell_type": "markdown",
   "metadata": {},
   "source": [
    "###  Services_Activation Cleaning "
   ]
  },
  {
   "cell_type": "code",
   "execution_count": null,
   "metadata": {
    "hide_input": false
   },
   "outputs": [],
   "source": [
    "df_clean['Services_Activation']=df_clean['Services_Activation'].replace(\"1 (La mauvaise note)\",1)\n",
    "df_clean['Services_Activation']=df_clean['Services_Activation'].replace(\"10 (La meilleure note)\",10)"
   ]
  },
  {
   "cell_type": "code",
   "execution_count": null,
   "metadata": {
    "hide_input": false
   },
   "outputs": [],
   "source": [
    "df_clean['Services_Activation'].value_counts(dropna=False,normalize=True)"
   ]
  },
  {
   "cell_type": "markdown",
   "metadata": {},
   "source": [
    "## Network_Quality"
   ]
  },
  {
   "cell_type": "code",
   "execution_count": null,
   "metadata": {},
   "outputs": [],
   "source": [
    "df_clean['Network_Quality'].unique()"
   ]
  },
  {
   "cell_type": "code",
   "execution_count": null,
   "metadata": {},
   "outputs": [],
   "source": [
    "df_clean['Network_Quality'].replace('10 (La meilleure note)', 10, inplace=True)\n",
    "df_clean['Network_Quality'].replace('1 (La mauvaise note)', 1, inplace=True)\n",
    "df_clean['Network_Quality'].replace('11 (Ne sait pas/ Non applicable)', 11, inplace=True)"
   ]
  },
  {
   "cell_type": "code",
   "execution_count": null,
   "metadata": {},
   "outputs": [],
   "source": [
    "df_clean['Network_Quality']=pd.to_numeric(df_clean['Network_Quality'], errors='coerce',downcast='signed')\n",
    "df_clean['Network_Quality'].value_counts(dropna=False,normalize=True)"
   ]
  },
  {
   "cell_type": "markdown",
   "metadata": {},
   "source": [
    "# ✔️Result amal + amina  👩🏻👩🏻"
   ]
  },
  {
   "cell_type": "markdown",
   "metadata": {
    "hide_input": false
   },
   "source": [
    "print(str(df_clean.shape[0])+\" Records /\"+ str(df_clean.shape[0]) + \" features\")\n",
    "print(str(df_clean.isna().sum().sum())+\" Null values remaining\")"
   ]
  },
  {
   "cell_type": "markdown",
   "metadata": {},
   "source": [
    "## Resultat amina amal"
   ]
  },
  {
   "cell_type": "code",
   "execution_count": null,
   "metadata": {},
   "outputs": [],
   "source": [
    "print(df_clean.shape)\n",
    "print(df_clean.isna().sum().sum())"
   ]
  },
  {
   "cell_type": "markdown",
   "metadata": {},
   "source": [
    "# Elyes 🧔🏻👩🏼\n"
   ]
  },
  {
   "cell_type": "markdown",
   "metadata": {
    "hide_input": false
   },
   "source": [
    "###  Voice_Message 🔊💌\n",
    "📌Note: This column idicates if the company is using the voice_message  \n",
    "NOT the rating of the service ===> not useful we're dropping it in the next hidden cell."
   ]
  },
  {
   "cell_type": "code",
   "execution_count": 956,
   "metadata": {
    "hide_input": true
   },
   "outputs": [],
   "source": [
    "#df_clean[\"Voice_Message\"].value_counts(dropna=False,normalize=True)"
   ]
  },
  {
   "cell_type": "code",
   "execution_count": 957,
   "metadata": {
    "hide_input": true
   },
   "outputs": [],
   "source": [
    "df_clean.drop(\"Voice_Message\",inplace=True,axis=1,errors='ignore')"
   ]
  },
  {
   "cell_type": "markdown",
   "metadata": {},
   "source": [
    "### Conf_Call 👨‍👧‍👧\n",
    "📌Note: This column idicates if the company is using the Conference call services\n",
    "NOT the rating of the service ===> not useful we're dropping it in the next hidden cell."
   ]
  },
  {
   "cell_type": "code",
   "execution_count": 958,
   "metadata": {
    "hide_input": true
   },
   "outputs": [],
   "source": [
    "df_clean['Conf_Call'].replace({\n",
    "    7:np.nan,6:np.nan,8:np.nan,3:np.nan,4:np.nan,5:np.nan,'1 (La mauvaise note)':np.nan\n",
    "},inplace=True)\n"
   ]
  },
  {
   "cell_type": "code",
   "execution_count": 959,
   "metadata": {
    "hide_input": true,
    "scrolled": true
   },
   "outputs": [
    {
     "data": {
      "text/plain": [
       "Non                     1207\n",
       "NaN                       98\n",
       "Oui                       83\n",
       "7                         22\n",
       "6                         11\n",
       "8                          9\n",
       "3                          3\n",
       "1 (La mauvaise note)       2\n",
       "5                          2\n",
       "4                          2\n",
       "Name: Conf_Call, dtype: int64"
      ]
     },
     "execution_count": 959,
     "metadata": {},
     "output_type": "execute_result"
    }
   ],
   "source": [
    "df_clean['Conf_Call'].value_counts(dropna=False)"
   ]
  },
  {
   "cell_type": "code",
   "execution_count": 960,
   "metadata": {
    "hide_input": true
   },
   "outputs": [],
   "source": [
    "df_clean.drop('Conf_Call',axis=1,inplace=True,errors='ignore')"
   ]
  },
  {
   "cell_type": "markdown",
   "metadata": {},
   "source": [
    "### Orange_Money 🍊🤑"
   ]
  },
  {
   "cell_type": "code",
   "execution_count": 961,
   "metadata": {
    "hide_input": false
   },
   "outputs": [],
   "source": [
    "df_clean.drop('Orange_Money',axis=1,inplace=True,errors='ignore')"
   ]
  },
  {
   "cell_type": "markdown",
   "metadata": {},
   "source": [
    "### Ooredoo_Mobicash"
   ]
  },
  {
   "cell_type": "code",
   "execution_count": 962,
   "metadata": {
    "hide_input": true
   },
   "outputs": [
    {
     "data": {
      "text/plain": [
       "NaN    998\n",
       "Non    368\n",
       "Oui     59\n",
       "7       11\n",
       "6        3\n",
       "Name: Ooredoo_Mobicash, dtype: int64"
      ]
     },
     "execution_count": 962,
     "metadata": {},
     "output_type": "execute_result"
    }
   ],
   "source": [
    "df_clean['Ooredoo_Mobicash'].value_counts(dropna=False)"
   ]
  },
  {
   "cell_type": "code",
   "execution_count": 963,
   "metadata": {
    "hide_input": true
   },
   "outputs": [],
   "source": [
    "df_clean.drop('Ooredoo_Mobicash',axis=1,inplace=True,errors='ignore')"
   ]
  },
  {
   "cell_type": "markdown",
   "metadata": {},
   "source": [
    "### Telecom_Mdinar"
   ]
  },
  {
   "cell_type": "code",
   "execution_count": 964,
   "metadata": {
    "hide_input": true
   },
   "outputs": [
    {
     "data": {
      "text/plain": [
       "NaN    1035\n",
       "Non     275\n",
       "Oui     107\n",
       "7         9\n",
       "8         5\n",
       "6         4\n",
       "5         2\n",
       "3         2\n",
       "Name: Telecom_Mdinar, dtype: int64"
      ]
     },
     "execution_count": 964,
     "metadata": {},
     "output_type": "execute_result"
    }
   ],
   "source": [
    "df_clean['Telecom_Mdinar'].value_counts(dropna=False)"
   ]
  },
  {
   "cell_type": "code",
   "execution_count": 965,
   "metadata": {
    "hide_input": true
   },
   "outputs": [],
   "source": [
    "df_clean.drop('Telecom_Mdinar',axis=1,inplace=True,errors='ignore')"
   ]
  },
  {
   "cell_type": "markdown",
   "metadata": {},
   "source": [
    "## Roaming_Service 🚁"
   ]
  },
  {
   "cell_type": "code",
   "execution_count": 966,
   "metadata": {
    "hide_input": true
   },
   "outputs": [],
   "source": [
    "df_clean['Roaming_Service'].replace({6:np.nan,7:np.nan,8:np.nan},inplace=True)"
   ]
  },
  {
   "cell_type": "code",
   "execution_count": 967,
   "metadata": {
    "hide_input": true
   },
   "outputs": [
    {
     "data": {
      "text/plain": [
       "Non    758\n",
       "Oui    333\n",
       "NaN    330\n",
       "7       13\n",
       "8        3\n",
       "6        2\n",
       "Name: Roaming_Service, dtype: int64"
      ]
     },
     "execution_count": 967,
     "metadata": {},
     "output_type": "execute_result"
    }
   ],
   "source": [
    "df_clean['Roaming_Service'].value_counts(dropna=False)"
   ]
  },
  {
   "cell_type": "markdown",
   "metadata": {
    "hide_input": false
   },
   "source": [
    "### Quality voice "
   ]
  },
  {
   "cell_type": "code",
   "execution_count": 968,
   "metadata": {
    "hide_input": true
   },
   "outputs": [],
   "source": [
    "df_clean['Quality_Voice'].replace({\"Non\":np.nan,\"Oui\":np.nan,\n",
    "                                   \"1 (La plus mauvaise note)\":1},inplace=True)"
   ]
  },
  {
   "cell_type": "markdown",
   "metadata": {},
   "source": [
    "📌 Healthy 🥕 / Unhealthy 🍔 Nan"
   ]
  },
  {
   "cell_type": "code",
   "execution_count": 969,
   "metadata": {
    "hide_input": true
   },
   "outputs": [],
   "source": [
    "for i in range(len(df_clean)):\n",
    "    if ((df_clean.iloc[i,df_clean.columns.get_loc(\"Roaming_Service\")]==\"Non\") and (pd.isnull(df_clean.iloc[i,df_clean.columns.get_loc(\"Quality_Voice\")])==True)):\n",
    "        df_clean.iloc[i,df_clean.columns.get_loc(\"Quality_Voice\")]=999"
   ]
  },
  {
   "cell_type": "code",
   "execution_count": 970,
   "metadata": {
    "hide_input": true,
    "scrolled": true
   },
   "outputs": [],
   "source": [
    "df_clean['Quality_Voice'].replace({\"Non\":np.nan,\"Oui\":np.nan,\n",
    "                                   \"1 (La plus mauvaise note)\":1},inplace=True)"
   ]
  },
  {
   "cell_type": "code",
   "execution_count": 971,
   "metadata": {
    "hide_input": true
   },
   "outputs": [
    {
     "data": {
      "text/plain": [
       "999                          758\n",
       "NaN                          293\n",
       "6                             99\n",
       "7                             87\n",
       "8                             77\n",
       "5                             77\n",
       "Non                           18\n",
       "4                             11\n",
       "Oui                            7\n",
       "1 (La plus mauvaise note)      6\n",
       "3                              6\n",
       "Name: Quality_Voice, dtype: int64"
      ]
     },
     "execution_count": 971,
     "metadata": {},
     "output_type": "execute_result"
    }
   ],
   "source": [
    "df_clean['Quality_Voice'].value_counts(dropna=False)"
   ]
  },
  {
   "cell_type": "markdown",
   "metadata": {},
   "source": [
    "### Rate_Roaming_Service"
   ]
  },
  {
   "cell_type": "markdown",
   "metadata": {
    "hide_input": false
   },
   "source": [
    "📌 Healthy 🥕 / Unhealthy 🍔 Nan"
   ]
  },
  {
   "cell_type": "code",
   "execution_count": 972,
   "metadata": {
    "hide_input": false
   },
   "outputs": [],
   "source": [
    "for i in range(len(df_clean)):\n",
    "    if ((df_clean.iloc[i,df_clean.columns.get_loc(\"Roaming_Service\")]==\"Non\") and (pd.isnull(df_clean.iloc[i,df_clean.columns.get_loc(\"Rate_Roaming_Service\")])==True)):\n",
    "        df_clean.iloc[i,df_clean.columns.get_loc(\"Rate_Roaming_Service\")]=999"
   ]
  },
  {
   "cell_type": "code",
   "execution_count": 973,
   "metadata": {
    "hide_input": false,
    "scrolled": true
   },
   "outputs": [
    {
     "data": {
      "text/plain": [
       "999.0    758\n",
       "NaN      331\n",
       "6.0      111\n",
       "8.0       92\n",
       "7.0       76\n",
       "5.0       47\n",
       "3.0       12\n",
       "4.0       12\n",
       "Name: Rate_Roaming_Service, dtype: int64"
      ]
     },
     "execution_count": 973,
     "metadata": {},
     "output_type": "execute_result"
    }
   ],
   "source": [
    "df_clean[\"Rate_Roaming_Service\"].value_counts(dropna=False)"
   ]
  },
  {
   "cell_type": "markdown",
   "metadata": {},
   "source": [
    "### Network_Accessibility\n",
    "📌Note: This column idicates the rate of  <strong>Network_Accessibility</strong>"
   ]
  },
  {
   "cell_type": "code",
   "execution_count": 974,
   "metadata": {
    "hide_input": true
   },
   "outputs": [],
   "source": [
    "df_clean['Network_Accessibility'].replace({\"Non\":np.nan,\"Oui\":np.nan,\n",
    "                                           \"1 (La plus mauvaise note)\":1},inplace=True)"
   ]
  },
  {
   "cell_type": "markdown",
   "metadata": {
    "hide_input": false
   },
   "source": [
    "📌 Healthy 🥕 / Unhealthy 🍔 Nan"
   ]
  },
  {
   "cell_type": "code",
   "execution_count": 975,
   "metadata": {
    "hide_input": true
   },
   "outputs": [],
   "source": [
    "for i in range(len(df_clean)):\n",
    "    if ((df_clean.iloc[i,df_clean.columns.get_loc(\"Roaming_Service\")]==\"Non\") and (pd.isnull(df_clean.iloc[i,df_clean.columns.get_loc(\"Network_Accessibility\")])==True)):\n",
    "        df_clean.iloc[i,df_clean.columns.get_loc(\"Network_Accessibility\")]=999"
   ]
  },
  {
   "cell_type": "code",
   "execution_count": 976,
   "metadata": {
    "hide_input": true
   },
   "outputs": [
    {
     "data": {
      "text/plain": [
       "999                          758\n",
       "NaN                          286\n",
       "6                            132\n",
       "8                             84\n",
       "5                             61\n",
       "7                             59\n",
       "Non                           26\n",
       "Oui                           14\n",
       "4                              7\n",
       "1 (La plus mauvaise note)      6\n",
       "3                              6\n",
       "Name: Network_Accessibility, dtype: int64"
      ]
     },
     "execution_count": 976,
     "metadata": {},
     "output_type": "execute_result"
    }
   ],
   "source": [
    "df_clean['Network_Accessibility'].value_counts(dropna=False)"
   ]
  },
  {
   "cell_type": "markdown",
   "metadata": {},
   "source": [
    "### Quality_Mobile_Internet"
   ]
  },
  {
   "cell_type": "code",
   "execution_count": 977,
   "metadata": {
    "hide_input": true
   },
   "outputs": [],
   "source": [
    "df_clean['Quality_Mobile_Internet'].replace({\"Non\":np.nan,\"Oui\":np.nan,\n",
    "                                             \"11 (Ne sait pas/ Non applicable)\":11},inplace=True)"
   ]
  },
  {
   "cell_type": "markdown",
   "metadata": {
    "hide_input": false
   },
   "source": [
    "📌 Healthy 🥕 / Unhealthy 🍔 Nan"
   ]
  },
  {
   "cell_type": "code",
   "execution_count": 978,
   "metadata": {
    "hide_input": true
   },
   "outputs": [],
   "source": [
    "for i in range(len(df_clean)):\n",
    "    if ((df_clean.iloc[i,df_clean.columns.get_loc(\"Roaming_Service\")]==\"Non\") and (pd.isnull(df_clean.iloc[i,df_clean.columns.get_loc(\"Quality_Mobile_Internet\")])==True)):\n",
    "        df_clean.iloc[i,df_clean.columns.get_loc(\"Quality_Mobile_Internet\")]=999"
   ]
  },
  {
   "cell_type": "code",
   "execution_count": 979,
   "metadata": {
    "hide_input": true,
    "scrolled": true
   },
   "outputs": [
    {
     "data": {
      "text/plain": [
       "999                                 758\n",
       "NaN                                 248\n",
       "7                                   114\n",
       "5                                    91\n",
       "6                                    86\n",
       "8                                    51\n",
       "Non                                  42\n",
       "Oui                                  18\n",
       "4                                    13\n",
       "11 (Ne sait pas/ Non applicable)     12\n",
       "2                                     6\n",
       "Name: Quality_Mobile_Internet, dtype: int64"
      ]
     },
     "execution_count": 979,
     "metadata": {},
     "output_type": "execute_result"
    }
   ],
   "source": [
    "df_clean['Quality_Mobile_Internet'].value_counts(dropna=False)"
   ]
  },
  {
   "cell_type": "markdown",
   "metadata": {},
   "source": [
    "### Info_cost_Roaming_Service"
   ]
  },
  {
   "cell_type": "markdown",
   "metadata": {
    "hide_input": false
   },
   "source": [
    "📌 Healthy 🥕 / Unhealthy 🍔 Nan"
   ]
  },
  {
   "cell_type": "code",
   "execution_count": 980,
   "metadata": {
    "hide_input": true
   },
   "outputs": [],
   "source": [
    "df_clean['Info_cost_Roaming_Service'].replace({\"Non\":np.nan,\"Oui\":np.nan,\n",
    "                                               \"11 (Ne sait pas/ Non applicable)\":11},inplace=True)"
   ]
  },
  {
   "cell_type": "code",
   "execution_count": 981,
   "metadata": {
    "hide_input": true
   },
   "outputs": [],
   "source": [
    "for i in range(len(df_clean)):\n",
    "    if ((df_clean.iloc[i,df_clean.columns.get_loc(\"Roaming_Service\")]==\"Non\") and (pd.isnull(df_clean.iloc[i,df_clean.columns.get_loc(\"Info_cost_Roaming_Service\")])==True)):\n",
    "        df_clean.iloc[i,df_clean.columns.get_loc(\"Info_cost_Roaming_Service\")]=999"
   ]
  },
  {
   "cell_type": "code",
   "execution_count": 982,
   "metadata": {
    "hide_input": true
   },
   "outputs": [
    {
     "data": {
      "text/plain": [
       "999                                 758\n",
       "NaN                                 257\n",
       "7                                   115\n",
       "6                                   110\n",
       "5                                    83\n",
       "8                                    50\n",
       "Non                                  21\n",
       "Oui                                  19\n",
       "4                                     8\n",
       "11 (Ne sait pas/ Non applicable)      6\n",
       "3                                     6\n",
       "2                                     6\n",
       "Name: Info_cost_Roaming_Service, dtype: int64"
      ]
     },
     "execution_count": 982,
     "metadata": {},
     "output_type": "execute_result"
    }
   ],
   "source": [
    "df_clean['Info_cost_Roaming_Service'].value_counts(dropna=False)"
   ]
  },
  {
   "cell_type": "markdown",
   "metadata": {},
   "source": [
    "### Cost_Roaming_Service"
   ]
  },
  {
   "cell_type": "code",
   "execution_count": 983,
   "metadata": {
    "hide_input": true
   },
   "outputs": [],
   "source": [
    "df_clean['Cost_Roaming_Service'].replace({\"Non\":np.nan,\"Oui\":np.nan,\n",
    "                                          \"11 (Ne sait pas/ Non applicable)\":11,\n",
    "                                          \"1 (La plus mauvaise note)\":1},inplace=True)"
   ]
  },
  {
   "cell_type": "markdown",
   "metadata": {
    "hide_input": false
   },
   "source": [
    "📌 Healthy 🥕 / Unhealthy 🍔 Nan"
   ]
  },
  {
   "cell_type": "code",
   "execution_count": 984,
   "metadata": {
    "hide_input": true
   },
   "outputs": [],
   "source": [
    "for i in range(len(df_clean)):\n",
    "    if ((df_clean.iloc[i,df_clean.columns.get_loc(\"Roaming_Service\")]==\"Non\") and (pd.isnull(df_clean.iloc[i,df_clean.columns.get_loc(\"Cost_Roaming_Service\")])==True)):\n",
    "        df_clean.iloc[i,df_clean.columns.get_loc(\"Cost_Roaming_Service\")]=999"
   ]
  },
  {
   "cell_type": "code",
   "execution_count": 985,
   "metadata": {
    "hide_input": true,
    "scrolled": false
   },
   "outputs": [
    {
     "data": {
      "text/plain": [
       "999                                 758\n",
       "NaN                                 248\n",
       "7                                    93\n",
       "6                                    78\n",
       "5                                    69\n",
       "4                                    52\n",
       "8                                    41\n",
       "Non                                  32\n",
       "3                                    26\n",
       "1 (La plus mauvaise note)            18\n",
       "11 (Ne sait pas/ Non applicable)     12\n",
       "2                                     8\n",
       "Oui                                   4\n",
       "Name: Cost_Roaming_Service, dtype: int64"
      ]
     },
     "execution_count": 985,
     "metadata": {},
     "output_type": "execute_result"
    }
   ],
   "source": [
    "df_clean['Cost_Roaming_Service'].value_counts(dropna=False)"
   ]
  },
  {
   "cell_type": "markdown",
   "metadata": {},
   "source": [
    "### Missing Values"
   ]
  },
  {
   "cell_type": "code",
   "execution_count": 986,
   "metadata": {
    "hide_input": true,
    "scrolled": true
   },
   "outputs": [
    {
     "name": "stdout",
     "output_type": "stream",
     "text": [
      "56336 Missing values remaining so faaar so good\n"
     ]
    }
   ],
   "source": [
    "print(str(df_clean.isna().sum().sum())+\" Missing values remaining so faaar so good\")"
   ]
  },
  {
   "cell_type": "markdown",
   "metadata": {},
   "source": [
    "## Int_Mob_Sal\n",
    "📌🗑️:Will be removed\n",
    "votre entreprise a-t-elle souscrit pour un ou plusieurs salariés une offre Internet mobile ?\n",
    "VA DEFINIR LA DECISION CONCERNANT L'IMPUTATION DE LA COLONNE SUIVANTE\n"
   ]
  },
  {
   "cell_type": "code",
   "execution_count": 987,
   "metadata": {
    "hide_input": true
   },
   "outputs": [],
   "source": [
    "df_clean['Int_Mob_Sal'].replace({\"11 (Ne sait pas/ Non applicable)\":11,\n",
    "                                6:np.nan,5:np.nan,7:np.nan,8:np.nan,3:np.nan},inplace=True)"
   ]
  },
  {
   "cell_type": "code",
   "execution_count": 988,
   "metadata": {
    "hide_input": true
   },
   "outputs": [
    {
     "data": {
      "text/plain": [
       "Non                                 697\n",
       "Oui                                 422\n",
       "NaN                                 252\n",
       "6                                    24\n",
       "5                                    16\n",
       "7                                    13\n",
       "8                                    11\n",
       "11 (Ne sait pas/ Non applicable)      2\n",
       "3                                     2\n",
       "Name: Int_Mob_Sal, dtype: int64"
      ]
     },
     "execution_count": 988,
     "metadata": {},
     "output_type": "execute_result"
    }
   ],
   "source": [
    "df_clean['Int_Mob_Sal'].value_counts(dropna=False)"
   ]
  },
  {
   "cell_type": "markdown",
   "metadata": {},
   "source": [
    "📌 Si Int_Mob_Sal = oui et Quality_Internet_Connection ✔️ | Mob_Internet_Accessibility ✔️ | Navigation_Speed_Mobile ✔️ | Price_Quality_Mob_Int ✔️ = null => Il faut imputer 999"
   ]
  },
  {
   "cell_type": "code",
   "execution_count": 989,
   "metadata": {
    "hide_input": true
   },
   "outputs": [
    {
     "data": {
      "text/plain": [
       "NaN    697\n",
       "Name: Price_Quality_Mob_Int, dtype: int64"
      ]
     },
     "execution_count": 989,
     "metadata": {},
     "output_type": "execute_result"
    }
   ],
   "source": [
    "df_clean[df_clean['Int_Mob_Sal']==\"Non\"]['Price_Quality_Mob_Int'].value_counts(dropna=False)"
   ]
  },
  {
   "cell_type": "code",
   "execution_count": 990,
   "metadata": {
    "hide_input": true,
    "scrolled": true
   },
   "outputs": [
    {
     "data": {
      "text/plain": [
       "NaN                           896\n",
       "7                             152\n",
       "6                             106\n",
       "8                              64\n",
       "5                              41\n",
       "Oui                            32\n",
       "Non                            30\n",
       "9                              29\n",
       "4                              25\n",
       "3                              21\n",
       "10 (La meilleure note)         18\n",
       "1 ( la plus mauvaise note)     14\n",
       "2                              11\n",
       "Name: Price_Quality_Mob_Int, dtype: int64"
      ]
     },
     "execution_count": 990,
     "metadata": {},
     "output_type": "execute_result"
    }
   ],
   "source": [
    "df_clean['Price_Quality_Mob_Int'].value_counts(dropna=False)"
   ]
  },
  {
   "cell_type": "code",
   "execution_count": 991,
   "metadata": {
    "hide_input": true
   },
   "outputs": [
    {
     "data": {
      "text/plain": [
       "NaN    416\n",
       "7.0      3\n",
       "5.0      3\n",
       "Name: New_MobInt_Off, dtype: int64"
      ]
     },
     "execution_count": 991,
     "metadata": {},
     "output_type": "execute_result"
    }
   ],
   "source": [
    "df_clean[df_clean['Int_Mob_Sal']==\"Oui\"]['New_MobInt_Off'].value_counts(dropna=False)"
   ]
  },
  {
   "cell_type": "code",
   "execution_count": 992,
   "metadata": {
    "hide_input": true,
    "scrolled": true
   },
   "outputs": [
    {
     "data": {
      "text/html": [
       "<h1>If healthy nan replace it with 999 🥕🥕🥕</h1>\n"
      ],
      "text/plain": [
       "<IPython.core.display.HTML object>"
      ]
     },
     "metadata": {},
     "output_type": "display_data"
    }
   ],
   "source": [
    "%%HTML\n",
    "<h1>If healthy nan replace it with 999 🥕🥕🥕</h1>"
   ]
  },
  {
   "cell_type": "code",
   "execution_count": 993,
   "metadata": {
    "hide_input": true
   },
   "outputs": [
    {
     "data": {
      "text/plain": [
       "5.\\tNe sait pas              194\n",
       "4.\\tNon, certainement pas    182\n",
       "3.\\tNon, probablement pas    137\n",
       "2.\\tOui, probablement         93\n",
       "1.\\tOui, certainement         47\n",
       "NaN                           44\n",
       "Name: New_MobInt_Off, dtype: int64"
      ]
     },
     "execution_count": 993,
     "metadata": {},
     "output_type": "execute_result"
    }
   ],
   "source": [
    "df_clean[df_clean[\"Int_Mob_Sal\"]=='Non']['New_MobInt_Off'].value_counts(dropna=False)"
   ]
  },
  {
   "cell_type": "code",
   "execution_count": 994,
   "metadata": {
    "hide_input": true
   },
   "outputs": [],
   "source": [
    "df_clean['Quality_Internet_Connection']=np.where((df_clean['Int_Mob_Sal']=='Non') & (pd.isna(df_clean['Quality_Internet_Connection'])==True)\n",
    "                                     , 999, df_clean['Quality_Internet_Connection'])\n",
    "\n",
    "df_clean['Mob_Internet_Accessibility']=np.where((df_clean['Int_Mob_Sal']=='Non') & (pd.isna(df_clean['Mob_Internet_Accessibility'])==True)\n",
    "                                     , 999, df_clean['Mob_Internet_Accessibility'])\n",
    "\n",
    "df_clean['Navigation_Speed_Mobile']=np.where((df_clean['Int_Mob_Sal']=='Non') & (pd.isna(df_clean['Navigation_Speed_Mobile'])==True)\n",
    "                                     , 999, df_clean['Navigation_Speed_Mobile'])\n",
    "\n",
    "df_clean['Price_Quality_Mob_Int']=np.where((df_clean['Int_Mob_Sal']=='Non') & (pd.isna(df_clean['Price_Quality_Mob_Int'])==True)\n",
    "                                     , 999, df_clean['Price_Quality_Mob_Int'])\n",
    "\n",
    "df_clean['New_MobInt_Off']=np.where((df_clean['Int_Mob_Sal']=='Oui') & (pd.isna(df_clean['New_MobInt_Off'])==True)\n",
    "                                     , 999, df_clean['New_MobInt_Off'])"
   ]
  },
  {
   "cell_type": "code",
   "execution_count": 995,
   "metadata": {
    "hide_input": true,
    "scrolled": false
   },
   "outputs": [],
   "source": [
    "# for i in range(len(df_clean)):\n",
    "#     if ((df_clean.iloc[i,df_clean.columns.get_loc(\"Int_Mob_Sal\")]==\"Non\") and (pd.isnull(df_clean.iloc[i,df_clean.columns.get_loc(\"Quality_Internet_Connection\")])==True)):\n",
    "#         df_clean.iloc[i,df_clean.columns.get_loc(\"Quality_Internet_Connection\")]=999\n",
    "        \n",
    "#     if  ((df_clean.iloc[i,df_clean.columns.get_loc(\"Int_Mob_Sal\")]==\"Non\") and (pd.isnull(df_clean.iloc[i,df_clean.columns.get_loc(\"Mob_Internet_Accessibility\")])==True)):\n",
    "#          df_clean.iloc[i,df_clean.columns.get_loc(\"Mob_Internet_Accessibility\")]=999\n",
    "    \n",
    "#     if  ((df_clean.iloc[i,df_clean.columns.get_loc(\"Int_Mob_Sal\")]==\"Non\") and (pd.isnull(df_clean.iloc[i,df_clean.columns.get_loc(\"Navigation_Speed_Mobile\")])==True)):\n",
    "#          df_clean.iloc[i,df_clean.columns.get_loc(\"Navigation_Speed_Mobile\")]=999    \n",
    " \n",
    "#     if  ((df_clean.iloc[i,df_clean.columns.get_loc(\"Int_Mob_Sal\")]==\"Non\") and (pd.isnull(df_clean.iloc[i,df_clean.columns.get_loc(\"Price_Quality_Mob_Int\")])==True)):\n",
    "#         df_clean.iloc[i,df_clean.columns.get_loc(\"Price_Quality_Mob_Int\")]=999\n",
    "        \n",
    "#     if  ((df_clean.iloc[i,df_clean.columns.get_loc(\"Int_Mob_Sal\")]==\"Oui\") and (pd.isnull(df_clean.iloc[i,df_clean.columns.get_loc(\"New_MobInt_Off\")])==False)):\n",
    "#         df_clean.iloc[i,df_clean.columns.get_loc(\"New_MobInt_Off\")]=999  "
   ]
  },
  {
   "cell_type": "code",
   "execution_count": 996,
   "metadata": {
    "hide_input": true
   },
   "outputs": [
    {
     "name": "stdout",
     "output_type": "stream",
     "text": [
      "53132 Missing values remaining so far so good\n"
     ]
    }
   ],
   "source": [
    "print(str(df_clean.isna().sum().sum())+' Missing values remaining so far so good')"
   ]
  },
  {
   "cell_type": "markdown",
   "metadata": {},
   "source": [
    "#### Quality_Internet_Connection"
   ]
  },
  {
   "cell_type": "code",
   "execution_count": 997,
   "metadata": {
    "hide_input": true
   },
   "outputs": [],
   "source": [
    "df_clean['Quality_Internet_Connection'].replace({\"Non\":np.nan,\"Oui\":np.nan,\"11 (Ne sait pas/ Non applicable)\":11,\"1 (La plus mauvaise note)\":1\n",
    "                                                                                  ,\"10 (La meilleure note)\":10},inplace=True)"
   ]
  },
  {
   "cell_type": "code",
   "execution_count": 998,
   "metadata": {
    "hide_input": true
   },
   "outputs": [
    {
     "data": {
      "text/plain": [
       "999                                 697\n",
       "NaN                                 242\n",
       "7                                   150\n",
       "8                                   125\n",
       "6                                    81\n",
       "5                                    49\n",
       "9                                    29\n",
       "3                                    17\n",
       "1 (La plus mauvaise note)            12\n",
       "Non                                   9\n",
       "4                                     8\n",
       "11 (Ne sait pas/ Non applicable)      7\n",
       "Oui                                   7\n",
       "10 (La meilleure note)                6\n",
       "Name: Quality_Internet_Connection, dtype: int64"
      ]
     },
     "execution_count": 998,
     "metadata": {},
     "output_type": "execute_result"
    }
   ],
   "source": [
    "df_clean['Quality_Internet_Connection'].value_counts(dropna=False)"
   ]
  },
  {
   "cell_type": "markdown",
   "metadata": {},
   "source": [
    "#### Mob_Internet_Accessibility\n",
    "📌Note: This column idicates the rate of Mob_Internet_Accessibility"
   ]
  },
  {
   "cell_type": "code",
   "execution_count": 999,
   "metadata": {
    "hide_input": true
   },
   "outputs": [],
   "source": [
    "df_clean['Mob_Internet_Accessibility'].replace({\"Non\":np.nan,\"Oui\":np.nan,\"1 (La plus mauvaise note)\":1,\n",
    "                                                                           \"1 ( la plus mauvaise note)\":1,\n",
    "                                                                          \"10 (La meilleure note)\":10},inplace=True)"
   ]
  },
  {
   "cell_type": "code",
   "execution_count": 1000,
   "metadata": {
    "hide_input": true
   },
   "outputs": [
    {
     "data": {
      "text/plain": [
       "999                           697\n",
       "NaN                           218\n",
       "7                             139\n",
       "6                             106\n",
       "8                             100\n",
       "5                              61\n",
       "Oui                            25\n",
       "Non                            24\n",
       "9                              14\n",
       "3                              14\n",
       "10 (La meilleure note)         12\n",
       "4                              12\n",
       "1 ( la plus mauvaise note)      6\n",
       "2                               6\n",
       "1 (La plus mauvaise note)       5\n",
       "Name: Mob_Internet_Accessibility, dtype: int64"
      ]
     },
     "execution_count": 1000,
     "metadata": {},
     "output_type": "execute_result"
    }
   ],
   "source": [
    "df_clean['Mob_Internet_Accessibility'].value_counts(dropna=False)"
   ]
  },
  {
   "cell_type": "markdown",
   "metadata": {},
   "source": [
    "#### Navigation_Speed_Mobile"
   ]
  },
  {
   "cell_type": "code",
   "execution_count": 1001,
   "metadata": {
    "hide_input": true
   },
   "outputs": [],
   "source": [
    "df_clean['Navigation_Speed_Mobile'].replace({\"Non\":np.nan,\"Oui\":np.nan,\"11 (Ne sait pas/ Non applicable)\":11,\"1 (La plus mauvaise note)\":1\n",
    "                                                                          ,\"1 ( la plus mauvaise note)\":1,\"10 (La meilleure note)\":10,\"1 ( la plus mauvaise note)\":1},inplace=True)"
   ]
  },
  {
   "cell_type": "code",
   "execution_count": 1002,
   "metadata": {
    "hide_input": true
   },
   "outputs": [
    {
     "data": {
      "text/plain": [
       "999                                 697\n",
       "NaN                                 218\n",
       "7                                   146\n",
       "8                                    97\n",
       "5                                    86\n",
       "6                                    67\n",
       "9                                    37\n",
       "Non                                  25\n",
       "3                                    21\n",
       "10 (La meilleure note)               15\n",
       "4                                    10\n",
       "1 ( la plus mauvaise note)            6\n",
       "2                                     6\n",
       "Oui                                   4\n",
       "11 (Ne sait pas/ Non applicable)      2\n",
       "1 (La plus mauvaise note)             2\n",
       "Name: Navigation_Speed_Mobile, dtype: int64"
      ]
     },
     "execution_count": 1002,
     "metadata": {},
     "output_type": "execute_result"
    }
   ],
   "source": [
    "df_clean['Navigation_Speed_Mobile'].value_counts(dropna=False)"
   ]
  },
  {
   "cell_type": "markdown",
   "metadata": {},
   "source": [
    "#### Price_Quality_Mob_Int"
   ]
  },
  {
   "cell_type": "code",
   "execution_count": 1003,
   "metadata": {
    "hide_input": true
   },
   "outputs": [],
   "source": [
    "df_clean['Price_Quality_Mob_Int'].replace({\"Non\":np.nan,\"Oui\":np.nan,\"11 (Ne sait pas/ Non applicable)\":11,\"1 (La plus mauvaise note)\":1\n",
    "                                                                          ,\"1 ( la plus mauvaise note)\":1,\"10 (La meilleure note)\":10,\"1 ( la plus mauvaise note)\":1},inplace=True)"
   ]
  },
  {
   "cell_type": "code",
   "execution_count": 1004,
   "metadata": {
    "hide_input": true,
    "scrolled": true
   },
   "outputs": [
    {
     "data": {
      "text/plain": [
       "999                           697\n",
       "NaN                           199\n",
       "7                             152\n",
       "6                             106\n",
       "8                              64\n",
       "5                              41\n",
       "Oui                            32\n",
       "Non                            30\n",
       "9                              29\n",
       "4                              25\n",
       "3                              21\n",
       "10 (La meilleure note)         18\n",
       "1 ( la plus mauvaise note)     14\n",
       "2                              11\n",
       "Name: Price_Quality_Mob_Int, dtype: int64"
      ]
     },
     "execution_count": 1004,
     "metadata": {},
     "output_type": "execute_result"
    }
   ],
   "source": [
    "df_clean['Price_Quality_Mob_Int'].value_counts(dropna=False)"
   ]
  },
  {
   "cell_type": "markdown",
   "metadata": {},
   "source": [
    "#### New_MobInt_Off"
   ]
  },
  {
   "cell_type": "code",
   "execution_count": 1005,
   "metadata": {
    "hide_input": true
   },
   "outputs": [],
   "source": [
    "df_clean['New_MobInt_Off'].replace({\"5.\\tNe sait pas\":11,\n",
    "                                                         \"4.\\tNon, certainement pas\":\"Non\",\n",
    "                                                         \"3.\\tNon, probablement pas\":\"Non\",\n",
    "                                                         \"2.\\tOui, probablement\":\"Oui\",\n",
    "                                                         \"1.\\tOui, certainement\":\"Oui\",\n",
    "                                                        7:np.nan,5:np.nan,8:np.nan,6:np.nan,3:np.nan,\n",
    "                                                         \"10 (La meilleure note)\":np.nan,\"1 (La plus mauvaise note)\":np.nan,\n",
    "                                                         \"1 (La plus mauvaise note)\":np.nan,\"1 ( la plus mauvaise note)\":np.nan,\n",
    "                                                         9:np.nan,1:np.nan,10:np.nan\n",
    "                                                        },inplace=True)"
   ]
  },
  {
   "cell_type": "code",
   "execution_count": 1006,
   "metadata": {
    "hide_input": false,
    "scrolled": true
   },
   "outputs": [
    {
     "data": {
      "text/plain": [
       "999                           416\n",
       "NaN                           252\n",
       "5.\\tNe sait pas               194\n",
       "4.\\tNon, certainement pas     182\n",
       "3.\\tNon, probablement pas     137\n",
       "2.\\tOui, probablement          93\n",
       "1.\\tOui, certainement          47\n",
       "Oui                            24\n",
       "7                              21\n",
       "Non                            16\n",
       "5                              14\n",
       "8                              13\n",
       "6                               8\n",
       "3                               7\n",
       "10 (La meilleure note)          6\n",
       "1 (La plus mauvaise note)       5\n",
       "9                               2\n",
       "1 ( la plus mauvaise note)      2\n",
       "Name: New_MobInt_Off, dtype: int64"
      ]
     },
     "execution_count": 1006,
     "metadata": {},
     "output_type": "execute_result"
    }
   ],
   "source": [
    "df_clean['New_MobInt_Off'].value_counts(dropna=False)"
   ]
  },
  {
   "cell_type": "markdown",
   "metadata": {},
   "source": [
    "### Missing Values"
   ]
  },
  {
   "cell_type": "code",
   "execution_count": 1007,
   "metadata": {
    "hide_input": true,
    "scrolled": true
   },
   "outputs": [
    {
     "name": "stdout",
     "output_type": "stream",
     "text": [
      "53132 Missing values remaining so faaar so good\n"
     ]
    }
   ],
   "source": [
    "print(str(df_clean.isna().sum().sum())+\" Missing values remaining so faaar so good\")"
   ]
  },
  {
   "cell_type": "markdown",
   "metadata": {},
   "source": [
    "# Operator_Name\n",
    "Pourquoi INT ??????????"
   ]
  },
  {
   "cell_type": "code",
   "execution_count": 1008,
   "metadata": {
    "hide_input": true
   },
   "outputs": [],
   "source": [
    "df_clean['Operator_Name'].replace({\"1.  Orange\":\"Orange\",\n",
    "                                   \"2. Ooredoo\":\"Ooredoo\",\n",
    "                                   \"3. Tunisie Télécom\":\"TunisieTélécom\",\"9.Autre\":np.nan,\n",
    "                                   1:np.nan,2:np.nan,3:np.nan,4:np.nan,5:np.nan,6:np.nan,7:np.nan,\n",
    "                                   8:np.nan,9:np.nan,'10 (La meilleure note)':np.nan,\n",
    "                                   '1 (La plus mauvaise note)':np.nan,'1 ( la plus mauvaise note)':np.nan,\n",
    "                                   'Non':np.nan,'Oui':np.nan\n",
    "                                  },inplace=True)"
   ]
  },
  {
   "cell_type": "code",
   "execution_count": 1009,
   "metadata": {
    "hide_input": true
   },
   "outputs": [],
   "source": [
    "df_clean['Operator_Name']=np.where((df_clean['New_MobInt_Off']=='Non') & (pd.isna(df_clean['Operator_Name'])==True)\n",
    "                                     , 999, df_clean['Operator_Name'])"
   ]
  },
  {
   "cell_type": "code",
   "execution_count": 1010,
   "metadata": {
    "hide_input": true,
    "scrolled": true
   },
   "outputs": [
    {
     "data": {
      "text/plain": [
       "NaN                           1132\n",
       "2. Ooredoo                      65\n",
       "1.  Orange                      64\n",
       "Non                             28\n",
       "6                               24\n",
       "3. Tunisie Télécom              23\n",
       "8                               20\n",
       "5                               17\n",
       "7                               16\n",
       "999                             16\n",
       "Oui                              8\n",
       "1 ( la plus mauvaise note)       5\n",
       "9.Autre                          5\n",
       "9                                4\n",
       "10 (La meilleure note)           3\n",
       "2                                3\n",
       "1 (La plus mauvaise note)        2\n",
       "4                                2\n",
       "3                                2\n",
       "Name: Operator_Name, dtype: int64"
      ]
     },
     "execution_count": 1010,
     "metadata": {},
     "output_type": "execute_result"
    }
   ],
   "source": [
    "df_clean['Operator_Name'].value_counts(dropna=False)"
   ]
  },
  {
   "cell_type": "markdown",
   "metadata": {},
   "source": [
    "### Missing Values"
   ]
  },
  {
   "cell_type": "code",
   "execution_count": 1011,
   "metadata": {
    "hide_input": true,
    "scrolled": false
   },
   "outputs": [
    {
     "name": "stdout",
     "output_type": "stream",
     "text": [
      "53116 Missing values remaining so faaar so good\n"
     ]
    }
   ],
   "source": [
    "print(str(df_clean.isna().sum().sum())+\" Missing values remaining so faaar so good\")"
   ]
  },
  {
   "cell_type": "markdown",
   "metadata": {},
   "source": [
    "# Help_Operator"
   ]
  },
  {
   "cell_type": "code",
   "execution_count": 1012,
   "metadata": {
    "hide_input": true
   },
   "outputs": [],
   "source": [
    "df_clean['Help_Operator'].replace({\n",
    "    6: np.nan,8: np.nan,5: np.nan,7: np.nan,1: np.nan,9: np.nan,10: np.nan,2: np.nan,4: np.nan,3: np.nan,\n",
    "    \"10 (La meilleure note)\": np.nan,\"3.\": np.nan,\"5.\": np.nan,\"4.\": np.nan,\"2.\": np.nan,\n",
    "    \"Non, certainement pas\": np.nan,\"Ne sait pas\":11,\"Non, probablement pas\":np.nan,\n",
    "    \"Oui, probablement\":np.nan\n",
    "},inplace=True)"
   ]
  },
  {
   "cell_type": "code",
   "execution_count": 1013,
   "metadata": {
    "hide_input": true,
    "scrolled": false
   },
   "outputs": [
    {
     "data": {
      "text/plain": [
       "Non                       931\n",
       "NaN                       211\n",
       "Oui                       170\n",
       "7                          28\n",
       "8                          15\n",
       "5                          11\n",
       "6                          11\n",
       "3.                          8\n",
       "Non, certainement pas       8\n",
       "5.                          6\n",
       "Ne sait pas                 6\n",
       "4                           6\n",
       "2                           5\n",
       "4.                          5\n",
       "3                           4\n",
       "Non, probablement pas       4\n",
       "2.                          4\n",
       "9                           2\n",
       "Oui, probablement           2\n",
       "10 (La meilleure note)      2\n",
       "Name: Help_Operator, dtype: int64"
      ]
     },
     "execution_count": 1013,
     "metadata": {},
     "output_type": "execute_result"
    }
   ],
   "source": [
    "df_clean['Help_Operator'].value_counts(dropna=False)"
   ]
  },
  {
   "cell_type": "markdown",
   "metadata": {},
   "source": [
    "📌 We've noticed that there is very obvious shift between New_MobInt_Off and Help_Operator so we did the work 😛"
   ]
  },
  {
   "cell_type": "code",
   "execution_count": 1014,
   "metadata": {
    "hide_input": false
   },
   "outputs": [],
   "source": [
    "df_clean['New_MobInt_Off']=np.where((df_clean['Help_Operator']=='Oui, probablement') & (pd.isna(df_clean['New_MobInt_Off'])==True)\n",
    "                                     , \"Oui\", df_clean['New_MobInt_Off'])\n",
    "\n",
    "df_clean['New_MobInt_Off']=np.where((df_clean['Help_Operator']=='Non, certainement pas') & (pd.isna(df_clean['New_MobInt_Off'])==True)\n",
    "                                     , \"Non\", df_clean['New_MobInt_Off'])\n",
    "\n",
    "df_clean['New_MobInt_Off']=np.where((df_clean['Help_Operator']=='Non, probablement pas') & (pd.isna(df_clean['New_MobInt_Off'])==True)\n",
    "                                     , \"Non\", df_clean['New_MobInt_Off'])"
   ]
  },
  {
   "cell_type": "markdown",
   "metadata": {},
   "source": [
    "# Action_Procc"
   ]
  },
  {
   "cell_type": "code",
   "execution_count": 1015,
   "metadata": {
    "hide_input": false
   },
   "outputs": [],
   "source": [
    "df_clean['Action_Procc'].replace({\n",
    "    \"/ 1.\\tAppelé un commercial /\":\"Commercial/\",\n",
    "    \"/ 2.\\tAppelé un numéro service client /\":\"Service Client/\",\n",
    "    \"/ 3.\\tVous êtes allés dans une boutique / agence /\":\"Boutique/\",\n",
    "    \"/ 1.\\tAppelé un commercial / 2.\\tAppelé un numéro service client /\":\"Commercial/Service Client/\",\n",
    "    \"/ 1.\\tAppelé un commercial / 2.\\tAppelé un numéro service client / 5.\\tVous êtes allés sur le site internet de votre opérateur / 6.\\tVous avez contacté votre opérateur via Facebook, Twitter, etc /\":\n",
    "    \"Commercial/Service Client/SiteWeb/ReseauxSociaux/\",\n",
    "    \"/ 1.\\tAppelé un commercial / 2.\\tAppelé un numéro service client / 4.\\tVous êtes allés chez un distributeur /\":\n",
    "    \"Commercial/Service Client/Distributeur/\",\n",
    "    \"/ 1.\\tAppelé un commercial / 2.\\tAppelé un numéro service client / 3.\\tVous êtes allés dans une boutique / agence /\":\n",
    "    \"Commercial/Service Client/Boutique/\",\n",
    "    \"/ 2.\\tAppelé un numéro service client / 5.\\tVous êtes allés sur le site internet de votre opérateur / 6.\\tVous avez contacté votre opérateur via Facebook, Twitter, etc /\":\n",
    "    \"Service Client/SiteWeb/ReseauxSociaux/\",\n",
    "    \"/ 1.\\tAppelé un commercial / 3.\\tVous êtes allés dans une boutique / agence / 5.\\tVous êtes allés sur le site internet de votre opérateur / 6.\\tVous avez contacté votre opérateur via Facebook, Twitter, etc /\":\n",
    "    \"Commercial/Boutique/SiteWeb/ReseauxSociaux/\",\n",
    "    \"/ 2.\\tAppelé un numéro service client / 3.\\tVous êtes allés dans une boutique / agence /\":\n",
    "    \"Service Client/Boutique/\",2:np.nan,3:np.nan,4:np.nan,5:np.nan,6:np.nan,7:np.nan,8:np.nan,9:np.nan,\n",
    "    \"5.\":np.nan,\"4.\":np.nan,\"3.\":np.nan,\"1.\":np.nan,\"1.  Orange\":np.nan,\"Ne sait pas\":11,\n",
    "    \"Non, probablement pas\":np.nan,\"Non, certainement pas\":np.nan,\"Oui, probablement\":np.nan,\"Oui\":np.nan,\n",
    "    \"Non\":np.nan\n",
    "    \n",
    "},inplace=True)"
   ]
  },
  {
   "cell_type": "markdown",
   "metadata": {
    "hide_input": false
   },
   "source": [
    "📌 Healthy NaN 🥕"
   ]
  },
  {
   "cell_type": "code",
   "execution_count": 1016,
   "metadata": {},
   "outputs": [
    {
     "data": {
      "text/plain": [
       "NaN    931\n",
       "Name: Action_Procc, dtype: int64"
      ]
     },
     "execution_count": 1016,
     "metadata": {},
     "output_type": "execute_result"
    }
   ],
   "source": [
    "df_clean[df_clean['Help_Operator']==\"Non\"]['Action_Procc'].value_counts(dropna=False)"
   ]
  },
  {
   "cell_type": "code",
   "execution_count": 1017,
   "metadata": {},
   "outputs": [],
   "source": [
    "df_clean['Action_Procc']=np.where((df_clean['Help_Operator']=='Non') & (pd.isna(df_clean['Action_Procc'])==True)\n",
    "                                     ,999 , df_clean['Action_Procc'])"
   ]
  },
  {
   "cell_type": "code",
   "execution_count": 1018,
   "metadata": {},
   "outputs": [
    {
     "data": {
      "text/plain": [
       "array([999, nan, '/ 2.\\tAppelé un numéro service client /',\n",
       "       '/ 1.\\tAppelé un commercial /',\n",
       "       '/ 1.\\tAppelé un commercial / 2.\\tAppelé un numéro service client / 3.\\tVous êtes allés dans une boutique / agence /',\n",
       "       '/ 2.\\tAppelé un numéro service client / 3.\\tVous êtes allés dans une boutique / agence /',\n",
       "       '/ 3.\\tVous êtes allés dans une boutique / agence /',\n",
       "       '/ 1.\\tAppelé un commercial / 2.\\tAppelé un numéro service client /',\n",
       "       '/ 2.\\tAppelé un numéro service client / 5.\\tVous êtes allés sur le site internet de votre opérateur / 6.\\tVous avez contacté votre opérateur via Facebook, Twitter, etc /',\n",
       "       '/ 1.\\tAppelé un commercial / 3.\\tVous êtes allés dans une boutique / agence / 5.\\tVous êtes allés sur le site internet de votre opérateur / 6.\\tVous avez contacté votre opérateur via Facebook, Twitter, etc /',\n",
       "       '/ 1.\\tAppelé un commercial / 2.\\tAppelé un numéro service client / 4.\\tVous êtes allés chez un distributeur /',\n",
       "       '/ 1.\\tAppelé un commercial / 2.\\tAppelé un numéro service client / 5.\\tVous êtes allés sur le site internet de votre opérateur / 6.\\tVous avez contacté votre opérateur via Facebook, Twitter, etc /',\n",
       "       6, '3.', '4.', 'Ne sait pas', 'Non, probablement pas', 4, 8, 9,\n",
       "       '5.', '1.  Orange', 3, 2, 7, 'Non, certainement pas', 'Non',\n",
       "       'Oui, probablement', '1.', 'Oui', 5], dtype=object)"
      ]
     },
     "execution_count": 1018,
     "metadata": {},
     "output_type": "execute_result"
    }
   ],
   "source": [
    "df_clean['Action_Procc'].unique()"
   ]
  },
  {
   "cell_type": "markdown",
   "metadata": {},
   "source": [
    "📌 Unhealthy NaN 🍔"
   ]
  },
  {
   "cell_type": "code",
   "execution_count": 1019,
   "metadata": {
    "scrolled": true
   },
   "outputs": [
    {
     "data": {
      "text/plain": [
       "/ 1.\\tAppelé un commercial /                                                                                                                                                                                       55\n",
       "/ 2.\\tAppelé un numéro service client /                                                                                                                                                                            29\n",
       "/ 3.\\tVous êtes allés dans une boutique / agence /                                                                                                                                                                 27\n",
       "/ 1.\\tAppelé un commercial / 2.\\tAppelé un numéro service client /                                                                                                                                                 14\n",
       "/ 1.\\tAppelé un commercial / 2.\\tAppelé un numéro service client / 5.\\tVous êtes allés sur le site internet de votre opérateur / 6.\\tVous avez contacté votre opérateur via Facebook, Twitter, etc /               12\n",
       "/ 2.\\tAppelé un numéro service client / 5.\\tVous êtes allés sur le site internet de votre opérateur / 6.\\tVous avez contacté votre opérateur via Facebook, Twitter, etc /                                           6\n",
       "/ 1.\\tAppelé un commercial / 2.\\tAppelé un numéro service client / 4.\\tVous êtes allés chez un distributeur /                                                                                                       6\n",
       "/ 1.\\tAppelé un commercial / 3.\\tVous êtes allés dans une boutique / agence / 5.\\tVous êtes allés sur le site internet de votre opérateur / 6.\\tVous avez contacté votre opérateur via Facebook, Twitter, etc /     6\n",
       "/ 1.\\tAppelé un commercial / 2.\\tAppelé un numéro service client / 3.\\tVous êtes allés dans une boutique / agence /                                                                                                 6\n",
       "/ 2.\\tAppelé un numéro service client / 3.\\tVous êtes allés dans une boutique / agence /                                                                                                                            5\n",
       "6                                                                                                                                                                                                                   2\n",
       "8                                                                                                                                                                                                                   2\n",
       "Name: Action_Procc, dtype: int64"
      ]
     },
     "execution_count": 1019,
     "metadata": {},
     "output_type": "execute_result"
    }
   ],
   "source": [
    "df_clean[df_clean['Help_Operator']==\"Oui\"]['Action_Procc'].value_counts(dropna=False)"
   ]
  },
  {
   "cell_type": "code",
   "execution_count": 1020,
   "metadata": {
    "scrolled": true
   },
   "outputs": [
    {
     "data": {
      "text/plain": [
       "999                                                                                                                                                                                                                931\n",
       "NaN                                                                                                                                                                                                                225\n",
       "/ 1.\\tAppelé un commercial /                                                                                                                                                                                        55\n",
       "/ 2.\\tAppelé un numéro service client /                                                                                                                                                                             29\n",
       "/ 3.\\tVous êtes allés dans une boutique / agence /                                                                                                                                                                  27\n",
       "7                                                                                                                                                                                                                   22\n",
       "/ 1.\\tAppelé un commercial / 2.\\tAppelé un numéro service client /                                                                                                                                                  14\n",
       "/ 1.\\tAppelé un commercial / 2.\\tAppelé un numéro service client / 5.\\tVous êtes allés sur le site internet de votre opérateur / 6.\\tVous avez contacté votre opérateur via Facebook, Twitter, etc /                12\n",
       "5.                                                                                                                                                                                                                  10\n",
       "4.                                                                                                                                                                                                                  10\n",
       "6                                                                                                                                                                                                                    9\n",
       "3.                                                                                                                                                                                                                   8\n",
       "8                                                                                                                                                                                                                    8\n",
       "Non, probablement pas                                                                                                                                                                                                8\n",
       "5                                                                                                                                                                                                                    6\n",
       "/ 1.\\tAppelé un commercial / 2.\\tAppelé un numéro service client / 3.\\tVous êtes allés dans une boutique / agence /                                                                                                  6\n",
       "/ 2.\\tAppelé un numéro service client / 5.\\tVous êtes allés sur le site internet de votre opérateur / 6.\\tVous avez contacté votre opérateur via Facebook, Twitter, etc /                                            6\n",
       "/ 1.\\tAppelé un commercial / 2.\\tAppelé un numéro service client / 4.\\tVous êtes allés chez un distributeur /                                                                                                        6\n",
       "Ne sait pas                                                                                                                                                                                                          6\n",
       "/ 1.\\tAppelé un commercial / 3.\\tVous êtes allés dans une boutique / agence / 5.\\tVous êtes allés sur le site internet de votre opérateur / 6.\\tVous avez contacté votre opérateur via Facebook, Twitter, etc /      6\n",
       "Oui                                                                                                                                                                                                                  5\n",
       "Non, certainement pas                                                                                                                                                                                                5\n",
       "/ 2.\\tAppelé un numéro service client / 3.\\tVous êtes allés dans une boutique / agence /                                                                                                                             5\n",
       "Non                                                                                                                                                                                                                  4\n",
       "Oui, probablement                                                                                                                                                                                                    4\n",
       "1.  Orange                                                                                                                                                                                                           2\n",
       "2                                                                                                                                                                                                                    2\n",
       "9                                                                                                                                                                                                                    2\n",
       "1.                                                                                                                                                                                                                   2\n",
       "4                                                                                                                                                                                                                    2\n",
       "3                                                                                                                                                                                                                    2\n",
       "Name: Action_Procc, dtype: int64"
      ]
     },
     "execution_count": 1020,
     "metadata": {},
     "output_type": "execute_result"
    }
   ],
   "source": [
    "df_clean['Action_Procc'].value_counts(dropna=False)"
   ]
  },
  {
   "cell_type": "code",
   "execution_count": 1025,
   "metadata": {
    "hide_input": false,
    "scrolled": true
   },
   "outputs": [
    {
     "ename": "KeyError",
     "evalue": "\"None of [Index(['Commercial', 'Service Client', 'Boutique', 'SiteWeb', 'ReseauxSociaux',\\n       'Distributeur'],\\n      dtype='object')] are in the [columns]\"",
     "output_type": "error",
     "traceback": [
      "\u001b[1;31m---------------------------------------------------------------------------\u001b[0m",
      "\u001b[1;31mKeyError\u001b[0m                                  Traceback (most recent call last)",
      "\u001b[1;32m<ipython-input-1025-31a1a4601681>\u001b[0m in \u001b[0;36m<module>\u001b[1;34m\u001b[0m\n\u001b[1;32m----> 1\u001b[1;33m \u001b[0mdf_clean\u001b[0m\u001b[1;33m[\u001b[0m\u001b[1;33m[\u001b[0m\u001b[1;34m\"Commercial\"\u001b[0m\u001b[1;33m,\u001b[0m\u001b[1;34m\"Service Client\"\u001b[0m\u001b[1;33m,\u001b[0m\u001b[1;34m\"Boutique\"\u001b[0m\u001b[1;33m,\u001b[0m\u001b[1;34m\"SiteWeb\"\u001b[0m\u001b[1;33m,\u001b[0m\u001b[1;34m\"ReseauxSociaux\"\u001b[0m\u001b[1;33m,\u001b[0m\u001b[1;34m\"Distributeur\"\u001b[0m\u001b[1;33m]\u001b[0m\u001b[1;33m]\u001b[0m\u001b[1;33m=\u001b[0m\u001b[1;36m0\u001b[0m\u001b[1;33m\u001b[0m\u001b[1;33m\u001b[0m\u001b[0m\n\u001b[0m\u001b[0;32m      2\u001b[0m \u001b[1;33m\u001b[0m\u001b[0m\n\u001b[0;32m      3\u001b[0m df_clean[\"Commercial\"]=np.where(df_clean['Action_Procc'].str.contains(\"commercial\")==True\n\u001b[0;32m      4\u001b[0m                                      , 1, df_clean['Commercial'])\n\u001b[0;32m      5\u001b[0m \u001b[1;33m\u001b[0m\u001b[0m\n",
      "\u001b[1;32mC:\\ProgramData\\Anaconda3\\lib\\site-packages\\pandas\\core\\frame.py\u001b[0m in \u001b[0;36m__setitem__\u001b[1;34m(self, key, value)\u001b[0m\n\u001b[0;32m   3467\u001b[0m             \u001b[0mself\u001b[0m\u001b[1;33m.\u001b[0m\u001b[0m_setitem_frame\u001b[0m\u001b[1;33m(\u001b[0m\u001b[0mkey\u001b[0m\u001b[1;33m,\u001b[0m \u001b[0mvalue\u001b[0m\u001b[1;33m)\u001b[0m\u001b[1;33m\u001b[0m\u001b[1;33m\u001b[0m\u001b[0m\n\u001b[0;32m   3468\u001b[0m         \u001b[1;32melif\u001b[0m \u001b[0misinstance\u001b[0m\u001b[1;33m(\u001b[0m\u001b[0mkey\u001b[0m\u001b[1;33m,\u001b[0m \u001b[1;33m(\u001b[0m\u001b[0mSeries\u001b[0m\u001b[1;33m,\u001b[0m \u001b[0mnp\u001b[0m\u001b[1;33m.\u001b[0m\u001b[0mndarray\u001b[0m\u001b[1;33m,\u001b[0m \u001b[0mlist\u001b[0m\u001b[1;33m,\u001b[0m \u001b[0mIndex\u001b[0m\u001b[1;33m)\u001b[0m\u001b[1;33m)\u001b[0m\u001b[1;33m:\u001b[0m\u001b[1;33m\u001b[0m\u001b[1;33m\u001b[0m\u001b[0m\n\u001b[1;32m-> 3469\u001b[1;33m             \u001b[0mself\u001b[0m\u001b[1;33m.\u001b[0m\u001b[0m_setitem_array\u001b[0m\u001b[1;33m(\u001b[0m\u001b[0mkey\u001b[0m\u001b[1;33m,\u001b[0m \u001b[0mvalue\u001b[0m\u001b[1;33m)\u001b[0m\u001b[1;33m\u001b[0m\u001b[1;33m\u001b[0m\u001b[0m\n\u001b[0m\u001b[0;32m   3470\u001b[0m         \u001b[1;32melse\u001b[0m\u001b[1;33m:\u001b[0m\u001b[1;33m\u001b[0m\u001b[1;33m\u001b[0m\u001b[0m\n\u001b[0;32m   3471\u001b[0m             \u001b[1;31m# set column\u001b[0m\u001b[1;33m\u001b[0m\u001b[1;33m\u001b[0m\u001b[1;33m\u001b[0m\u001b[0m\n",
      "\u001b[1;32mC:\\ProgramData\\Anaconda3\\lib\\site-packages\\pandas\\core\\frame.py\u001b[0m in \u001b[0;36m_setitem_array\u001b[1;34m(self, key, value)\u001b[0m\n\u001b[0;32m   3494\u001b[0m                     \u001b[0mself\u001b[0m\u001b[1;33m[\u001b[0m\u001b[0mk1\u001b[0m\u001b[1;33m]\u001b[0m \u001b[1;33m=\u001b[0m \u001b[0mvalue\u001b[0m\u001b[1;33m[\u001b[0m\u001b[0mk2\u001b[0m\u001b[1;33m]\u001b[0m\u001b[1;33m\u001b[0m\u001b[1;33m\u001b[0m\u001b[0m\n\u001b[0;32m   3495\u001b[0m             \u001b[1;32melse\u001b[0m\u001b[1;33m:\u001b[0m\u001b[1;33m\u001b[0m\u001b[1;33m\u001b[0m\u001b[0m\n\u001b[1;32m-> 3496\u001b[1;33m                 \u001b[0mindexer\u001b[0m \u001b[1;33m=\u001b[0m \u001b[0mself\u001b[0m\u001b[1;33m.\u001b[0m\u001b[0mloc\u001b[0m\u001b[1;33m.\u001b[0m\u001b[0m_convert_to_indexer\u001b[0m\u001b[1;33m(\u001b[0m\u001b[0mkey\u001b[0m\u001b[1;33m,\u001b[0m \u001b[0maxis\u001b[0m\u001b[1;33m=\u001b[0m\u001b[1;36m1\u001b[0m\u001b[1;33m)\u001b[0m\u001b[1;33m\u001b[0m\u001b[1;33m\u001b[0m\u001b[0m\n\u001b[0m\u001b[0;32m   3497\u001b[0m                 \u001b[0mself\u001b[0m\u001b[1;33m.\u001b[0m\u001b[0m_check_setitem_copy\u001b[0m\u001b[1;33m(\u001b[0m\u001b[1;33m)\u001b[0m\u001b[1;33m\u001b[0m\u001b[1;33m\u001b[0m\u001b[0m\n\u001b[0;32m   3498\u001b[0m                 \u001b[0mself\u001b[0m\u001b[1;33m.\u001b[0m\u001b[0mloc\u001b[0m\u001b[1;33m.\u001b[0m\u001b[0m_setitem_with_indexer\u001b[0m\u001b[1;33m(\u001b[0m\u001b[1;33m(\u001b[0m\u001b[0mslice\u001b[0m\u001b[1;33m(\u001b[0m\u001b[1;32mNone\u001b[0m\u001b[1;33m)\u001b[0m\u001b[1;33m,\u001b[0m \u001b[0mindexer\u001b[0m\u001b[1;33m)\u001b[0m\u001b[1;33m,\u001b[0m \u001b[0mvalue\u001b[0m\u001b[1;33m)\u001b[0m\u001b[1;33m\u001b[0m\u001b[1;33m\u001b[0m\u001b[0m\n",
      "\u001b[1;32mC:\\ProgramData\\Anaconda3\\lib\\site-packages\\pandas\\core\\indexing.py\u001b[0m in \u001b[0;36m_convert_to_indexer\u001b[1;34m(self, obj, axis, is_setter, raise_missing)\u001b[0m\n\u001b[0;32m   1283\u001b[0m                 \u001b[1;31m# When setting, missing keys are not allowed, even with .loc:\u001b[0m\u001b[1;33m\u001b[0m\u001b[1;33m\u001b[0m\u001b[1;33m\u001b[0m\u001b[0m\n\u001b[0;32m   1284\u001b[0m                 \u001b[0mkwargs\u001b[0m \u001b[1;33m=\u001b[0m \u001b[1;33m{\u001b[0m\u001b[1;34m\"raise_missing\"\u001b[0m\u001b[1;33m:\u001b[0m \u001b[1;32mTrue\u001b[0m \u001b[1;32mif\u001b[0m \u001b[0mis_setter\u001b[0m \u001b[1;32melse\u001b[0m \u001b[0mraise_missing\u001b[0m\u001b[1;33m}\u001b[0m\u001b[1;33m\u001b[0m\u001b[1;33m\u001b[0m\u001b[0m\n\u001b[1;32m-> 1285\u001b[1;33m                 \u001b[1;32mreturn\u001b[0m \u001b[0mself\u001b[0m\u001b[1;33m.\u001b[0m\u001b[0m_get_listlike_indexer\u001b[0m\u001b[1;33m(\u001b[0m\u001b[0mobj\u001b[0m\u001b[1;33m,\u001b[0m \u001b[0maxis\u001b[0m\u001b[1;33m,\u001b[0m \u001b[1;33m**\u001b[0m\u001b[0mkwargs\u001b[0m\u001b[1;33m)\u001b[0m\u001b[1;33m[\u001b[0m\u001b[1;36m1\u001b[0m\u001b[1;33m]\u001b[0m\u001b[1;33m\u001b[0m\u001b[1;33m\u001b[0m\u001b[0m\n\u001b[0m\u001b[0;32m   1286\u001b[0m         \u001b[1;32melse\u001b[0m\u001b[1;33m:\u001b[0m\u001b[1;33m\u001b[0m\u001b[1;33m\u001b[0m\u001b[0m\n\u001b[0;32m   1287\u001b[0m             \u001b[1;32mtry\u001b[0m\u001b[1;33m:\u001b[0m\u001b[1;33m\u001b[0m\u001b[1;33m\u001b[0m\u001b[0m\n",
      "\u001b[1;32mC:\\ProgramData\\Anaconda3\\lib\\site-packages\\pandas\\core\\indexing.py\u001b[0m in \u001b[0;36m_get_listlike_indexer\u001b[1;34m(self, key, axis, raise_missing)\u001b[0m\n\u001b[0;32m   1090\u001b[0m \u001b[1;33m\u001b[0m\u001b[0m\n\u001b[0;32m   1091\u001b[0m         self._validate_read_indexer(\n\u001b[1;32m-> 1092\u001b[1;33m             \u001b[0mkeyarr\u001b[0m\u001b[1;33m,\u001b[0m \u001b[0mindexer\u001b[0m\u001b[1;33m,\u001b[0m \u001b[0mo\u001b[0m\u001b[1;33m.\u001b[0m\u001b[0m_get_axis_number\u001b[0m\u001b[1;33m(\u001b[0m\u001b[0maxis\u001b[0m\u001b[1;33m)\u001b[0m\u001b[1;33m,\u001b[0m \u001b[0mraise_missing\u001b[0m\u001b[1;33m=\u001b[0m\u001b[0mraise_missing\u001b[0m\u001b[1;33m\u001b[0m\u001b[1;33m\u001b[0m\u001b[0m\n\u001b[0m\u001b[0;32m   1093\u001b[0m         )\n\u001b[0;32m   1094\u001b[0m         \u001b[1;32mreturn\u001b[0m \u001b[0mkeyarr\u001b[0m\u001b[1;33m,\u001b[0m \u001b[0mindexer\u001b[0m\u001b[1;33m\u001b[0m\u001b[1;33m\u001b[0m\u001b[0m\n",
      "\u001b[1;32mC:\\ProgramData\\Anaconda3\\lib\\site-packages\\pandas\\core\\indexing.py\u001b[0m in \u001b[0;36m_validate_read_indexer\u001b[1;34m(self, key, indexer, axis, raise_missing)\u001b[0m\n\u001b[0;32m   1175\u001b[0m                 raise KeyError(\n\u001b[0;32m   1176\u001b[0m                     \"None of [{key}] are in the [{axis}]\".format(\n\u001b[1;32m-> 1177\u001b[1;33m                         \u001b[0mkey\u001b[0m\u001b[1;33m=\u001b[0m\u001b[0mkey\u001b[0m\u001b[1;33m,\u001b[0m \u001b[0maxis\u001b[0m\u001b[1;33m=\u001b[0m\u001b[0mself\u001b[0m\u001b[1;33m.\u001b[0m\u001b[0mobj\u001b[0m\u001b[1;33m.\u001b[0m\u001b[0m_get_axis_name\u001b[0m\u001b[1;33m(\u001b[0m\u001b[0maxis\u001b[0m\u001b[1;33m)\u001b[0m\u001b[1;33m\u001b[0m\u001b[1;33m\u001b[0m\u001b[0m\n\u001b[0m\u001b[0;32m   1178\u001b[0m                     )\n\u001b[0;32m   1179\u001b[0m                 )\n",
      "\u001b[1;31mKeyError\u001b[0m: \"None of [Index(['Commercial', 'Service Client', 'Boutique', 'SiteWeb', 'ReseauxSociaux',\\n       'Distributeur'],\\n      dtype='object')] are in the [columns]\""
     ]
    }
   ],
   "source": [
    "df_clean[[\"Commercial\",\"Service Client\",\"Boutique\",\"SiteWeb\",\"ReseauxSociaux\",\"Distributeur\"]]=0\n",
    "\n",
    "df_clean[\"Commercial\"]=np.where(df_clean['Action_Procc'].str.contains(\"commercial\")==True\n",
    "                                     , 1, df_clean['Commercial'])\n",
    "\n",
    "df_clean[\"Service Client\"]=np.where(df_clean['Action_Procc'].str.contains(\"service client\")==True\n",
    "                                     , 1, df_clean['Service Client'])\n",
    "\n",
    "df_clean[\"Boutique\"]=np.where(df_clean['Action_Procc'].str.contains(\"boutique\")==True\n",
    "                                     , 1, df_clean['Boutique'])\n",
    "\n",
    "df_clean[\"SiteWeb\"]=np.where(df_clean['Action_Procc'].str.contains(\"site internet\")==True\n",
    "                                     , 1, df_clean['SiteWeb'])\n",
    "\n",
    "df_clean[\"ReseauxSociaux\"]=np.where(df_clean['Action_Procc'].str.contains(\"via Facebook, Twitter,\")==True\n",
    "                                     , 1, df_clean['ReseauxSociaux'])\n",
    "\n",
    "df_clean[\"Distributeur\"]=np.where(df_clean['Action_Procc'].str.contains(\"distributeur\")==True\n",
    "                                     , 1, df_clean['Distributeur'])\n"
   ]
  },
  {
   "cell_type": "code",
   "execution_count": 1026,
   "metadata": {},
   "outputs": [
    {
     "ename": "KeyError",
     "evalue": "'Commercial'",
     "output_type": "error",
     "traceback": [
      "\u001b[1;31m---------------------------------------------------------------------------\u001b[0m",
      "\u001b[1;31mKeyError\u001b[0m                                  Traceback (most recent call last)",
      "\u001b[1;32mC:\\ProgramData\\Anaconda3\\lib\\site-packages\\pandas\\core\\indexes\\base.py\u001b[0m in \u001b[0;36mget_loc\u001b[1;34m(self, key, method, tolerance)\u001b[0m\n\u001b[0;32m   2896\u001b[0m             \u001b[1;32mtry\u001b[0m\u001b[1;33m:\u001b[0m\u001b[1;33m\u001b[0m\u001b[1;33m\u001b[0m\u001b[0m\n\u001b[1;32m-> 2897\u001b[1;33m                 \u001b[1;32mreturn\u001b[0m \u001b[0mself\u001b[0m\u001b[1;33m.\u001b[0m\u001b[0m_engine\u001b[0m\u001b[1;33m.\u001b[0m\u001b[0mget_loc\u001b[0m\u001b[1;33m(\u001b[0m\u001b[0mkey\u001b[0m\u001b[1;33m)\u001b[0m\u001b[1;33m\u001b[0m\u001b[1;33m\u001b[0m\u001b[0m\n\u001b[0m\u001b[0;32m   2898\u001b[0m             \u001b[1;32mexcept\u001b[0m \u001b[0mKeyError\u001b[0m\u001b[1;33m:\u001b[0m\u001b[1;33m\u001b[0m\u001b[1;33m\u001b[0m\u001b[0m\n",
      "\u001b[1;32mpandas\\_libs\\index.pyx\u001b[0m in \u001b[0;36mpandas._libs.index.IndexEngine.get_loc\u001b[1;34m()\u001b[0m\n",
      "\u001b[1;32mpandas\\_libs\\index.pyx\u001b[0m in \u001b[0;36mpandas._libs.index.IndexEngine.get_loc\u001b[1;34m()\u001b[0m\n",
      "\u001b[1;32mpandas\\_libs\\index.pyx\u001b[0m in \u001b[0;36mpandas._libs.index.IndexEngine._get_loc_duplicates\u001b[1;34m()\u001b[0m\n",
      "\u001b[1;32mpandas\\_libs\\index.pyx\u001b[0m in \u001b[0;36mpandas._libs.index.IndexEngine._maybe_get_bool_indexer\u001b[1;34m()\u001b[0m\n",
      "\u001b[1;31mKeyError\u001b[0m: 'Commercial'",
      "\nDuring handling of the above exception, another exception occurred:\n",
      "\u001b[1;31mKeyError\u001b[0m                                  Traceback (most recent call last)",
      "\u001b[1;32m<ipython-input-1026-756dea504a3c>\u001b[0m in \u001b[0;36m<module>\u001b[1;34m\u001b[0m\n\u001b[1;32m----> 1\u001b[1;33m \u001b[0mdf_clean\u001b[0m\u001b[1;33m[\u001b[0m\u001b[1;34m\"Commercial\"\u001b[0m\u001b[1;33m]\u001b[0m\u001b[1;33m.\u001b[0m\u001b[0munique\u001b[0m\u001b[1;33m(\u001b[0m\u001b[1;33m)\u001b[0m\u001b[1;33m\u001b[0m\u001b[1;33m\u001b[0m\u001b[0m\n\u001b[0m",
      "\u001b[1;32mC:\\ProgramData\\Anaconda3\\lib\\site-packages\\pandas\\core\\frame.py\u001b[0m in \u001b[0;36m__getitem__\u001b[1;34m(self, key)\u001b[0m\n\u001b[0;32m   2978\u001b[0m             \u001b[1;32mif\u001b[0m \u001b[0mself\u001b[0m\u001b[1;33m.\u001b[0m\u001b[0mcolumns\u001b[0m\u001b[1;33m.\u001b[0m\u001b[0mnlevels\u001b[0m \u001b[1;33m>\u001b[0m \u001b[1;36m1\u001b[0m\u001b[1;33m:\u001b[0m\u001b[1;33m\u001b[0m\u001b[1;33m\u001b[0m\u001b[0m\n\u001b[0;32m   2979\u001b[0m                 \u001b[1;32mreturn\u001b[0m \u001b[0mself\u001b[0m\u001b[1;33m.\u001b[0m\u001b[0m_getitem_multilevel\u001b[0m\u001b[1;33m(\u001b[0m\u001b[0mkey\u001b[0m\u001b[1;33m)\u001b[0m\u001b[1;33m\u001b[0m\u001b[1;33m\u001b[0m\u001b[0m\n\u001b[1;32m-> 2980\u001b[1;33m             \u001b[0mindexer\u001b[0m \u001b[1;33m=\u001b[0m \u001b[0mself\u001b[0m\u001b[1;33m.\u001b[0m\u001b[0mcolumns\u001b[0m\u001b[1;33m.\u001b[0m\u001b[0mget_loc\u001b[0m\u001b[1;33m(\u001b[0m\u001b[0mkey\u001b[0m\u001b[1;33m)\u001b[0m\u001b[1;33m\u001b[0m\u001b[1;33m\u001b[0m\u001b[0m\n\u001b[0m\u001b[0;32m   2981\u001b[0m             \u001b[1;32mif\u001b[0m \u001b[0mis_integer\u001b[0m\u001b[1;33m(\u001b[0m\u001b[0mindexer\u001b[0m\u001b[1;33m)\u001b[0m\u001b[1;33m:\u001b[0m\u001b[1;33m\u001b[0m\u001b[1;33m\u001b[0m\u001b[0m\n\u001b[0;32m   2982\u001b[0m                 \u001b[0mindexer\u001b[0m \u001b[1;33m=\u001b[0m \u001b[1;33m[\u001b[0m\u001b[0mindexer\u001b[0m\u001b[1;33m]\u001b[0m\u001b[1;33m\u001b[0m\u001b[1;33m\u001b[0m\u001b[0m\n",
      "\u001b[1;32mC:\\ProgramData\\Anaconda3\\lib\\site-packages\\pandas\\core\\indexes\\base.py\u001b[0m in \u001b[0;36mget_loc\u001b[1;34m(self, key, method, tolerance)\u001b[0m\n\u001b[0;32m   2897\u001b[0m                 \u001b[1;32mreturn\u001b[0m \u001b[0mself\u001b[0m\u001b[1;33m.\u001b[0m\u001b[0m_engine\u001b[0m\u001b[1;33m.\u001b[0m\u001b[0mget_loc\u001b[0m\u001b[1;33m(\u001b[0m\u001b[0mkey\u001b[0m\u001b[1;33m)\u001b[0m\u001b[1;33m\u001b[0m\u001b[1;33m\u001b[0m\u001b[0m\n\u001b[0;32m   2898\u001b[0m             \u001b[1;32mexcept\u001b[0m \u001b[0mKeyError\u001b[0m\u001b[1;33m:\u001b[0m\u001b[1;33m\u001b[0m\u001b[1;33m\u001b[0m\u001b[0m\n\u001b[1;32m-> 2899\u001b[1;33m                 \u001b[1;32mreturn\u001b[0m \u001b[0mself\u001b[0m\u001b[1;33m.\u001b[0m\u001b[0m_engine\u001b[0m\u001b[1;33m.\u001b[0m\u001b[0mget_loc\u001b[0m\u001b[1;33m(\u001b[0m\u001b[0mself\u001b[0m\u001b[1;33m.\u001b[0m\u001b[0m_maybe_cast_indexer\u001b[0m\u001b[1;33m(\u001b[0m\u001b[0mkey\u001b[0m\u001b[1;33m)\u001b[0m\u001b[1;33m)\u001b[0m\u001b[1;33m\u001b[0m\u001b[1;33m\u001b[0m\u001b[0m\n\u001b[0m\u001b[0;32m   2900\u001b[0m         \u001b[0mindexer\u001b[0m \u001b[1;33m=\u001b[0m \u001b[0mself\u001b[0m\u001b[1;33m.\u001b[0m\u001b[0mget_indexer\u001b[0m\u001b[1;33m(\u001b[0m\u001b[1;33m[\u001b[0m\u001b[0mkey\u001b[0m\u001b[1;33m]\u001b[0m\u001b[1;33m,\u001b[0m \u001b[0mmethod\u001b[0m\u001b[1;33m=\u001b[0m\u001b[0mmethod\u001b[0m\u001b[1;33m,\u001b[0m \u001b[0mtolerance\u001b[0m\u001b[1;33m=\u001b[0m\u001b[0mtolerance\u001b[0m\u001b[1;33m)\u001b[0m\u001b[1;33m\u001b[0m\u001b[1;33m\u001b[0m\u001b[0m\n\u001b[0;32m   2901\u001b[0m         \u001b[1;32mif\u001b[0m \u001b[0mindexer\u001b[0m\u001b[1;33m.\u001b[0m\u001b[0mndim\u001b[0m \u001b[1;33m>\u001b[0m \u001b[1;36m1\u001b[0m \u001b[1;32mor\u001b[0m \u001b[0mindexer\u001b[0m\u001b[1;33m.\u001b[0m\u001b[0msize\u001b[0m \u001b[1;33m>\u001b[0m \u001b[1;36m1\u001b[0m\u001b[1;33m:\u001b[0m\u001b[1;33m\u001b[0m\u001b[1;33m\u001b[0m\u001b[0m\n",
      "\u001b[1;32mpandas\\_libs\\index.pyx\u001b[0m in \u001b[0;36mpandas._libs.index.IndexEngine.get_loc\u001b[1;34m()\u001b[0m\n",
      "\u001b[1;32mpandas\\_libs\\index.pyx\u001b[0m in \u001b[0;36mpandas._libs.index.IndexEngine.get_loc\u001b[1;34m()\u001b[0m\n",
      "\u001b[1;32mpandas\\_libs\\index.pyx\u001b[0m in \u001b[0;36mpandas._libs.index.IndexEngine._get_loc_duplicates\u001b[1;34m()\u001b[0m\n",
      "\u001b[1;32mpandas\\_libs\\index.pyx\u001b[0m in \u001b[0;36mpandas._libs.index.IndexEngine._maybe_get_bool_indexer\u001b[1;34m()\u001b[0m\n",
      "\u001b[1;31mKeyError\u001b[0m: 'Commercial'"
     ]
    }
   ],
   "source": [
    "df_clean[\"Commercial\"].unique()"
   ]
  },
  {
   "cell_type": "code",
   "execution_count": 1027,
   "metadata": {},
   "outputs": [
    {
     "ename": "KeyError",
     "evalue": "\"None of [Index(['Commercial', 'Service Client', 'Boutique', 'SiteWeb', 'ReseauxSociaux',\\n       'Distributeur'],\\n      dtype='object')] are in the [columns]\"",
     "output_type": "error",
     "traceback": [
      "\u001b[1;31m---------------------------------------------------------------------------\u001b[0m",
      "\u001b[1;31mKeyError\u001b[0m                                  Traceback (most recent call last)",
      "\u001b[1;32m<ipython-input-1027-9530f375305a>\u001b[0m in \u001b[0;36m<module>\u001b[1;34m\u001b[0m\n\u001b[1;32m----> 1\u001b[1;33m \u001b[0mdf_clean\u001b[0m\u001b[1;33m[\u001b[0m\u001b[1;33m[\u001b[0m\u001b[1;34m\"Commercial\"\u001b[0m\u001b[1;33m,\u001b[0m\u001b[1;34m\"Service Client\"\u001b[0m\u001b[1;33m,\u001b[0m\u001b[1;34m\"Boutique\"\u001b[0m\u001b[1;33m,\u001b[0m\u001b[1;34m\"SiteWeb\"\u001b[0m\u001b[1;33m,\u001b[0m\u001b[1;34m\"ReseauxSociaux\"\u001b[0m\u001b[1;33m,\u001b[0m\u001b[1;34m\"Distributeur\"\u001b[0m\u001b[1;33m]\u001b[0m\u001b[1;33m]\u001b[0m\u001b[1;33m.\u001b[0m\u001b[0miloc\u001b[0m\u001b[1;33m[\u001b[0m\u001b[1;36m78\u001b[0m\u001b[1;33m]\u001b[0m\u001b[1;33m\u001b[0m\u001b[1;33m\u001b[0m\u001b[0m\n\u001b[0m",
      "\u001b[1;32mC:\\ProgramData\\Anaconda3\\lib\\site-packages\\pandas\\core\\frame.py\u001b[0m in \u001b[0;36m__getitem__\u001b[1;34m(self, key)\u001b[0m\n\u001b[0;32m   2984\u001b[0m             \u001b[1;32mif\u001b[0m \u001b[0mis_iterator\u001b[0m\u001b[1;33m(\u001b[0m\u001b[0mkey\u001b[0m\u001b[1;33m)\u001b[0m\u001b[1;33m:\u001b[0m\u001b[1;33m\u001b[0m\u001b[1;33m\u001b[0m\u001b[0m\n\u001b[0;32m   2985\u001b[0m                 \u001b[0mkey\u001b[0m \u001b[1;33m=\u001b[0m \u001b[0mlist\u001b[0m\u001b[1;33m(\u001b[0m\u001b[0mkey\u001b[0m\u001b[1;33m)\u001b[0m\u001b[1;33m\u001b[0m\u001b[1;33m\u001b[0m\u001b[0m\n\u001b[1;32m-> 2986\u001b[1;33m             \u001b[0mindexer\u001b[0m \u001b[1;33m=\u001b[0m \u001b[0mself\u001b[0m\u001b[1;33m.\u001b[0m\u001b[0mloc\u001b[0m\u001b[1;33m.\u001b[0m\u001b[0m_convert_to_indexer\u001b[0m\u001b[1;33m(\u001b[0m\u001b[0mkey\u001b[0m\u001b[1;33m,\u001b[0m \u001b[0maxis\u001b[0m\u001b[1;33m=\u001b[0m\u001b[1;36m1\u001b[0m\u001b[1;33m,\u001b[0m \u001b[0mraise_missing\u001b[0m\u001b[1;33m=\u001b[0m\u001b[1;32mTrue\u001b[0m\u001b[1;33m)\u001b[0m\u001b[1;33m\u001b[0m\u001b[1;33m\u001b[0m\u001b[0m\n\u001b[0m\u001b[0;32m   2987\u001b[0m \u001b[1;33m\u001b[0m\u001b[0m\n\u001b[0;32m   2988\u001b[0m         \u001b[1;31m# take() does not accept boolean indexers\u001b[0m\u001b[1;33m\u001b[0m\u001b[1;33m\u001b[0m\u001b[1;33m\u001b[0m\u001b[0m\n",
      "\u001b[1;32mC:\\ProgramData\\Anaconda3\\lib\\site-packages\\pandas\\core\\indexing.py\u001b[0m in \u001b[0;36m_convert_to_indexer\u001b[1;34m(self, obj, axis, is_setter, raise_missing)\u001b[0m\n\u001b[0;32m   1283\u001b[0m                 \u001b[1;31m# When setting, missing keys are not allowed, even with .loc:\u001b[0m\u001b[1;33m\u001b[0m\u001b[1;33m\u001b[0m\u001b[1;33m\u001b[0m\u001b[0m\n\u001b[0;32m   1284\u001b[0m                 \u001b[0mkwargs\u001b[0m \u001b[1;33m=\u001b[0m \u001b[1;33m{\u001b[0m\u001b[1;34m\"raise_missing\"\u001b[0m\u001b[1;33m:\u001b[0m \u001b[1;32mTrue\u001b[0m \u001b[1;32mif\u001b[0m \u001b[0mis_setter\u001b[0m \u001b[1;32melse\u001b[0m \u001b[0mraise_missing\u001b[0m\u001b[1;33m}\u001b[0m\u001b[1;33m\u001b[0m\u001b[1;33m\u001b[0m\u001b[0m\n\u001b[1;32m-> 1285\u001b[1;33m                 \u001b[1;32mreturn\u001b[0m \u001b[0mself\u001b[0m\u001b[1;33m.\u001b[0m\u001b[0m_get_listlike_indexer\u001b[0m\u001b[1;33m(\u001b[0m\u001b[0mobj\u001b[0m\u001b[1;33m,\u001b[0m \u001b[0maxis\u001b[0m\u001b[1;33m,\u001b[0m \u001b[1;33m**\u001b[0m\u001b[0mkwargs\u001b[0m\u001b[1;33m)\u001b[0m\u001b[1;33m[\u001b[0m\u001b[1;36m1\u001b[0m\u001b[1;33m]\u001b[0m\u001b[1;33m\u001b[0m\u001b[1;33m\u001b[0m\u001b[0m\n\u001b[0m\u001b[0;32m   1286\u001b[0m         \u001b[1;32melse\u001b[0m\u001b[1;33m:\u001b[0m\u001b[1;33m\u001b[0m\u001b[1;33m\u001b[0m\u001b[0m\n\u001b[0;32m   1287\u001b[0m             \u001b[1;32mtry\u001b[0m\u001b[1;33m:\u001b[0m\u001b[1;33m\u001b[0m\u001b[1;33m\u001b[0m\u001b[0m\n",
      "\u001b[1;32mC:\\ProgramData\\Anaconda3\\lib\\site-packages\\pandas\\core\\indexing.py\u001b[0m in \u001b[0;36m_get_listlike_indexer\u001b[1;34m(self, key, axis, raise_missing)\u001b[0m\n\u001b[0;32m   1090\u001b[0m \u001b[1;33m\u001b[0m\u001b[0m\n\u001b[0;32m   1091\u001b[0m         self._validate_read_indexer(\n\u001b[1;32m-> 1092\u001b[1;33m             \u001b[0mkeyarr\u001b[0m\u001b[1;33m,\u001b[0m \u001b[0mindexer\u001b[0m\u001b[1;33m,\u001b[0m \u001b[0mo\u001b[0m\u001b[1;33m.\u001b[0m\u001b[0m_get_axis_number\u001b[0m\u001b[1;33m(\u001b[0m\u001b[0maxis\u001b[0m\u001b[1;33m)\u001b[0m\u001b[1;33m,\u001b[0m \u001b[0mraise_missing\u001b[0m\u001b[1;33m=\u001b[0m\u001b[0mraise_missing\u001b[0m\u001b[1;33m\u001b[0m\u001b[1;33m\u001b[0m\u001b[0m\n\u001b[0m\u001b[0;32m   1093\u001b[0m         )\n\u001b[0;32m   1094\u001b[0m         \u001b[1;32mreturn\u001b[0m \u001b[0mkeyarr\u001b[0m\u001b[1;33m,\u001b[0m \u001b[0mindexer\u001b[0m\u001b[1;33m\u001b[0m\u001b[1;33m\u001b[0m\u001b[0m\n",
      "\u001b[1;32mC:\\ProgramData\\Anaconda3\\lib\\site-packages\\pandas\\core\\indexing.py\u001b[0m in \u001b[0;36m_validate_read_indexer\u001b[1;34m(self, key, indexer, axis, raise_missing)\u001b[0m\n\u001b[0;32m   1175\u001b[0m                 raise KeyError(\n\u001b[0;32m   1176\u001b[0m                     \"None of [{key}] are in the [{axis}]\".format(\n\u001b[1;32m-> 1177\u001b[1;33m                         \u001b[0mkey\u001b[0m\u001b[1;33m=\u001b[0m\u001b[0mkey\u001b[0m\u001b[1;33m,\u001b[0m \u001b[0maxis\u001b[0m\u001b[1;33m=\u001b[0m\u001b[0mself\u001b[0m\u001b[1;33m.\u001b[0m\u001b[0mobj\u001b[0m\u001b[1;33m.\u001b[0m\u001b[0m_get_axis_name\u001b[0m\u001b[1;33m(\u001b[0m\u001b[0maxis\u001b[0m\u001b[1;33m)\u001b[0m\u001b[1;33m\u001b[0m\u001b[1;33m\u001b[0m\u001b[0m\n\u001b[0m\u001b[0;32m   1178\u001b[0m                     )\n\u001b[0;32m   1179\u001b[0m                 )\n",
      "\u001b[1;31mKeyError\u001b[0m: \"None of [Index(['Commercial', 'Service Client', 'Boutique', 'SiteWeb', 'ReseauxSociaux',\\n       'Distributeur'],\\n      dtype='object')] are in the [columns]\""
     ]
    }
   ],
   "source": [
    "df_clean[[\"Commercial\",\"Service Client\",\"Boutique\",\"SiteWeb\",\"ReseauxSociaux\",\"Distributeur\"]].iloc[78]"
   ]
  },
  {
   "cell_type": "markdown",
   "metadata": {},
   "source": [
    "# Resultat Amina Amal et LOULOU <3 "
   ]
  },
  {
   "cell_type": "code",
   "execution_count": 1028,
   "metadata": {},
   "outputs": [
    {
     "data": {
      "text/plain": [
       "(1439, 111)"
      ]
     },
     "execution_count": 1028,
     "metadata": {},
     "output_type": "execute_result"
    }
   ],
   "source": [
    "df_clean.shape"
   ]
  },
  {
   "cell_type": "code",
   "execution_count": 1029,
   "metadata": {},
   "outputs": [
    {
     "data": {
      "text/plain": [
       "52171"
      ]
     },
     "execution_count": 1029,
     "metadata": {},
     "output_type": "execute_result"
    }
   ],
   "source": [
    "df_clean.isna().sum().sum()"
   ]
  },
  {
   "cell_type": "code",
   "execution_count": null,
   "metadata": {},
   "outputs": [],
   "source": []
  },
  {
   "cell_type": "markdown",
   "metadata": {},
   "source": [
    "# ABDOU"
   ]
  },
  {
   "cell_type": "markdown",
   "metadata": {},
   "source": [
    "# Under_request"
   ]
  },
  {
   "cell_type": "markdown",
   "metadata": {},
   "source": [
    "📌Note: This column indicates if the request or complaint was Understanding by the Employee \n",
    "\n",
    "The Response must be a note from 1 to 11 \n",
    "\n",
    "1 being the worst mark, 10 the best and 11 for no answer."
   ]
  },
  {
   "cell_type": "code",
   "execution_count": 1030,
   "metadata": {},
   "outputs": [
    {
     "data": {
      "text/plain": [
       "array([nan, 7, '1 (La mauvaise note)', 6, 5, 3, 8, 9,\n",
       "       'Non, probablement pas', 'Non, certainement pas', '4.',\n",
       "       'Ne sait pas', '2.', '5.', 'Non', '3.', '2. Ooredoo',\n",
       "       'Oui, certainement', '3. Tunisie Télécom'], dtype=object)"
      ]
     },
     "execution_count": 1030,
     "metadata": {},
     "output_type": "execute_result"
    }
   ],
   "source": [
    "df_clean['Under_request'].unique()"
   ]
  },
  {
   "cell_type": "code",
   "execution_count": 1031,
   "metadata": {},
   "outputs": [],
   "source": [
    "df_clean['Under_request'].replace({'1 (La mauvaise note)': 1,'Ne sait pas':11, '2.': 2\n",
    "                                    ,'4.': 4, '5.': 5, '3.': 3}, inplace=True)"
   ]
  },
  {
   "cell_type": "code",
   "execution_count": 1032,
   "metadata": {},
   "outputs": [
    {
     "data": {
      "text/plain": [
       "NaN    1292\n",
       "7.0      42\n",
       "5.0      31\n",
       "6.0      21\n",
       "8.0      18\n",
       "3.0      16\n",
       "9.0       9\n",
       "2.0       6\n",
       "4.0       4\n",
       "Name: Under_request, dtype: int64"
      ]
     },
     "execution_count": 1032,
     "metadata": {},
     "output_type": "execute_result"
    }
   ],
   "source": [
    "df_clean['Under_request']=pd.to_numeric(df_clean['Under_request'], errors='coerce',downcast='signed')\n",
    "df_clean['Under_request'].value_counts(dropna=False)"
   ]
  },
  {
   "cell_type": "code",
   "execution_count": 1033,
   "metadata": {},
   "outputs": [
    {
     "data": {
      "text/plain": [
       "7.0    23\n",
       "5.0    18\n",
       "6.0    18\n",
       "8.0    15\n",
       "3.0    12\n",
       "9.0     7\n",
       "NaN     6\n",
       "Name: Under_request, dtype: int64"
      ]
     },
     "execution_count": 1033,
     "metadata": {},
     "output_type": "execute_result"
    }
   ],
   "source": [
    "df_clean[(df_clean['Action_Procc'].str.contains(\"commercial\")==True)]['Under_request'].value_counts(dropna=False)"
   ]
  },
  {
   "cell_type": "code",
   "execution_count": 1034,
   "metadata": {},
   "outputs": [
    {
     "data": {
      "text/plain": [
       "NaN      1209\n",
       "False     131\n",
       "True       99\n",
       "Name: Action_Procc, dtype: int64"
      ]
     },
     "execution_count": 1034,
     "metadata": {},
     "output_type": "execute_result"
    }
   ],
   "source": [
    "df_clean['Action_Procc'].str.contains(\"commercial\").value_counts(dropna=False)"
   ]
  },
  {
   "cell_type": "markdown",
   "metadata": {},
   "source": [
    "we notice that there are healthy nan 🥕 it means that there are missing values which must necessarily be missing because the customer does not use this service so he will not given a rate to this service.\n",
    "\n",
    "So we will repalce them by 999\n"
   ]
  },
  {
   "cell_type": "code",
   "execution_count": 1035,
   "metadata": {},
   "outputs": [],
   "source": [
    "df_clean['Under_request']=np.where(((df_clean['Action_Procc'].str.contains(\"commercial\")!=True)   & (pd.isna(df_clean['Under_request'])==True))\n",
    "                                     ,999 , df_clean['Under_request'])"
   ]
  },
  {
   "cell_type": "code",
   "execution_count": 1036,
   "metadata": {},
   "outputs": [
    {
     "data": {
      "text/plain": [
       "999.0    1286\n",
       "7.0        42\n",
       "5.0        31\n",
       "6.0        21\n",
       "8.0        18\n",
       "3.0        16\n",
       "9.0         9\n",
       "2.0         6\n",
       "NaN         6\n",
       "4.0         4\n",
       "Name: Under_request, dtype: int64"
      ]
     },
     "execution_count": 1036,
     "metadata": {},
     "output_type": "execute_result"
    }
   ],
   "source": [
    "df_clean['Under_request'].value_counts(dropna=False)"
   ]
  },
  {
   "cell_type": "markdown",
   "metadata": {},
   "source": [
    "We have 6 unhealthy nan 🍔\n",
    "\n",
    "So we are going to replace them by the mean value"
   ]
  },
  {
   "cell_type": "code",
   "execution_count": 1037,
   "metadata": {},
   "outputs": [],
   "source": [
    "#N'imputi bl moyenne\n",
    "df_clean['Under_request']=df_clean['Under_request'].fillna(round(df_clean[(df_clean['Action_Procc'].str.contains(\"commercial\")==True)]['Under_request'].mean()))"
   ]
  },
  {
   "cell_type": "code",
   "execution_count": 1038,
   "metadata": {},
   "outputs": [
    {
     "data": {
      "text/plain": [
       "999.0    0.893676\n",
       "7.0      0.029187\n",
       "5.0      0.021543\n",
       "6.0      0.018763\n",
       "8.0      0.012509\n",
       "3.0      0.011119\n",
       "9.0      0.006254\n",
       "2.0      0.004170\n",
       "4.0      0.002780\n",
       "Name: Under_request, dtype: float64"
      ]
     },
     "execution_count": 1038,
     "metadata": {},
     "output_type": "execute_result"
    }
   ],
   "source": [
    "df_clean['Under_request'].value_counts(dropna=False,normalize=True)"
   ]
  },
  {
   "cell_type": "code",
   "execution_count": 1039,
   "metadata": {},
   "outputs": [
    {
     "data": {
      "text/plain": [
       "0"
      ]
     },
     "execution_count": 1039,
     "metadata": {},
     "output_type": "execute_result"
    }
   ],
   "source": [
    "df_clean['Under_request'].isna().sum().sum()"
   ]
  },
  {
   "cell_type": "markdown",
   "metadata": {},
   "source": [
    "Under_request has no missing values"
   ]
  },
  {
   "cell_type": "markdown",
   "metadata": {},
   "source": [
    "# Speed_Request"
   ]
  },
  {
   "cell_type": "markdown",
   "metadata": {},
   "source": [
    "The columns 'Under_request' refere to the speed of processing customer's requests or complaints.\n",
    "\n",
    " It has 11 possible values: from 1 to 11.\n",
    "\n",
    "1 being the worst mark, 10 the best and 11 for no answer."
   ]
  },
  {
   "cell_type": "code",
   "execution_count": 1040,
   "metadata": {},
   "outputs": [
    {
     "data": {
      "text/plain": [
       "array([nan, 7, '1 (La mauvaise note)', 6, 3, 5, 8, 9, 'Non',\n",
       "       'Non, certainement pas', '5.', 'Oui, probablement', 'Ne sait pas',\n",
       "       '4.', '1.', 'Non, probablement pas', '3.', '2. Ooredoo', 'Oui'],\n",
       "      dtype=object)"
      ]
     },
     "execution_count": 1040,
     "metadata": {},
     "output_type": "execute_result"
    }
   ],
   "source": [
    "df_clean['Speed_Request'].unique()"
   ]
  },
  {
   "cell_type": "code",
   "execution_count": 1041,
   "metadata": {},
   "outputs": [],
   "source": [
    "df_clean['Speed_Request'].replace({'1 (La mauvaise note)': 1,'1.': 1,'4.': 4, '5.': 5, '3.': 3}, inplace=True)"
   ]
  },
  {
   "cell_type": "code",
   "execution_count": 1042,
   "metadata": {},
   "outputs": [
    {
     "data": {
      "text/plain": [
       "NaN    0.897846\n",
       "6.0    0.030577\n",
       "7.0    0.027102\n",
       "8.0    0.010424\n",
       "5.0    0.008339\n",
       "4.0    0.007644\n",
       "3.0    0.007644\n",
       "9.0    0.006254\n",
       "1.0    0.004170\n",
       "Name: Speed_Request, dtype: float64"
      ]
     },
     "execution_count": 1042,
     "metadata": {},
     "output_type": "execute_result"
    }
   ],
   "source": [
    "df_clean['Speed_Request']=pd.to_numeric(df_clean['Speed_Request'], errors='coerce',downcast='signed')\n",
    "df_clean['Speed_Request'].value_counts(dropna=False,normalize=True)"
   ]
  },
  {
   "cell_type": "markdown",
   "metadata": {},
   "source": [
    "Healthy Nan 🥕-->999\n",
    "\n",
    "Unhealthy Nan 🍔-->mean"
   ]
  },
  {
   "cell_type": "code",
   "execution_count": 1043,
   "metadata": {},
   "outputs": [
    {
     "data": {
      "text/plain": [
       "6.0    30\n",
       "7.0    29\n",
       "8.0    15\n",
       "9.0     7\n",
       "5.0     6\n",
       "3.0     6\n",
       "NaN     6\n",
       "Name: Speed_Request, dtype: int64"
      ]
     },
     "execution_count": 1043,
     "metadata": {},
     "output_type": "execute_result"
    }
   ],
   "source": [
    "df_clean[(df_clean['Action_Procc'].str.contains(\"commercial\")==True)]['Speed_Request'].value_counts(dropna=False)"
   ]
  },
  {
   "cell_type": "code",
   "execution_count": 1044,
   "metadata": {},
   "outputs": [],
   "source": [
    "#df_clean['Action_Procc'].str.contains(\"commercial\").value_counts(dropna=False)"
   ]
  },
  {
   "cell_type": "code",
   "execution_count": 1045,
   "metadata": {},
   "outputs": [],
   "source": [
    "df_clean['Speed_Request']=np.where(((df_clean['Action_Procc'].str.contains(\"commercial\")!=True) & (pd.isna(df_clean['Speed_Request'])==True))\n",
    "                                     ,999 , df_clean['Speed_Request'])"
   ]
  },
  {
   "cell_type": "code",
   "execution_count": 1046,
   "metadata": {},
   "outputs": [
    {
     "data": {
      "text/plain": [
       "999.0    1286\n",
       "6.0        44\n",
       "7.0        39\n",
       "8.0        15\n",
       "5.0        12\n",
       "4.0        11\n",
       "3.0        11\n",
       "9.0         9\n",
       "1.0         6\n",
       "NaN         6\n",
       "Name: Speed_Request, dtype: int64"
      ]
     },
     "execution_count": 1046,
     "metadata": {},
     "output_type": "execute_result"
    }
   ],
   "source": [
    "df_clean['Speed_Request'].value_counts(dropna=False)"
   ]
  },
  {
   "cell_type": "code",
   "execution_count": 1047,
   "metadata": {},
   "outputs": [],
   "source": [
    "df_clean['Speed_Request']=df_clean['Speed_Request'].fillna(round(df_clean[(df_clean['Action_Procc'].str.contains(\"commercial\")==True)]['Speed_Request'].mean()))"
   ]
  },
  {
   "cell_type": "code",
   "execution_count": 1048,
   "metadata": {},
   "outputs": [
    {
     "data": {
      "text/plain": [
       "0"
      ]
     },
     "execution_count": 1048,
     "metadata": {},
     "output_type": "execute_result"
    }
   ],
   "source": [
    "df_clean['Speed_Request'].isna().sum().sum()"
   ]
  },
  {
   "cell_type": "markdown",
   "metadata": {},
   "source": [
    "Speed_Request has no missing values"
   ]
  },
  {
   "cell_type": "markdown",
   "metadata": {},
   "source": [
    "# Contact_sales_Request"
   ]
  },
  {
   "cell_type": "code",
   "execution_count": 1049,
   "metadata": {},
   "outputs": [
    {
     "data": {
      "text/plain": [
       "array([nan, '1.\\tOui', '2.\\tNon, mon problème / ma demande était résolue',\n",
       "       '3.\\tNe sait pas', 'Non', 'Ne sait pas', 6, '1.  Orange', '3.',\n",
       "       '2. Ooredoo', 'Non, certainement pas', 'Oui, certainement', 7,\n",
       "       '4.', 'Non, probablement pas', 'Oui', '2.', 5, '1.'], dtype=object)"
      ]
     },
     "execution_count": 1049,
     "metadata": {},
     "output_type": "execute_result"
    }
   ],
   "source": [
    "df_clean['Contact_sales_Request'].unique()"
   ]
  },
  {
   "cell_type": "code",
   "execution_count": 1050,
   "metadata": {},
   "outputs": [],
   "source": [
    "df_clean['Contact_sales_Request']=df_clean['Contact_sales_Request'].replace(5, np.nan)\n",
    "df_clean['Contact_sales_Request']=df_clean['Contact_sales_Request'].replace(4, np.nan)\n",
    "df_clean['Contact_sales_Request']=df_clean['Contact_sales_Request'].replace(6, np.nan)\n",
    "df_clean['Contact_sales_Request']=df_clean['Contact_sales_Request'].replace(7, np.nan)\n",
    "df_clean['Contact_sales_Request']=df_clean['Contact_sales_Request'].replace('Oui', 1)\n",
    "df_clean['Contact_sales_Request']=df_clean['Contact_sales_Request'].replace('Oui, certainement', 1)\n",
    "df_clean['Contact_sales_Request']=df_clean['Contact_sales_Request'].replace('1.\\tOui', 1)\n",
    "df_clean['Contact_sales_Request']=df_clean['Contact_sales_Request'].replace('2.\\tNon, mon problème / ma demande était résolue', 2)\n",
    "df_clean['Contact_sales_Request']=df_clean['Contact_sales_Request'].replace('Ne sait pas', 3)\n",
    "df_clean['Contact_sales_Request']=df_clean['Contact_sales_Request'].replace('3.\\tNe sait pas', 3)\n",
    "df_clean['Contact_sales_Request']=df_clean['Contact_sales_Request'].replace('3.', 3)\n",
    "df_clean['Contact_sales_Request']=df_clean['Contact_sales_Request'].replace('2.', 2)\n",
    "df_clean['Contact_sales_Request']=df_clean['Contact_sales_Request'].replace('1.', 1)\n",
    "df_clean['Contact_sales_Request']=df_clean['Contact_sales_Request'].replace('Non', 2)"
   ]
  },
  {
   "cell_type": "code",
   "execution_count": 1051,
   "metadata": {},
   "outputs": [],
   "source": [
    "df_clean['Contact_sales_Request']=pd.to_numeric(df_clean['Contact_sales_Request'], errors='coerce',downcast='signed')"
   ]
  },
  {
   "cell_type": "code",
   "execution_count": 1052,
   "metadata": {},
   "outputs": [],
   "source": [
    "df_clean['Contact_sales_Request']=df_clean['Contact_sales_Request'].replace(5, np.nan)\n",
    "df_clean['Contact_sales_Request']=df_clean['Contact_sales_Request'].replace(4, np.nan)\n",
    "df_clean['Contact_sales_Request']=df_clean['Contact_sales_Request'].replace(6, np.nan)\n",
    "df_clean['Contact_sales_Request']=df_clean['Contact_sales_Request'].replace(7, np.nan)\n",
    "df_clean['Contact_sales_Request']=df_clean['Contact_sales_Request'].replace('Oui', 1)\n",
    "df_clean['Contact_sales_Request']=df_clean['Contact_sales_Request'].replace('Oui, certainement', 1)\n",
    "df_clean['Contact_sales_Request']=df_clean['Contact_sales_Request'].replace('1.\\tOui', 1)\n",
    "df_clean['Contact_sales_Request']=df_clean['Contact_sales_Request'].replace('2.\\tNon, mon problème / ma demande était résolue', 2)\n",
    "df_clean['Contact_sales_Request']=df_clean['Contact_sales_Request'].replace('Ne sait pas', 3)\n",
    "df_clean['Contact_sales_Request']=df_clean['Contact_sales_Request'].replace('3.\\tNe sait pas', 3)\n",
    "df_clean['Contact_sales_Request']=df_clean['Contact_sales_Request'].replace('3.', 3)\n",
    "df_clean['Contact_sales_Request']=df_clean['Contact_sales_Request'].replace('2.', 2)\n",
    "df_clean['Contact_sales_Request']=df_clean['Contact_sales_Request'].replace('1.', 1)\n",
    "df_clean['Contact_sales_Request']=df_clean['Contact_sales_Request'].replace('Non', 2)"
   ]
  },
  {
   "cell_type": "code",
   "execution_count": 1053,
   "metadata": {},
   "outputs": [
    {
     "data": {
      "text/plain": [
       "NaN    0.882557\n",
       "2.0    0.058374\n",
       "1.0    0.042391\n",
       "3.0    0.016678\n",
       "Name: Contact_sales_Request, dtype: float64"
      ]
     },
     "execution_count": 1053,
     "metadata": {},
     "output_type": "execute_result"
    }
   ],
   "source": [
    "df_clean['Contact_sales_Request']=pd.to_numeric(df_clean['Contact_sales_Request'], errors='coerce',downcast='signed')\n",
    "df_clean['Contact_sales_Request'].value_counts(dropna=False,normalize=True)"
   ]
  },
  {
   "cell_type": "markdown",
   "metadata": {},
   "source": [
    "Healthy Nan 🥕-->999\n",
    "\n",
    "Unhealthy Nan 🍔-->mean"
   ]
  },
  {
   "cell_type": "code",
   "execution_count": 1054,
   "metadata": {},
   "outputs": [
    {
     "data": {
      "text/plain": [
       "NaN      1209\n",
       "False     131\n",
       "True       99\n",
       "Name: Action_Procc, dtype: int64"
      ]
     },
     "execution_count": 1054,
     "metadata": {},
     "output_type": "execute_result"
    }
   ],
   "source": [
    "df_clean['Action_Procc'].str.contains(\"commercial\").value_counts(dropna=False)"
   ]
  },
  {
   "cell_type": "code",
   "execution_count": 1055,
   "metadata": {},
   "outputs": [
    {
     "data": {
      "text/plain": [
       "1.0    42\n",
       "2.0    39\n",
       "3.0    12\n",
       "NaN     6\n",
       "Name: Contact_sales_Request, dtype: int64"
      ]
     },
     "execution_count": 1055,
     "metadata": {},
     "output_type": "execute_result"
    }
   ],
   "source": [
    "df_clean[(df_clean['Action_Procc'].str.contains(\"commercial\")==True)]['Contact_sales_Request'].value_counts(dropna=False)"
   ]
  },
  {
   "cell_type": "code",
   "execution_count": 1056,
   "metadata": {},
   "outputs": [],
   "source": [
    "df_clean['Contact_sales_Request']=np.where(((df_clean['Action_Procc'].str.contains(\"commercial\")!=True)   & (pd.isna(df_clean['Contact_sales_Request'])==True))\n",
    "                                     ,999 , df_clean['Contact_sales_Request'])"
   ]
  },
  {
   "cell_type": "code",
   "execution_count": 1057,
   "metadata": {},
   "outputs": [
    {
     "data": {
      "text/plain": [
       "999.0    1264\n",
       "2.0        84\n",
       "1.0        61\n",
       "3.0        24\n",
       "NaN         6\n",
       "Name: Contact_sales_Request, dtype: int64"
      ]
     },
     "execution_count": 1057,
     "metadata": {},
     "output_type": "execute_result"
    }
   ],
   "source": [
    "df_clean['Contact_sales_Request'].value_counts(dropna=False)"
   ]
  },
  {
   "cell_type": "code",
   "execution_count": 1058,
   "metadata": {},
   "outputs": [],
   "source": [
    "#Imputation with most frequent\n",
    "df_clean['Contact_sales_Request']=df_clean['Contact_sales_Request'].fillna(df_clean[(df_clean['Action_Procc'].str.contains(\"commercial\")==True)]['Contact_sales_Request'].median())"
   ]
  },
  {
   "cell_type": "code",
   "execution_count": 1059,
   "metadata": {},
   "outputs": [
    {
     "data": {
      "text/plain": [
       "0"
      ]
     },
     "execution_count": 1059,
     "metadata": {},
     "output_type": "execute_result"
    }
   ],
   "source": [
    "df_clean['Contact_sales_Request'].isna().sum().sum()"
   ]
  },
  {
   "cell_type": "markdown",
   "metadata": {},
   "source": [
    "# Talk_Consult"
   ]
  },
  {
   "cell_type": "code",
   "execution_count": 1060,
   "metadata": {},
   "outputs": [
    {
     "data": {
      "text/plain": [
       "array([nan, '1.\\tOui', '2.\\tNon', 'Non', 'Non, probablement pas', 'Oui',\n",
       "       '3. Tunisie Télécom', '2.', '4.', 'Non, certainement pas',\n",
       "       '2. Ooredoo', '1.', 'Oui, probablement', 6, '3.', '5.',\n",
       "       'Oui, certainement'], dtype=object)"
      ]
     },
     "execution_count": 1060,
     "metadata": {},
     "output_type": "execute_result"
    }
   ],
   "source": [
    "df_clean['Talk_Consult'].unique()"
   ]
  },
  {
   "cell_type": "code",
   "execution_count": 1061,
   "metadata": {},
   "outputs": [],
   "source": [
    "df_clean['Talk_Consult']=df_clean['Talk_Consult'].replace(0, np.nan)\n",
    "df_clean['Talk_Consult']=df_clean['Talk_Consult'].replace(3, np.nan)\n",
    "df_clean['Talk_Consult']=df_clean['Talk_Consult'].replace(4, np.nan)\n",
    "df_clean['Talk_Consult']=df_clean['Talk_Consult'].replace(5, np.nan)\n",
    "df_clean['Talk_Consult']=df_clean['Talk_Consult'].replace(6, np.nan)\n",
    "df_clean['Talk_Consult']=df_clean['Talk_Consult'].replace('1.\\tOui', 1)\n",
    "df_clean['Talk_Consult']=df_clean['Talk_Consult'].replace('2.\\tNon', 2)\n",
    "df_clean['Talk_Consult']=df_clean['Talk_Consult'].replace('Non', 2)\n",
    "df_clean['Talk_Consult']=df_clean['Talk_Consult'].replace('Oui', 1)\n",
    "df_clean['Talk_Consult']=df_clean['Talk_Consult'].replace('1.', 1)\n",
    "df_clean['Talk_Consult']=df_clean['Talk_Consult'].replace('2.', 2)"
   ]
  },
  {
   "cell_type": "code",
   "execution_count": 1062,
   "metadata": {},
   "outputs": [],
   "source": [
    "df_clean['Talk_Consult']=pd.to_numeric(df_clean['Talk_Consult'], errors='coerce',downcast='signed')"
   ]
  },
  {
   "cell_type": "code",
   "execution_count": 1063,
   "metadata": {},
   "outputs": [],
   "source": [
    "df_clean['Talk_Consult']=df_clean['Talk_Consult'].replace(0, np.nan)\n",
    "df_clean['Talk_Consult']=df_clean['Talk_Consult'].replace(3, np.nan)\n",
    "df_clean['Talk_Consult']=df_clean['Talk_Consult'].replace(4, np.nan)\n",
    "df_clean['Talk_Consult']=df_clean['Talk_Consult'].replace(5, np.nan)\n",
    "df_clean['Talk_Consult']=df_clean['Talk_Consult'].replace(6, np.nan)\n",
    "df_clean['Talk_Consult']=df_clean['Talk_Consult'].replace('1.\\tOui', 1)\n",
    "df_clean['Talk_Consult']=df_clean['Talk_Consult'].replace('2.\\tNon', 2)\n",
    "df_clean['Talk_Consult']=df_clean['Talk_Consult'].replace('Non', 2)\n",
    "df_clean['Talk_Consult']=df_clean['Talk_Consult'].replace('Oui', 1)\n",
    "df_clean['Talk_Consult']=df_clean['Talk_Consult'].replace('1.', 1)\n",
    "df_clean['Talk_Consult']=df_clean['Talk_Consult'].replace('2.', 2)"
   ]
  },
  {
   "cell_type": "code",
   "execution_count": 1064,
   "metadata": {},
   "outputs": [
    {
     "data": {
      "text/plain": [
       "NaN    0.906185\n",
       "2.0    0.050730\n",
       "1.0    0.043085\n",
       "Name: Talk_Consult, dtype: float64"
      ]
     },
     "execution_count": 1064,
     "metadata": {},
     "output_type": "execute_result"
    }
   ],
   "source": [
    "df_clean['Talk_Consult']=pd.to_numeric(df_clean['Talk_Consult'], errors='coerce',downcast='signed')\n",
    "df_clean['Talk_Consult'].value_counts(dropna=False,normalize=True)"
   ]
  },
  {
   "cell_type": "markdown",
   "metadata": {},
   "source": [
    "Healthy Nan 🥕-->999\n",
    "\n",
    "Unhealthy Nan 🍔-->Most frequent"
   ]
  },
  {
   "cell_type": "code",
   "execution_count": 1065,
   "metadata": {},
   "outputs": [
    {
     "data": {
      "text/plain": [
       "NaN      1209\n",
       "False     152\n",
       "True       78\n",
       "Name: Action_Procc, dtype: int64"
      ]
     },
     "execution_count": 1065,
     "metadata": {},
     "output_type": "execute_result"
    }
   ],
   "source": [
    "df_clean['Action_Procc'].str.contains(\"service client\").value_counts(dropna=False)"
   ]
  },
  {
   "cell_type": "code",
   "execution_count": 1066,
   "metadata": {},
   "outputs": [
    {
     "data": {
      "text/plain": [
       "1.0    53\n",
       "2.0    19\n",
       "NaN     6\n",
       "Name: Talk_Consult, dtype: int64"
      ]
     },
     "execution_count": 1066,
     "metadata": {},
     "output_type": "execute_result"
    }
   ],
   "source": [
    "df_clean[(df_clean['Action_Procc'].str.contains(\"service client\")==True)]['Talk_Consult'].value_counts(dropna=False)"
   ]
  },
  {
   "cell_type": "code",
   "execution_count": 1067,
   "metadata": {},
   "outputs": [],
   "source": [
    "df_clean['Talk_Consult']=np.where(((df_clean['Action_Procc'].str.contains(\"service client\")!=True)   & (pd.isna(df_clean['Talk_Consult'])==True))\n",
    "                                     ,999 , df_clean['Talk_Consult'])"
   ]
  },
  {
   "cell_type": "code",
   "execution_count": 1068,
   "metadata": {},
   "outputs": [
    {
     "data": {
      "text/plain": [
       "999.0    1298\n",
       "2.0        73\n",
       "1.0        62\n",
       "NaN         6\n",
       "Name: Talk_Consult, dtype: int64"
      ]
     },
     "execution_count": 1068,
     "metadata": {},
     "output_type": "execute_result"
    }
   ],
   "source": [
    "df_clean['Talk_Consult'].value_counts(dropna=False)"
   ]
  },
  {
   "cell_type": "code",
   "execution_count": 1069,
   "metadata": {},
   "outputs": [],
   "source": [
    "df_clean['Talk_Consult']=df_clean['Talk_Consult'].fillna(df_clean[(df_clean['Action_Procc'].str.contains(\"service client\")==True)]['Talk_Consult'].median())"
   ]
  },
  {
   "cell_type": "code",
   "execution_count": 1070,
   "metadata": {},
   "outputs": [
    {
     "data": {
      "text/plain": [
       "0"
      ]
     },
     "execution_count": 1070,
     "metadata": {},
     "output_type": "execute_result"
    }
   ],
   "source": [
    "df_clean['Talk_Consult'].isna().sum().sum()"
   ]
  },
  {
   "cell_type": "markdown",
   "metadata": {},
   "source": [
    "# paper_recieved"
   ]
  },
  {
   "cell_type": "code",
   "execution_count": 1071,
   "metadata": {},
   "outputs": [
    {
     "data": {
      "text/plain": [
       "array(['Non', nan, 'Oui', '3.', '1.', 7, 6, '4.'], dtype=object)"
      ]
     },
     "execution_count": 1071,
     "metadata": {},
     "output_type": "execute_result"
    }
   ],
   "source": [
    "df_clean['paper_recieved'].unique()"
   ]
  },
  {
   "cell_type": "code",
   "execution_count": 1072,
   "metadata": {},
   "outputs": [],
   "source": [
    "df_clean['paper_recieved']=df_clean['paper_recieved'].replace('Non', 2)\n",
    "df_clean['paper_recieved']=df_clean['paper_recieved'].replace('Oui', 1)\n",
    "df_clean['paper_recieved']=df_clean['paper_recieved'].replace('1.', 1)\n",
    "df_clean['paper_recieved']=df_clean['paper_recieved'].replace(3, np.nan)\n",
    "df_clean['paper_recieved']=df_clean['paper_recieved'].replace(4, np.nan)\n",
    "df_clean['paper_recieved']=df_clean['paper_recieved'].replace(6, np.nan)\n",
    "df_clean['paper_recieved']=df_clean['paper_recieved'].replace(7, np.nan)"
   ]
  },
  {
   "cell_type": "code",
   "execution_count": 1073,
   "metadata": {},
   "outputs": [],
   "source": [
    "df_clean['paper_recieved']=pd.to_numeric(df_clean['paper_recieved'], errors='coerce',downcast='signed')"
   ]
  },
  {
   "cell_type": "code",
   "execution_count": 1074,
   "metadata": {},
   "outputs": [],
   "source": [
    "df_clean['paper_recieved']=df_clean['paper_recieved'].replace('Non', 2)\n",
    "df_clean['paper_recieved']=df_clean['paper_recieved'].replace('Oui', 1)\n",
    "df_clean['paper_recieved']=df_clean['paper_recieved'].replace('1.', 1)\n",
    "df_clean['paper_recieved']=df_clean['paper_recieved'].replace(3, np.nan)\n",
    "df_clean['paper_recieved']=df_clean['paper_recieved'].replace(4, np.nan)\n",
    "df_clean['paper_recieved']=df_clean['paper_recieved'].replace(6, np.nan)\n",
    "df_clean['paper_recieved']=df_clean['paper_recieved'].replace(7, np.nan)"
   ]
  },
  {
   "cell_type": "code",
   "execution_count": 1075,
   "metadata": {},
   "outputs": [
    {
     "data": {
      "text/plain": [
       "1.0    623\n",
       "2.0    469\n",
       "NaN    347\n",
       "Name: paper_recieved, dtype: int64"
      ]
     },
     "execution_count": 1075,
     "metadata": {},
     "output_type": "execute_result"
    }
   ],
   "source": [
    "df_clean['paper_recieved']=pd.to_numeric(df_clean['paper_recieved'], errors='coerce',downcast='signed')\n",
    "df_clean['paper_recieved'].value_counts(dropna=False)"
   ]
  },
  {
   "cell_type": "markdown",
   "metadata": {},
   "source": [
    "# Invoice_recieved"
   ]
  },
  {
   "cell_type": "code",
   "execution_count": 1076,
   "metadata": {},
   "outputs": [
    {
     "data": {
      "text/plain": [
       "Non            0.596247\n",
       "NaN            0.229326\n",
       "Oui            0.160528\n",
       "6              0.006254\n",
       "7              0.003475\n",
       "Ne sait pas    0.002085\n",
       "5              0.002085\n",
       "Name: Invoice_recieved, dtype: float64"
      ]
     },
     "execution_count": 1076,
     "metadata": {},
     "output_type": "execute_result"
    }
   ],
   "source": [
    "df_clean['Invoice_recieved'].value_counts(dropna=False,normalize=True)"
   ]
  },
  {
   "cell_type": "code",
   "execution_count": 1077,
   "metadata": {},
   "outputs": [],
   "source": [
    "df_clean['Invoice_recieved']=df_clean['Invoice_recieved'].replace(7, np.nan)\n",
    "df_clean['Invoice_recieved']=df_clean['Invoice_recieved'].replace(6, np.nan)\n",
    "df_clean['Invoice_recieved']=df_clean['Invoice_recieved'].replace(5, np.nan)\n",
    "df_clean['Invoice_recieved']=df_clean['Invoice_recieved'].replace('Non', 2)\n",
    "df_clean['Invoice_recieved']=df_clean['Invoice_recieved'].replace('Oui', 1)"
   ]
  },
  {
   "cell_type": "code",
   "execution_count": 1078,
   "metadata": {},
   "outputs": [
    {
     "data": {
      "text/plain": [
       "2.0    858\n",
       "NaN    350\n",
       "1.0    231\n",
       "Name: Invoice_recieved, dtype: int64"
      ]
     },
     "execution_count": 1078,
     "metadata": {},
     "output_type": "execute_result"
    }
   ],
   "source": [
    "df_clean['Invoice_recieved']=pd.to_numeric(df_clean['Invoice_recieved'], errors='coerce',downcast='signed')\n",
    "df_clean['Invoice_recieved'].value_counts(dropna=False)"
   ]
  },
  {
   "cell_type": "markdown",
   "metadata": {},
   "source": [
    "# Payment_Method"
   ]
  },
  {
   "cell_type": "code",
   "execution_count": 1079,
   "metadata": {},
   "outputs": [
    {
     "data": {
      "text/plain": [
       "array(['Non', nan, 'Oui', '1 (La plus mauvaise note)', 6, '4.', 5, 7],\n",
       "      dtype=object)"
      ]
     },
     "execution_count": 1079,
     "metadata": {},
     "output_type": "execute_result"
    }
   ],
   "source": [
    "df_clean['Payment_Method'].unique()"
   ]
  },
  {
   "cell_type": "code",
   "execution_count": 1080,
   "metadata": {},
   "outputs": [],
   "source": [
    "df_clean['Payment_Method']=df_clean['Payment_Method'].replace(4, np.nan)\n",
    "df_clean['Payment_Method']=df_clean['Payment_Method'].replace(5, np.nan)\n",
    "df_clean['Payment_Method']=df_clean['Payment_Method'].replace(6, np.nan)\n",
    "df_clean['Payment_Method']=df_clean['Payment_Method'].replace(7, np.nan)\n",
    "df_clean['Payment_Method']=df_clean['Payment_Method'].replace('Non', 2)\n",
    "df_clean['Payment_Method']=df_clean['Payment_Method'].replace('Oui', 1)\n",
    "df_clean['Payment_Method']=df_clean['Payment_Method'].replace('4.', np.nan)"
   ]
  },
  {
   "cell_type": "code",
   "execution_count": 1081,
   "metadata": {},
   "outputs": [
    {
     "data": {
      "text/plain": [
       "2.0    675\n",
       "1.0    430\n",
       "NaN    334\n",
       "Name: Payment_Method, dtype: int64"
      ]
     },
     "execution_count": 1081,
     "metadata": {},
     "output_type": "execute_result"
    }
   ],
   "source": [
    "df_clean['Payment_Method']=pd.to_numeric(df_clean['Payment_Method'], errors='coerce',downcast='signed')\n",
    "df_clean['Payment_Method'].value_counts(dropna=False)"
   ]
  },
  {
   "cell_type": "markdown",
   "metadata": {},
   "source": [
    "# Internet_payment"
   ]
  },
  {
   "cell_type": "code",
   "execution_count": 1082,
   "metadata": {},
   "outputs": [
    {
     "data": {
      "text/plain": [
       "array(['Non', nan, 'Oui', '1 (La plus mauvaise note)', 7, 'Ne sait pas',\n",
       "       '1.', 6, '3.', '2.', 5], dtype=object)"
      ]
     },
     "execution_count": 1082,
     "metadata": {},
     "output_type": "execute_result"
    }
   ],
   "source": [
    "df_clean['Internet_payment'].unique()"
   ]
  },
  {
   "cell_type": "code",
   "execution_count": 1083,
   "metadata": {},
   "outputs": [],
   "source": [
    "df_clean['Internet_payment']=df_clean['Internet_payment'].replace(3, np.nan)\n",
    "df_clean['Internet_payment']=df_clean['Internet_payment'].replace(5, np.nan)\n",
    "df_clean['Internet_payment']=df_clean['Internet_payment'].replace(6, np.nan)\n",
    "df_clean['Internet_payment']=df_clean['Internet_payment'].replace(7, np.nan)\n",
    "df_clean['Internet_payment']=df_clean['Internet_payment'].replace('Non', 2)\n",
    "df_clean['Internet_payment']=df_clean['Internet_payment'].replace('Oui', 1)\n",
    "df_clean['Internet_payment']=df_clean['Internet_payment'].replace('2.', 2)\n",
    "df_clean['Internet_payment']=df_clean['Internet_payment'].replace('1.', 1)"
   ]
  },
  {
   "cell_type": "code",
   "execution_count": 1084,
   "metadata": {},
   "outputs": [],
   "source": [
    "df_clean['Internet_payment']=pd.to_numeric(df_clean['Internet_payment'], errors='coerce',downcast='signed')"
   ]
  },
  {
   "cell_type": "code",
   "execution_count": 1085,
   "metadata": {},
   "outputs": [],
   "source": [
    "df_clean['Internet_payment']=df_clean['Internet_payment'].replace(3, np.nan)\n",
    "df_clean['Internet_payment']=df_clean['Internet_payment'].replace(5, np.nan)\n",
    "df_clean['Internet_payment']=df_clean['Internet_payment'].replace(6, np.nan)\n",
    "df_clean['Internet_payment']=df_clean['Internet_payment'].replace(7, np.nan)\n",
    "df_clean['Internet_payment']=df_clean['Internet_payment'].replace('Non', 2)\n",
    "df_clean['Internet_payment']=df_clean['Internet_payment'].replace('Oui', 1)\n",
    "df_clean['Internet_payment']=df_clean['Internet_payment'].replace('2.', 2)\n",
    "df_clean['Internet_payment']=df_clean['Internet_payment'].replace('1.', 1)"
   ]
  },
  {
   "cell_type": "code",
   "execution_count": 1086,
   "metadata": {},
   "outputs": [
    {
     "data": {
      "text/plain": [
       "2.0    990\n",
       "NaN    307\n",
       "1.0    142\n",
       "Name: Internet_payment, dtype: int64"
      ]
     },
     "execution_count": 1086,
     "metadata": {},
     "output_type": "execute_result"
    }
   ],
   "source": [
    "df_clean['Internet_payment']=pd.to_numeric(df_clean['Internet_payment'], errors='coerce',downcast='signed')\n",
    "df_clean['Internet_payment'].value_counts(dropna=False)"
   ]
  },
  {
   "cell_type": "markdown",
   "metadata": {},
   "source": [
    "# Invoice_payment"
   ]
  },
  {
   "cell_type": "code",
   "execution_count": 1087,
   "metadata": {},
   "outputs": [
    {
     "data": {
      "text/plain": [
       "array([nan, 'Non', 'Oui', '1 (La plus mauvaise note)', '3.', 4,\n",
       "       'Oui, je suis retourné en boutique / agence', '2.',\n",
       "       'Non, mon problème était résolu', 'Oui, plusieurs fois', 6],\n",
       "      dtype=object)"
      ]
     },
     "execution_count": 1087,
     "metadata": {},
     "output_type": "execute_result"
    }
   ],
   "source": [
    "df_clean['Invoice_payment'].unique()"
   ]
  },
  {
   "cell_type": "code",
   "execution_count": 1088,
   "metadata": {},
   "outputs": [],
   "source": [
    "df_clean['Invoice_payment']=df_clean['Invoice_payment'].replace(3, np.nan)\n",
    "df_clean['Invoice_payment']=df_clean['Invoice_payment'].replace(4, np.nan)\n",
    "df_clean['Invoice_payment']=df_clean['Invoice_payment'].replace(6, np.nan)\n",
    "df_clean['Invoice_payment']=df_clean['Invoice_payment'].replace('Non', 2)\n",
    "df_clean['Invoice_payment']=df_clean['Invoice_payment'].replace('Oui', 1)\n",
    "df_clean['Invoice_payment']=df_clean['Invoice_payment'].replace('3.', np.nan)\n",
    "df_clean['Invoice_payment']=df_clean['Invoice_payment'].replace('2.', 2)"
   ]
  },
  {
   "cell_type": "code",
   "execution_count": 1089,
   "metadata": {},
   "outputs": [
    {
     "data": {
      "text/plain": [
       "NaN    1002\n",
       "2.0     380\n",
       "1.0      57\n",
       "Name: Invoice_payment, dtype: int64"
      ]
     },
     "execution_count": 1089,
     "metadata": {},
     "output_type": "execute_result"
    }
   ],
   "source": [
    "df_clean['Invoice_payment']=pd.to_numeric(df_clean['Invoice_payment'], errors='coerce',downcast='signed')\n",
    "df_clean['Invoice_payment'].value_counts(dropna=False)"
   ]
  },
  {
   "cell_type": "markdown",
   "metadata": {},
   "source": [
    "# firstInvoice_place"
   ]
  },
  {
   "cell_type": "code",
   "execution_count": 1090,
   "metadata": {},
   "outputs": [
    {
     "data": {
      "text/plain": [
       "array(['Non', nan, 'Oui', '1 (La plus mauvaise note)',\n",
       "       'Non, mon problème était résolu', 5, 4,\n",
       "       'Oui, j’ai appelé le call center', 6], dtype=object)"
      ]
     },
     "execution_count": 1090,
     "metadata": {},
     "output_type": "execute_result"
    }
   ],
   "source": [
    "df_clean['firstInvoice_place'].unique()"
   ]
  },
  {
   "cell_type": "code",
   "execution_count": 1091,
   "metadata": {},
   "outputs": [],
   "source": [
    "df_clean['firstInvoice_place']=df_clean['firstInvoice_place'].replace(4, np.nan)\n",
    "df_clean['firstInvoice_place']=df_clean['firstInvoice_place'].replace(5, np.nan)\n",
    "df_clean['firstInvoice_place']=df_clean['firstInvoice_place'].replace(6, np.nan)\n",
    "df_clean['firstInvoice_place']=df_clean['firstInvoice_place'].replace('Non', 2)\n",
    "df_clean['firstInvoice_place']=df_clean['firstInvoice_place'].replace('Oui',1)"
   ]
  },
  {
   "cell_type": "code",
   "execution_count": 1092,
   "metadata": {},
   "outputs": [
    {
     "data": {
      "text/plain": [
       "2.0    1074\n",
       "NaN     219\n",
       "1.0     146\n",
       "Name: firstInvoice_place, dtype: int64"
      ]
     },
     "execution_count": 1092,
     "metadata": {},
     "output_type": "execute_result"
    }
   ],
   "source": [
    "df_clean['firstInvoice_place']=pd.to_numeric(df_clean['firstInvoice_place'], errors='coerce',downcast='signed')\n",
    "df_clean['firstInvoice_place'].value_counts(dropna=False)"
   ]
  },
  {
   "cell_type": "markdown",
   "metadata": {},
   "source": [
    "# InvoicingSystems _estimation "
   ]
  },
  {
   "cell_type": "code",
   "execution_count": 1093,
   "metadata": {},
   "outputs": [
    {
     "data": {
      "text/plain": [
       "array([nan, 4, 3, '1 (La plus mauvaise note)', 5, 7, 8, 6,\n",
       "       '11 (Ne sait pas / Non applicable)', 9, 'Non', 'Oui', '1.'],\n",
       "      dtype=object)"
      ]
     },
     "execution_count": 1093,
     "metadata": {},
     "output_type": "execute_result"
    }
   ],
   "source": [
    "df_clean['InvoicingSystems _estimation'].unique()"
   ]
  },
  {
   "cell_type": "code",
   "execution_count": 1094,
   "metadata": {},
   "outputs": [],
   "source": [
    "df_clean['firstInvoice_place'].replace('1 (La plus mauvaise note)',1 , inplace=True)\n",
    "df_clean['firstInvoice_place'].replace('11 (Ne sait pas / Non applicable)',11 , inplace=True)\n",
    "df_clean['firstInvoice_place'].replace('1.',1 , inplace=True)"
   ]
  },
  {
   "cell_type": "code",
   "execution_count": 1095,
   "metadata": {},
   "outputs": [
    {
     "data": {
      "text/plain": [
       "NaN    0.391244\n",
       "7.0    0.236275\n",
       "8.0    0.166782\n",
       "6.0    0.102154\n",
       "5.0    0.047255\n",
       "3.0    0.033356\n",
       "4.0    0.015288\n",
       "9.0    0.005559\n",
       "1.0    0.002085\n",
       "Name: InvoicingSystems _estimation, dtype: float64"
      ]
     },
     "execution_count": 1095,
     "metadata": {},
     "output_type": "execute_result"
    }
   ],
   "source": [
    "df_clean['InvoicingSystems _estimation']=pd.to_numeric(df_clean['InvoicingSystems _estimation'], errors='coerce',downcast='signed')\n",
    "df_clean['InvoicingSystems _estimation'].value_counts(dropna=False,normalize=True)"
   ]
  },
  {
   "cell_type": "markdown",
   "metadata": {},
   "source": [
    "Healthy Nan 🥕-->999\n",
    "\n",
    "Unhealthy Nan 🍔-->Most frequent"
   ]
  },
  {
   "cell_type": "markdown",
   "metadata": {},
   "source": [
    "if paper_recieved, Invoice_recieved, Internet_payment, Payment_Method, firstInvoice_place and Invoice_payment are equal to 'NO' and InvoicingSystems _estimation is NAN \n",
    "\n",
    "We will replace nan by 999"
   ]
  },
  {
   "cell_type": "code",
   "execution_count": 1096,
   "metadata": {},
   "outputs": [],
   "source": [
    "df_clean['InvoicingSystems _estimation']=np.where((((df_clean['paper_recieved']==2) & (df_clean['Invoice_recieved']==2) & (df_clean['Internet_payment']==2) & (df_clean['Payment_Method']==2) & (df_clean['Invoice_payment']==2) &(df_clean['firstInvoice_place']==2))   \n",
    "                                    & (pd.isna(df_clean['InvoicingSystems _estimation'])==True))\n",
    "                                     ,999 , df_clean['InvoicingSystems _estimation'])"
   ]
  },
  {
   "cell_type": "code",
   "execution_count": 1097,
   "metadata": {},
   "outputs": [
    {
     "data": {
      "text/plain": [
       "NaN      494\n",
       "7.0      340\n",
       "8.0      240\n",
       "6.0      147\n",
       "999.0     69\n",
       "5.0       68\n",
       "3.0       48\n",
       "4.0       22\n",
       "9.0        8\n",
       "1.0        3\n",
       "Name: InvoicingSystems _estimation, dtype: int64"
      ]
     },
     "execution_count": 1097,
     "metadata": {},
     "output_type": "execute_result"
    }
   ],
   "source": [
    "df_clean['InvoicingSystems _estimation'].value_counts(dropna=False)"
   ]
  },
  {
   "cell_type": "markdown",
   "metadata": {},
   "source": [
    "if one of paper_recieved, Invoice_recieved, Internet_payment, Payment_Method, firstInvoice_place and Invoice_payment is equal to 'YES'\n",
    "\n",
    "We will replace nan by the mean"
   ]
  },
  {
   "cell_type": "code",
   "execution_count": 1098,
   "metadata": {},
   "outputs": [],
   "source": [
    "df_clean['InvoicingSystems _estimation']=df_clean['InvoicingSystems _estimation'].fillna(round(df_clean[((df_clean['paper_recieved']==1) | (df_clean['Invoice_recieved']==1) | (df_clean['Internet_payment']==1) | (df_clean['Payment_Method']==1) | (df_clean['Invoice_payment']==1) | (df_clean['firstInvoice_place']==1))]['InvoicingSystems _estimation'].mean()))"
   ]
  },
  {
   "cell_type": "code",
   "execution_count": 1099,
   "metadata": {},
   "outputs": [
    {
     "data": {
      "text/plain": [
       "0"
      ]
     },
     "execution_count": 1099,
     "metadata": {},
     "output_type": "execute_result"
    }
   ],
   "source": [
    "df_clean['InvoicingSystems _estimation'].isna().sum().sum()"
   ]
  },
  {
   "cell_type": "code",
   "execution_count": 1100,
   "metadata": {},
   "outputs": [],
   "source": [
    "#df_clean['paper_recieved']=np.where((df_clean['InvoicingSystems _estimation'] is 999) ,2 , df_clean['paper_recieved'])\n",
    "#df_clean['Invoice_recieved']=np.where((df_clean['InvoicingSystems _estimation'] is 999) ,2 , df_clean['Invoice_recieved'])\n",
    "#df_clean['Payment_Method']=np.where((df_clean['InvoicingSystems _estimation'] is 999) ,2 , df_clean['Payment_Method'])\n",
    "#df_clean['Internet_payment']=np.where((df_clean['InvoicingSystems _estimation'] is 999) ,2 , df_clean['Internet_payment'])\n",
    "#df_clean['Invoice_payment']=np.where((df_clean['InvoicingSystems _estimation'] is 999) ,2 , df_clean['Invoice_payment'])\n",
    "#df_clean['firstInvoice_place']=np.where((df_clean['InvoicingSystems _estimation'] is 999) ,2 , df_clean['firstInvoice_place'])"
   ]
  },
  {
   "cell_type": "markdown",
   "metadata": {},
   "source": [
    "if paper_recieved, Invoice_recieved, Internet_payment, Payment_Method, firstInvoice_place and Invoice_payment are NAN and InvoicingSystems _estimation contains a mark \n",
    "\n",
    "We will replace nan values paper_recieved, Invoice_recieved, Internet_payment, Payment_Method, firstInvoice_place and Invoice_payment in by 'YES'."
   ]
  },
  {
   "cell_type": "code",
   "execution_count": 1101,
   "metadata": {},
   "outputs": [
    {
     "data": {
      "text/plain": [
       "7.0    201\n",
       "5.0      2\n",
       "Name: InvoicingSystems _estimation, dtype: int64"
      ]
     },
     "execution_count": 1101,
     "metadata": {},
     "output_type": "execute_result"
    }
   ],
   "source": [
    "df_clean[(pd.isna(df_clean['firstInvoice_place'])==True) & (pd.isna(df_clean['Invoice_recieved'])==True) & (pd.isna(df_clean['Payment_Method'])==True) & (pd.isna(df_clean['Invoice_payment'])==True) & (pd.isna(df_clean['Internet_payment'])==True) & (pd.isna(df_clean['paper_recieved'])==True) & (pd.isna(df_clean['InvoicingSystems _estimation'])==False) & ((df_clean.iloc[i,df_clean.columns.get_loc(\"InvoicingSystems _estimation\")])!=999)]['InvoicingSystems _estimation'].value_counts(dropna=False)"
   ]
  },
  {
   "cell_type": "code",
   "execution_count": 1102,
   "metadata": {},
   "outputs": [],
   "source": [
    "for i in range(len(df_clean)):\n",
    "    if ((pd.isnull(df_clean.iloc[i,df_clean.columns.get_loc(\"paper_recieved\")])==True) and (pd.isnull(df_clean.iloc[i,df_clean.columns.get_loc(\"Payment_Method\")])==True) and (pd.isnull(df_clean.iloc[i,df_clean.columns.get_loc(\"Internet_payment\")])==True) and (pd.isnull(df_clean.iloc[i,df_clean.columns.get_loc(\"Invoice_payment\")])==True) and (pd.isnull(df_clean.iloc[i,df_clean.columns.get_loc(\"firstInvoice_place\")])==True) and (pd.isnull(df_clean.iloc[i,df_clean.columns.get_loc(\"Invoice_recieved\")])==True) and (pd.isnull(df_clean.iloc[i,df_clean.columns.get_loc(\"InvoicingSystems _estimation\")])==False) & ((df_clean.iloc[i,df_clean.columns.get_loc(\"InvoicingSystems _estimation\")])!=999)):\n",
    "        df_clean.iloc[i,df_clean.columns.get_loc(\"paper_recieved\")]=1\n",
    "        df_clean.iloc[i,df_clean.columns.get_loc(\"Invoice_recieved\")]=1\n",
    "        df_clean.iloc[i,df_clean.columns.get_loc(\"Payment_Method\")]=1\n",
    "        df_clean.iloc[i,df_clean.columns.get_loc(\"Internet_payment\")]=1\n",
    "        df_clean.iloc[i,df_clean.columns.get_loc(\"Invoice_payment\")]=1\n",
    "        df_clean.iloc[i,df_clean.columns.get_loc(\"firstInvoice_place\")]=1"
   ]
  },
  {
   "cell_type": "code",
   "execution_count": 1103,
   "metadata": {},
   "outputs": [
    {
     "data": {
      "text/plain": [
       "1.0    826\n",
       "2.0    469\n",
       "NaN    144\n",
       "Name: paper_recieved, dtype: int64"
      ]
     },
     "execution_count": 1103,
     "metadata": {},
     "output_type": "execute_result"
    }
   ],
   "source": [
    "df_clean['paper_recieved'].value_counts(dropna=False)"
   ]
  },
  {
   "cell_type": "code",
   "execution_count": 1104,
   "metadata": {
    "scrolled": true
   },
   "outputs": [
    {
     "data": {
      "text/plain": [
       "2.0    858\n",
       "1.0    434\n",
       "NaN    147\n",
       "Name: Invoice_recieved, dtype: int64"
      ]
     },
     "execution_count": 1104,
     "metadata": {},
     "output_type": "execute_result"
    }
   ],
   "source": [
    "df_clean['Invoice_recieved'].value_counts(dropna=False)"
   ]
  },
  {
   "cell_type": "code",
   "execution_count": 1105,
   "metadata": {},
   "outputs": [
    {
     "data": {
      "text/plain": [
       "2.0    675\n",
       "1.0    633\n",
       "NaN    131\n",
       "Name: Payment_Method, dtype: int64"
      ]
     },
     "execution_count": 1105,
     "metadata": {},
     "output_type": "execute_result"
    }
   ],
   "source": [
    "df_clean['Payment_Method'].value_counts(dropna=False)"
   ]
  },
  {
   "cell_type": "code",
   "execution_count": 1106,
   "metadata": {},
   "outputs": [
    {
     "data": {
      "text/plain": [
       "2.0    990\n",
       "1.0    345\n",
       "NaN    104\n",
       "Name: Internet_payment, dtype: int64"
      ]
     },
     "execution_count": 1106,
     "metadata": {},
     "output_type": "execute_result"
    }
   ],
   "source": [
    "df_clean['Internet_payment'].value_counts(dropna=False)"
   ]
  },
  {
   "cell_type": "code",
   "execution_count": 1107,
   "metadata": {},
   "outputs": [
    {
     "data": {
      "text/plain": [
       "NaN    799\n",
       "2.0    380\n",
       "1.0    260\n",
       "Name: Invoice_payment, dtype: int64"
      ]
     },
     "execution_count": 1107,
     "metadata": {},
     "output_type": "execute_result"
    }
   ],
   "source": [
    "df_clean['Invoice_payment'].value_counts(dropna=False)"
   ]
  },
  {
   "cell_type": "code",
   "execution_count": 1108,
   "metadata": {},
   "outputs": [
    {
     "data": {
      "text/plain": [
       "2.0    1074\n",
       "1.0     349\n",
       "NaN      16\n",
       "Name: firstInvoice_place, dtype: int64"
      ]
     },
     "execution_count": 1108,
     "metadata": {},
     "output_type": "execute_result"
    }
   ],
   "source": [
    "df_clean['firstInvoice_place'].value_counts(dropna=False)"
   ]
  },
  {
   "cell_type": "code",
   "execution_count": 1109,
   "metadata": {},
   "outputs": [],
   "source": [
    "df_clean['paper_recieved']=df_clean['paper_recieved'].fillna('Unknowen')\n",
    "df_clean['Invoice_recieved']=df_clean['Invoice_recieved'].fillna('UNknowen')\n",
    "df_clean['Payment_Method']=df_clean['Payment_Method'].fillna('Unknowen')\n",
    "df_clean['Internet_payment']=df_clean['Internet_payment'].fillna('Unknowen')\n",
    "df_clean['Invoice_payment']=df_clean['Invoice_payment'].fillna('Unknowen')\n",
    "df_clean['firstInvoice_place']=df_clean['firstInvoice_place'].fillna('Unknowen')"
   ]
  },
  {
   "cell_type": "markdown",
   "metadata": {},
   "source": [
    "# receiptInvoice _deadline "
   ]
  },
  {
   "cell_type": "code",
   "execution_count": 1110,
   "metadata": {},
   "outputs": [
    {
     "data": {
      "text/plain": [
       "array([nan, 5, 2, '1 (La plus mauvaise note)', 6, 8, 7, 4,\n",
       "       '11 (Ne sait pas / Non applicable)', 3, 9,\n",
       "       '10 (La meilleure note)', 'Oui', 'Non', '1.', 'Oui, une fois'],\n",
       "      dtype=object)"
      ]
     },
     "execution_count": 1110,
     "metadata": {},
     "output_type": "execute_result"
    }
   ],
   "source": [
    "df_clean['receiptInvoice _deadline'].unique()"
   ]
  },
  {
   "cell_type": "code",
   "execution_count": 1111,
   "metadata": {},
   "outputs": [],
   "source": [
    "df_clean['receiptInvoice _deadline'].replace('1 (La plus mauvaise note)',1 , inplace=True)\n",
    "df_clean['receiptInvoice _deadline'].replace('11 (Ne sait pas / Non applicable)',11 , inplace=True)\n",
    "df_clean['receiptInvoice _deadline'].replace('10 (La meilleure note)',10 , inplace=True)\n",
    "df_clean['receiptInvoice _deadline'].replace('1.',1 , inplace=True)\n",
    "df_clean['receiptInvoice _deadline'].replace('',1 , inplace=True)"
   ]
  },
  {
   "cell_type": "code",
   "execution_count": 1112,
   "metadata": {},
   "outputs": [
    {
     "data": {
      "text/plain": [
       "NaN    0.411397\n",
       "7.0    0.193190\n",
       "6.0    0.134121\n",
       "8.0    0.120917\n",
       "5.0    0.073662\n",
       "4.0    0.022933\n",
       "9.0    0.018068\n",
       "3.0    0.015983\n",
       "2.0    0.008339\n",
       "1.0    0.001390\n",
       "Name: receiptInvoice _deadline, dtype: float64"
      ]
     },
     "execution_count": 1112,
     "metadata": {},
     "output_type": "execute_result"
    }
   ],
   "source": [
    "df_clean['receiptInvoice _deadline']=pd.to_numeric(df_clean['receiptInvoice _deadline'], errors='coerce',downcast='signed')\n",
    "df_clean['receiptInvoice _deadline'].value_counts(dropna=False,normalize=True)"
   ]
  },
  {
   "cell_type": "code",
   "execution_count": 1113,
   "metadata": {},
   "outputs": [],
   "source": [
    "df_clean['receiptInvoice _deadline']=np.where((((df_clean['paper_recieved']==2) & (df_clean['Invoice_recieved']==2) & (df_clean['Internet_payment']==2) & (df_clean['Payment_Method']==2) & (df_clean['Invoice_payment']==2) &(df_clean['firstInvoice_place']==2))   \n",
    "                                    & (pd.isna(df_clean['receiptInvoice _deadline'])==True))\n",
    "                                     ,999 , df_clean['receiptInvoice _deadline'])"
   ]
  },
  {
   "cell_type": "code",
   "execution_count": 1114,
   "metadata": {},
   "outputs": [
    {
     "data": {
      "text/plain": [
       "NaN      0.363447\n",
       "7.0      0.193190\n",
       "6.0      0.134121\n",
       "8.0      0.120917\n",
       "5.0      0.073662\n",
       "999.0    0.047950\n",
       "4.0      0.022933\n",
       "9.0      0.018068\n",
       "3.0      0.015983\n",
       "2.0      0.008339\n",
       "1.0      0.001390\n",
       "Name: receiptInvoice _deadline, dtype: float64"
      ]
     },
     "execution_count": 1114,
     "metadata": {},
     "output_type": "execute_result"
    }
   ],
   "source": [
    "df_clean['receiptInvoice _deadline'].value_counts(dropna=False,normalize=True)"
   ]
  },
  {
   "cell_type": "code",
   "execution_count": 1115,
   "metadata": {},
   "outputs": [],
   "source": [
    "df_clean['receiptInvoice _deadline']=df_clean['receiptInvoice _deadline'].fillna(round(df_clean[((df_clean['paper_recieved']==1) | (df_clean['Invoice_recieved']==1) | (df_clean['Internet_payment']==1) | (df_clean['Payment_Method']==1) | (df_clean['Invoice_payment']==1) | (df_clean['firstInvoice_place']==1))]['receiptInvoice _deadline'].mean()))"
   ]
  },
  {
   "cell_type": "code",
   "execution_count": 1116,
   "metadata": {},
   "outputs": [
    {
     "data": {
      "text/plain": [
       "0"
      ]
     },
     "execution_count": 1116,
     "metadata": {},
     "output_type": "execute_result"
    }
   ],
   "source": [
    "df_clean['receiptInvoice _deadline'].isna().sum().sum()"
   ]
  },
  {
   "cell_type": "markdown",
   "metadata": {},
   "source": [
    "# Invoice_easiness"
   ]
  },
  {
   "cell_type": "code",
   "execution_count": 1117,
   "metadata": {},
   "outputs": [
    {
     "data": {
      "text/plain": [
       "array([nan, 6, 2, '1 (La plus mauvaise note)', 5, 7, 8, 3, 9, 4,\n",
       "       '11 (Ne sait pas / Non applicable)', '10 (La meilleure note)',\n",
       "       'Non', 'Oui', 'Oui, une fois'], dtype=object)"
      ]
     },
     "execution_count": 1117,
     "metadata": {},
     "output_type": "execute_result"
    }
   ],
   "source": [
    "df_clean['Invoice_easiness'].unique()"
   ]
  },
  {
   "cell_type": "code",
   "execution_count": 1118,
   "metadata": {},
   "outputs": [],
   "source": [
    "df_clean['Invoice_easiness'].replace('1 (La plus mauvaise note)',1 , inplace=True)\n",
    "df_clean['Invoice_easiness'].replace('11 (Ne sait pas / Non applicable)',11 , inplace=True)\n",
    "df_clean['Invoice_easiness'].replace('10 (La meilleure note)',10 , inplace=True)"
   ]
  },
  {
   "cell_type": "code",
   "execution_count": 1119,
   "metadata": {},
   "outputs": [
    {
     "data": {
      "text/plain": [
       "NaN    0.394719\n",
       "7.0    0.184156\n",
       "8.0    0.136901\n",
       "5.0    0.093815\n",
       "6.0    0.093815\n",
       "9.0    0.045865\n",
       "3.0    0.020848\n",
       "4.0    0.017373\n",
       "2.0    0.012509\n",
       "Name: Invoice_easiness, dtype: float64"
      ]
     },
     "execution_count": 1119,
     "metadata": {},
     "output_type": "execute_result"
    }
   ],
   "source": [
    "df_clean['Invoice_easiness']=pd.to_numeric(df_clean['Invoice_easiness'], errors='coerce',downcast='signed')\n",
    "df_clean['Invoice_easiness'].value_counts(dropna=False,normalize=True)"
   ]
  },
  {
   "cell_type": "code",
   "execution_count": 1120,
   "metadata": {},
   "outputs": [],
   "source": [
    "df_clean['Invoice_easiness']=np.where((((df_clean['paper_recieved']==2) & (df_clean['Invoice_recieved']==2) & (df_clean['Internet_payment']==2) & (df_clean['Payment_Method']==2) & (df_clean['Invoice_payment']==2) &(df_clean['firstInvoice_place']==2))   \n",
    "                                    & (pd.isna(df_clean['Invoice_easiness'])==True))\n",
    "                                     ,999 , df_clean['Invoice_easiness'])"
   ]
  },
  {
   "cell_type": "code",
   "execution_count": 1121,
   "metadata": {},
   "outputs": [
    {
     "data": {
      "text/plain": [
       "NaN      0.346769\n",
       "7.0      0.184156\n",
       "8.0      0.136901\n",
       "5.0      0.093815\n",
       "6.0      0.093815\n",
       "999.0    0.047950\n",
       "9.0      0.045865\n",
       "3.0      0.020848\n",
       "4.0      0.017373\n",
       "2.0      0.012509\n",
       "Name: Invoice_easiness, dtype: float64"
      ]
     },
     "execution_count": 1121,
     "metadata": {},
     "output_type": "execute_result"
    }
   ],
   "source": [
    "df_clean['Invoice_easiness'].value_counts(dropna=False,normalize=True)"
   ]
  },
  {
   "cell_type": "code",
   "execution_count": 1122,
   "metadata": {},
   "outputs": [],
   "source": [
    "df_clean['Invoice_easiness']=df_clean['Invoice_easiness'].fillna(round(df_clean[((df_clean['paper_recieved']==1) | (df_clean['Invoice_recieved']==1) | (df_clean['Internet_payment']==1) | (df_clean['Payment_Method']==1) | (df_clean['Invoice_payment']==1) | (df_clean['firstInvoice_place']==1))]['Invoice_easiness'].mean()))"
   ]
  },
  {
   "cell_type": "code",
   "execution_count": 1123,
   "metadata": {},
   "outputs": [
    {
     "data": {
      "text/plain": [
       "0"
      ]
     },
     "execution_count": 1123,
     "metadata": {},
     "output_type": "execute_result"
    }
   ],
   "source": [
    "df_clean['Invoice_easiness'].isna().sum().sum()"
   ]
  },
  {
   "cell_type": "markdown",
   "metadata": {},
   "source": [
    "# Invoice_ correctness "
   ]
  },
  {
   "cell_type": "code",
   "execution_count": 1124,
   "metadata": {},
   "outputs": [
    {
     "data": {
      "text/plain": [
       "array([nan, 7, 5, '1 (La plus mauvaise note)', 8, 6, 3, 9, 4, 2,\n",
       "       '11 (Ne sait pas / Non applicable)', '10 (La meilleure note)',\n",
       "       'Non', 'Oui'], dtype=object)"
      ]
     },
     "execution_count": 1124,
     "metadata": {},
     "output_type": "execute_result"
    }
   ],
   "source": [
    "df_clean['Invoice_ correctness'].unique()"
   ]
  },
  {
   "cell_type": "code",
   "execution_count": 1125,
   "metadata": {},
   "outputs": [],
   "source": [
    "df_clean['Invoice_ correctness'].replace('1 (La plus mauvaise note)',1 , inplace=True)\n",
    "df_clean['Invoice_ correctness'].replace('11 (Ne sait pas / Non applicable)',11 , inplace=True)\n",
    "df_clean['Invoice_ correctness'].replace('10 (La meilleure note)',10 , inplace=True)"
   ]
  },
  {
   "cell_type": "code",
   "execution_count": 1126,
   "metadata": {},
   "outputs": [
    {
     "data": {
      "text/plain": [
       "NaN    0.380820\n",
       "7.0    0.195969\n",
       "5.0    0.122307\n",
       "6.0    0.118138\n",
       "8.0    0.100764\n",
       "9.0    0.037526\n",
       "2.0    0.019458\n",
       "3.0    0.013899\n",
       "4.0    0.011119\n",
       "Name: Invoice_ correctness, dtype: float64"
      ]
     },
     "execution_count": 1126,
     "metadata": {},
     "output_type": "execute_result"
    }
   ],
   "source": [
    "df_clean['Invoice_ correctness']=pd.to_numeric(df_clean['Invoice_ correctness'], errors='coerce',downcast='signed')\n",
    "df_clean['Invoice_ correctness'].value_counts(dropna=False,normalize=True)"
   ]
  },
  {
   "cell_type": "code",
   "execution_count": 1127,
   "metadata": {},
   "outputs": [],
   "source": [
    "df_clean['Invoice_ correctness']=np.where((((df_clean['paper_recieved']==2) & (df_clean['Invoice_recieved']==2) & (df_clean['Internet_payment']==2) & (df_clean['Payment_Method']==2) & (df_clean['Invoice_payment']==2) &(df_clean['firstInvoice_place']==2))   \n",
    "                                    & (pd.isna(df_clean['Invoice_ correctness'])==True))\n",
    "                                     ,999 , df_clean['Invoice_ correctness'])"
   ]
  },
  {
   "cell_type": "code",
   "execution_count": 1128,
   "metadata": {},
   "outputs": [
    {
     "data": {
      "text/plain": [
       "NaN      0.332870\n",
       "7.0      0.195969\n",
       "5.0      0.122307\n",
       "6.0      0.118138\n",
       "8.0      0.100764\n",
       "999.0    0.047950\n",
       "9.0      0.037526\n",
       "2.0      0.019458\n",
       "3.0      0.013899\n",
       "4.0      0.011119\n",
       "Name: Invoice_ correctness, dtype: float64"
      ]
     },
     "execution_count": 1128,
     "metadata": {},
     "output_type": "execute_result"
    }
   ],
   "source": [
    "df_clean['Invoice_ correctness'].value_counts(dropna=False,normalize=True)"
   ]
  },
  {
   "cell_type": "code",
   "execution_count": 1129,
   "metadata": {},
   "outputs": [],
   "source": [
    "df_clean['Invoice_ correctness']=df_clean['Invoice_ correctness'].fillna(round(df_clean[((df_clean['paper_recieved']==1) | (df_clean['Invoice_recieved']==1) | (df_clean['Internet_payment']==1) | (df_clean['Payment_Method']==1) | (df_clean['Invoice_payment']==1) | (df_clean['firstInvoice_place']==1))]['Invoice_easiness'].mean()))"
   ]
  },
  {
   "cell_type": "code",
   "execution_count": 1130,
   "metadata": {},
   "outputs": [
    {
     "data": {
      "text/plain": [
       "0"
      ]
     },
     "execution_count": 1130,
     "metadata": {},
     "output_type": "execute_result"
    }
   ],
   "source": [
    "df_clean['Invoice_ correctness'].isna().sum().sum()"
   ]
  },
  {
   "cell_type": "markdown",
   "metadata": {},
   "source": [
    "# using_OfCredit_centralized"
   ]
  },
  {
   "cell_type": "code",
   "execution_count": 1131,
   "metadata": {},
   "outputs": [
    {
     "data": {
      "text/plain": [
       "array(['2.\\tNon', nan, '1.\\tOui', 'Non', 5, 7, 3, 8, 6,\n",
       "       '11 (Ne sait pas / Non applicable)', 'Oui',\n",
       "       '1 (La plus mauvaise note)', '10 (La meilleure note)', 2],\n",
       "      dtype=object)"
      ]
     },
     "execution_count": 1131,
     "metadata": {},
     "output_type": "execute_result"
    }
   ],
   "source": [
    "df_clean['using_OfCredit_centralized'].unique()"
   ]
  },
  {
   "cell_type": "code",
   "execution_count": 1132,
   "metadata": {},
   "outputs": [],
   "source": [
    "df_clean['using_OfCredit_centralized']=df_clean['using_OfCredit_centralized'].replace(3, np.nan)\n",
    "df_clean['using_OfCredit_centralized']=df_clean['using_OfCredit_centralized'].replace(5, np.nan)\n",
    "df_clean['using_OfCredit_centralized']=df_clean['using_OfCredit_centralized'].replace(6, np.nan)\n",
    "df_clean['using_OfCredit_centralized']=df_clean['using_OfCredit_centralized'].replace(7, np.nan)\n",
    "df_clean['using_OfCredit_centralized']=df_clean['using_OfCredit_centralized'].replace(8, np.nan)\n",
    "df_clean['using_OfCredit_centralized']=df_clean['using_OfCredit_centralized'].replace('2.\\tNon',2)\n",
    "df_clean['using_OfCredit_centralized']=df_clean['using_OfCredit_centralized'].replace('Non',2)\n",
    "df_clean['using_OfCredit_centralized']=df_clean['using_OfCredit_centralized'].replace('1.\\tOui',1)\n",
    "df_clean['using_OfCredit_centralized']=df_clean['using_OfCredit_centralized'].replace('Oui', 1)"
   ]
  },
  {
   "cell_type": "code",
   "execution_count": 1133,
   "metadata": {},
   "outputs": [
    {
     "data": {
      "text/plain": [
       "2.0    0.708826\n",
       "NaN    0.150799\n",
       "1.0    0.140375\n",
       "Name: using_OfCredit_centralized, dtype: float64"
      ]
     },
     "execution_count": 1133,
     "metadata": {},
     "output_type": "execute_result"
    }
   ],
   "source": [
    "df_clean['using_OfCredit_centralized']=pd.to_numeric(df_clean['using_OfCredit_centralized'], errors='coerce',downcast='signed')\n",
    "df_clean['using_OfCredit_centralized'].value_counts(dropna=False,normalize=True)"
   ]
  },
  {
   "cell_type": "code",
   "execution_count": 1134,
   "metadata": {},
   "outputs": [],
   "source": [
    "df_clean['using_OfCredit_centralized']=df_clean['using_OfCredit_centralized'].fillna('Unknowen')"
   ]
  },
  {
   "cell_type": "code",
   "execution_count": 1135,
   "metadata": {},
   "outputs": [],
   "source": [
    "#df_clean['using_OfCredit_centralized']=np.where((((df_clean['paper_recieved']==1) | (df_clean['paper_recieved']==1) | (df_clean['Invoice_recieved']==1) | (df_clean['paper_recieved']==1) | (df_clean['Internet_payment']==1) | (df_clean['Invoice_payment']==1) &(df_clean['firstInvoice_place']==1))   & (pd.isna(df_clean['using_OfCredit_centralized'])==True))\n",
    "#                                     ,999 , df_clean['using_OfCredit_centralized'])"
   ]
  },
  {
   "cell_type": "code",
   "execution_count": 1136,
   "metadata": {},
   "outputs": [],
   "source": [
    "#df_clean['using_OfCredit_centralized'].value_counts(dropna=False,normalize=True)"
   ]
  },
  {
   "cell_type": "markdown",
   "metadata": {},
   "source": [
    "# serviceDistribCentralizedCredit_quality"
   ]
  },
  {
   "cell_type": "code",
   "execution_count": 1137,
   "metadata": {},
   "outputs": [
    {
     "data": {
      "text/plain": [
       "array([nan, 4, 8, 7, 6, 5, 3, '1 (La plus mauvaise note)', 'Non', 'Oui',\n",
       "       '10 (La meilleure note)', 2, '11 (Ne sait pas / Non applicable)'],\n",
       "      dtype=object)"
      ]
     },
     "execution_count": 1137,
     "metadata": {},
     "output_type": "execute_result"
    }
   ],
   "source": [
    "df_clean['serviceDistribCentralizedCredit_quality'].unique()"
   ]
  },
  {
   "cell_type": "code",
   "execution_count": 1138,
   "metadata": {},
   "outputs": [],
   "source": [
    "df_clean['serviceDistribCentralizedCredit_quality'].replace('1 (La plus mauvaise note)',1 , inplace=True)\n",
    "df_clean['serviceDistribCentralizedCredit_quality'].replace('11 (Ne sait pas / Non applicable)',11 , inplace=True)\n",
    "df_clean['serviceDistribCentralizedCredit_quality'].replace('10 (La meilleure note)',10 , inplace=True)"
   ]
  },
  {
   "cell_type": "code",
   "execution_count": 1139,
   "metadata": {},
   "outputs": [
    {
     "data": {
      "text/plain": [
       "NaN    0.799861\n",
       "7.0    0.082001\n",
       "8.0    0.050730\n",
       "6.0    0.038221\n",
       "5.0    0.018763\n",
       "4.0    0.005559\n",
       "3.0    0.002780\n",
       "2.0    0.002085\n",
       "Name: serviceDistribCentralizedCredit_quality, dtype: float64"
      ]
     },
     "execution_count": 1139,
     "metadata": {},
     "output_type": "execute_result"
    }
   ],
   "source": [
    "df_clean['serviceDistribCentralizedCredit_quality']=pd.to_numeric(df_clean['serviceDistribCentralizedCredit_quality'], errors='coerce',downcast='signed')\n",
    "df_clean['serviceDistribCentralizedCredit_quality'].value_counts(dropna=False,normalize=True)"
   ]
  },
  {
   "cell_type": "code",
   "execution_count": 1140,
   "metadata": {},
   "outputs": [],
   "source": [
    "df_clean['serviceDistribCentralizedCredit_quality']=np.where(((df_clean['using_OfCredit_centralized']!=1)  & (pd.isna(df_clean['serviceDistribCentralizedCredit_quality'])==True))\n",
    "                                     ,999 , df_clean['serviceDistribCentralizedCredit_quality'])"
   ]
  },
  {
   "cell_type": "code",
   "execution_count": 1141,
   "metadata": {},
   "outputs": [
    {
     "data": {
      "text/plain": [
       "999.0    1127\n",
       "7.0       118\n",
       "8.0        73\n",
       "6.0        55\n",
       "5.0        27\n",
       "NaN        24\n",
       "4.0         8\n",
       "3.0         4\n",
       "2.0         3\n",
       "Name: serviceDistribCentralizedCredit_quality, dtype: int64"
      ]
     },
     "execution_count": 1141,
     "metadata": {},
     "output_type": "execute_result"
    }
   ],
   "source": [
    "df_clean['serviceDistribCentralizedCredit_quality'].value_counts(dropna=False)"
   ]
  },
  {
   "cell_type": "code",
   "execution_count": 1142,
   "metadata": {},
   "outputs": [],
   "source": [
    "df_clean['serviceDistribCentralizedCredit_quality']=df_clean['serviceDistribCentralizedCredit_quality'].fillna(round(df_clean[(df_clean['using_OfCredit_centralized']==1)]['serviceDistribCentralizedCredit_quality'].mean()))"
   ]
  },
  {
   "cell_type": "code",
   "execution_count": 1143,
   "metadata": {},
   "outputs": [
    {
     "data": {
      "text/plain": [
       "0"
      ]
     },
     "execution_count": 1143,
     "metadata": {},
     "output_type": "execute_result"
    }
   ],
   "source": [
    "#df_clean[(df_clean['using_OfCredit_centralized']!=2) & df_clean['serviceDistribCentralizedCredit_quality']!=999]['serviceDistribCentralizedCredit_quality'].mean()\n",
    "df_clean['serviceDistribCentralizedCredit_quality'].isnull().sum().sum()"
   ]
  },
  {
   "cell_type": "markdown",
   "metadata": {},
   "source": [
    "0 nan values"
   ]
  },
  {
   "cell_type": "code",
   "execution_count": 1144,
   "metadata": {},
   "outputs": [
    {
     "data": {
      "text/plain": [
       "2682"
      ]
     },
     "execution_count": 1144,
     "metadata": {},
     "output_type": "execute_result"
    }
   ],
   "source": [
    "abdou=df_clean.iloc[:,97:]\n",
    "abdou.isna().sum().sum()"
   ]
  },
  {
   "cell_type": "markdown",
   "metadata": {},
   "source": [
    "# serviceDistribCentralizedCredit_quality.1"
   ]
  },
  {
   "cell_type": "code",
   "execution_count": 1145,
   "metadata": {},
   "outputs": [
    {
     "data": {
      "text/plain": [
       "array(['11 (Ne sait pas/ Non applicable)', nan, 5,\n",
       "       '1 (Très peu probable)', 8, 9, 7, '10 (Extrêmement probable)', 4,\n",
       "       6, 3, 2, '1 (La plus mauvaise note)', 'Non', 'Oui',\n",
       "       '11 (Ne sait pas / Non applicable)', '1.', '2.'], dtype=object)"
      ]
     },
     "execution_count": 1145,
     "metadata": {},
     "output_type": "execute_result"
    }
   ],
   "source": [
    "df_clean['serviceDistribCentralizedCredit_quality.1'].unique()"
   ]
  },
  {
   "cell_type": "code",
   "execution_count": 1146,
   "metadata": {},
   "outputs": [],
   "source": [
    "#df_clean['serviceDistribCentralizedCredit_quality.1'] = df_clean['serviceDistribCentralizedCredit_quality.1'].fillna(11)\n",
    "df_clean['serviceDistribCentralizedCredit_quality.1'].replace('11 (Ne sait pas/ Non applicable)', 11, inplace=True)\n",
    "df_clean['serviceDistribCentralizedCredit_quality.1'].replace('11 (Ne sait pas / Non applicable)', 11, inplace=True)\n",
    "df_clean['serviceDistribCentralizedCredit_quality.1'].replace('1 (Très peu probable)', 1, inplace=True)\n",
    "df_clean['serviceDistribCentralizedCredit_quality.1'].replace('10 (Extrêmement probable)', 10, inplace=True)\n",
    "df_clean['serviceDistribCentralizedCredit_quality.1'].replace('1.',1 , inplace=True)\n",
    "df_clean['serviceDistribCentralizedCredit_quality.1'].replace('2.', 2, inplace=True)"
   ]
  },
  {
   "cell_type": "code",
   "execution_count": 1147,
   "metadata": {},
   "outputs": [
    {
     "data": {
      "text/plain": [
       "8.0    0.273801\n",
       "NaN    0.250869\n",
       "9.0    0.168867\n",
       "7.0    0.134121\n",
       "5.0    0.066018\n",
       "6.0    0.061849\n",
       "2.0    0.016678\n",
       "3.0    0.015288\n",
       "4.0    0.011119\n",
       "1.0    0.001390\n",
       "Name: serviceDistribCentralizedCredit_quality.1, dtype: float64"
      ]
     },
     "execution_count": 1147,
     "metadata": {},
     "output_type": "execute_result"
    }
   ],
   "source": [
    "#serviceDistribCentralizedCredit_quality.1\n",
    "df_clean['serviceDistribCentralizedCredit_quality.1']=pd.to_numeric(df_clean['serviceDistribCentralizedCredit_quality.1'], errors='coerce',downcast='signed')\n",
    "df_clean['serviceDistribCentralizedCredit_quality.1'].value_counts(dropna=False,normalize=True)"
   ]
  },
  {
   "cell_type": "markdown",
   "metadata": {},
   "source": [
    "# customer_agreement ttna7a"
   ]
  },
  {
   "cell_type": "code",
   "execution_count": 1151,
   "metadata": {},
   "outputs": [],
   "source": [
    "#df_clean['customer_agreement'].unique()"
   ]
  },
  {
   "cell_type": "code",
   "execution_count": 1152,
   "metadata": {},
   "outputs": [],
   "source": [
    "#df_clean['customer_agreement'].replace(5, np.nan, inplace=True)\n",
    "#df_clean['customer_agreement'].replace(3, np.nan, inplace=True)\n",
    "#df_clean['customer_agreement'].replace(6, np.nan, inplace=True)\n",
    "#df_clean['customer_agreement'].replace(8, np.nan, inplace=True)\n",
    "#df_clean['customer_agreement'].replace(9, np.nan, inplace=True)\n",
    "#df_clean['customer_agreement'].replace(7, np.nan, inplace=True)\n",
    "#df_clean['customer_agreement'].replace('Oui', 1, inplace=True)\n",
    "#df_clean['customer_agreement'].replace('Non', 2, inplace=True)\n",
    "#df_clean['customer_agreement'].replace('2.', 2, inplace=True)\n",
    "#df_clean['customer_agreement'].replace('1.', 1, inplace=True)"
   ]
  },
  {
   "cell_type": "code",
   "execution_count": 1153,
   "metadata": {},
   "outputs": [],
   "source": [
    "#customer_agreement\n",
    "#df_clean['customer_agreement']=pd.to_numeric(df_clean['customer_agreement'], errors='coerce',downcast='signed')\n",
    "#df_clean['customer_agreement'].value_counts(dropna=False,normalize=True)"
   ]
  },
  {
   "cell_type": "markdown",
   "metadata": {},
   "source": [
    "# second_MainOperator"
   ]
  },
  {
   "cell_type": "code",
   "execution_count": 1148,
   "metadata": {},
   "outputs": [
    {
     "data": {
      "text/plain": [
       "array([nan, '3.\\tTunisie télécom', '1.\\tOrange', '2.\\tOoredoo',\n",
       "       '6.\\tNe sait pas', '5.Autre, préciser', '2.', 6, 2,\n",
       "       '1 (La plus mauvaise note)', 5, 7, 8, 3, 'Non', 9,\n",
       "       'Oui, je suis retourné en boutique / agence/2.', 'Oui',\n",
       "       '11 (Ne sait pas / Non applicable)', 4], dtype=object)"
      ]
     },
     "execution_count": 1148,
     "metadata": {},
     "output_type": "execute_result"
    }
   ],
   "source": [
    "df_clean['second_MainOperator'].unique()"
   ]
  },
  {
   "cell_type": "code",
   "execution_count": 1149,
   "metadata": {},
   "outputs": [],
   "source": [
    "#df_clean['second_MainOperator']=df_clean['second_MainOperator'].replace(5, np.nan)\n",
    "#df_clean['second_MainOperator']=df_clean['second_MainOperator'].replace(6, np.nan)\n",
    "df_clean['second_MainOperator']=df_clean['second_MainOperator'].replace(7, np.nan)\n",
    "df_clean['second_MainOperator']=df_clean['second_MainOperator'].replace(8, np.nan)\n",
    "df_clean['second_MainOperator']=df_clean['second_MainOperator'].replace(9, np.nan)\n",
    "df_clean['second_MainOperator']=df_clean['second_MainOperator'].replace('3.\\tTunisie télécom', 3)\n",
    "df_clean['second_MainOperator']=df_clean['second_MainOperator'].replace('1.\\tOrange', 1)\n",
    "df_clean['second_MainOperator']=df_clean['second_MainOperator'].replace('2.\\tOoredoo', 2)\n",
    "df_clean['second_MainOperator']=df_clean['second_MainOperator'].replace('6.\\tNe sait pas')\n",
    "df_clean['second_MainOperator']=df_clean['second_MainOperator'].replace('5.Autre, préciser',5)\n",
    "df_clean['second_MainOperator']=df_clean['second_MainOperator'].replace('2.', 2)"
   ]
  },
  {
   "cell_type": "code",
   "execution_count": 1150,
   "metadata": {},
   "outputs": [
    {
     "data": {
      "text/plain": [
       "NaN    0.769979\n",
       "1.0    0.085476\n",
       "2.0    0.081306\n",
       "3.0    0.032662\n",
       "6.0    0.015288\n",
       "5.0    0.013204\n",
       "4.0    0.002085\n",
       "Name: second_MainOperator, dtype: float64"
      ]
     },
     "execution_count": 1150,
     "metadata": {},
     "output_type": "execute_result"
    }
   ],
   "source": [
    "#second_MainOperator\n",
    "df_clean['second_MainOperator']=pd.to_numeric(df_clean['second_MainOperator'], errors='coerce',downcast='signed')\n",
    "df_clean['second_MainOperator'].value_counts(dropna=False,normalize=True)"
   ]
  },
  {
   "cell_type": "code",
   "execution_count": null,
   "metadata": {},
   "outputs": [],
   "source": [
    "df_clean['second_MainOperator']=df_clean['second_MainOperator'].fillna('Pas De Reponse !!!!')"
   ]
  },
  {
   "cell_type": "code",
   "execution_count": 1154,
   "metadata": {},
   "outputs": [],
   "source": [
    "df_clean=df_clean.drop(\"Unnamed: 156\",axis=1,errors=\"ignore\")\n",
    "df_clean=df_clean.drop(\"other_operator\",axis=1,errors=\"ignore\")\n",
    "df_clean=df_clean.drop(\"secondMainOperator\",axis=1,errors=\"ignore\")\n",
    "df_clean=df_clean.drop(\"second_MainOperator\",axis=1,errors=\"ignore\")\n"
   ]
  },
  {
   "cell_type": "markdown",
   "metadata": {},
   "source": [
    "## Resultat amina amal abdou et Loulou"
   ]
  },
  {
   "cell_type": "code",
   "execution_count": 1155,
   "metadata": {},
   "outputs": [
    {
     "name": "stdout",
     "output_type": "stream",
     "text": [
      "(1439, 107)\n",
      "39508\n"
     ]
    }
   ],
   "source": [
    "print(df_clean.shape)\n",
    "print(df_clean.isna().sum().sum())"
   ]
  },
  {
   "cell_type": "markdown",
   "metadata": {},
   "source": [
    "# Partie Arij :"
   ]
  },
  {
   "cell_type": "markdown",
   "metadata": {},
   "source": [
    "## 1] Les Réponses d'opinion : "
   ]
  },
  {
   "cell_type": "markdown",
   "metadata": {},
   "source": [
    "####  * netoyage de Opert_Orange_Offer_Beyond_Expectations "
   ]
  },
  {
   "cell_type": "markdown",
   "metadata": {},
   "source": [
    "####    * netoyage de Opert_Orange_Offer_Below_Expectations "
   ]
  },
  {
   "cell_type": "code",
   "execution_count": null,
   "metadata": {},
   "outputs": [],
   "source": [
    "df_clean['Opert_Orange_Offer_Beyond_Expectations'].value_counts()"
   ]
  },
  {
   "cell_type": "code",
   "execution_count": null,
   "metadata": {},
   "outputs": [],
   "source": [
    "df_clean['Opert_Orange_Offer_Below_Expectations'].value_counts()"
   ]
  },
  {
   "cell_type": "code",
   "execution_count": null,
   "metadata": {},
   "outputs": [],
   "source": [
    "df_clean['Opert_Orange_Offer_Below_Expectations']=df_clean['Opert_Orange_Offer_Below_Expectations'].str.upper()\n",
    "df_clean['Opert_Orange_Offer_Beyond_Expectations']=df_clean['Opert_Orange_Offer_Beyond_Expectations'].str.upper()\n",
    "# list of all columns with value to replace\n",
    "cols = ['Opert_Orange_Offer_Below_Expectations', 'Opert_Orange_Offer_Beyond_Expectations'] \n",
    "df_clean = df_clean.apply(lambda col: col.str.replace('RAS', 'RIEN À SIGNALER') if col.name in cols else col)\n",
    "#df_clean = df_clean.apply(lambda col: col.str.replace('RIEN', 'RIEN À SIGNALER') if col.name in cols else col)\n",
    "df_clean = df_clean.apply(lambda col: col.str.replace('R A D', 'RIEN À SIGNALER') if col.name in cols else col)\n",
    "df_clean = df_clean.apply(lambda col: col.str.replace('RAD', 'RIEN À SIGNALER') if col.name in cols else col)\n",
    "df_clean = df_clean.apply(lambda col: col.str.replace('R Á D', 'RIEN À SIGNALER') if col.name in cols else col)\n",
    "df_clean = df_clean.apply(lambda col: col.str.replace('RIEN A DIRE', 'RIEN À SIGNALER') if col.name in cols else col)\n"
   ]
  },
  {
   "cell_type": "code",
   "execution_count": null,
   "metadata": {},
   "outputs": [],
   "source": [
    "df_clean = df_clean.apply(lambda col: col.str.replace('RIEN À SIGNALER', 'RIEN') if col.name in cols else col)\n",
    "df_clean = df_clean.apply(lambda col: col.str.replace('RIEN À SIGNALER-', 'RIEN') if col.name in cols else col)\n",
    "df_clean = df_clean.apply(lambda col: col.str.replace('RIEN A SIGNALER', 'RIEN') if col.name in cols else col)\n",
    "\n",
    "df_clean = df_clean.apply(lambda col: col.str.replace('RIEN', 'RIEN À SIGNALER') if col.name in cols else col)\n",
    "\n"
   ]
  },
  {
   "cell_type": "markdown",
   "metadata": {},
   "source": [
    "On a regroupé tous les differentes formes de \"rien à signaler\" dans une même réponse pour obtenir en fin :\n",
    " * Opert_Orange_Offer_Below_Expectations : 982 \n",
    " * Opert_Orange_Offer_Beyond_Expectations : 745 "
   ]
  },
  {
   "cell_type": "code",
   "execution_count": null,
   "metadata": {},
   "outputs": [],
   "source": [
    "#df_clean = df_clean.apply(lambda col: col.str.replace('NN', 'RIEN À SIGNALER') if col.name in cols else col)\n",
    "df_clean = df_clean.apply(lambda col: col.str.replace('NON', 'RIEN À SIGNALER') if col.name in cols else col)"
   ]
  },
  {
   "cell_type": "code",
   "execution_count": null,
   "metadata": {},
   "outputs": [],
   "source": [
    "df_clean = df_clean.apply(lambda col: col.str.replace('CVPAS', 'CV PAS') if col.name in cols else col)\n",
    "df_clean = df_clean.apply(lambda col: col.str.replace('CVB', 'CV PAS') if col.name in cols else col)\n",
    "df_clean = df_clean.apply(lambda col: col.str.replace('CVPA', 'CV PAS') if col.name in cols else col)\n"
   ]
  },
  {
   "cell_type": "markdown",
   "metadata": {},
   "source": [
    "On a regroupé tous les differentes formes de \"cv pas\" dans une même réponse "
   ]
  },
  {
   "cell_type": "code",
   "execution_count": null,
   "metadata": {},
   "outputs": [],
   "source": [
    "df_clean['Opert_Orange_Offer_Below_Expectations'].value_counts()"
   ]
  },
  {
   "cell_type": "code",
   "execution_count": null,
   "metadata": {},
   "outputs": [],
   "source": [
    "df_clean['Opert_Orange_Offer_Beyond_Expectations'].value_counts()"
   ]
  },
  {
   "cell_type": "markdown",
   "metadata": {},
   "source": [
    "##  2] les Réponses numériques : "
   ]
  },
  {
   "cell_type": "code",
   "execution_count": null,
   "metadata": {},
   "outputs": [],
   "source": [
    "arij=df_clean.copy()"
   ]
  },
  {
   "cell_type": "code",
   "execution_count": null,
   "metadata": {},
   "outputs": [],
   "source": [
    "arij"
   ]
  },
  {
   "cell_type": "markdown",
   "metadata": {},
   "source": [
    "Opert_Princ_Offer_Eval_Global"
   ]
  },
  {
   "cell_type": "code",
   "execution_count": null,
   "metadata": {},
   "outputs": [],
   "source": [
    "df_clean['Opert_Princ_Offer_Eval_Global'].value_counts()"
   ]
  },
  {
   "cell_type": "code",
   "execution_count": null,
   "metadata": {},
   "outputs": [],
   "source": [
    "arij['Opert_Princ_Offer_Eval_Global']=arij['Opert_Princ_Offer_Eval_Global'].replace({\"10 (La meilleure note)\":10,\"1 (La plus mauvaise note)\":1})\n"
   ]
  },
  {
   "cell_type": "code",
   "execution_count": null,
   "metadata": {},
   "outputs": [],
   "source": [
    "arij['Opert_Princ_Offer_Eval_Global'].value_counts() "
   ]
  },
  {
   "cell_type": "markdown",
   "metadata": {},
   "source": [
    "##### Opert_Princ_Offer_Eval"
   ]
  },
  {
   "cell_type": "code",
   "execution_count": null,
   "metadata": {
    "scrolled": true
   },
   "outputs": [],
   "source": [
    "df_clean['Opert_Princ_Offer_Eval'].value_counts()"
   ]
  },
  {
   "cell_type": "code",
   "execution_count": null,
   "metadata": {},
   "outputs": [],
   "source": [
    "arij['Opert_Princ_Offer_Eval']=arij['Opert_Princ_Offer_Eval'].replace({\"10 (La meilleure note)\":10,\"1 (La plus mauvaise note)\":1})\n",
    "arij['Opert_Princ_Offer_Eval']=arij['Opert_Princ_Offer_Eval'].replace({\"11 (Ne sait pas/Non applicable)\":11})\n"
   ]
  },
  {
   "cell_type": "code",
   "execution_count": null,
   "metadata": {},
   "outputs": [],
   "source": [
    "arij['Opert_Princ_Offer_Eval'].value_counts()"
   ]
  },
  {
   "cell_type": "markdown",
   "metadata": {},
   "source": [
    "#####  Opert_Princ_Value_Money"
   ]
  },
  {
   "cell_type": "code",
   "execution_count": null,
   "metadata": {},
   "outputs": [],
   "source": [
    "df_clean['Opert_Princ_Value_Money'].value_counts()"
   ]
  },
  {
   "cell_type": "code",
   "execution_count": null,
   "metadata": {},
   "outputs": [],
   "source": [
    "arij['Opert_Princ_Value_Money']=arij['Opert_Princ_Value_Money'].replace({\"10 (La meilleure note)\":10,\"1 (La plus mauvaise note)\":1})\n",
    "arij['Opert_Princ_Value_Money']=arij['Opert_Princ_Value_Money'].replace({\"11 (Ne sait pas/Non applicable)\":11})\n"
   ]
  },
  {
   "cell_type": "code",
   "execution_count": null,
   "metadata": {},
   "outputs": [],
   "source": [
    "arij['Opert_Princ_Value_Money'].value_counts()"
   ]
  },
  {
   "cell_type": "markdown",
   "metadata": {},
   "source": [
    "##### Opert_Confidence"
   ]
  },
  {
   "cell_type": "code",
   "execution_count": null,
   "metadata": {},
   "outputs": [],
   "source": [
    "df_clean['Opert_Confidence'].value_counts()"
   ]
  },
  {
   "cell_type": "code",
   "execution_count": null,
   "metadata": {},
   "outputs": [],
   "source": [
    "arij['Opert_Confidence']=arij['Opert_Confidence'].replace({\"10 (Tout à fait d'accord)\":10,\"1 (Pas du tout d'accord)\":1})\n"
   ]
  },
  {
   "cell_type": "code",
   "execution_count": null,
   "metadata": {},
   "outputs": [],
   "source": [
    "arij['Opert_Confidence'].value_counts()"
   ]
  },
  {
   "cell_type": "code",
   "execution_count": null,
   "metadata": {},
   "outputs": [],
   "source": [
    "df_clean['Opert_Confidence'].isnull().sum()"
   ]
  },
  {
   "cell_type": "markdown",
   "metadata": {},
   "source": [
    "#### Opert_Simplify_Customers"
   ]
  },
  {
   "cell_type": "code",
   "execution_count": null,
   "metadata": {},
   "outputs": [],
   "source": [
    "df_clean['Opert_Simplify_Customers'].value_counts()"
   ]
  },
  {
   "cell_type": "code",
   "execution_count": null,
   "metadata": {},
   "outputs": [],
   "source": [
    "arij['Opert_Simplify_Customers']=arij['Opert_Simplify_Customers'].replace({\"10 (Tout à fait d'accord)\":10,\"1 (Pas du tout d'accord)\":1})\n"
   ]
  },
  {
   "cell_type": "code",
   "execution_count": null,
   "metadata": {},
   "outputs": [],
   "source": [
    "arij['Opert_Simplify_Customers'].value_counts()"
   ]
  },
  {
   "cell_type": "markdown",
   "metadata": {},
   "source": [
    "##### Opert_Understand_Customers"
   ]
  },
  {
   "cell_type": "code",
   "execution_count": null,
   "metadata": {},
   "outputs": [],
   "source": [
    "df_clean['Opert_Understand_Customers'].value_counts()"
   ]
  },
  {
   "cell_type": "code",
   "execution_count": null,
   "metadata": {},
   "outputs": [],
   "source": [
    "arij['Opert_Understand_Customers']=arij['Opert_Understand_Customers'].replace({\"10 (Tout à fait d'accord)\":10,\"1 (Pas du tout d'accord)\":1})\n"
   ]
  },
  {
   "cell_type": "code",
   "execution_count": null,
   "metadata": {},
   "outputs": [],
   "source": [
    "arij['Opert_Understand_Customers'].value_counts()"
   ]
  },
  {
   "cell_type": "markdown",
   "metadata": {},
   "source": [
    "##### Opert_Corp_Customers"
   ]
  },
  {
   "cell_type": "code",
   "execution_count": null,
   "metadata": {},
   "outputs": [],
   "source": [
    "df_clean['Opert_Corp_Customers'].value_counts()"
   ]
  },
  {
   "cell_type": "code",
   "execution_count": null,
   "metadata": {},
   "outputs": [],
   "source": [
    "arij['Opert_Corp_Customers']=arij['Opert_Corp_Customers'].replace({\"10 (Tout à fait d'accord)\":10,\"1 (Pas du tout d'accord)\":1})\n"
   ]
  },
  {
   "cell_type": "code",
   "execution_count": null,
   "metadata": {},
   "outputs": [],
   "source": [
    "arij['Opert_Corp_Customers'].value_counts()"
   ]
  },
  {
   "cell_type": "markdown",
   "metadata": {},
   "source": [
    "##### Opert_Prob_Customers"
   ]
  },
  {
   "cell_type": "code",
   "execution_count": null,
   "metadata": {},
   "outputs": [],
   "source": [
    "df_clean['Opert_Prob_Customers'].value_counts()"
   ]
  },
  {
   "cell_type": "code",
   "execution_count": null,
   "metadata": {},
   "outputs": [],
   "source": [
    "arij['Opert_Prob_Customers']=arij['Opert_Prob_Customers'].replace({\"10 (Tout à fait d'accord)\":10,\"1 (Pas du tout d'accord)\":1})\n",
    "arij['Opert_Prob_Customers']=arij['Opert_Prob_Customers'].replace({\"11 (Ne sait pas/ Non applicable)\":11})\n"
   ]
  },
  {
   "cell_type": "code",
   "execution_count": null,
   "metadata": {},
   "outputs": [],
   "source": [
    "arij['Opert_Prob_Customers'].value_counts()"
   ]
  },
  {
   "cell_type": "markdown",
   "metadata": {},
   "source": [
    "##### Opert_Appreciation_Customer"
   ]
  },
  {
   "cell_type": "code",
   "execution_count": null,
   "metadata": {},
   "outputs": [],
   "source": [
    "df_clean['Opert_Appreciation_Customer'].value_counts()"
   ]
  },
  {
   "cell_type": "code",
   "execution_count": null,
   "metadata": {},
   "outputs": [],
   "source": [
    "arij['Opert_Appreciation_Customer']=arij['Opert_Appreciation_Customer'].replace({\"10 (Tout à fait d'accord)\":10,\"1 (Pas du tout d'accord)\":1})\n"
   ]
  },
  {
   "cell_type": "code",
   "execution_count": null,
   "metadata": {},
   "outputs": [],
   "source": [
    "arij['Opert_Appreciation_Customer'].value_counts()"
   ]
  },
  {
   "cell_type": "markdown",
   "metadata": {},
   "source": [
    "##### Opert_Essential_service_Customer"
   ]
  },
  {
   "cell_type": "code",
   "execution_count": null,
   "metadata": {},
   "outputs": [],
   "source": [
    "df_clean['Opert_Essential_service_Customer'].value_counts()"
   ]
  },
  {
   "cell_type": "code",
   "execution_count": null,
   "metadata": {},
   "outputs": [],
   "source": [
    "arij['Opert_Essential_service_Customer']=arij['Opert_Essential_service_Customer'].replace({\"10 (Tout à fait d'accord)\":10,\"1 (Pas du tout d'accord)\":1})\n"
   ]
  },
  {
   "cell_type": "code",
   "execution_count": null,
   "metadata": {},
   "outputs": [],
   "source": [
    "arij['Opert_Essential_service_Customer'].value_counts()"
   ]
  },
  {
   "cell_type": "markdown",
   "metadata": {},
   "source": [
    "## 3] les Réponses ( OUI / NON ) :"
   ]
  },
  {
   "cell_type": "code",
   "execution_count": null,
   "metadata": {},
   "outputs": [],
   "source": [
    "df_clean['Opert_Comp_Offers_K'].value_counts()"
   ]
  },
  {
   "cell_type": "code",
   "execution_count": null,
   "metadata": {},
   "outputs": [],
   "source": [
    "df_clean['Opert_offers_Looked'].value_counts()"
   ]
  },
  {
   "cell_type": "code",
   "execution_count": null,
   "metadata": {},
   "outputs": [],
   "source": [
    "df_clean['Opert_Information_Receipt'].value_counts()"
   ]
  },
  {
   "cell_type": "code",
   "execution_count": null,
   "metadata": {},
   "outputs": [],
   "source": [
    "arij.isnull().sum()"
   ]
  },
  {
   "cell_type": "markdown",
   "metadata": {},
   "source": [
    "# 4] Autres réponses :"
   ]
  },
  {
   "cell_type": "code",
   "execution_count": null,
   "metadata": {},
   "outputs": [],
   "source": [
    "df_clean['44 - [215] Q06.1 La facilité à trouver les informations que vous recherchiez, quel que soit le moyen (Internet,boutique, etc.)'].value_counts()"
   ]
  },
  {
   "cell_type": "code",
   "execution_count": null,
   "metadata": {},
   "outputs": [],
   "source": [
    "df_clean['45 - [217] Q06.2 La facilité à comprendre ces informations'].value_counts()"
   ]
  },
  {
   "cell_type": "code",
   "execution_count": null,
   "metadata": {},
   "outputs": [],
   "source": []
  },
  {
   "cell_type": "code",
   "execution_count": null,
   "metadata": {},
   "outputs": [],
   "source": [
    "df_clean.shape"
   ]
  },
  {
   "cell_type": "markdown",
   "metadata": {},
   "source": [
    "## Ayuob"
   ]
  },
  {
   "cell_type": "markdown",
   "metadata": {},
   "source": [
    "This column has 328 missing values. These values are actually a blank space in the xlsx file. It's possible that they are missing due to the fact that the customer's answer wasn't clear enough. We will impute these missing values with the most frequent value."
   ]
  },
  {
   "cell_type": "code",
   "execution_count": null,
   "metadata": {},
   "outputs": [],
   "source": [
    "df_clean['Call_efficiency'].unique()"
   ]
  },
  {
   "cell_type": "code",
   "execution_count": null,
   "metadata": {},
   "outputs": [],
   "source": [
    "df_clean['serviceDistribCentralizedCredit_quality.1'].replace('11 (Ne sait pas/ Non applicable)', 11, inplace=True)\n",
    "df_clean['serviceDistribCentralizedCredit_quality.1'].replace('11 (Ne sait pas / Non applicable)', 11, inplace=True)\n",
    "df_clean['serviceDistribCentralizedCredit_quality.1'].replace('1 (Très peu probable)', 1, inplace=True)\n",
    "df_clean['serviceDistribCentralizedCredit_quality.1'].replace('10 (Extrêmement probable)', 10, inplace=True)\n",
    "df_clean['serviceDistribCentralizedCredit_quality.1'].replace('1.',1 , inplace=True)\n",
    "df_clean['serviceDistribCentralizedCredit_quality.1'].replace('2.', 2, inplace=True)"
   ]
  },
  {
   "cell_type": "code",
   "execution_count": null,
   "metadata": {},
   "outputs": [],
   "source": [
    "df_clean['serviceDistribCentralizedCredit_quality.1']=pd.to_numeric(df_clean['serviceDistribCentralizedCredit_quality.1'], errors='coerce',downcast='signed')\n",
    "df_clean['serviceDistribCentralizedCredit_quality.1'].value_counts(dropna=False,normalize=True)"
   ]
  },
  {
   "cell_type": "code",
   "execution_count": null,
   "metadata": {},
   "outputs": [],
   "source": []
  },
  {
   "cell_type": "code",
   "execution_count": null,
   "metadata": {},
   "outputs": [],
   "source": []
  },
  {
   "cell_type": "code",
   "execution_count": null,
   "metadata": {},
   "outputs": [],
   "source": []
  },
  {
   "cell_type": "code",
   "execution_count": null,
   "metadata": {},
   "outputs": [],
   "source": []
  },
  {
   "cell_type": "code",
   "execution_count": null,
   "metadata": {},
   "outputs": [],
   "source": []
  },
  {
   "cell_type": "code",
   "execution_count": null,
   "metadata": {},
   "outputs": [],
   "source": []
  },
  {
   "cell_type": "code",
   "execution_count": null,
   "metadata": {},
   "outputs": [],
   "source": []
  },
  {
   "cell_type": "code",
   "execution_count": null,
   "metadata": {},
   "outputs": [],
   "source": []
  },
  {
   "cell_type": "code",
   "execution_count": null,
   "metadata": {},
   "outputs": [],
   "source": []
  },
  {
   "cell_type": "code",
   "execution_count": null,
   "metadata": {},
   "outputs": [],
   "source": []
  },
  {
   "cell_type": "code",
   "execution_count": null,
   "metadata": {},
   "outputs": [],
   "source": []
  },
  {
   "cell_type": "code",
   "execution_count": null,
   "metadata": {},
   "outputs": [],
   "source": []
  },
  {
   "cell_type": "code",
   "execution_count": null,
   "metadata": {},
   "outputs": [],
   "source": []
  },
  {
   "cell_type": "code",
   "execution_count": null,
   "metadata": {},
   "outputs": [],
   "source": []
  },
  {
   "cell_type": "code",
   "execution_count": null,
   "metadata": {},
   "outputs": [],
   "source": [
    "df_clean['Call_efficiency'] = df_clean['Call_efficiency'].fillna(df_clean['Call_efficiency'].mode()[0])"
   ]
  },
  {
   "cell_type": "markdown",
   "metadata": {},
   "source": [
    "The next 5 columns have 326-339 missing values. These values are actually a blank space in the xlsx file. It's possible that they are missing due to the fact that the customer doesn't have an answer. We will impute these missing values with 11, as mentioned in the form."
   ]
  },
  {
   "cell_type": "code",
   "execution_count": null,
   "metadata": {},
   "outputs": [],
   "source": [
    "df_clean['Network_Coverage'] = df_clean['Network_Coverage'].fillna(11)\n",
    "\n",
    "df_clean['Call_Voice_Quality'] = df_clean['Call_Voice_Quality'].fillna(11)\n",
    "\n",
    "df_clean['Communication_Quality'] = df_clean['Communication_Quality'].fillna(11)\n",
    "\n",
    "df_clean['Voice_Comm_Inside'] = df_clean['Voice_Comm_Inside'].fillna(11)\n",
    "\n",
    "df_clean['Voice_Comm_Outside'] = df_clean['Voice_Comm_Outside'].fillna(11)"
   ]
  },
  {
   "cell_type": "markdown",
   "metadata": {},
   "source": [
    "This column has 328 missing values. These values are actually a blank space in the xlsx file. It's possible that they are missing due to the fact that the customer doesn't remember having a network breakdown. We will impute these missing values with 0, as a No."
   ]
  },
  {
   "cell_type": "code",
   "execution_count": null,
   "metadata": {},
   "outputs": [],
   "source": [
    "df_clean['Breakdown_6_Months'] = df_clean['Breakdown_6_Months'].fillna(df_clean['Breakdown_6_Months'].fillna(0))"
   ]
  },
  {
   "cell_type": "markdown",
   "metadata": {},
   "source": [
    "This column has 1121 missing values. These values are actually a blank space in the xlsx file. They are missing due to the fact that the customer didn't a network breakdown. We will impute these missing values with 11, as mentioned in the form."
   ]
  },
  {
   "cell_type": "code",
   "execution_count": null,
   "metadata": {},
   "outputs": [],
   "source": [
    "df_clean['Rate_Support'] = df_clean['Rate_Support'].fillna(11)"
   ]
  },
  {
   "cell_type": "markdown",
   "metadata": {},
   "source": [
    "These columns have 328-364 missing values. These values are actually a blank space in the xlsx file. It's possible that they are missing due to the fact that the customer doesn't remember using these services. We will impute these missing values with 0, as a No."
   ]
  },
  {
   "cell_type": "code",
   "execution_count": null,
   "metadata": {},
   "outputs": [],
   "source": [
    "#df_clean['Rate_Trans_Cred'] = df_clean['Rate_Trans_Cred'].fillna(0)\n",
    "\n",
    "df_clean['Trans_Internet'] = df_clean['Trans_Internet'].fillna(0)\n",
    "\n",
    "df_clean['SOS'] = df_clean['SOS'].fillna(0)\n",
    "\n",
    "df_clean['Fidelity_Offers'] = df_clean['Fidelity_Offers'].fillna(0)\n",
    "\n",
    "df_clean['Voice_Message'] = df_clean['Voice_Message'].fillna(0)\n",
    "\n",
    "df_clean['Conf_Call'] = df_clean['Conf_Call'].fillna(0)"
   ]
  },
  {
   "cell_type": "markdown",
   "metadata": {},
   "source": [
    "These columns have 1205-1518 missing values. These values are actually a blank space in the xlsx file. They are missing due to the fact that the customer didn't use the services. We will impute these missing values with 11, as mentioned in the form."
   ]
  },
  {
   "cell_type": "code",
   "execution_count": null,
   "metadata": {},
   "outputs": [],
   "source": [
    "\n",
    "\n",
    "#df_clean['Rate_Trans_Internet'] = df_clean['Rate_Trans_Internet'].fillna(11)\n",
    "\n",
    "df_clean['SOS'] = df_clean['SOS'].fillna(11)\n",
    "\n",
    "#df_clean['Rate_Fidelity_Offers'] = df_clean['Rate_Fidelity_Offers'].fillna(11)\n",
    "\n",
    "#df_clean['Rate_Voice_Message'] = df_clean['Rate_Voice_Message'].fillna(11)\n",
    "\n",
    "#df_clean['Rate_Conf_Call'] = df_clean['Rate_Conf_Call'].fillna(11)"
   ]
  },
  {
   "cell_type": "markdown",
   "metadata": {},
   "source": [
    "# Removing unwanted characters and casting numerical columns from the detected object type to int"
   ]
  },
  {
   "cell_type": "markdown",
   "metadata": {},
   "source": [
    "This column has 4 possible values:\n",
    "\n",
    "1. Jamais - 2. Rarement - 3. Souvent - 4.Toujours\n",
    "\n",
    "We only need the first digit (1-4) so we'll remove the rest.\n",
    "\n",
    "Then we will cast it to int"
   ]
  },
  {
   "cell_type": "code",
   "execution_count": null,
   "metadata": {},
   "outputs": [],
   "source": [
    "df_clean['Call_efficiency'] = df_clean['Call_efficiency'].astype(str).str[0]\n",
    "\n",
    "df_clean['Call_efficiency']=df_clean['Call_efficiency'].astype(int)"
   ]
  },
  {
   "cell_type": "markdown",
   "metadata": {},
   "source": [
    "These columns have 11 possible values: from 1 to 11\n",
    "\n",
    "1 being the worst mark, 10 the best and 11 for no answer.\n",
    "\n",
    "We only need the first two digits so we'll remove the rest.\n",
    "\n",
    "Some values are mistyped, we will identify them and replace them with the correct values\n",
    "\n",
    "Then we will cast them to int"
   ]
  },
  {
   "cell_type": "code",
   "execution_count": null,
   "metadata": {},
   "outputs": [],
   "source": [
    "df_clean['Network_Coverage'].replace(to_replace='1.', value=1, inplace=True)\n",
    "df_clean['Network_Coverage'].replace(to_replace='2.', value=2, inplace=True)\n",
    "df_clean['Network_Coverage'].replace(to_replace='3.', value=3, inplace=True)\n",
    "df_clean['Network_Coverage'].replace(to_replace='4.', value=4, inplace=True)\n",
    "\n",
    "df_clean['Network_Coverage'] = df_clean['Network_Coverage'].astype(str).str[0:2]\n",
    "\n",
    "df_clean['Network_Coverage'] = df_clean['Network_Coverage'].astype(int)"
   ]
  },
  {
   "cell_type": "code",
   "execution_count": null,
   "metadata": {},
   "outputs": [],
   "source": [
    "df_clean['67 - [84] Q16.1 La couverture réseau de votre opérateur dans les lieux où vous l’utilisez']"
   ]
  },
  {
   "cell_type": "code",
   "execution_count": null,
   "metadata": {},
   "outputs": [],
   "source": [
    "df_clean['68 - [85] Q16.2 La qualité de la voix : c’est à dire la possibilité d’entendre clairement votre interlocuteur'].replace(to_replace='Jamais', value=1, inplace=True)\n",
    "df_clean['68 - [85] Q16.2 La qualité de la voix : c’est à dire la possibilité d’entendre clairement votre interlocuteur'].replace(to_replace='Rarement', value=2, inplace=True)\n",
    "df_clean['68 - [85] Q16.2 La qualité de la voix : c’est à dire la possibilité d’entendre clairement votre interlocuteur'].replace(to_replace='Souvent', value=3, inplace=True)\n",
    "df_clean['68 - [85] Q16.2 La qualité de la voix : c’est à dire la possibilité d’entendre clairement votre interlocuteur'].replace(to_replace='Toujours', value=4, inplace=True)\n",
    "df_clean['68 - [85] Q16.2 La qualité de la voix : c’est à dire la possibilité d’entendre clairement votre interlocuteur'].replace(to_replace='1.', value=1, inplace=True)\n",
    "df_clean['68 - [85] Q16.2 La qualité de la voix : c’est à dire la possibilité d’entendre clairement votre interlocuteur'].replace(to_replace='2.', value=2, inplace=True)\n",
    "df_clean['68 - [85] Q16.2 La qualité de la voix : c’est à dire la possibilité d’entendre clairement votre interlocuteur'].replace(to_replace='3.', value=3, inplace=True)\n",
    "df_clean['68 - [85] Q16.2 La qualité de la voix : c’est à dire la possibilité d’entendre clairement votre interlocuteur'].replace(to_replace='4.', value=4, inplace=True)\n",
    "\n",
    "df_clean['68 - [85] Q16.2 La qualité de la voix : c’est à dire la possibilité d’entendre clairement votre interlocuteur'] = df_clean['68 - [85] Q16.2 La qualité de la voix : c’est à dire la possibilité d’entendre clairement votre interlocuteur'].astype(str).str[0:2]\n",
    "\n",
    "df_clean['68 - [85] Q16.2 La qualité de la voix : c’est à dire la possibilité d’entendre clairement votre interlocuteur'] = df_clean['68 - [85] Q16.2 La qualité de la voix : c’est à dire la possibilité d’entendre clairement votre interlocuteur'].astype(int)"
   ]
  },
  {
   "cell_type": "code",
   "execution_count": null,
   "metadata": {},
   "outputs": [],
   "source": [
    "df_clean['68 - [85] Q16.2 La qualité de la voix : c’est à dire la possibilité d’entendre clairement votre interlocuteur']"
   ]
  },
  {
   "cell_type": "code",
   "execution_count": null,
   "metadata": {},
   "outputs": [],
   "source": [
    "df_clean['69 - [86] Q16.3 La qualité de la communication : par exemple pouvoir appeler sans coupure de communication inexpliquée'].replace(to_replace='Jamais', value=1, inplace=True)\n",
    "df_clean['69 - [86] Q16.3 La qualité de la communication : par exemple pouvoir appeler sans coupure de communication inexpliquée'].replace(to_replace='Rarement', value=2, inplace=True)\n",
    "df_clean['69 - [86] Q16.3 La qualité de la communication : par exemple pouvoir appeler sans coupure de communication inexpliquée'].replace(to_replace='Souvent', value=3, inplace=True)\n",
    "df_clean['69 - [86] Q16.3 La qualité de la communication : par exemple pouvoir appeler sans coupure de communication inexpliquée'].replace(to_replace='Toujours', value=4, inplace=True)\n",
    "df_clean['69 - [86] Q16.3 La qualité de la communication : par exemple pouvoir appeler sans coupure de communication inexpliquée'].replace(to_replace='1.', value=1, inplace=True)\n",
    "df_clean['69 - [86] Q16.3 La qualité de la communication : par exemple pouvoir appeler sans coupure de communication inexpliquée'].replace(to_replace='2.', value=2, inplace=True)\n",
    "df_clean['69 - [86] Q16.3 La qualité de la communication : par exemple pouvoir appeler sans coupure de communication inexpliquée'].replace(to_replace='3.', value=3, inplace=True)\n",
    "df_clean['69 - [86] Q16.3 La qualité de la communication : par exemple pouvoir appeler sans coupure de communication inexpliquée'].replace(to_replace='4.', value=4, inplace=True)\n",
    "\n",
    "df_clean['69 - [86] Q16.3 La qualité de la communication : par exemple pouvoir appeler sans coupure de communication inexpliquée'] = df_clean['69 - [86] Q16.3 La qualité de la communication : par exemple pouvoir appeler sans coupure de communication inexpliquée'].astype(str).str[0:2]\n",
    "\n",
    "df_clean['69 - [86] Q16.3 La qualité de la communication : par exemple pouvoir appeler sans coupure de communication inexpliquée'] = df_clean['69 - [86] Q16.3 La qualité de la communication : par exemple pouvoir appeler sans coupure de communication inexpliquée'].astype(int)"
   ]
  },
  {
   "cell_type": "code",
   "execution_count": null,
   "metadata": {},
   "outputs": [],
   "source": [
    "df_clean['69 - [86] Q16.3 La qualité de la communication : par exemple pouvoir appeler sans coupure de communication inexpliquée']"
   ]
  },
  {
   "cell_type": "code",
   "execution_count": null,
   "metadata": {},
   "outputs": [],
   "source": [
    "df_clean['70 - [88] Q16.4 La qualité de la voix et de la communication à l’intérieur des bâtiments'].replace(to_replace='Jamais', value=1, inplace=True)\n",
    "df_clean['70 - [88] Q16.4 La qualité de la voix et de la communication à l’intérieur des bâtiments'].replace(to_replace='Rarement', value=2, inplace=True)\n",
    "df_clean['70 - [88] Q16.4 La qualité de la voix et de la communication à l’intérieur des bâtiments'].replace(to_replace='Souvent', value=3, inplace=True)\n",
    "df_clean['70 - [88] Q16.4 La qualité de la voix et de la communication à l’intérieur des bâtiments'].replace(to_replace='Toujours', value=4, inplace=True)\n",
    "df_clean['70 - [88] Q16.4 La qualité de la voix et de la communication à l’intérieur des bâtiments'].replace(to_replace='1.', value=1, inplace=True)\n",
    "df_clean['70 - [88] Q16.4 La qualité de la voix et de la communication à l’intérieur des bâtiments'].replace(to_replace='2.', value=2, inplace=True)\n",
    "df_clean['70 - [88] Q16.4 La qualité de la voix et de la communication à l’intérieur des bâtiments'].replace(to_replace='3.', value=3, inplace=True)\n",
    "df_clean['70 - [88] Q16.4 La qualité de la voix et de la communication à l’intérieur des bâtiments'].replace(to_replace='4.', value=4, inplace=True)\n",
    "\n",
    "df_clean['70 - [88] Q16.4 La qualité de la voix et de la communication à l’intérieur des bâtiments'] = df_clean['70 - [88] Q16.4 La qualité de la voix et de la communication à l’intérieur des bâtiments'].astype(str).str[0:2]\n",
    "\n",
    "df_clean['70 - [88] Q16.4 La qualité de la voix et de la communication à l’intérieur des bâtiments'] = df_clean['70 - [88] Q16.4 La qualité de la voix et de la communication à l’intérieur des bâtiments'].astype(int)"
   ]
  },
  {
   "cell_type": "code",
   "execution_count": null,
   "metadata": {},
   "outputs": [],
   "source": [
    "df_clean['70 - [88] Q16.4 La qualité de la voix et de la communication à l’intérieur des bâtiments']"
   ]
  },
  {
   "cell_type": "code",
   "execution_count": null,
   "metadata": {},
   "outputs": [],
   "source": [
    "df_clean['71 - [89] Q16.5 La qualité de la voix et de la communication à l’extérieur des bâtiments'].replace(to_replace='Jamais', value=1, inplace=True)\n",
    "df_clean['71 - [89] Q16.5 La qualité de la voix et de la communication à l’extérieur des bâtiments'].replace(to_replace='Rarement', value=2, inplace=True)\n",
    "df_clean['71 - [89] Q16.5 La qualité de la voix et de la communication à l’extérieur des bâtiments'].replace(to_replace='Souvent', value=3, inplace=True)\n",
    "df_clean['71 - [89] Q16.5 La qualité de la voix et de la communication à l’extérieur des bâtiments'].replace(to_replace='Toujours', value=4, inplace=True)\n",
    "df_clean['71 - [89] Q16.5 La qualité de la voix et de la communication à l’extérieur des bâtiments'].replace(to_replace='1.', value=1, inplace=True)\n",
    "df_clean['71 - [89] Q16.5 La qualité de la voix et de la communication à l’extérieur des bâtiments'].replace(to_replace='2.', value=2, inplace=True)\n",
    "df_clean['71 - [89] Q16.5 La qualité de la voix et de la communication à l’extérieur des bâtiments'].replace(to_replace='3.', value=3, inplace=True)\n",
    "df_clean['71 - [89] Q16.5 La qualité de la voix et de la communication à l’extérieur des bâtiments'].replace(to_replace='4.', value=4, inplace=True)\n",
    "\n",
    "df_clean['71 - [89] Q16.5 La qualité de la voix et de la communication à l’extérieur des bâtiments'] = df_clean['71 - [89] Q16.5 La qualité de la voix et de la communication à l’extérieur des bâtiments'].astype(str).str[:2]\n",
    "\n",
    "df_clean['71 - [89] Q16.5 La qualité de la voix et de la communication à l’extérieur des bâtiments'] = df_clean['71 - [89] Q16.5 La qualité de la voix et de la communication à l’extérieur des bâtiments'].astype(int)"
   ]
  },
  {
   "cell_type": "code",
   "execution_count": null,
   "metadata": {},
   "outputs": [],
   "source": [
    "df_clean['71 - [89] Q16.5 La qualité de la voix et de la communication à l’extérieur des bâtiments']"
   ]
  },
  {
   "cell_type": "markdown",
   "metadata": {},
   "source": [
    "This column has 2 possible values: Oui or Non\n",
    "\n",
    "We will replace these values with numerical ones : Oui to 1 and Non to 0.\n",
    "\n",
    "Some values are mistyped, we will identify them and replace them with 0, as a Non.\n",
    "\n",
    "Then we will cast it to int"
   ]
  },
  {
   "cell_type": "code",
   "execution_count": null,
   "metadata": {},
   "outputs": [],
   "source": [
    "df_clean['72 - [83] Q16A. Avez-vous subit une panne de réseau de [V15] (coupure, non accessibilité, interruption momentanée) au cours des 6 derniers mois ?'].replace(to_replace='Jamais', value=1, inplace=True)\n",
    "df_clean['72 - [83] Q16A. Avez-vous subit une panne de réseau de [V15] (coupure, non accessibilité, interruption momentanée) au cours des 6 derniers mois ?'].replace(to_replace='Rarement', value=1, inplace=True)\n",
    "df_clean['72 - [83] Q16A. Avez-vous subit une panne de réseau de [V15] (coupure, non accessibilité, interruption momentanée) au cours des 6 derniers mois ?'].replace(to_replace='Souvent', value=1, inplace=True)\n",
    "df_clean['72 - [83] Q16A. Avez-vous subit une panne de réseau de [V15] (coupure, non accessibilité, interruption momentanée) au cours des 6 derniers mois ?'].replace(to_replace='Toujours', value=1, inplace=True)\n",
    "df_clean['72 - [83] Q16A. Avez-vous subit une panne de réseau de [V15] (coupure, non accessibilité, interruption momentanée) au cours des 6 derniers mois ?'].replace(to_replace='1.', value=1, inplace=True)\n",
    "df_clean['72 - [83] Q16A. Avez-vous subit une panne de réseau de [V15] (coupure, non accessibilité, interruption momentanée) au cours des 6 derniers mois ?'].replace(to_replace='2.', value=1, inplace=True)\n",
    "df_clean['72 - [83] Q16A. Avez-vous subit une panne de réseau de [V15] (coupure, non accessibilité, interruption momentanée) au cours des 6 derniers mois ?'].replace(to_replace='3.', value=1, inplace=True)\n",
    "df_clean['72 - [83] Q16A. Avez-vous subit une panne de réseau de [V15] (coupure, non accessibilité, interruption momentanée) au cours des 6 derniers mois ?'].replace(to_replace='4.', value=1, inplace=True)\n",
    "\n",
    "df_clean['72 - [83] Q16A. Avez-vous subit une panne de réseau de [V15] (coupure, non accessibilité, interruption momentanée) au cours des 6 derniers mois ?'].replace(to_replace='Oui', value=1, inplace=True)\n",
    "df_clean['72 - [83] Q16A. Avez-vous subit une panne de réseau de [V15] (coupure, non accessibilité, interruption momentanée) au cours des 6 derniers mois ?'].replace(to_replace='Non',  value=0, inplace=True)\n",
    "\n",
    "df_clean['72 - [83] Q16A. Avez-vous subit une panne de réseau de [V15] (coupure, non accessibilité, interruption momentanée) au cours des 6 derniers mois ?'] = df_clean['72 - [83] Q16A. Avez-vous subit une panne de réseau de [V15] (coupure, non accessibilité, interruption momentanée) au cours des 6 derniers mois ?'].astype(str).str[0:2]\n",
    "\n",
    "df_clean['72 - [83] Q16A. Avez-vous subit une panne de réseau de [V15] (coupure, non accessibilité, interruption momentanée) au cours des 6 derniers mois ?'].astype(int)"
   ]
  },
  {
   "cell_type": "code",
   "execution_count": null,
   "metadata": {},
   "outputs": [],
   "source": [
    "df_clean['72 - [83] Q16A. Avez-vous subit une panne de réseau de [V15] (coupure, non accessibilité, interruption momentanée) au cours des 6 derniers mois ?']"
   ]
  },
  {
   "cell_type": "markdown",
   "metadata": {},
   "source": [
    "This column has 11 possible values: from 1 to 11\n",
    "\n",
    "1 being the worst mark, 10 the best and 11 for no answer.\n",
    "\n",
    "We only need the first two digits so we'll remove the rest.\n",
    "\n",
    "Some values are mistyped, we will identify them and replace them with the correct values\n",
    "\n",
    "Then we will cast it to int"
   ]
  },
  {
   "cell_type": "code",
   "execution_count": null,
   "metadata": {},
   "outputs": [],
   "source": [
    "df_clean['73 - [90] Q16B. Comment évaluez-vous l’accompagnement de [V15] pendant ces périodes de panne de réseau ? '].replace(to_replace='Jamais', value=1, inplace=True)\n",
    "df_clean['73 - [90] Q16B. Comment évaluez-vous l’accompagnement de [V15] pendant ces périodes de panne de réseau ? '].replace(to_replace='Rarement', value=2, inplace=True)\n",
    "df_clean['73 - [90] Q16B. Comment évaluez-vous l’accompagnement de [V15] pendant ces périodes de panne de réseau ? '].replace(to_replace='Souvent', value=3, inplace=True)\n",
    "df_clean['73 - [90] Q16B. Comment évaluez-vous l’accompagnement de [V15] pendant ces périodes de panne de réseau ? '].replace(to_replace='Toujours', value=4, inplace=True)\n",
    "df_clean['73 - [90] Q16B. Comment évaluez-vous l’accompagnement de [V15] pendant ces périodes de panne de réseau ? '].replace(to_replace='1.', value=1, inplace=True)\n",
    "df_clean['73 - [90] Q16B. Comment évaluez-vous l’accompagnement de [V15] pendant ces périodes de panne de réseau ? '].replace(to_replace='2.', value=2, inplace=True)\n",
    "df_clean['73 - [90] Q16B. Comment évaluez-vous l’accompagnement de [V15] pendant ces périodes de panne de réseau ? '].replace(to_replace='3.', value=3, inplace=True)\n",
    "df_clean['73 - [90] Q16B. Comment évaluez-vous l’accompagnement de [V15] pendant ces périodes de panne de réseau ? '].replace(to_replace='4.', value=4, inplace=True)\n",
    "\n",
    "df_clean['73 - [90] Q16B. Comment évaluez-vous l’accompagnement de [V15] pendant ces périodes de panne de réseau ? '] = df_clean['73 - [90] Q16B. Comment évaluez-vous l’accompagnement de [V15] pendant ces périodes de panne de réseau ? '].astype(str).str[:2]\n",
    "\n",
    "df_clean['73 - [90] Q16B. Comment évaluez-vous l’accompagnement de [V15] pendant ces périodes de panne de réseau ? '] = df_clean['73 - [90] Q16B. Comment évaluez-vous l’accompagnement de [V15] pendant ces périodes de panne de réseau ? '].astype(int)"
   ]
  },
  {
   "cell_type": "code",
   "execution_count": null,
   "metadata": {},
   "outputs": [],
   "source": [
    "df_clean['73 - [90] Q16B. Comment évaluez-vous l’accompagnement de [V15] pendant ces périodes de panne de réseau ? ']"
   ]
  },
  {
   "cell_type": "markdown",
   "metadata": {},
   "source": [
    "These columns have 2 possible values: Oui or Non\n",
    "\n",
    "We will replace these values with numerical ones : Oui to 1 and Non to 0.\n",
    "\n",
    "Some values are mistyped, we will identify them and replace them with 0, as a Non.\n",
    "\n",
    "Then we will cast them to int"
   ]
  },
  {
   "cell_type": "code",
   "execution_count": null,
   "metadata": {},
   "outputs": [],
   "source": [
    "df_clean['74 - [93] Transfert de crédit'].replace(to_replace='Jamais', value=1, inplace=True)\n",
    "df_clean['74 - [93] Transfert de crédit'].replace(to_replace='Rarement', value=1, inplace=True)\n",
    "df_clean['74 - [93] Transfert de crédit'].replace(to_replace='Souvent', value=1, inplace=True)\n",
    "df_clean['74 - [93] Transfert de crédit'].replace(to_replace='Toujours', value=1, inplace=True)\n",
    "df_clean['74 - [93] Transfert de crédit'].replace(to_replace='1.', value=1, inplace=True)\n",
    "df_clean['74 - [93] Transfert de crédit'].replace(to_replace='2.', value=1, inplace=True)\n",
    "df_clean['74 - [93] Transfert de crédit'].replace(to_replace='3.', value=1, inplace=True)\n",
    "df_clean['74 - [93] Transfert de crédit'].replace(to_replace='4.', value=1, inplace=True)\n",
    "\n",
    "df_clean['74 - [93] Transfert de crédit'].replace(to_replace='Oui', value=1, inplace=True)\n",
    "df_clean['74 - [93] Transfert de crédit'].replace(to_replace='Non',  value=0, inplace=True)\n",
    "\n",
    "df_clean['74 - [93] Transfert de crédit'] = df_clean['74 - [93] Transfert de crédit'].astype(str).str[0:2]\n",
    "df_clean['74 - [93] Transfert de crédit'] = df_clean['74 - [93] Transfert de crédit'].astype(int)"
   ]
  },
  {
   "cell_type": "code",
   "execution_count": null,
   "metadata": {},
   "outputs": [],
   "source": [
    "df_clean['74 - [93] Transfert de crédit']"
   ]
  },
  {
   "cell_type": "code",
   "execution_count": null,
   "metadata": {},
   "outputs": [],
   "source": [
    "df_clean['75 - [94] Transfert Internet'].replace(to_replace='Jamais', value=1, inplace=True)\n",
    "df_clean['75 - [94] Transfert Internet'].replace(to_replace='Rarement', value=1, inplace=True)\n",
    "df_clean['75 - [94] Transfert Internet'].replace(to_replace='Souvent', value=1, inplace=True)\n",
    "df_clean['75 - [94] Transfert Internet'].replace(to_replace='Toujours', value=1, inplace=True)\n",
    "df_clean['75 - [94] Transfert Internet'].replace(to_replace='1.', value=1, inplace=True)\n",
    "df_clean['75 - [94] Transfert Internet'].replace(to_replace='2.', value=1, inplace=True)\n",
    "df_clean['75 - [94] Transfert Internet'].replace(to_replace='3.', value=1, inplace=True)\n",
    "df_clean['75 - [94] Transfert Internet'].replace(to_replace='4.', value=1, inplace=True)\n",
    "\n",
    "df_clean['75 - [94] Transfert Internet'].replace(to_replace='Oui', value=1, inplace=True)\n",
    "df_clean['75 - [94] Transfert Internet'].replace(to_replace='Non',  value=0, inplace=True)\n",
    "\n",
    "df_clean['75 - [94] Transfert Internet'] = df_clean['75 - [94] Transfert Internet'].astype(str).str[0:2]\n",
    "df_clean['75 - [94] Transfert Internet'] = df_clean['75 - [94] Transfert Internet'].astype(int)"
   ]
  },
  {
   "cell_type": "code",
   "execution_count": null,
   "metadata": {},
   "outputs": [],
   "source": [
    "df_clean['75 - [94] Transfert Internet']"
   ]
  },
  {
   "cell_type": "code",
   "execution_count": null,
   "metadata": {},
   "outputs": [],
   "source": [
    "df_clean['76 - [95] SOS crédit / Minute SOS/ SOS Solde'].replace(to_replace='Jamais', value=1, inplace=True)\n",
    "df_clean['76 - [95] SOS crédit / Minute SOS/ SOS Solde'].replace(to_replace='Rarement', value=1, inplace=True)\n",
    "df_clean['76 - [95] SOS crédit / Minute SOS/ SOS Solde'].replace(to_replace='Souvent', value=1, inplace=True)\n",
    "df_clean['76 - [95] SOS crédit / Minute SOS/ SOS Solde'].replace(to_replace='Toujours', value=1, inplace=True)\n",
    "df_clean['76 - [95] SOS crédit / Minute SOS/ SOS Solde'].replace(to_replace='1.', value=1, inplace=True)\n",
    "df_clean['76 - [95] SOS crédit / Minute SOS/ SOS Solde'].replace(to_replace='2.', value=1, inplace=True)\n",
    "df_clean['76 - [95] SOS crédit / Minute SOS/ SOS Solde'].replace(to_replace='3.', value=1, inplace=True)\n",
    "df_clean['76 - [95] SOS crédit / Minute SOS/ SOS Solde'].replace(to_replace='4.', value=1, inplace=True)\n",
    "\n",
    "df_clean['76 - [95] SOS crédit / Minute SOS/ SOS Solde'].replace(to_replace='Oui', value=1, inplace=True)\n",
    "df_clean['76 - [95] SOS crédit / Minute SOS/ SOS Solde'].replace(to_replace='Non',  value=0, inplace=True)\n",
    "\n",
    "df_clean['76 - [95] SOS crédit / Minute SOS/ SOS Solde'] = df_clean['76 - [95] SOS crédit / Minute SOS/ SOS Solde'].astype(str).str[0:2]\n",
    "df_clean['76 - [95] SOS crédit / Minute SOS/ SOS Solde'] = df_clean['76 - [95] SOS crédit / Minute SOS/ SOS Solde'].astype(int)"
   ]
  },
  {
   "cell_type": "code",
   "execution_count": null,
   "metadata": {},
   "outputs": [],
   "source": [
    "df_clean['76 - [95] SOS crédit / Minute SOS/ SOS Solde']"
   ]
  },
  {
   "cell_type": "code",
   "execution_count": null,
   "metadata": {},
   "outputs": [],
   "source": [
    "df_clean['77 - [96] Orange fidélité/ Points Merci/ Kelma'].replace(to_replace='Jamais', value=1, inplace=True)\n",
    "df_clean['77 - [96] Orange fidélité/ Points Merci/ Kelma'].replace(to_replace='Rarement', value=1, inplace=True)\n",
    "df_clean['77 - [96] Orange fidélité/ Points Merci/ Kelma'].replace(to_replace='Souvent', value=1, inplace=True)\n",
    "df_clean['77 - [96] Orange fidélité/ Points Merci/ Kelma'].replace(to_replace='Toujours', value=1, inplace=True)\n",
    "df_clean['77 - [96] Orange fidélité/ Points Merci/ Kelma'].replace(to_replace='1.', value=1, inplace=True)\n",
    "df_clean['77 - [96] Orange fidélité/ Points Merci/ Kelma'].replace(to_replace='2.', value=1, inplace=True)\n",
    "df_clean['77 - [96] Orange fidélité/ Points Merci/ Kelma'].replace(to_replace='3.', value=1, inplace=True)\n",
    "df_clean['77 - [96] Orange fidélité/ Points Merci/ Kelma'].replace(to_replace='4.', value=1, inplace=True)\n",
    "\n",
    "df_clean['77 - [96] Orange fidélité/ Points Merci/ Kelma'].replace(to_replace='Oui', value=1, inplace=True)\n",
    "df_clean['77 - [96] Orange fidélité/ Points Merci/ Kelma'].replace(to_replace='Non',  value=0, inplace=True)\n",
    "\n",
    "df_clean['77 - [96] Orange fidélité/ Points Merci/ Kelma'] = df_clean['77 - [96] Orange fidélité/ Points Merci/ Kelma'].astype(str).str[0:2]\n",
    "df_clean['77 - [96] Orange fidélité/ Points Merci/ Kelma'] = df_clean['77 - [96] Orange fidélité/ Points Merci/ Kelma'].astype(int)"
   ]
  },
  {
   "cell_type": "code",
   "execution_count": null,
   "metadata": {},
   "outputs": [],
   "source": [
    "df_clean['77 - [96] Orange fidélité/ Points Merci/ Kelma']"
   ]
  },
  {
   "cell_type": "code",
   "execution_count": null,
   "metadata": {},
   "outputs": [],
   "source": [
    "df_clean['78 - [97] Messagerie vocale'].replace(to_replace='Jamais', value=1, inplace=True)\n",
    "df_clean['78 - [97] Messagerie vocale'].replace(to_replace='Rarement', value=1, inplace=True)\n",
    "df_clean['78 - [97] Messagerie vocale'].replace(to_replace='Souvent', value=1, inplace=True)\n",
    "df_clean['78 - [97] Messagerie vocale'].replace(to_replace='Toujours', value=1, inplace=True)\n",
    "df_clean['78 - [97] Messagerie vocale'].replace(to_replace='1.', value=1, inplace=True)\n",
    "df_clean['78 - [97] Messagerie vocale'].replace(to_replace='2.', value=1, inplace=True)\n",
    "df_clean['78 - [97] Messagerie vocale'].replace(to_replace='3.', value=1, inplace=True)\n",
    "df_clean['78 - [97] Messagerie vocale'].replace(to_replace='4.', value=1, inplace=True)\n",
    "\n",
    "df_clean['78 - [97] Messagerie vocale'].replace(to_replace='Oui', value=1, inplace=True)\n",
    "df_clean['78 - [97] Messagerie vocale'].replace(to_replace='Non',  value=0, inplace=True)\n",
    "\n",
    "df_clean['78 - [97] Messagerie vocale'] = df_clean['78 - [97] Messagerie vocale'].astype(str).str[0:2]\n",
    "df_clean['78 - [97] Messagerie vocale'] = df_clean['78 - [97] Messagerie vocale'].astype(int)"
   ]
  },
  {
   "cell_type": "code",
   "execution_count": null,
   "metadata": {},
   "outputs": [],
   "source": [
    "df_clean['78 - [97] Messagerie vocale']"
   ]
  },
  {
   "cell_type": "code",
   "execution_count": null,
   "metadata": {},
   "outputs": [],
   "source": [
    "df_clean['79 - [98] Appelez jusqu\\'à six/ Conf Call pro/ Appel en conférence'].replace(to_replace='Jamais', value=1, inplace=True)\n",
    "df_clean['79 - [98] Appelez jusqu\\'à six/ Conf Call pro/ Appel en conférence'].replace(to_replace='Rarement', value=1, inplace=True)\n",
    "df_clean['79 - [98] Appelez jusqu\\'à six/ Conf Call pro/ Appel en conférence'].replace(to_replace='Souvent', value=1, inplace=True)\n",
    "df_clean['79 - [98] Appelez jusqu\\'à six/ Conf Call pro/ Appel en conférence'].replace(to_replace='Toujours', value=1, inplace=True)\n",
    "df_clean['79 - [98] Appelez jusqu\\'à six/ Conf Call pro/ Appel en conférence'].replace(to_replace='1.', value=1, inplace=True)\n",
    "df_clean['79 - [98] Appelez jusqu\\'à six/ Conf Call pro/ Appel en conférence'].replace(to_replace='2.', value=1, inplace=True)\n",
    "df_clean['79 - [98] Appelez jusqu\\'à six/ Conf Call pro/ Appel en conférence'].replace(to_replace='3.', value=1, inplace=True)\n",
    "df_clean['79 - [98] Appelez jusqu\\'à six/ Conf Call pro/ Appel en conférence'].replace(to_replace='4.', value=1, inplace=True)\n",
    "\n",
    "df_clean['79 - [98] Appelez jusqu\\'à six/ Conf Call pro/ Appel en conférence'].replace(to_replace='Oui', value=1, inplace=True)\n",
    "df_clean['79 - [98] Appelez jusqu\\'à six/ Conf Call pro/ Appel en conférence'].replace(to_replace='Non',  value=0, inplace=True)\n",
    "\n",
    "df_clean['79 - [98] Appelez jusqu\\'à six/ Conf Call pro/ Appel en conférence'] = df_clean['79 - [98] Appelez jusqu\\'à six/ Conf Call pro/ Appel en conférence'].astype(str).str[0:2]\n",
    "df_clean['79 - [98] Appelez jusqu\\'à six/ Conf Call pro/ Appel en conférence'] = df_clean['79 - [98] Appelez jusqu\\'à six/ Conf Call pro/ Appel en conférence'].astype(int)"
   ]
  },
  {
   "cell_type": "code",
   "execution_count": null,
   "metadata": {},
   "outputs": [],
   "source": [
    "df_clean['79 - [98] Appelez jusqu\\'à six/ Conf Call pro/ Appel en conférence']"
   ]
  },
  {
   "cell_type": "markdown",
   "metadata": {},
   "source": [
    "These columns have 11 possible values: from 1 to 11\n",
    "\n",
    "1 being the worst mark, 10 the best and 11 for no answer.\n",
    "\n",
    "We only need the first two digits so we'll remove the rest.\n",
    "\n",
    "Some values are mistyped, we will identify them and replace them with the correct values\n",
    "\n",
    "Then we will cast them to int"
   ]
  },
  {
   "cell_type": "code",
   "execution_count": null,
   "metadata": {},
   "outputs": [],
   "source": [
    "df_clean['80 - [101] Transfert de crédit'].replace(to_replace='Jamais', value=1, inplace=True)\n",
    "df_clean['80 - [101] Transfert de crédit'].replace(to_replace='Rarement', value=2, inplace=True)\n",
    "df_clean['80 - [101] Transfert de crédit'].replace(to_replace='Souvent', value=3, inplace=True)\n",
    "df_clean['80 - [101] Transfert de crédit'].replace(to_replace='Toujours', value=4, inplace=True)\n",
    "df_clean['80 - [101] Transfert de crédit'].replace(to_replace='1.', value=1, inplace=True)\n",
    "df_clean['80 - [101] Transfert de crédit'].replace(to_replace='2.', value=2, inplace=True)\n",
    "df_clean['80 - [101] Transfert de crédit'].replace(to_replace='3.', value=3, inplace=True)\n",
    "df_clean['80 - [101] Transfert de crédit'].replace(to_replace='4.', value=4, inplace=True)\n",
    "df_clean['80 - [101] Transfert de crédit'].replace(to_replace='Oui', value=11, inplace=True)\n",
    "df_clean['80 - [101] Transfert de crédit'].replace(to_replace='Non', value=11, inplace=True)\n",
    "\n",
    "df_clean['80 - [101] Transfert de crédit'] = df_clean['80 - [101] Transfert de crédit'].astype(str).str[:2]\n",
    "\n",
    "df_clean['80 - [101] Transfert de crédit'] = df_clean['80 - [101] Transfert de crédit'].astype(int)"
   ]
  },
  {
   "cell_type": "code",
   "execution_count": null,
   "metadata": {},
   "outputs": [],
   "source": [
    "df_clean['80 - [101] Transfert de crédit']"
   ]
  },
  {
   "cell_type": "code",
   "execution_count": null,
   "metadata": {},
   "outputs": [],
   "source": [
    "df_clean['81 - [102] Transfert Internet'].replace(to_replace='Jamais', value=1, inplace=True)\n",
    "df_clean['81 - [102] Transfert Internet'].replace(to_replace='Rarement', value=2, inplace=True)\n",
    "df_clean['81 - [102] Transfert Internet'].replace(to_replace='Souvent', value=3, inplace=True)\n",
    "df_clean['81 - [102] Transfert Internet'].replace(to_replace='Toujours', value=4, inplace=True)\n",
    "df_clean['81 - [102] Transfert Internet'].replace(to_replace='1.', value=1, inplace=True)\n",
    "df_clean['81 - [102] Transfert Internet'].replace(to_replace='2.', value=2, inplace=True)\n",
    "df_clean['81 - [102] Transfert Internet'].replace(to_replace='3.', value=3, inplace=True)\n",
    "df_clean['81 - [102] Transfert Internet'].replace(to_replace='4.', value=4, inplace=True)\n",
    "df_clean['81 - [102] Transfert Internet'].replace(to_replace='Oui', value=11, inplace=True)\n",
    "df_clean['81 - [102] Transfert Internet'].replace(to_replace='Non', value=11, inplace=True)\n",
    "\n",
    "df_clean['81 - [102] Transfert Internet'] = df_clean['81 - [102] Transfert Internet'].astype(str).str[:2]\n",
    "\n",
    "df_clean['781 - [102] Transfert Internet'] = df_clean['81 - [102] Transfert Internet'].astype(int)"
   ]
  },
  {
   "cell_type": "code",
   "execution_count": null,
   "metadata": {},
   "outputs": [],
   "source": [
    "df_clean['81 - [102] Transfert Internet']"
   ]
  },
  {
   "cell_type": "code",
   "execution_count": null,
   "metadata": {},
   "outputs": [],
   "source": [
    "df_clean['82 - [103] SOS crédit / Minute SOS/ SOS Solde'].replace(to_replace='Jamais', value=1, inplace=True)\n",
    "df_clean['82 - [103] SOS crédit / Minute SOS/ SOS Solde'].replace(to_replace='Rarement', value=2, inplace=True)\n",
    "df_clean['82 - [103] SOS crédit / Minute SOS/ SOS Solde'].replace(to_replace='Souvent', value=3, inplace=True)\n",
    "df_clean['82 - [103] SOS crédit / Minute SOS/ SOS Solde'].replace(to_replace='Toujours', value=4, inplace=True)\n",
    "df_clean['82 - [103] SOS crédit / Minute SOS/ SOS Solde'].replace(to_replace='1.', value=1, inplace=True)\n",
    "df_clean['82 - [103] SOS crédit / Minute SOS/ SOS Solde'].replace(to_replace='2.', value=2, inplace=True)\n",
    "df_clean['82 - [103] SOS crédit / Minute SOS/ SOS Solde'].replace(to_replace='3.', value=3, inplace=True)\n",
    "df_clean['82 - [103] SOS crédit / Minute SOS/ SOS Solde'].replace(to_replace='4.', value=4, inplace=True)\n",
    "df_clean['82 - [103] SOS crédit / Minute SOS/ SOS Solde'].replace(to_replace='Oui', value=11, inplace=True)\n",
    "df_clean['82 - [103] SOS crédit / Minute SOS/ SOS Solde'].replace(to_replace='Non', value=11, inplace=True)\n",
    "\n",
    "df_clean['82 - [103] SOS crédit / Minute SOS/ SOS Solde'] = df_clean['82 - [103] SOS crédit / Minute SOS/ SOS Solde'].astype(str).str[:2]\n",
    "\n",
    "df_clean['82 - [103] SOS crédit / Minute SOS/ SOS Solde'] = df_clean['82 - [103] SOS crédit / Minute SOS/ SOS Solde'].astype(int)"
   ]
  },
  {
   "cell_type": "code",
   "execution_count": null,
   "metadata": {},
   "outputs": [],
   "source": [
    "df_clean['82 - [103] SOS crédit / Minute SOS/ SOS Solde']"
   ]
  },
  {
   "cell_type": "code",
   "execution_count": null,
   "metadata": {},
   "outputs": [],
   "source": [
    "df_clean['83 - [104] Orange fidélité/ Points Merci/ Kelma'].replace(to_replace='Jamais', value=1, inplace=True)\n",
    "df_clean['83 - [104] Orange fidélité/ Points Merci/ Kelma'].replace(to_replace='Rarement', value=2, inplace=True)\n",
    "df_clean['83 - [104] Orange fidélité/ Points Merci/ Kelma'].replace(to_replace='Souvent', value=3, inplace=True)\n",
    "df_clean['83 - [104] Orange fidélité/ Points Merci/ Kelma'].replace(to_replace='Toujours', value=4, inplace=True)\n",
    "df_clean['83 - [104] Orange fidélité/ Points Merci/ Kelma'].replace(to_replace='1.', value=1, inplace=True)\n",
    "df_clean['83 - [104] Orange fidélité/ Points Merci/ Kelma'].replace(to_replace='2.', value=2, inplace=True)\n",
    "df_clean['83 - [104] Orange fidélité/ Points Merci/ Kelma'].replace(to_replace='3.', value=3, inplace=True)\n",
    "df_clean['83 - [104] Orange fidélité/ Points Merci/ Kelma'].replace(to_replace='4.', value=4, inplace=True)\n",
    "df_clean['83 - [104] Orange fidélité/ Points Merci/ Kelma'].replace(to_replace='Oui', value=11, inplace=True)\n",
    "df_clean['83 - [104] Orange fidélité/ Points Merci/ Kelma'].replace(to_replace='Non', value=11, inplace=True)\n",
    "\n",
    "df_clean['83 - [104] Orange fidélité/ Points Merci/ Kelma'] = df_clean['83 - [104] Orange fidélité/ Points Merci/ Kelma'].astype(str).str[:2]\n",
    "\n",
    "df_clean['83 - [104] Orange fidélité/ Points Merci/ Kelma'] = df_clean['83 - [104] Orange fidélité/ Points Merci/ Kelma'].astype(int)"
   ]
  },
  {
   "cell_type": "code",
   "execution_count": null,
   "metadata": {},
   "outputs": [],
   "source": [
    "df_clean['83 - [104] Orange fidélité/ Points Merci/ Kelma']"
   ]
  },
  {
   "cell_type": "code",
   "execution_count": null,
   "metadata": {},
   "outputs": [],
   "source": [
    "df_clean['84 - [105] Messagerie vocale'].replace(to_replace='Jamais', value=1, inplace=True)\n",
    "df_clean['84 - [105] Messagerie vocale'].replace(to_replace='Rarement', value=2, inplace=True)\n",
    "df_clean['84 - [105] Messagerie vocale'].replace(to_replace='Souvent', value=3, inplace=True)\n",
    "df_clean['84 - [105] Messagerie vocale'].replace(to_replace='Toujours', value=4, inplace=True)\n",
    "df_clean['84 - [105] Messagerie vocale'].replace(to_replace='1.', value=1, inplace=True)\n",
    "df_clean['84 - [105] Messagerie vocale'].replace(to_replace='2.', value=2, inplace=True)\n",
    "df_clean['84 - [105] Messagerie vocale'].replace(to_replace='3.', value=3, inplace=True)\n",
    "df_clean['84 - [105] Messagerie vocale'].replace(to_replace='4.', value=4, inplace=True)\n",
    "df_clean['84 - [105] Messagerie vocale'].replace(to_replace='Oui', value=11, inplace=True)\n",
    "df_clean['84 - [105] Messagerie vocale'].replace(to_replace='Non', value=11, inplace=True)\n",
    "\n",
    "df_clean['84 - [105] Messagerie vocale'] = df_clean['84 - [105] Messagerie vocale'].astype(str).str[:2]\n",
    "\n",
    "df_clean['84 - [105] Messagerie vocale'] = df_clean['84 - [105] Messagerie vocale'].astype(int)"
   ]
  },
  {
   "cell_type": "code",
   "execution_count": null,
   "metadata": {},
   "outputs": [],
   "source": [
    "df_clean['84 - [105] Messagerie vocale']"
   ]
  },
  {
   "cell_type": "code",
   "execution_count": null,
   "metadata": {},
   "outputs": [],
   "source": [
    "df_clean['85 - [106] Appelez jusqu\\'à six/ Conf Call pro/ Appel en conférence'].replace(to_replace='Jamais', value=1, inplace=True)\n",
    "df_clean['85 - [106] Appelez jusqu\\'à six/ Conf Call pro/ Appel en conférence'].replace(to_replace='Rarement', value=2, inplace=True)\n",
    "df_clean['85 - [106] Appelez jusqu\\'à six/ Conf Call pro/ Appel en conférence'].replace(to_replace='Souvent', value=3, inplace=True)\n",
    "df_clean['85 - [106] Appelez jusqu\\'à six/ Conf Call pro/ Appel en conférence'].replace(to_replace='Toujours', value=4, inplace=True)\n",
    "df_clean['85 - [106] Appelez jusqu\\'à six/ Conf Call pro/ Appel en conférence'].replace(to_replace='1.', value=1, inplace=True)\n",
    "df_clean['85 - [106] Appelez jusqu\\'à six/ Conf Call pro/ Appel en conférence'].replace(to_replace='2.', value=2, inplace=True)\n",
    "df_clean['85 - [106] Appelez jusqu\\'à six/ Conf Call pro/ Appel en conférence'].replace(to_replace='3.', value=3, inplace=True)\n",
    "df_clean['85 - [106] Appelez jusqu\\'à six/ Conf Call pro/ Appel en conférence'].replace(to_replace='4.', value=4, inplace=True)\n",
    "df_clean['85 - [106] Appelez jusqu\\'à six/ Conf Call pro/ Appel en conférence'].replace(to_replace='Oui', value=11, inplace=True)\n",
    "df_clean['85 - [106] Appelez jusqu\\'à six/ Conf Call pro/ Appel en conférence'].replace(to_replace='Non', value=11, inplace=True)\n",
    "\n",
    "df_clean['85 - [106] Appelez jusqu\\'à six/ Conf Call pro/ Appel en conférence'] = df_clean['85 - [106] Appelez jusqu\\'à six/ Conf Call pro/ Appel en conférence'].astype(str).str[:2]\n",
    "\n",
    "df_clean['85 - [106] Appelez jusqu\\'à six/ Conf Call pro/ Appel en conférence'] = df_clean['85 - [106] Appelez jusqu\\'à six/ Conf Call pro/ Appel en conférence'].astype(int)"
   ]
  },
  {
   "cell_type": "code",
   "execution_count": null,
   "metadata": {},
   "outputs": [],
   "source": [
    "df_clean['85 - [106] Appelez jusqu\\'à six/ Conf Call pro/ Appel en conférence']"
   ]
  },
  {
   "cell_type": "markdown",
   "metadata": {},
   "source": [
    "## Result"
   ]
  },
  {
   "cell_type": "code",
   "execution_count": null,
   "metadata": {
    "scrolled": true
   },
   "outputs": [],
   "source": [
    "df_clean.iloc[:,61:81]"
   ]
  },
  {
   "cell_type": "markdown",
   "metadata": {},
   "source": [
    "# Impute missing values"
   ]
  },
  {
   "cell_type": "markdown",
   "metadata": {},
   "source": [
    "This column has 328 missing values. These values are actually a blank space in the xlsx file. It's possible that they are missing due to the fact that the customer's answer wasn't clear enough. We will impute these missing values with the most frequent value."
   ]
  },
  {
   "cell_type": "code",
   "execution_count": null,
   "metadata": {},
   "outputs": [],
   "source": [
    "df_clean['66 - [82] Q15. Arrivez-vous à passer votre appel dès la première tentative ? '] = df_clean['66 - [82] Q15. Arrivez-vous à passer votre appel dès la première tentative ? '].fillna(df_clean['66 - [82] Q15. Arrivez-vous à passer votre appel dès la première tentative ? '].mode()[0])"
   ]
  },
  {
   "cell_type": "markdown",
   "metadata": {},
   "source": [
    "The next 5 columns have 326-339 missing values. These values are actually a blank space in the xlsx file. It's possible that they are missing due to the fact that the customer doesn't have an answer. We will impute these missing values with 11, as mentioned in the form."
   ]
  },
  {
   "cell_type": "code",
   "execution_count": null,
   "metadata": {},
   "outputs": [],
   "source": [
    "df_clean['67 - [84] Q16.1 La couverture réseau de votre opérateur dans les lieux où vous l’utilisez'] = df_clean['67 - [84] Q16.1 La couverture réseau de votre opérateur dans les lieux où vous l’utilisez'].fillna(11)\n",
    "\n",
    "df_clean['68 - [85] Q16.2 La qualité de la voix : c’est à dire la possibilité d’entendre clairement votre interlocuteur'] = df_clean['68 - [85] Q16.2 La qualité de la voix : c’est à dire la possibilité d’entendre clairement votre interlocuteur'].fillna(11)\n",
    "\n",
    "df_clean['69 - [86] Q16.3 La qualité de la communication : par exemple pouvoir appeler sans coupure de communication inexpliquée'] = df_clean['69 - [86] Q16.3 La qualité de la communication : par exemple pouvoir appeler sans coupure de communication inexpliquée'].fillna(11)\n",
    "\n",
    "df_clean['70 - [88] Q16.4 La qualité de la voix et de la communication à l’intérieur des bâtiments'] = df_clean['70 - [88] Q16.4 La qualité de la voix et de la communication à l’intérieur des bâtiments'].fillna(11)\n",
    "\n",
    "df_clean['71 - [89] Q16.5 La qualité de la voix et de la communication à l’extérieur des bâtiments'] = df_clean['71 - [89] Q16.5 La qualité de la voix et de la communication à l’extérieur des bâtiments'].fillna(11)"
   ]
  },
  {
   "cell_type": "markdown",
   "metadata": {},
   "source": [
    "This column has 328 missing values. These values are actually a blank space in the xlsx file. It's possible that they are missing due to the fact that the customer doesn't remember having a network breakdown. We will impute these missing values with 0, as a No."
   ]
  },
  {
   "cell_type": "code",
   "execution_count": null,
   "metadata": {},
   "outputs": [],
   "source": [
    "df_clean['72 - [83] Q16A. Avez-vous subit une panne de réseau de [V15] (coupure, non accessibilité, interruption momentanée) au cours des 6 derniers mois ?'] = df_clean['72 - [83] Q16A. Avez-vous subit une panne de réseau de [V15] (coupure, non accessibilité, interruption momentanée) au cours des 6 derniers mois ?'].fillna(df_clean['72 - [83] Q16A. Avez-vous subit une panne de réseau de [V15] (coupure, non accessibilité, interruption momentanée) au cours des 6 derniers mois ?'].fillna(0))"
   ]
  },
  {
   "cell_type": "markdown",
   "metadata": {},
   "source": [
    "This column has 1121 missing values. These values are actually a blank space in the xlsx file. They are missing due to the fact that the customer didn't a network breakdown. We will impute these missing values with 11, as mentioned in the form."
   ]
  },
  {
   "cell_type": "code",
   "execution_count": null,
   "metadata": {},
   "outputs": [],
   "source": [
    "df_clean['73 - [90] Q16B. Comment évaluez-vous l’accompagnement de [V15] pendant ces périodes de panne de réseau ? '] = df_clean['73 - [90] Q16B. Comment évaluez-vous l’accompagnement de [V15] pendant ces périodes de panne de réseau ? '].fillna(11)"
   ]
  },
  {
   "cell_type": "markdown",
   "metadata": {},
   "source": [
    "These columns have 328-364 missing values. These values are actually a blank space in the xlsx file. It's possible that they are missing due to the fact that the customer doesn't remember using these services. We will impute these missing values with 0, as a No."
   ]
  },
  {
   "cell_type": "code",
   "execution_count": null,
   "metadata": {},
   "outputs": [],
   "source": [
    "df_clean['74 - [93] Transfert de crédit'] = df_clean['74 - [93] Transfert de crédit'].fillna(0)\n",
    "\n",
    "df_clean['75 - [94] Transfert Internet'] = df_clean['75 - [94] Transfert Internet'].fillna(0)\n",
    "\n",
    "df_clean['76 - [95] SOS crédit / Minute SOS/ SOS Solde'] = df_clean['76 - [95] SOS crédit / Minute SOS/ SOS Solde'].fillna(0)\n",
    "\n",
    "df_clean['77 - [96] Orange fidélité/ Points Merci/ Kelma'] = df_clean['77 - [96] Orange fidélité/ Points Merci/ Kelma'].fillna(0)\n",
    "\n",
    "df_clean['78 - [97] Messagerie vocale'] = df_clean['78 - [97] Messagerie vocale'].fillna(0)\n",
    "\n",
    "df_clean['79 - [98] Appelez jusqu\\'à six/ Conf Call pro/ Appel en conférence'] = df_clean['79 - [98] Appelez jusqu\\'à six/ Conf Call pro/ Appel en conférence'].fillna(0)"
   ]
  },
  {
   "cell_type": "markdown",
   "metadata": {},
   "source": [
    "These columns have 1205-1518 missing values. These values are actually a blank space in the xlsx file. They are missing due to the fact that the customer didn't use the services. We will impute these missing values with 11, as mentioned in the form."
   ]
  },
  {
   "cell_type": "code",
   "execution_count": null,
   "metadata": {},
   "outputs": [],
   "source": [
    "df_clean['80 - [101] Transfert de crédit'] = df_clean['80 - [101] Transfert de crédit'].fillna(11)\n",
    "\n",
    "df_clean['81 - [102] Transfert Internet'] = df_clean['81 - [102] Transfert Internet'].fillna(11)\n",
    "\n",
    "df_clean['82 - [103] SOS crédit / Minute SOS/ SOS Solde'] = df_clean['82 - [103] SOS crédit / Minute SOS/ SOS Solde'].fillna(11)\n",
    "\n",
    "df_clean['83 - [104] Orange fidélité/ Points Merci/ Kelma'] = df_clean['83 - [104] Orange fidélité/ Points Merci/ Kelma'].fillna(11)\n",
    "\n",
    "df_clean['84 - [105] Messagerie vocale'] = df_clean['84 - [105] Messagerie vocale'].fillna(11)\n",
    "\n",
    "df_clean['85 - [106] Appelez jusqu\\'à six/ Conf Call pro/ Appel en conférence'] = df_clean['85 - [106] Appelez jusqu\\'à six/ Conf Call pro/ Appel en conférence'].fillna(11)"
   ]
  },
  {
   "cell_type": "markdown",
   "metadata": {},
   "source": [
    "# Removing unwanted characters and casting numerical columns from the detected object type to int"
   ]
  },
  {
   "cell_type": "markdown",
   "metadata": {},
   "source": [
    "This column has 4 possible values:\n",
    "\n",
    "1. Jamais - 2. Rarement - 3. Souvent - 4.Toujours\n",
    "\n",
    "We only need the first digit (1-4) so we'll remove the rest.\n",
    "\n",
    "Then we will cast it to int"
   ]
  },
  {
   "cell_type": "code",
   "execution_count": null,
   "metadata": {},
   "outputs": [],
   "source": [
    "df_clean['66 - [82] Q15. Arrivez-vous à passer votre appel dès la première tentative ? '] = df_clean['66 - [82] Q15. Arrivez-vous à passer votre appel dès la première tentative ? '].astype(str).str[0]\n",
    "\n",
    "df_clean['66 - [82] Q15. Arrivez-vous à passer votre appel dès la première tentative ? ']=df_clean['66 - [82] Q15. Arrivez-vous à passer votre appel dès la première tentative ? '].astype(int)"
   ]
  },
  {
   "cell_type": "code",
   "execution_count": null,
   "metadata": {},
   "outputs": [],
   "source": [
    "df_clean['66 - [82] Q15. Arrivez-vous à passer votre appel dès la première tentative ? ']"
   ]
  },
  {
   "cell_type": "markdown",
   "metadata": {},
   "source": [
    "These columns have 11 possible values: from 1 to 11\n",
    "\n",
    "1 being the worst mark, 10 the best and 11 for no answer.\n",
    "\n",
    "We only need the first two digits so we'll remove the rest.\n",
    "\n",
    "Some values are mistyped, we will identify them and replace them with the correct values\n",
    "\n",
    "Then we will cast them to int"
   ]
  },
  {
   "cell_type": "code",
   "execution_count": null,
   "metadata": {},
   "outputs": [],
   "source": [
    "df_clean['67 - [84] Q16.1 La couverture réseau de votre opérateur dans les lieux où vous l’utilisez'].replace(to_replace='1.', value=1, inplace=True)\n",
    "df_clean['67 - [84] Q16.1 La couverture réseau de votre opérateur dans les lieux où vous l’utilisez'].replace(to_replace='2.', value=2, inplace=True)\n",
    "df_clean['67 - [84] Q16.1 La couverture réseau de votre opérateur dans les lieux où vous l’utilisez'].replace(to_replace='3.', value=3, inplace=True)\n",
    "df_clean['67 - [84] Q16.1 La couverture réseau de votre opérateur dans les lieux où vous l’utilisez'].replace(to_replace='4.', value=4, inplace=True)\n",
    "\n",
    "df_clean['67 - [84] Q16.1 La couverture réseau de votre opérateur dans les lieux où vous l’utilisez'] = df_clean['67 - [84] Q16.1 La couverture réseau de votre opérateur dans les lieux où vous l’utilisez'].astype(str).str[0:2]\n",
    "\n",
    "df_clean['67 - [84] Q16.1 La couverture réseau de votre opérateur dans les lieux où vous l’utilisez'] = df_clean['67 - [84] Q16.1 La couverture réseau de votre opérateur dans les lieux où vous l’utilisez'].astype(int)"
   ]
  },
  {
   "cell_type": "code",
   "execution_count": null,
   "metadata": {},
   "outputs": [],
   "source": [
    "df_clean['67 - [84] Q16.1 La couverture réseau de votre opérateur dans les lieux où vous l’utilisez']"
   ]
  },
  {
   "cell_type": "code",
   "execution_count": null,
   "metadata": {},
   "outputs": [],
   "source": [
    "df_clean['68 - [85] Q16.2 La qualité de la voix : c’est à dire la possibilité d’entendre clairement votre interlocuteur'].replace(to_replace='Jamais', value=1, inplace=True)\n",
    "df_clean['68 - [85] Q16.2 La qualité de la voix : c’est à dire la possibilité d’entendre clairement votre interlocuteur'].replace(to_replace='Rarement', value=2, inplace=True)\n",
    "df_clean['68 - [85] Q16.2 La qualité de la voix : c’est à dire la possibilité d’entendre clairement votre interlocuteur'].replace(to_replace='Souvent', value=3, inplace=True)\n",
    "df_clean['68 - [85] Q16.2 La qualité de la voix : c’est à dire la possibilité d’entendre clairement votre interlocuteur'].replace(to_replace='Toujours', value=4, inplace=True)\n",
    "df_clean['68 - [85] Q16.2 La qualité de la voix : c’est à dire la possibilité d’entendre clairement votre interlocuteur'].replace(to_replace='1.', value=1, inplace=True)\n",
    "df_clean['68 - [85] Q16.2 La qualité de la voix : c’est à dire la possibilité d’entendre clairement votre interlocuteur'].replace(to_replace='2.', value=2, inplace=True)\n",
    "df_clean['68 - [85] Q16.2 La qualité de la voix : c’est à dire la possibilité d’entendre clairement votre interlocuteur'].replace(to_replace='3.', value=3, inplace=True)\n",
    "df_clean['68 - [85] Q16.2 La qualité de la voix : c’est à dire la possibilité d’entendre clairement votre interlocuteur'].replace(to_replace='4.', value=4, inplace=True)\n",
    "\n",
    "df_clean['68 - [85] Q16.2 La qualité de la voix : c’est à dire la possibilité d’entendre clairement votre interlocuteur'] = df_clean['68 - [85] Q16.2 La qualité de la voix : c’est à dire la possibilité d’entendre clairement votre interlocuteur'].astype(str).str[0:2]\n",
    "\n",
    "df_clean['68 - [85] Q16.2 La qualité de la voix : c’est à dire la possibilité d’entendre clairement votre interlocuteur'] = df_clean['68 - [85] Q16.2 La qualité de la voix : c’est à dire la possibilité d’entendre clairement votre interlocuteur'].astype(int)"
   ]
  },
  {
   "cell_type": "code",
   "execution_count": null,
   "metadata": {},
   "outputs": [],
   "source": [
    "df_clean['68 - [85] Q16.2 La qualité de la voix : c’est à dire la possibilité d’entendre clairement votre interlocuteur']"
   ]
  },
  {
   "cell_type": "code",
   "execution_count": null,
   "metadata": {},
   "outputs": [],
   "source": [
    "df_clean['69 - [86] Q16.3 La qualité de la communication : par exemple pouvoir appeler sans coupure de communication inexpliquée'].replace(to_replace='Jamais', value=1, inplace=True)\n",
    "df_clean['69 - [86] Q16.3 La qualité de la communication : par exemple pouvoir appeler sans coupure de communication inexpliquée'].replace(to_replace='Rarement', value=2, inplace=True)\n",
    "df_clean['69 - [86] Q16.3 La qualité de la communication : par exemple pouvoir appeler sans coupure de communication inexpliquée'].replace(to_replace='Souvent', value=3, inplace=True)\n",
    "df_clean['69 - [86] Q16.3 La qualité de la communication : par exemple pouvoir appeler sans coupure de communication inexpliquée'].replace(to_replace='Toujours', value=4, inplace=True)\n",
    "df_clean['69 - [86] Q16.3 La qualité de la communication : par exemple pouvoir appeler sans coupure de communication inexpliquée'].replace(to_replace='1.', value=1, inplace=True)\n",
    "df_clean['69 - [86] Q16.3 La qualité de la communication : par exemple pouvoir appeler sans coupure de communication inexpliquée'].replace(to_replace='2.', value=2, inplace=True)\n",
    "df_clean['69 - [86] Q16.3 La qualité de la communication : par exemple pouvoir appeler sans coupure de communication inexpliquée'].replace(to_replace='3.', value=3, inplace=True)\n",
    "df_clean['69 - [86] Q16.3 La qualité de la communication : par exemple pouvoir appeler sans coupure de communication inexpliquée'].replace(to_replace='4.', value=4, inplace=True)\n",
    "\n",
    "df_clean['69 - [86] Q16.3 La qualité de la communication : par exemple pouvoir appeler sans coupure de communication inexpliquée'] = df_clean['69 - [86] Q16.3 La qualité de la communication : par exemple pouvoir appeler sans coupure de communication inexpliquée'].astype(str).str[0:2]\n",
    "\n",
    "df_clean['69 - [86] Q16.3 La qualité de la communication : par exemple pouvoir appeler sans coupure de communication inexpliquée'] = df_clean['69 - [86] Q16.3 La qualité de la communication : par exemple pouvoir appeler sans coupure de communication inexpliquée'].astype(int)"
   ]
  },
  {
   "cell_type": "code",
   "execution_count": null,
   "metadata": {},
   "outputs": [],
   "source": [
    "df_clean['69 - [86] Q16.3 La qualité de la communication : par exemple pouvoir appeler sans coupure de communication inexpliquée']"
   ]
  },
  {
   "cell_type": "code",
   "execution_count": null,
   "metadata": {},
   "outputs": [],
   "source": [
    "df_clean['70 - [88] Q16.4 La qualité de la voix et de la communication à l’intérieur des bâtiments'].replace(to_replace='Jamais', value=1, inplace=True)\n",
    "df_clean['70 - [88] Q16.4 La qualité de la voix et de la communication à l’intérieur des bâtiments'].replace(to_replace='Rarement', value=2, inplace=True)\n",
    "df_clean['70 - [88] Q16.4 La qualité de la voix et de la communication à l’intérieur des bâtiments'].replace(to_replace='Souvent', value=3, inplace=True)\n",
    "df_clean['70 - [88] Q16.4 La qualité de la voix et de la communication à l’intérieur des bâtiments'].replace(to_replace='Toujours', value=4, inplace=True)\n",
    "df_clean['70 - [88] Q16.4 La qualité de la voix et de la communication à l’intérieur des bâtiments'].replace(to_replace='1.', value=1, inplace=True)\n",
    "df_clean['70 - [88] Q16.4 La qualité de la voix et de la communication à l’intérieur des bâtiments'].replace(to_replace='2.', value=2, inplace=True)\n",
    "df_clean['70 - [88] Q16.4 La qualité de la voix et de la communication à l’intérieur des bâtiments'].replace(to_replace='3.', value=3, inplace=True)\n",
    "df_clean['70 - [88] Q16.4 La qualité de la voix et de la communication à l’intérieur des bâtiments'].replace(to_replace='4.', value=4, inplace=True)\n",
    "\n",
    "df_clean['70 - [88] Q16.4 La qualité de la voix et de la communication à l’intérieur des bâtiments'] = df_clean['70 - [88] Q16.4 La qualité de la voix et de la communication à l’intérieur des bâtiments'].astype(str).str[0:2]\n",
    "\n",
    "df_clean['70 - [88] Q16.4 La qualité de la voix et de la communication à l’intérieur des bâtiments'] = df_clean['70 - [88] Q16.4 La qualité de la voix et de la communication à l’intérieur des bâtiments'].astype(int)"
   ]
  },
  {
   "cell_type": "code",
   "execution_count": null,
   "metadata": {},
   "outputs": [],
   "source": [
    "df_clean['70 - [88] Q16.4 La qualité de la voix et de la communication à l’intérieur des bâtiments']"
   ]
  },
  {
   "cell_type": "code",
   "execution_count": null,
   "metadata": {},
   "outputs": [],
   "source": [
    "df_clean['71 - [89] Q16.5 La qualité de la voix et de la communication à l’extérieur des bâtiments'].replace(to_replace='Jamais', value=1, inplace=True)\n",
    "df_clean['71 - [89] Q16.5 La qualité de la voix et de la communication à l’extérieur des bâtiments'].replace(to_replace='Rarement', value=2, inplace=True)\n",
    "df_clean['71 - [89] Q16.5 La qualité de la voix et de la communication à l’extérieur des bâtiments'].replace(to_replace='Souvent', value=3, inplace=True)\n",
    "df_clean['71 - [89] Q16.5 La qualité de la voix et de la communication à l’extérieur des bâtiments'].replace(to_replace='Toujours', value=4, inplace=True)\n",
    "df_clean['71 - [89] Q16.5 La qualité de la voix et de la communication à l’extérieur des bâtiments'].replace(to_replace='1.', value=1, inplace=True)\n",
    "df_clean['71 - [89] Q16.5 La qualité de la voix et de la communication à l’extérieur des bâtiments'].replace(to_replace='2.', value=2, inplace=True)\n",
    "df_clean['71 - [89] Q16.5 La qualité de la voix et de la communication à l’extérieur des bâtiments'].replace(to_replace='3.', value=3, inplace=True)\n",
    "df_clean['71 - [89] Q16.5 La qualité de la voix et de la communication à l’extérieur des bâtiments'].replace(to_replace='4.', value=4, inplace=True)\n",
    "\n",
    "df_clean['71 - [89] Q16.5 La qualité de la voix et de la communication à l’extérieur des bâtiments'] = df_clean['71 - [89] Q16.5 La qualité de la voix et de la communication à l’extérieur des bâtiments'].astype(str).str[:2]\n",
    "\n",
    "df_clean['71 - [89] Q16.5 La qualité de la voix et de la communication à l’extérieur des bâtiments'] = df_clean['71 - [89] Q16.5 La qualité de la voix et de la communication à l’extérieur des bâtiments'].astype(int)"
   ]
  },
  {
   "cell_type": "code",
   "execution_count": null,
   "metadata": {},
   "outputs": [],
   "source": [
    "df_clean['71 - [89] Q16.5 La qualité de la voix et de la communication à l’extérieur des bâtiments']"
   ]
  },
  {
   "cell_type": "markdown",
   "metadata": {},
   "source": [
    "This column has 2 possible values: Oui or Non\n",
    "\n",
    "We will replace these values with numerical ones : Oui to 1 and Non to 0.\n",
    "\n",
    "Some values are mistyped, we will identify them and replace them with 0, as a Non.\n",
    "\n",
    "Then we will cast it to int"
   ]
  },
  {
   "cell_type": "code",
   "execution_count": null,
   "metadata": {},
   "outputs": [],
   "source": [
    "df_clean['72 - [83] Q16A. Avez-vous subit une panne de réseau de [V15] (coupure, non accessibilité, interruption momentanée) au cours des 6 derniers mois ?'].replace(to_replace='Jamais', value=1, inplace=True)\n",
    "df_clean['72 - [83] Q16A. Avez-vous subit une panne de réseau de [V15] (coupure, non accessibilité, interruption momentanée) au cours des 6 derniers mois ?'].replace(to_replace='Rarement', value=1, inplace=True)\n",
    "df_clean['72 - [83] Q16A. Avez-vous subit une panne de réseau de [V15] (coupure, non accessibilité, interruption momentanée) au cours des 6 derniers mois ?'].replace(to_replace='Souvent', value=1, inplace=True)\n",
    "df_clean['72 - [83] Q16A. Avez-vous subit une panne de réseau de [V15] (coupure, non accessibilité, interruption momentanée) au cours des 6 derniers mois ?'].replace(to_replace='Toujours', value=1, inplace=True)\n",
    "df_clean['72 - [83] Q16A. Avez-vous subit une panne de réseau de [V15] (coupure, non accessibilité, interruption momentanée) au cours des 6 derniers mois ?'].replace(to_replace='1.', value=1, inplace=True)\n",
    "df_clean['72 - [83] Q16A. Avez-vous subit une panne de réseau de [V15] (coupure, non accessibilité, interruption momentanée) au cours des 6 derniers mois ?'].replace(to_replace='2.', value=1, inplace=True)\n",
    "df_clean['72 - [83] Q16A. Avez-vous subit une panne de réseau de [V15] (coupure, non accessibilité, interruption momentanée) au cours des 6 derniers mois ?'].replace(to_replace='3.', value=1, inplace=True)\n",
    "df_clean['72 - [83] Q16A. Avez-vous subit une panne de réseau de [V15] (coupure, non accessibilité, interruption momentanée) au cours des 6 derniers mois ?'].replace(to_replace='4.', value=1, inplace=True)\n",
    "\n",
    "df_clean['72 - [83] Q16A. Avez-vous subit une panne de réseau de [V15] (coupure, non accessibilité, interruption momentanée) au cours des 6 derniers mois ?'].replace(to_replace='Oui', value=1, inplace=True)\n",
    "df_clean['72 - [83] Q16A. Avez-vous subit une panne de réseau de [V15] (coupure, non accessibilité, interruption momentanée) au cours des 6 derniers mois ?'].replace(to_replace='Non',  value=0, inplace=True)\n",
    "\n",
    "df_clean['72 - [83] Q16A. Avez-vous subit une panne de réseau de [V15] (coupure, non accessibilité, interruption momentanée) au cours des 6 derniers mois ?'] = df_clean['72 - [83] Q16A. Avez-vous subit une panne de réseau de [V15] (coupure, non accessibilité, interruption momentanée) au cours des 6 derniers mois ?'].astype(str).str[0:2]\n",
    "\n",
    "df_clean['72 - [83] Q16A. Avez-vous subit une panne de réseau de [V15] (coupure, non accessibilité, interruption momentanée) au cours des 6 derniers mois ?'].astype(int)"
   ]
  },
  {
   "cell_type": "code",
   "execution_count": null,
   "metadata": {},
   "outputs": [],
   "source": [
    "df_clean['72 - [83] Q16A. Avez-vous subit une panne de réseau de [V15] (coupure, non accessibilité, interruption momentanée) au cours des 6 derniers mois ?']"
   ]
  },
  {
   "cell_type": "markdown",
   "metadata": {},
   "source": [
    "This column has 11 possible values: from 1 to 11\n",
    "\n",
    "1 being the worst mark, 10 the best and 11 for no answer.\n",
    "\n",
    "We only need the first two digits so we'll remove the rest.\n",
    "\n",
    "Some values are mistyped, we will identify them and replace them with the correct values\n",
    "\n",
    "Then we will cast it to int"
   ]
  },
  {
   "cell_type": "code",
   "execution_count": null,
   "metadata": {},
   "outputs": [],
   "source": [
    "df_clean['73 - [90] Q16B. Comment évaluez-vous l’accompagnement de [V15] pendant ces périodes de panne de réseau ? '].replace(to_replace='Jamais', value=1, inplace=True)\n",
    "df_clean['73 - [90] Q16B. Comment évaluez-vous l’accompagnement de [V15] pendant ces périodes de panne de réseau ? '].replace(to_replace='Rarement', value=2, inplace=True)\n",
    "df_clean['73 - [90] Q16B. Comment évaluez-vous l’accompagnement de [V15] pendant ces périodes de panne de réseau ? '].replace(to_replace='Souvent', value=3, inplace=True)\n",
    "df_clean['73 - [90] Q16B. Comment évaluez-vous l’accompagnement de [V15] pendant ces périodes de panne de réseau ? '].replace(to_replace='Toujours', value=4, inplace=True)\n",
    "df_clean['73 - [90] Q16B. Comment évaluez-vous l’accompagnement de [V15] pendant ces périodes de panne de réseau ? '].replace(to_replace='1.', value=1, inplace=True)\n",
    "df_clean['73 - [90] Q16B. Comment évaluez-vous l’accompagnement de [V15] pendant ces périodes de panne de réseau ? '].replace(to_replace='2.', value=2, inplace=True)\n",
    "df_clean['73 - [90] Q16B. Comment évaluez-vous l’accompagnement de [V15] pendant ces périodes de panne de réseau ? '].replace(to_replace='3.', value=3, inplace=True)\n",
    "df_clean['73 - [90] Q16B. Comment évaluez-vous l’accompagnement de [V15] pendant ces périodes de panne de réseau ? '].replace(to_replace='4.', value=4, inplace=True)\n",
    "\n",
    "df_clean['73 - [90] Q16B. Comment évaluez-vous l’accompagnement de [V15] pendant ces périodes de panne de réseau ? '] = df_clean['73 - [90] Q16B. Comment évaluez-vous l’accompagnement de [V15] pendant ces périodes de panne de réseau ? '].astype(str).str[:2]\n",
    "\n",
    "df_clean['73 - [90] Q16B. Comment évaluez-vous l’accompagnement de [V15] pendant ces périodes de panne de réseau ? '] = df_clean['73 - [90] Q16B. Comment évaluez-vous l’accompagnement de [V15] pendant ces périodes de panne de réseau ? '].astype(int)"
   ]
  },
  {
   "cell_type": "code",
   "execution_count": null,
   "metadata": {},
   "outputs": [],
   "source": [
    "df_clean['73 - [90] Q16B. Comment évaluez-vous l’accompagnement de [V15] pendant ces périodes de panne de réseau ? ']"
   ]
  },
  {
   "cell_type": "markdown",
   "metadata": {},
   "source": [
    "These columns have 2 possible values: Oui or Non\n",
    "\n",
    "We will replace these values with numerical ones : Oui to 1 and Non to 0.\n",
    "\n",
    "Some values are mistyped, we will identify them and replace them with 0, as a Non.\n",
    "\n",
    "Then we will cast them to int"
   ]
  },
  {
   "cell_type": "code",
   "execution_count": null,
   "metadata": {},
   "outputs": [],
   "source": [
    "df_clean['74 - [93] Transfert de crédit'].replace(to_replace='Jamais', value=1, inplace=True)\n",
    "df_clean['74 - [93] Transfert de crédit'].replace(to_replace='Rarement', value=1, inplace=True)\n",
    "df_clean['74 - [93] Transfert de crédit'].replace(to_replace='Souvent', value=1, inplace=True)\n",
    "df_clean['74 - [93] Transfert de crédit'].replace(to_replace='Toujours', value=1, inplace=True)\n",
    "df_clean['74 - [93] Transfert de crédit'].replace(to_replace='1.', value=1, inplace=True)\n",
    "df_clean['74 - [93] Transfert de crédit'].replace(to_replace='2.', value=1, inplace=True)\n",
    "df_clean['74 - [93] Transfert de crédit'].replace(to_replace='3.', value=1, inplace=True)\n",
    "df_clean['74 - [93] Transfert de crédit'].replace(to_replace='4.', value=1, inplace=True)\n",
    "\n",
    "df_clean['74 - [93] Transfert de crédit'].replace(to_replace='Oui', value=1, inplace=True)\n",
    "df_clean['74 - [93] Transfert de crédit'].replace(to_replace='Non',  value=0, inplace=True)\n",
    "\n",
    "df_clean['74 - [93] Transfert de crédit'] = df_clean['74 - [93] Transfert de crédit'].astype(str).str[0:2]\n",
    "df_clean['74 - [93] Transfert de crédit'] = df_clean['74 - [93] Transfert de crédit'].astype(int)"
   ]
  },
  {
   "cell_type": "code",
   "execution_count": null,
   "metadata": {},
   "outputs": [],
   "source": [
    "df_clean['74 - [93] Transfert de crédit']"
   ]
  },
  {
   "cell_type": "code",
   "execution_count": null,
   "metadata": {},
   "outputs": [],
   "source": [
    "df_clean['75 - [94] Transfert Internet'].replace(to_replace='Jamais', value=1, inplace=True)\n",
    "df_clean['75 - [94] Transfert Internet'].replace(to_replace='Rarement', value=1, inplace=True)\n",
    "df_clean['75 - [94] Transfert Internet'].replace(to_replace='Souvent', value=1, inplace=True)\n",
    "df_clean['75 - [94] Transfert Internet'].replace(to_replace='Toujours', value=1, inplace=True)\n",
    "df_clean['75 - [94] Transfert Internet'].replace(to_replace='1.', value=1, inplace=True)\n",
    "df_clean['75 - [94] Transfert Internet'].replace(to_replace='2.', value=1, inplace=True)\n",
    "df_clean['75 - [94] Transfert Internet'].replace(to_replace='3.', value=1, inplace=True)\n",
    "df_clean['75 - [94] Transfert Internet'].replace(to_replace='4.', value=1, inplace=True)\n",
    "\n",
    "df_clean['75 - [94] Transfert Internet'].replace(to_replace='Oui', value=1, inplace=True)\n",
    "df_clean['75 - [94] Transfert Internet'].replace(to_replace='Non',  value=0, inplace=True)\n",
    "\n",
    "df_clean['75 - [94] Transfert Internet'] = df_clean['75 - [94] Transfert Internet'].astype(str).str[0:2]\n",
    "df_clean['75 - [94] Transfert Internet'] = df_clean['75 - [94] Transfert Internet'].astype(int)"
   ]
  },
  {
   "cell_type": "code",
   "execution_count": null,
   "metadata": {},
   "outputs": [],
   "source": [
    "df_clean['75 - [94] Transfert Internet']"
   ]
  },
  {
   "cell_type": "code",
   "execution_count": null,
   "metadata": {},
   "outputs": [],
   "source": [
    "df_clean['76 - [95] SOS crédit / Minute SOS/ SOS Solde'].replace(to_replace='Jamais', value=1, inplace=True)\n",
    "df_clean['76 - [95] SOS crédit / Minute SOS/ SOS Solde'].replace(to_replace='Rarement', value=1, inplace=True)\n",
    "df_clean['76 - [95] SOS crédit / Minute SOS/ SOS Solde'].replace(to_replace='Souvent', value=1, inplace=True)\n",
    "df_clean['76 - [95] SOS crédit / Minute SOS/ SOS Solde'].replace(to_replace='Toujours', value=1, inplace=True)\n",
    "df_clean['76 - [95] SOS crédit / Minute SOS/ SOS Solde'].replace(to_replace='1.', value=1, inplace=True)\n",
    "df_clean['76 - [95] SOS crédit / Minute SOS/ SOS Solde'].replace(to_replace='2.', value=1, inplace=True)\n",
    "df_clean['76 - [95] SOS crédit / Minute SOS/ SOS Solde'].replace(to_replace='3.', value=1, inplace=True)\n",
    "df_clean['76 - [95] SOS crédit / Minute SOS/ SOS Solde'].replace(to_replace='4.', value=1, inplace=True)\n",
    "\n",
    "df_clean['76 - [95] SOS crédit / Minute SOS/ SOS Solde'].replace(to_replace='Oui', value=1, inplace=True)\n",
    "df_clean['76 - [95] SOS crédit / Minute SOS/ SOS Solde'].replace(to_replace='Non',  value=0, inplace=True)\n",
    "\n",
    "df_clean['76 - [95] SOS crédit / Minute SOS/ SOS Solde'] = df_clean['76 - [95] SOS crédit / Minute SOS/ SOS Solde'].astype(str).str[0:2]\n",
    "df_clean['76 - [95] SOS crédit / Minute SOS/ SOS Solde'] = df_clean['76 - [95] SOS crédit / Minute SOS/ SOS Solde'].astype(int)"
   ]
  },
  {
   "cell_type": "code",
   "execution_count": null,
   "metadata": {},
   "outputs": [],
   "source": [
    "df_clean['76 - [95] SOS crédit / Minute SOS/ SOS Solde']"
   ]
  },
  {
   "cell_type": "code",
   "execution_count": null,
   "metadata": {},
   "outputs": [],
   "source": [
    "df_clean['77 - [96] Orange fidélité/ Points Merci/ Kelma'].replace(to_replace='Jamais', value=1, inplace=True)\n",
    "df_clean['77 - [96] Orange fidélité/ Points Merci/ Kelma'].replace(to_replace='Rarement', value=1, inplace=True)\n",
    "df_clean['77 - [96] Orange fidélité/ Points Merci/ Kelma'].replace(to_replace='Souvent', value=1, inplace=True)\n",
    "df_clean['77 - [96] Orange fidélité/ Points Merci/ Kelma'].replace(to_replace='Toujours', value=1, inplace=True)\n",
    "df_clean['77 - [96] Orange fidélité/ Points Merci/ Kelma'].replace(to_replace='1.', value=1, inplace=True)\n",
    "df_clean['77 - [96] Orange fidélité/ Points Merci/ Kelma'].replace(to_replace='2.', value=1, inplace=True)\n",
    "df_clean['77 - [96] Orange fidélité/ Points Merci/ Kelma'].replace(to_replace='3.', value=1, inplace=True)\n",
    "df_clean['77 - [96] Orange fidélité/ Points Merci/ Kelma'].replace(to_replace='4.', value=1, inplace=True)\n",
    "\n",
    "df_clean['77 - [96] Orange fidélité/ Points Merci/ Kelma'].replace(to_replace='Oui', value=1, inplace=True)\n",
    "df_clean['77 - [96] Orange fidélité/ Points Merci/ Kelma'].replace(to_replace='Non',  value=0, inplace=True)\n",
    "\n",
    "df_clean['77 - [96] Orange fidélité/ Points Merci/ Kelma'] = df_clean['77 - [96] Orange fidélité/ Points Merci/ Kelma'].astype(str).str[0:2]\n",
    "df_clean['77 - [96] Orange fidélité/ Points Merci/ Kelma'] = df_clean['77 - [96] Orange fidélité/ Points Merci/ Kelma'].astype(int)"
   ]
  },
  {
   "cell_type": "code",
   "execution_count": null,
   "metadata": {},
   "outputs": [],
   "source": [
    "df_clean['77 - [96] Orange fidélité/ Points Merci/ Kelma']"
   ]
  },
  {
   "cell_type": "code",
   "execution_count": null,
   "metadata": {},
   "outputs": [],
   "source": [
    "df_clean['78 - [97] Messagerie vocale'].replace(to_replace='Jamais', value=1, inplace=True)\n",
    "df_clean['78 - [97] Messagerie vocale'].replace(to_replace='Rarement', value=1, inplace=True)\n",
    "df_clean['78 - [97] Messagerie vocale'].replace(to_replace='Souvent', value=1, inplace=True)\n",
    "df_clean['78 - [97] Messagerie vocale'].replace(to_replace='Toujours', value=1, inplace=True)\n",
    "df_clean['78 - [97] Messagerie vocale'].replace(to_replace='1.', value=1, inplace=True)\n",
    "df_clean['78 - [97] Messagerie vocale'].replace(to_replace='2.', value=1, inplace=True)\n",
    "df_clean['78 - [97] Messagerie vocale'].replace(to_replace='3.', value=1, inplace=True)\n",
    "df_clean['78 - [97] Messagerie vocale'].replace(to_replace='4.', value=1, inplace=True)\n",
    "\n",
    "df_clean['78 - [97] Messagerie vocale'].replace(to_replace='Oui', value=1, inplace=True)\n",
    "df_clean['78 - [97] Messagerie vocale'].replace(to_replace='Non',  value=0, inplace=True)\n",
    "\n",
    "df_clean['78 - [97] Messagerie vocale'] = df_clean['78 - [97] Messagerie vocale'].astype(str).str[0:2]\n",
    "df_clean['78 - [97] Messagerie vocale'] = df_clean['78 - [97] Messagerie vocale'].astype(int)"
   ]
  },
  {
   "cell_type": "code",
   "execution_count": null,
   "metadata": {},
   "outputs": [],
   "source": [
    "df_clean['78 - [97] Messagerie vocale']"
   ]
  },
  {
   "cell_type": "code",
   "execution_count": null,
   "metadata": {},
   "outputs": [],
   "source": [
    "df_clean['79 - [98] Appelez jusqu\\'à six/ Conf Call pro/ Appel en conférence'].replace(to_replace='Jamais', value=1, inplace=True)\n",
    "df_clean['79 - [98] Appelez jusqu\\'à six/ Conf Call pro/ Appel en conférence'].replace(to_replace='Rarement', value=1, inplace=True)\n",
    "df_clean['79 - [98] Appelez jusqu\\'à six/ Conf Call pro/ Appel en conférence'].replace(to_replace='Souvent', value=1, inplace=True)\n",
    "df_clean['79 - [98] Appelez jusqu\\'à six/ Conf Call pro/ Appel en conférence'].replace(to_replace='Toujours', value=1, inplace=True)\n",
    "df_clean['79 - [98] Appelez jusqu\\'à six/ Conf Call pro/ Appel en conférence'].replace(to_replace='1.', value=1, inplace=True)\n",
    "df_clean['79 - [98] Appelez jusqu\\'à six/ Conf Call pro/ Appel en conférence'].replace(to_replace='2.', value=1, inplace=True)\n",
    "df_clean['79 - [98] Appelez jusqu\\'à six/ Conf Call pro/ Appel en conférence'].replace(to_replace='3.', value=1, inplace=True)\n",
    "df_clean['79 - [98] Appelez jusqu\\'à six/ Conf Call pro/ Appel en conférence'].replace(to_replace='4.', value=1, inplace=True)\n",
    "\n",
    "df_clean['79 - [98] Appelez jusqu\\'à six/ Conf Call pro/ Appel en conférence'].replace(to_replace='Oui', value=1, inplace=True)\n",
    "df_clean['79 - [98] Appelez jusqu\\'à six/ Conf Call pro/ Appel en conférence'].replace(to_replace='Non',  value=0, inplace=True)\n",
    "\n",
    "df_clean['79 - [98] Appelez jusqu\\'à six/ Conf Call pro/ Appel en conférence'] = df_clean['79 - [98] Appelez jusqu\\'à six/ Conf Call pro/ Appel en conférence'].astype(str).str[0:2]\n",
    "df_clean['79 - [98] Appelez jusqu\\'à six/ Conf Call pro/ Appel en conférence'] = df_clean['79 - [98] Appelez jusqu\\'à six/ Conf Call pro/ Appel en conférence'].astype(int)"
   ]
  },
  {
   "cell_type": "code",
   "execution_count": null,
   "metadata": {},
   "outputs": [],
   "source": [
    "df_clean['79 - [98] Appelez jusqu\\'à six/ Conf Call pro/ Appel en conférence']"
   ]
  },
  {
   "cell_type": "markdown",
   "metadata": {},
   "source": [
    "These columns have 11 possible values: from 1 to 11\n",
    "\n",
    "1 being the worst mark, 10 the best and 11 for no answer.\n",
    "\n",
    "We only need the first two digits so we'll remove the rest.\n",
    "\n",
    "Some values are mistyped, we will identify them and replace them with the correct values\n",
    "\n",
    "Then we will cast them to int"
   ]
  },
  {
   "cell_type": "code",
   "execution_count": null,
   "metadata": {},
   "outputs": [],
   "source": [
    "df_clean['80 - [101] Transfert de crédit'].replace(to_replace='Jamais', value=1, inplace=True)\n",
    "df_clean['80 - [101] Transfert de crédit'].replace(to_replace='Rarement', value=2, inplace=True)\n",
    "df_clean['80 - [101] Transfert de crédit'].replace(to_replace='Souvent', value=3, inplace=True)\n",
    "df_clean['80 - [101] Transfert de crédit'].replace(to_replace='Toujours', value=4, inplace=True)\n",
    "df_clean['80 - [101] Transfert de crédit'].replace(to_replace='1.', value=1, inplace=True)\n",
    "df_clean['80 - [101] Transfert de crédit'].replace(to_replace='2.', value=2, inplace=True)\n",
    "df_clean['80 - [101] Transfert de crédit'].replace(to_replace='3.', value=3, inplace=True)\n",
    "df_clean['80 - [101] Transfert de crédit'].replace(to_replace='4.', value=4, inplace=True)\n",
    "df_clean['80 - [101] Transfert de crédit'].replace(to_replace='Oui', value=11, inplace=True)\n",
    "df_clean['80 - [101] Transfert de crédit'].replace(to_replace='Non', value=11, inplace=True)\n",
    "\n",
    "df_clean['80 - [101] Transfert de crédit'] = df_clean['80 - [101] Transfert de crédit'].astype(str).str[:2]\n",
    "\n",
    "df_clean['80 - [101] Transfert de crédit'] = df_clean['80 - [101] Transfert de crédit'].astype(int)"
   ]
  },
  {
   "cell_type": "code",
   "execution_count": null,
   "metadata": {},
   "outputs": [],
   "source": [
    "df_clean['80 - [101] Transfert de crédit']"
   ]
  },
  {
   "cell_type": "code",
   "execution_count": null,
   "metadata": {},
   "outputs": [],
   "source": [
    "df_clean['81 - [102] Transfert Internet'].replace(to_replace='Jamais', value=1, inplace=True)\n",
    "df_clean['81 - [102] Transfert Internet'].replace(to_replace='Rarement', value=2, inplace=True)\n",
    "df_clean['81 - [102] Transfert Internet'].replace(to_replace='Souvent', value=3, inplace=True)\n",
    "df_clean['81 - [102] Transfert Internet'].replace(to_replace='Toujours', value=4, inplace=True)\n",
    "df_clean['81 - [102] Transfert Internet'].replace(to_replace='1.', value=1, inplace=True)\n",
    "df_clean['81 - [102] Transfert Internet'].replace(to_replace='2.', value=2, inplace=True)\n",
    "df_clean['81 - [102] Transfert Internet'].replace(to_replace='3.', value=3, inplace=True)\n",
    "df_clean['81 - [102] Transfert Internet'].replace(to_replace='4.', value=4, inplace=True)\n",
    "df_clean['81 - [102] Transfert Internet'].replace(to_replace='Oui', value=11, inplace=True)\n",
    "df_clean['81 - [102] Transfert Internet'].replace(to_replace='Non', value=11, inplace=True)\n",
    "\n",
    "df_clean['81 - [102] Transfert Internet'] = df_clean['81 - [102] Transfert Internet'].astype(str).str[:2]\n",
    "\n",
    "df_clean['781 - [102] Transfert Internet'] = df_clean['81 - [102] Transfert Internet'].astype(int)"
   ]
  },
  {
   "cell_type": "code",
   "execution_count": null,
   "metadata": {},
   "outputs": [],
   "source": [
    "df_clean['81 - [102] Transfert Internet']"
   ]
  },
  {
   "cell_type": "code",
   "execution_count": null,
   "metadata": {},
   "outputs": [],
   "source": [
    "df_clean['82 - [103] SOS crédit / Minute SOS/ SOS Solde'].replace(to_replace='Jamais', value=1, inplace=True)\n",
    "df_clean['82 - [103] SOS crédit / Minute SOS/ SOS Solde'].replace(to_replace='Rarement', value=2, inplace=True)\n",
    "df_clean['82 - [103] SOS crédit / Minute SOS/ SOS Solde'].replace(to_replace='Souvent', value=3, inplace=True)\n",
    "df_clean['82 - [103] SOS crédit / Minute SOS/ SOS Solde'].replace(to_replace='Toujours', value=4, inplace=True)\n",
    "df_clean['82 - [103] SOS crédit / Minute SOS/ SOS Solde'].replace(to_replace='1.', value=1, inplace=True)\n",
    "df_clean['82 - [103] SOS crédit / Minute SOS/ SOS Solde'].replace(to_replace='2.', value=2, inplace=True)\n",
    "df_clean['82 - [103] SOS crédit / Minute SOS/ SOS Solde'].replace(to_replace='3.', value=3, inplace=True)\n",
    "df_clean['82 - [103] SOS crédit / Minute SOS/ SOS Solde'].replace(to_replace='4.', value=4, inplace=True)\n",
    "df_clean['82 - [103] SOS crédit / Minute SOS/ SOS Solde'].replace(to_replace='Oui', value=11, inplace=True)\n",
    "df_clean['82 - [103] SOS crédit / Minute SOS/ SOS Solde'].replace(to_replace='Non', value=11, inplace=True)\n",
    "\n",
    "df_clean['82 - [103] SOS crédit / Minute SOS/ SOS Solde'] = df_clean['82 - [103] SOS crédit / Minute SOS/ SOS Solde'].astype(str).str[:2]\n",
    "\n",
    "df_clean['82 - [103] SOS crédit / Minute SOS/ SOS Solde'] = df_clean['82 - [103] SOS crédit / Minute SOS/ SOS Solde'].astype(int)"
   ]
  },
  {
   "cell_type": "code",
   "execution_count": null,
   "metadata": {},
   "outputs": [],
   "source": [
    "df_clean['82 - [103] SOS crédit / Minute SOS/ SOS Solde']"
   ]
  },
  {
   "cell_type": "code",
   "execution_count": null,
   "metadata": {},
   "outputs": [],
   "source": [
    "df_clean['83 - [104] Orange fidélité/ Points Merci/ Kelma'].replace(to_replace='Jamais', value=1, inplace=True)\n",
    "df_clean['83 - [104] Orange fidélité/ Points Merci/ Kelma'].replace(to_replace='Rarement', value=2, inplace=True)\n",
    "df_clean['83 - [104] Orange fidélité/ Points Merci/ Kelma'].replace(to_replace='Souvent', value=3, inplace=True)\n",
    "df_clean['83 - [104] Orange fidélité/ Points Merci/ Kelma'].replace(to_replace='Toujours', value=4, inplace=True)\n",
    "df_clean['83 - [104] Orange fidélité/ Points Merci/ Kelma'].replace(to_replace='1.', value=1, inplace=True)\n",
    "df_clean['83 - [104] Orange fidélité/ Points Merci/ Kelma'].replace(to_replace='2.', value=2, inplace=True)\n",
    "df_clean['83 - [104] Orange fidélité/ Points Merci/ Kelma'].replace(to_replace='3.', value=3, inplace=True)\n",
    "df_clean['83 - [104] Orange fidélité/ Points Merci/ Kelma'].replace(to_replace='4.', value=4, inplace=True)\n",
    "df_clean['83 - [104] Orange fidélité/ Points Merci/ Kelma'].replace(to_replace='Oui', value=11, inplace=True)\n",
    "df_clean['83 - [104] Orange fidélité/ Points Merci/ Kelma'].replace(to_replace='Non', value=11, inplace=True)\n",
    "\n",
    "df_clean['83 - [104] Orange fidélité/ Points Merci/ Kelma'] = df_clean['83 - [104] Orange fidélité/ Points Merci/ Kelma'].astype(str).str[:2]\n",
    "\n",
    "df_clean['83 - [104] Orange fidélité/ Points Merci/ Kelma'] = df_clean['83 - [104] Orange fidélité/ Points Merci/ Kelma'].astype(int)"
   ]
  },
  {
   "cell_type": "code",
   "execution_count": null,
   "metadata": {},
   "outputs": [],
   "source": [
    "df_clean['83 - [104] Orange fidélité/ Points Merci/ Kelma']"
   ]
  },
  {
   "cell_type": "code",
   "execution_count": null,
   "metadata": {},
   "outputs": [],
   "source": [
    "df_clean['84 - [105] Messagerie vocale'].replace(to_replace='Jamais', value=1, inplace=True)\n",
    "df_clean['84 - [105] Messagerie vocale'].replace(to_replace='Rarement', value=2, inplace=True)\n",
    "df_clean['84 - [105] Messagerie vocale'].replace(to_replace='Souvent', value=3, inplace=True)\n",
    "df_clean['84 - [105] Messagerie vocale'].replace(to_replace='Toujours', value=4, inplace=True)\n",
    "df_clean['84 - [105] Messagerie vocale'].replace(to_replace='1.', value=1, inplace=True)\n",
    "df_clean['84 - [105] Messagerie vocale'].replace(to_replace='2.', value=2, inplace=True)\n",
    "df_clean['84 - [105] Messagerie vocale'].replace(to_replace='3.', value=3, inplace=True)\n",
    "df_clean['84 - [105] Messagerie vocale'].replace(to_replace='4.', value=4, inplace=True)\n",
    "df_clean['84 - [105] Messagerie vocale'].replace(to_replace='Oui', value=11, inplace=True)\n",
    "df_clean['84 - [105] Messagerie vocale'].replace(to_replace='Non', value=11, inplace=True)\n",
    "\n",
    "df_clean['84 - [105] Messagerie vocale'] = df_clean['84 - [105] Messagerie vocale'].astype(str).str[:2]\n",
    "\n",
    "df_clean['84 - [105] Messagerie vocale'] = df_clean['84 - [105] Messagerie vocale'].astype(int)"
   ]
  },
  {
   "cell_type": "code",
   "execution_count": null,
   "metadata": {},
   "outputs": [],
   "source": [
    "df_clean['84 - [105] Messagerie vocale']"
   ]
  },
  {
   "cell_type": "code",
   "execution_count": null,
   "metadata": {},
   "outputs": [],
   "source": [
    "df_clean['85 - [106] Appelez jusqu\\'à six/ Conf Call pro/ Appel en conférence'].replace(to_replace='Jamais', value=1, inplace=True)\n",
    "df_clean['85 - [106] Appelez jusqu\\'à six/ Conf Call pro/ Appel en conférence'].replace(to_replace='Rarement', value=2, inplace=True)\n",
    "df_clean['85 - [106] Appelez jusqu\\'à six/ Conf Call pro/ Appel en conférence'].replace(to_replace='Souvent', value=3, inplace=True)\n",
    "df_clean['85 - [106] Appelez jusqu\\'à six/ Conf Call pro/ Appel en conférence'].replace(to_replace='Toujours', value=4, inplace=True)\n",
    "df_clean['85 - [106] Appelez jusqu\\'à six/ Conf Call pro/ Appel en conférence'].replace(to_replace='1.', value=1, inplace=True)\n",
    "df_clean['85 - [106] Appelez jusqu\\'à six/ Conf Call pro/ Appel en conférence'].replace(to_replace='2.', value=2, inplace=True)\n",
    "df_clean['85 - [106] Appelez jusqu\\'à six/ Conf Call pro/ Appel en conférence'].replace(to_replace='3.', value=3, inplace=True)\n",
    "df_clean['85 - [106] Appelez jusqu\\'à six/ Conf Call pro/ Appel en conférence'].replace(to_replace='4.', value=4, inplace=True)\n",
    "df_clean['85 - [106] Appelez jusqu\\'à six/ Conf Call pro/ Appel en conférence'].replace(to_replace='Oui', value=11, inplace=True)\n",
    "df_clean['85 - [106] Appelez jusqu\\'à six/ Conf Call pro/ Appel en conférence'].replace(to_replace='Non', value=11, inplace=True)\n",
    "\n",
    "df_clean['85 - [106] Appelez jusqu\\'à six/ Conf Call pro/ Appel en conférence'] = df_clean['85 - [106] Appelez jusqu\\'à six/ Conf Call pro/ Appel en conférence'].astype(str).str[:2]\n",
    "\n",
    "df_clean['85 - [106] Appelez jusqu\\'à six/ Conf Call pro/ Appel en conférence'] = df_clean['85 - [106] Appelez jusqu\\'à six/ Conf Call pro/ Appel en conférence'].astype(int)"
   ]
  },
  {
   "cell_type": "code",
   "execution_count": null,
   "metadata": {},
   "outputs": [],
   "source": [
    "df_clean['85 - [106] Appelez jusqu\\'à six/ Conf Call pro/ Appel en conférence']"
   ]
  },
  {
   "cell_type": "markdown",
   "metadata": {},
   "source": [
    "## Result"
   ]
  },
  {
   "cell_type": "code",
   "execution_count": null,
   "metadata": {},
   "outputs": [],
   "source": [
    "## Ayuob\n",
    "\n",
    "df_clean.iloc[:,61:81]\n",
    "\n",
    "# Impute missing values\n",
    "\n",
    "This column has 328 missing values. These values are actually a blank space in the xlsx file. It's possible that they are missing due to the fact that the customer's answer wasn't clear enough. We will impute these missing values with the most frequent value.\n",
    "\n",
    "df_clean['66 - [82] Q15. Arrivez-vous à passer votre appel dès la première tentative ? '] = df_clean['66 - [82] Q15. Arrivez-vous à passer votre appel dès la première tentative ? '].fillna(df_clean['66 - [82] Q15. Arrivez-vous à passer votre appel dès la première tentative ? '].mode()[0])\n",
    "\n",
    "The next 5 columns have 326-339 missing values. These values are actually a blank space in the xlsx file. It's possible that they are missing due to the fact that the customer doesn't have an answer. We will impute these missing values with 11, as mentioned in the form.\n",
    "\n",
    "df_clean['67 - [84] Q16.1 La couverture réseau de votre opérateur dans les lieux où vous l’utilisez'] = df_clean['67 - [84] Q16.1 La couverture réseau de votre opérateur dans les lieux où vous l’utilisez'].fillna(11)\n",
    "\n",
    "df_clean['68 - [85] Q16.2 La qualité de la voix : c’est à dire la possibilité d’entendre clairement votre interlocuteur'] = df_clean['68 - [85] Q16.2 La qualité de la voix : c’est à dire la possibilité d’entendre clairement votre interlocuteur'].fillna(11)\n",
    "\n",
    "df_clean['69 - [86] Q16.3 La qualité de la communication : par exemple pouvoir appeler sans coupure de communication inexpliquée'] = df_clean['69 - [86] Q16.3 La qualité de la communication : par exemple pouvoir appeler sans coupure de communication inexpliquée'].fillna(11)\n",
    "\n",
    "df_clean['70 - [88] Q16.4 La qualité de la voix et de la communication à l’intérieur des bâtiments'] = df_clean['70 - [88] Q16.4 La qualité de la voix et de la communication à l’intérieur des bâtiments'].fillna(11)\n",
    "\n",
    "df_clean['71 - [89] Q16.5 La qualité de la voix et de la communication à l’extérieur des bâtiments'] = df_clean['71 - [89] Q16.5 La qualité de la voix et de la communication à l’extérieur des bâtiments'].fillna(11)\n",
    "\n",
    "This column has 328 missing values. These values are actually a blank space in the xlsx file. It's possible that they are missing due to the fact that the customer doesn't remember having a network breakdown. We will impute these missing values with 0, as a No.\n",
    "\n",
    "df_clean['72 - [83] Q16A. Avez-vous subit une panne de réseau de [V15] (coupure, non accessibilité, interruption momentanée) au cours des 6 derniers mois ?'] = df_clean['72 - [83] Q16A. Avez-vous subit une panne de réseau de [V15] (coupure, non accessibilité, interruption momentanée) au cours des 6 derniers mois ?'].fillna(df_clean['72 - [83] Q16A. Avez-vous subit une panne de réseau de [V15] (coupure, non accessibilité, interruption momentanée) au cours des 6 derniers mois ?'].fillna(0))\n",
    "\n",
    "This column has 1121 missing values. These values are actually a blank space in the xlsx file. They are missing due to the fact that the customer didn't a network breakdown. We will impute these missing values with 11, as mentioned in the form.\n",
    "\n",
    "df_clean['73 - [90] Q16B. Comment évaluez-vous l’accompagnement de [V15] pendant ces périodes de panne de réseau ? '] = df_clean['73 - [90] Q16B. Comment évaluez-vous l’accompagnement de [V15] pendant ces périodes de panne de réseau ? '].fillna(11)\n",
    "\n",
    "These columns have 328-364 missing values. These values are actually a blank space in the xlsx file. It's possible that they are missing due to the fact that the customer doesn't remember using these services. We will impute these missing values with 0, as a No.\n",
    "\n",
    "df_clean['74 - [93] Transfert de crédit'] = df_clean['74 - [93] Transfert de crédit'].fillna(0)\n",
    "\n",
    "df_clean['75 - [94] Transfert Internet'] = df_clean['75 - [94] Transfert Internet'].fillna(0)\n",
    "\n",
    "df_clean['76 - [95] SOS crédit / Minute SOS/ SOS Solde'] = df_clean['76 - [95] SOS crédit / Minute SOS/ SOS Solde'].fillna(0)\n",
    "\n",
    "df_clean['77 - [96] Orange fidélité/ Points Merci/ Kelma'] = df_clean['77 - [96] Orange fidélité/ Points Merci/ Kelma'].fillna(0)\n",
    "\n",
    "df_clean['78 - [97] Messagerie vocale'] = df_clean['78 - [97] Messagerie vocale'].fillna(0)\n",
    "\n",
    "df_clean['79 - [98] Appelez jusqu\\'à six/ Conf Call pro/ Appel en conférence'] = df_clean['79 - [98] Appelez jusqu\\'à six/ Conf Call pro/ Appel en conférence'].fillna(0)\n",
    "\n",
    "These columns have 1205-1518 missing values. These values are actually a blank space in the xlsx file. They are missing due to the fact that the customer didn't use the services. We will impute these missing values with 11, as mentioned in the form.\n",
    "\n",
    "df_clean['80 - [101] Transfert de crédit'] = df_clean['80 - [101] Transfert de crédit'].fillna(11)\n",
    "\n",
    "df_clean['81 - [102] Transfert Internet'] = df_clean['81 - [102] Transfert Internet'].fillna(11)\n",
    "\n",
    "df_clean['82 - [103] SOS crédit / Minute SOS/ SOS Solde'] = df_clean['82 - [103] SOS crédit / Minute SOS/ SOS Solde'].fillna(11)\n",
    "\n",
    "df_clean['83 - [104] Orange fidélité/ Points Merci/ Kelma'] = df_clean['83 - [104] Orange fidélité/ Points Merci/ Kelma'].fillna(11)\n",
    "\n",
    "df_clean['84 - [105] Messagerie vocale'] = df_clean['84 - [105] Messagerie vocale'].fillna(11)\n",
    "\n",
    "df_clean['85 - [106] Appelez jusqu\\'à six/ Conf Call pro/ Appel en conférence'] = df_clean['85 - [106] Appelez jusqu\\'à six/ Conf Call pro/ Appel en conférence'].fillna(11)\n",
    "\n",
    "# Removing unwanted characters and casting numerical columns from the detected object type to int\n",
    "\n",
    "This column has 4 possible values:\n",
    "\n",
    "1. Jamais - 2. Rarement - 3. Souvent - 4.Toujours\n",
    "\n",
    "We only need the first digit (1-4) so we'll remove the rest.\n",
    "\n",
    "Then we will cast it to int\n",
    "\n",
    "df_clean['66 - [82] Q15. Arrivez-vous à passer votre appel dès la première tentative ? '] = df_clean['66 - [82] Q15. Arrivez-vous à passer votre appel dès la première tentative ? '].astype(str).str[0]\n",
    "\n",
    "df_clean['66 - [82] Q15. Arrivez-vous à passer votre appel dès la première tentative ? ']=df_clean['66 - [82] Q15. Arrivez-vous à passer votre appel dès la première tentative ? '].astype(int)\n",
    "\n",
    "df_clean['66 - [82] Q15. Arrivez-vous à passer votre appel dès la première tentative ? ']\n",
    "\n",
    "These columns have 11 possible values: from 1 to 11\n",
    "\n",
    "1 being the worst mark, 10 the best and 11 for no answer.\n",
    "\n",
    "We only need the first two digits so we'll remove the rest.\n",
    "\n",
    "Some values are mistyped, we will identify them and replace them with the correct values\n",
    "\n",
    "Then we will cast them to int\n",
    "\n",
    "df_clean['67 - [84] Q16.1 La couverture réseau de votre opérateur dans les lieux où vous l’utilisez'].replace(to_replace='1.', value=1, inplace=True)\n",
    "df_clean['67 - [84] Q16.1 La couverture réseau de votre opérateur dans les lieux où vous l’utilisez'].replace(to_replace='2.', value=2, inplace=True)\n",
    "df_clean['67 - [84] Q16.1 La couverture réseau de votre opérateur dans les lieux où vous l’utilisez'].replace(to_replace='3.', value=3, inplace=True)\n",
    "df_clean['67 - [84] Q16.1 La couverture réseau de votre opérateur dans les lieux où vous l’utilisez'].replace(to_replace='4.', value=4, inplace=True)\n",
    "\n",
    "df_clean['67 - [84] Q16.1 La couverture réseau de votre opérateur dans les lieux où vous l’utilisez'] = df_clean['67 - [84] Q16.1 La couverture réseau de votre opérateur dans les lieux où vous l’utilisez'].astype(str).str[0:2]\n",
    "\n",
    "df_clean['67 - [84] Q16.1 La couverture réseau de votre opérateur dans les lieux où vous l’utilisez'] = df_clean['67 - [84] Q16.1 La couverture réseau de votre opérateur dans les lieux où vous l’utilisez'].astype(int)\n",
    "\n",
    "df_clean['67 - [84] Q16.1 La couverture réseau de votre opérateur dans les lieux où vous l’utilisez']\n",
    "\n",
    "df_clean['68 - [85] Q16.2 La qualité de la voix : c’est à dire la possibilité d’entendre clairement votre interlocuteur'].replace(to_replace='Jamais', value=1, inplace=True)\n",
    "df_clean['68 - [85] Q16.2 La qualité de la voix : c’est à dire la possibilité d’entendre clairement votre interlocuteur'].replace(to_replace='Rarement', value=2, inplace=True)\n",
    "df_clean['68 - [85] Q16.2 La qualité de la voix : c’est à dire la possibilité d’entendre clairement votre interlocuteur'].replace(to_replace='Souvent', value=3, inplace=True)\n",
    "df_clean['68 - [85] Q16.2 La qualité de la voix : c’est à dire la possibilité d’entendre clairement votre interlocuteur'].replace(to_replace='Toujours', value=4, inplace=True)\n",
    "df_clean['68 - [85] Q16.2 La qualité de la voix : c’est à dire la possibilité d’entendre clairement votre interlocuteur'].replace(to_replace='1.', value=1, inplace=True)\n",
    "df_clean['68 - [85] Q16.2 La qualité de la voix : c’est à dire la possibilité d’entendre clairement votre interlocuteur'].replace(to_replace='2.', value=2, inplace=True)\n",
    "df_clean['68 - [85] Q16.2 La qualité de la voix : c’est à dire la possibilité d’entendre clairement votre interlocuteur'].replace(to_replace='3.', value=3, inplace=True)\n",
    "df_clean['68 - [85] Q16.2 La qualité de la voix : c’est à dire la possibilité d’entendre clairement votre interlocuteur'].replace(to_replace='4.', value=4, inplace=True)\n",
    "\n",
    "df_clean['68 - [85] Q16.2 La qualité de la voix : c’est à dire la possibilité d’entendre clairement votre interlocuteur'] = df_clean['68 - [85] Q16.2 La qualité de la voix : c’est à dire la possibilité d’entendre clairement votre interlocuteur'].astype(str).str[0:2]\n",
    "\n",
    "df_clean['68 - [85] Q16.2 La qualité de la voix : c’est à dire la possibilité d’entendre clairement votre interlocuteur'] = df_clean['68 - [85] Q16.2 La qualité de la voix : c’est à dire la possibilité d’entendre clairement votre interlocuteur'].astype(int)\n",
    "\n",
    "df_clean['68 - [85] Q16.2 La qualité de la voix : c’est à dire la possibilité d’entendre clairement votre interlocuteur']\n",
    "\n",
    "df_clean['69 - [86] Q16.3 La qualité de la communication : par exemple pouvoir appeler sans coupure de communication inexpliquée'].replace(to_replace='Jamais', value=1, inplace=True)\n",
    "df_clean['69 - [86] Q16.3 La qualité de la communication : par exemple pouvoir appeler sans coupure de communication inexpliquée'].replace(to_replace='Rarement', value=2, inplace=True)\n",
    "df_clean['69 - [86] Q16.3 La qualité de la communication : par exemple pouvoir appeler sans coupure de communication inexpliquée'].replace(to_replace='Souvent', value=3, inplace=True)\n",
    "df_clean['69 - [86] Q16.3 La qualité de la communication : par exemple pouvoir appeler sans coupure de communication inexpliquée'].replace(to_replace='Toujours', value=4, inplace=True)\n",
    "df_clean['69 - [86] Q16.3 La qualité de la communication : par exemple pouvoir appeler sans coupure de communication inexpliquée'].replace(to_replace='1.', value=1, inplace=True)\n",
    "df_clean['69 - [86] Q16.3 La qualité de la communication : par exemple pouvoir appeler sans coupure de communication inexpliquée'].replace(to_replace='2.', value=2, inplace=True)\n",
    "df_clean['69 - [86] Q16.3 La qualité de la communication : par exemple pouvoir appeler sans coupure de communication inexpliquée'].replace(to_replace='3.', value=3, inplace=True)\n",
    "df_clean['69 - [86] Q16.3 La qualité de la communication : par exemple pouvoir appeler sans coupure de communication inexpliquée'].replace(to_replace='4.', value=4, inplace=True)\n",
    "\n",
    "df_clean['69 - [86] Q16.3 La qualité de la communication : par exemple pouvoir appeler sans coupure de communication inexpliquée'] = df_clean['69 - [86] Q16.3 La qualité de la communication : par exemple pouvoir appeler sans coupure de communication inexpliquée'].astype(str).str[0:2]\n",
    "\n",
    "df_clean['69 - [86] Q16.3 La qualité de la communication : par exemple pouvoir appeler sans coupure de communication inexpliquée'] = df_clean['69 - [86] Q16.3 La qualité de la communication : par exemple pouvoir appeler sans coupure de communication inexpliquée'].astype(int)\n",
    "\n",
    "df_clean['69 - [86] Q16.3 La qualité de la communication : par exemple pouvoir appeler sans coupure de communication inexpliquée']\n",
    "\n",
    "df_clean['70 - [88] Q16.4 La qualité de la voix et de la communication à l’intérieur des bâtiments'].replace(to_replace='Jamais', value=1, inplace=True)\n",
    "df_clean['70 - [88] Q16.4 La qualité de la voix et de la communication à l’intérieur des bâtiments'].replace(to_replace='Rarement', value=2, inplace=True)\n",
    "df_clean['70 - [88] Q16.4 La qualité de la voix et de la communication à l’intérieur des bâtiments'].replace(to_replace='Souvent', value=3, inplace=True)\n",
    "df_clean['70 - [88] Q16.4 La qualité de la voix et de la communication à l’intérieur des bâtiments'].replace(to_replace='Toujours', value=4, inplace=True)\n",
    "df_clean['70 - [88] Q16.4 La qualité de la voix et de la communication à l’intérieur des bâtiments'].replace(to_replace='1.', value=1, inplace=True)\n",
    "df_clean['70 - [88] Q16.4 La qualité de la voix et de la communication à l’intérieur des bâtiments'].replace(to_replace='2.', value=2, inplace=True)\n",
    "df_clean['70 - [88] Q16.4 La qualité de la voix et de la communication à l’intérieur des bâtiments'].replace(to_replace='3.', value=3, inplace=True)\n",
    "df_clean['70 - [88] Q16.4 La qualité de la voix et de la communication à l’intérieur des bâtiments'].replace(to_replace='4.', value=4, inplace=True)\n",
    "\n",
    "df_clean['70 - [88] Q16.4 La qualité de la voix et de la communication à l’intérieur des bâtiments'] = df_clean['70 - [88] Q16.4 La qualité de la voix et de la communication à l’intérieur des bâtiments'].astype(str).str[0:2]\n",
    "\n",
    "df_clean['70 - [88] Q16.4 La qualité de la voix et de la communication à l’intérieur des bâtiments'] = df_clean['70 - [88] Q16.4 La qualité de la voix et de la communication à l’intérieur des bâtiments'].astype(int)\n",
    "\n",
    "df_clean['70 - [88] Q16.4 La qualité de la voix et de la communication à l’intérieur des bâtiments']\n",
    "\n",
    "df_clean['71 - [89] Q16.5 La qualité de la voix et de la communication à l’extérieur des bâtiments'].replace(to_replace='Jamais', value=1, inplace=True)\n",
    "df_clean['71 - [89] Q16.5 La qualité de la voix et de la communication à l’extérieur des bâtiments'].replace(to_replace='Rarement', value=2, inplace=True)\n",
    "df_clean['71 - [89] Q16.5 La qualité de la voix et de la communication à l’extérieur des bâtiments'].replace(to_replace='Souvent', value=3, inplace=True)\n",
    "df_clean['71 - [89] Q16.5 La qualité de la voix et de la communication à l’extérieur des bâtiments'].replace(to_replace='Toujours', value=4, inplace=True)\n",
    "df_clean['71 - [89] Q16.5 La qualité de la voix et de la communication à l’extérieur des bâtiments'].replace(to_replace='1.', value=1, inplace=True)\n",
    "df_clean['71 - [89] Q16.5 La qualité de la voix et de la communication à l’extérieur des bâtiments'].replace(to_replace='2.', value=2, inplace=True)\n",
    "df_clean['71 - [89] Q16.5 La qualité de la voix et de la communication à l’extérieur des bâtiments'].replace(to_replace='3.', value=3, inplace=True)\n",
    "df_clean['71 - [89] Q16.5 La qualité de la voix et de la communication à l’extérieur des bâtiments'].replace(to_replace='4.', value=4, inplace=True)\n",
    "\n",
    "df_clean['71 - [89] Q16.5 La qualité de la voix et de la communication à l’extérieur des bâtiments'] = df_clean['71 - [89] Q16.5 La qualité de la voix et de la communication à l’extérieur des bâtiments'].astype(str).str[:2]\n",
    "\n",
    "df_clean['71 - [89] Q16.5 La qualité de la voix et de la communication à l’extérieur des bâtiments'] = df_clean['71 - [89] Q16.5 La qualité de la voix et de la communication à l’extérieur des bâtiments'].astype(int)\n",
    "\n",
    "df_clean['71 - [89] Q16.5 La qualité de la voix et de la communication à l’extérieur des bâtiments']\n",
    "\n",
    "This column has 2 possible values: Oui or Non\n",
    "\n",
    "We will replace these values with numerical ones : Oui to 1 and Non to 0.\n",
    "\n",
    "Some values are mistyped, we will identify them and replace them with 0, as a Non.\n",
    "\n",
    "Then we will cast it to int\n",
    "\n",
    "df_clean['72 - [83] Q16A. Avez-vous subit une panne de réseau de [V15] (coupure, non accessibilité, interruption momentanée) au cours des 6 derniers mois ?'].replace(to_replace='Jamais', value=1, inplace=True)\n",
    "df_clean['72 - [83] Q16A. Avez-vous subit une panne de réseau de [V15] (coupure, non accessibilité, interruption momentanée) au cours des 6 derniers mois ?'].replace(to_replace='Rarement', value=1, inplace=True)\n",
    "df_clean['72 - [83] Q16A. Avez-vous subit une panne de réseau de [V15] (coupure, non accessibilité, interruption momentanée) au cours des 6 derniers mois ?'].replace(to_replace='Souvent', value=1, inplace=True)\n",
    "df_clean['72 - [83] Q16A. Avez-vous subit une panne de réseau de [V15] (coupure, non accessibilité, interruption momentanée) au cours des 6 derniers mois ?'].replace(to_replace='Toujours', value=1, inplace=True)\n",
    "df_clean['72 - [83] Q16A. Avez-vous subit une panne de réseau de [V15] (coupure, non accessibilité, interruption momentanée) au cours des 6 derniers mois ?'].replace(to_replace='1.', value=1, inplace=True)\n",
    "df_clean['72 - [83] Q16A. Avez-vous subit une panne de réseau de [V15] (coupure, non accessibilité, interruption momentanée) au cours des 6 derniers mois ?'].replace(to_replace='2.', value=1, inplace=True)\n",
    "df_clean['72 - [83] Q16A. Avez-vous subit une panne de réseau de [V15] (coupure, non accessibilité, interruption momentanée) au cours des 6 derniers mois ?'].replace(to_replace='3.', value=1, inplace=True)\n",
    "df_clean['72 - [83] Q16A. Avez-vous subit une panne de réseau de [V15] (coupure, non accessibilité, interruption momentanée) au cours des 6 derniers mois ?'].replace(to_replace='4.', value=1, inplace=True)\n",
    "\n",
    "df_clean['72 - [83] Q16A. Avez-vous subit une panne de réseau de [V15] (coupure, non accessibilité, interruption momentanée) au cours des 6 derniers mois ?'].replace(to_replace='Oui', value=1, inplace=True)\n",
    "df_clean['72 - [83] Q16A. Avez-vous subit une panne de réseau de [V15] (coupure, non accessibilité, interruption momentanée) au cours des 6 derniers mois ?'].replace(to_replace='Non',  value=0, inplace=True)\n",
    "\n",
    "df_clean['72 - [83] Q16A. Avez-vous subit une panne de réseau de [V15] (coupure, non accessibilité, interruption momentanée) au cours des 6 derniers mois ?'] = df_clean['72 - [83] Q16A. Avez-vous subit une panne de réseau de [V15] (coupure, non accessibilité, interruption momentanée) au cours des 6 derniers mois ?'].astype(str).str[0:2]\n",
    "\n",
    "df_clean['72 - [83] Q16A. Avez-vous subit une panne de réseau de [V15] (coupure, non accessibilité, interruption momentanée) au cours des 6 derniers mois ?'].astype(int)\n",
    "\n",
    "df_clean['72 - [83] Q16A. Avez-vous subit une panne de réseau de [V15] (coupure, non accessibilité, interruption momentanée) au cours des 6 derniers mois ?']\n",
    "\n",
    "This column has 11 possible values: from 1 to 11\n",
    "\n",
    "1 being the worst mark, 10 the best and 11 for no answer.\n",
    "\n",
    "We only need the first two digits so we'll remove the rest.\n",
    "\n",
    "Some values are mistyped, we will identify them and replace them with the correct values\n",
    "\n",
    "Then we will cast it to int\n",
    "\n",
    "df_clean['73 - [90] Q16B. Comment évaluez-vous l’accompagnement de [V15] pendant ces périodes de panne de réseau ? '].replace(to_replace='Jamais', value=1, inplace=True)\n",
    "df_clean['73 - [90] Q16B. Comment évaluez-vous l’accompagnement de [V15] pendant ces périodes de panne de réseau ? '].replace(to_replace='Rarement', value=2, inplace=True)\n",
    "df_clean['73 - [90] Q16B. Comment évaluez-vous l’accompagnement de [V15] pendant ces périodes de panne de réseau ? '].replace(to_replace='Souvent', value=3, inplace=True)\n",
    "df_clean['73 - [90] Q16B. Comment évaluez-vous l’accompagnement de [V15] pendant ces périodes de panne de réseau ? '].replace(to_replace='Toujours', value=4, inplace=True)\n",
    "df_clean['73 - [90] Q16B. Comment évaluez-vous l’accompagnement de [V15] pendant ces périodes de panne de réseau ? '].replace(to_replace='1.', value=1, inplace=True)\n",
    "df_clean['73 - [90] Q16B. Comment évaluez-vous l’accompagnement de [V15] pendant ces périodes de panne de réseau ? '].replace(to_replace='2.', value=2, inplace=True)\n",
    "df_clean['73 - [90] Q16B. Comment évaluez-vous l’accompagnement de [V15] pendant ces périodes de panne de réseau ? '].replace(to_replace='3.', value=3, inplace=True)\n",
    "df_clean['73 - [90] Q16B. Comment évaluez-vous l’accompagnement de [V15] pendant ces périodes de panne de réseau ? '].replace(to_replace='4.', value=4, inplace=True)\n",
    "\n",
    "df_clean['73 - [90] Q16B. Comment évaluez-vous l’accompagnement de [V15] pendant ces périodes de panne de réseau ? '] = df_clean['73 - [90] Q16B. Comment évaluez-vous l’accompagnement de [V15] pendant ces périodes de panne de réseau ? '].astype(str).str[:2]\n",
    "\n",
    "df_clean['73 - [90] Q16B. Comment évaluez-vous l’accompagnement de [V15] pendant ces périodes de panne de réseau ? '] = df_clean['73 - [90] Q16B. Comment évaluez-vous l’accompagnement de [V15] pendant ces périodes de panne de réseau ? '].astype(int)\n",
    "\n",
    "df_clean['73 - [90] Q16B. Comment évaluez-vous l’accompagnement de [V15] pendant ces périodes de panne de réseau ? ']\n",
    "\n",
    "These columns have 2 possible values: Oui or Non\n",
    "\n",
    "We will replace these values with numerical ones : Oui to 1 and Non to 0.\n",
    "\n",
    "Some values are mistyped, we will identify them and replace them with 0, as a Non.\n",
    "\n",
    "Then we will cast them to int\n",
    "\n",
    "df_clean['74 - [93] Transfert de crédit'].replace(to_replace='Jamais', value=1, inplace=True)\n",
    "df_clean['74 - [93] Transfert de crédit'].replace(to_replace='Rarement', value=1, inplace=True)\n",
    "df_clean['74 - [93] Transfert de crédit'].replace(to_replace='Souvent', value=1, inplace=True)\n",
    "df_clean['74 - [93] Transfert de crédit'].replace(to_replace='Toujours', value=1, inplace=True)\n",
    "df_clean['74 - [93] Transfert de crédit'].replace(to_replace='1.', value=1, inplace=True)\n",
    "df_clean['74 - [93] Transfert de crédit'].replace(to_replace='2.', value=1, inplace=True)\n",
    "df_clean['74 - [93] Transfert de crédit'].replace(to_replace='3.', value=1, inplace=True)\n",
    "df_clean['74 - [93] Transfert de crédit'].replace(to_replace='4.', value=1, inplace=True)\n",
    "\n",
    "df_clean['74 - [93] Transfert de crédit'].replace(to_replace='Oui', value=1, inplace=True)\n",
    "df_clean['74 - [93] Transfert de crédit'].replace(to_replace='Non',  value=0, inplace=True)\n",
    "\n",
    "df_clean['74 - [93] Transfert de crédit'] = df_clean['74 - [93] Transfert de crédit'].astype(str).str[0:2]\n",
    "df_clean['74 - [93] Transfert de crédit'] = df_clean['74 - [93] Transfert de crédit'].astype(int)\n",
    "\n",
    "df_clean['74 - [93] Transfert de crédit']\n",
    "\n",
    "df_clean['75 - [94] Transfert Internet'].replace(to_replace='Jamais', value=1, inplace=True)\n",
    "df_clean['75 - [94] Transfert Internet'].replace(to_replace='Rarement', value=1, inplace=True)\n",
    "df_clean['75 - [94] Transfert Internet'].replace(to_replace='Souvent', value=1, inplace=True)\n",
    "df_clean['75 - [94] Transfert Internet'].replace(to_replace='Toujours', value=1, inplace=True)\n",
    "df_clean['75 - [94] Transfert Internet'].replace(to_replace='1.', value=1, inplace=True)\n",
    "df_clean['75 - [94] Transfert Internet'].replace(to_replace='2.', value=1, inplace=True)\n",
    "df_clean['75 - [94] Transfert Internet'].replace(to_replace='3.', value=1, inplace=True)\n",
    "df_clean['75 - [94] Transfert Internet'].replace(to_replace='4.', value=1, inplace=True)\n",
    "\n",
    "df_clean['75 - [94] Transfert Internet'].replace(to_replace='Oui', value=1, inplace=True)\n",
    "df_clean['75 - [94] Transfert Internet'].replace(to_replace='Non',  value=0, inplace=True)\n",
    "\n",
    "df_clean['75 - [94] Transfert Internet'] = df_clean['75 - [94] Transfert Internet'].astype(str).str[0:2]\n",
    "df_clean['75 - [94] Transfert Internet'] = df_clean['75 - [94] Transfert Internet'].astype(int)\n",
    "\n",
    "df_clean['75 - [94] Transfert Internet']\n",
    "\n",
    "df_clean['76 - [95] SOS crédit / Minute SOS/ SOS Solde'].replace(to_replace='Jamais', value=1, inplace=True)\n",
    "df_clean['76 - [95] SOS crédit / Minute SOS/ SOS Solde'].replace(to_replace='Rarement', value=1, inplace=True)\n",
    "df_clean['76 - [95] SOS crédit / Minute SOS/ SOS Solde'].replace(to_replace='Souvent', value=1, inplace=True)\n",
    "df_clean['76 - [95] SOS crédit / Minute SOS/ SOS Solde'].replace(to_replace='Toujours', value=1, inplace=True)\n",
    "df_clean['76 - [95] SOS crédit / Minute SOS/ SOS Solde'].replace(to_replace='1.', value=1, inplace=True)\n",
    "df_clean['76 - [95] SOS crédit / Minute SOS/ SOS Solde'].replace(to_replace='2.', value=1, inplace=True)\n",
    "df_clean['76 - [95] SOS crédit / Minute SOS/ SOS Solde'].replace(to_replace='3.', value=1, inplace=True)\n",
    "df_clean['76 - [95] SOS crédit / Minute SOS/ SOS Solde'].replace(to_replace='4.', value=1, inplace=True)\n",
    "\n",
    "df_clean['76 - [95] SOS crédit / Minute SOS/ SOS Solde'].replace(to_replace='Oui', value=1, inplace=True)\n",
    "df_clean['76 - [95] SOS crédit / Minute SOS/ SOS Solde'].replace(to_replace='Non',  value=0, inplace=True)\n",
    "\n",
    "df_clean['76 - [95] SOS crédit / Minute SOS/ SOS Solde'] = df_clean['76 - [95] SOS crédit / Minute SOS/ SOS Solde'].astype(str).str[0:2]\n",
    "df_clean['76 - [95] SOS crédit / Minute SOS/ SOS Solde'] = df_clean['76 - [95] SOS crédit / Minute SOS/ SOS Solde'].astype(int)\n",
    "\n",
    "df_clean['76 - [95] SOS crédit / Minute SOS/ SOS Solde']\n",
    "\n",
    "df_clean['77 - [96] Orange fidélité/ Points Merci/ Kelma'].replace(to_replace='Jamais', value=1, inplace=True)\n",
    "df_clean['77 - [96] Orange fidélité/ Points Merci/ Kelma'].replace(to_replace='Rarement', value=1, inplace=True)\n",
    "df_clean['77 - [96] Orange fidélité/ Points Merci/ Kelma'].replace(to_replace='Souvent', value=1, inplace=True)\n",
    "df_clean['77 - [96] Orange fidélité/ Points Merci/ Kelma'].replace(to_replace='Toujours', value=1, inplace=True)\n",
    "df_clean['77 - [96] Orange fidélité/ Points Merci/ Kelma'].replace(to_replace='1.', value=1, inplace=True)\n",
    "df_clean['77 - [96] Orange fidélité/ Points Merci/ Kelma'].replace(to_replace='2.', value=1, inplace=True)\n",
    "df_clean['77 - [96] Orange fidélité/ Points Merci/ Kelma'].replace(to_replace='3.', value=1, inplace=True)\n",
    "df_clean['77 - [96] Orange fidélité/ Points Merci/ Kelma'].replace(to_replace='4.', value=1, inplace=True)\n",
    "\n",
    "df_clean['77 - [96] Orange fidélité/ Points Merci/ Kelma'].replace(to_replace='Oui', value=1, inplace=True)\n",
    "df_clean['77 - [96] Orange fidélité/ Points Merci/ Kelma'].replace(to_replace='Non',  value=0, inplace=True)\n",
    "\n",
    "df_clean['77 - [96] Orange fidélité/ Points Merci/ Kelma'] = df_clean['77 - [96] Orange fidélité/ Points Merci/ Kelma'].astype(str).str[0:2]\n",
    "df_clean['77 - [96] Orange fidélité/ Points Merci/ Kelma'] = df_clean['77 - [96] Orange fidélité/ Points Merci/ Kelma'].astype(int)\n",
    "\n",
    "df_clean['77 - [96] Orange fidélité/ Points Merci/ Kelma']\n",
    "\n",
    "df_clean['78 - [97] Messagerie vocale'].replace(to_replace='Jamais', value=1, inplace=True)\n",
    "df_clean['78 - [97] Messagerie vocale'].replace(to_replace='Rarement', value=1, inplace=True)\n",
    "df_clean['78 - [97] Messagerie vocale'].replace(to_replace='Souvent', value=1, inplace=True)\n",
    "df_clean['78 - [97] Messagerie vocale'].replace(to_replace='Toujours', value=1, inplace=True)\n",
    "df_clean['78 - [97] Messagerie vocale'].replace(to_replace='1.', value=1, inplace=True)\n",
    "df_clean['78 - [97] Messagerie vocale'].replace(to_replace='2.', value=1, inplace=True)\n",
    "df_clean['78 - [97] Messagerie vocale'].replace(to_replace='3.', value=1, inplace=True)\n",
    "df_clean['78 - [97] Messagerie vocale'].replace(to_replace='4.', value=1, inplace=True)\n",
    "\n",
    "df_clean['78 - [97] Messagerie vocale'].replace(to_replace='Oui', value=1, inplace=True)\n",
    "df_clean['78 - [97] Messagerie vocale'].replace(to_replace='Non',  value=0, inplace=True)\n",
    "\n",
    "df_clean['78 - [97] Messagerie vocale'] = df_clean['78 - [97] Messagerie vocale'].astype(str).str[0:2]\n",
    "df_clean['78 - [97] Messagerie vocale'] = df_clean['78 - [97] Messagerie vocale'].astype(int)\n",
    "\n",
    "df_clean['78 - [97] Messagerie vocale']\n",
    "\n",
    "df_clean['79 - [98] Appelez jusqu\\'à six/ Conf Call pro/ Appel en conférence'].replace(to_replace='Jamais', value=1, inplace=True)\n",
    "df_clean['79 - [98] Appelez jusqu\\'à six/ Conf Call pro/ Appel en conférence'].replace(to_replace='Rarement', value=1, inplace=True)\n",
    "df_clean['79 - [98] Appelez jusqu\\'à six/ Conf Call pro/ Appel en conférence'].replace(to_replace='Souvent', value=1, inplace=True)\n",
    "df_clean['79 - [98] Appelez jusqu\\'à six/ Conf Call pro/ Appel en conférence'].replace(to_replace='Toujours', value=1, inplace=True)\n",
    "df_clean['79 - [98] Appelez jusqu\\'à six/ Conf Call pro/ Appel en conférence'].replace(to_replace='1.', value=1, inplace=True)\n",
    "df_clean['79 - [98] Appelez jusqu\\'à six/ Conf Call pro/ Appel en conférence'].replace(to_replace='2.', value=1, inplace=True)\n",
    "df_clean['79 - [98] Appelez jusqu\\'à six/ Conf Call pro/ Appel en conférence'].replace(to_replace='3.', value=1, inplace=True)\n",
    "df_clean['79 - [98] Appelez jusqu\\'à six/ Conf Call pro/ Appel en conférence'].replace(to_replace='4.', value=1, inplace=True)\n",
    "\n",
    "df_clean['79 - [98] Appelez jusqu\\'à six/ Conf Call pro/ Appel en conférence'].replace(to_replace='Oui', value=1, inplace=True)\n",
    "df_clean['79 - [98] Appelez jusqu\\'à six/ Conf Call pro/ Appel en conférence'].replace(to_replace='Non',  value=0, inplace=True)\n",
    "\n",
    "df_clean['79 - [98] Appelez jusqu\\'à six/ Conf Call pro/ Appel en conférence'] = df_clean['79 - [98] Appelez jusqu\\'à six/ Conf Call pro/ Appel en conférence'].astype(str).str[0:2]\n",
    "df_clean['79 - [98] Appelez jusqu\\'à six/ Conf Call pro/ Appel en conférence'] = df_clean['79 - [98] Appelez jusqu\\'à six/ Conf Call pro/ Appel en conférence'].astype(int)\n",
    "\n",
    "df_clean['79 - [98] Appelez jusqu\\'à six/ Conf Call pro/ Appel en conférence']\n",
    "\n",
    "These columns have 11 possible values: from 1 to 11\n",
    "\n",
    "1 being the worst mark, 10 the best and 11 for no answer.\n",
    "\n",
    "We only need the first two digits so we'll remove the rest.\n",
    "\n",
    "Some values are mistyped, we will identify them and replace them with the correct values\n",
    "\n",
    "Then we will cast them to int\n",
    "\n",
    "df_clean['80 - [101] Transfert de crédit'].replace(to_replace='Jamais', value=1, inplace=True)\n",
    "df_clean['80 - [101] Transfert de crédit'].replace(to_replace='Rarement', value=2, inplace=True)\n",
    "df_clean['80 - [101] Transfert de crédit'].replace(to_replace='Souvent', value=3, inplace=True)\n",
    "df_clean['80 - [101] Transfert de crédit'].replace(to_replace='Toujours', value=4, inplace=True)\n",
    "df_clean['80 - [101] Transfert de crédit'].replace(to_replace='1.', value=1, inplace=True)\n",
    "df_clean['80 - [101] Transfert de crédit'].replace(to_replace='2.', value=2, inplace=True)\n",
    "df_clean['80 - [101] Transfert de crédit'].replace(to_replace='3.', value=3, inplace=True)\n",
    "df_clean['80 - [101] Transfert de crédit'].replace(to_replace='4.', value=4, inplace=True)\n",
    "df_clean['80 - [101] Transfert de crédit'].replace(to_replace='Oui', value=11, inplace=True)\n",
    "df_clean['80 - [101] Transfert de crédit'].replace(to_replace='Non', value=11, inplace=True)\n",
    "\n",
    "df_clean['80 - [101] Transfert de crédit'] = df_clean['80 - [101] Transfert de crédit'].astype(str).str[:2]\n",
    "\n",
    "df_clean['80 - [101] Transfert de crédit'] = df_clean['80 - [101] Transfert de crédit'].astype(int)\n",
    "\n",
    "df_clean['80 - [101] Transfert de crédit']\n",
    "\n",
    "df_clean['81 - [102] Transfert Internet'].replace(to_replace='Jamais', value=1, inplace=True)\n",
    "df_clean['81 - [102] Transfert Internet'].replace(to_replace='Rarement', value=2, inplace=True)\n",
    "df_clean['81 - [102] Transfert Internet'].replace(to_replace='Souvent', value=3, inplace=True)\n",
    "df_clean['81 - [102] Transfert Internet'].replace(to_replace='Toujours', value=4, inplace=True)\n",
    "df_clean['81 - [102] Transfert Internet'].replace(to_replace='1.', value=1, inplace=True)\n",
    "df_clean['81 - [102] Transfert Internet'].replace(to_replace='2.', value=2, inplace=True)\n",
    "df_clean['81 - [102] Transfert Internet'].replace(to_replace='3.', value=3, inplace=True)\n",
    "df_clean['81 - [102] Transfert Internet'].replace(to_replace='4.', value=4, inplace=True)\n",
    "df_clean['81 - [102] Transfert Internet'].replace(to_replace='Oui', value=11, inplace=True)\n",
    "df_clean['81 - [102] Transfert Internet'].replace(to_replace='Non', value=11, inplace=True)\n",
    "\n",
    "df_clean['81 - [102] Transfert Internet'] = df_clean['81 - [102] Transfert Internet'].astype(str).str[:2]\n",
    "\n",
    "df_clean['781 - [102] Transfert Internet'] = df_clean['81 - [102] Transfert Internet'].astype(int)\n",
    "\n",
    "df_clean['81 - [102] Transfert Internet']\n",
    "\n",
    "df_clean['82 - [103] SOS crédit / Minute SOS/ SOS Solde'].replace(to_replace='Jamais', value=1, inplace=True)\n",
    "df_clean['82 - [103] SOS crédit / Minute SOS/ SOS Solde'].replace(to_replace='Rarement', value=2, inplace=True)\n",
    "df_clean['82 - [103] SOS crédit / Minute SOS/ SOS Solde'].replace(to_replace='Souvent', value=3, inplace=True)\n",
    "df_clean['82 - [103] SOS crédit / Minute SOS/ SOS Solde'].replace(to_replace='Toujours', value=4, inplace=True)\n",
    "df_clean['82 - [103] SOS crédit / Minute SOS/ SOS Solde'].replace(to_replace='1.', value=1, inplace=True)\n",
    "df_clean['82 - [103] SOS crédit / Minute SOS/ SOS Solde'].replace(to_replace='2.', value=2, inplace=True)\n",
    "df_clean['82 - [103] SOS crédit / Minute SOS/ SOS Solde'].replace(to_replace='3.', value=3, inplace=True)\n",
    "df_clean['82 - [103] SOS crédit / Minute SOS/ SOS Solde'].replace(to_replace='4.', value=4, inplace=True)\n",
    "df_clean['82 - [103] SOS crédit / Minute SOS/ SOS Solde'].replace(to_replace='Oui', value=11, inplace=True)\n",
    "df_clean['82 - [103] SOS crédit / Minute SOS/ SOS Solde'].replace(to_replace='Non', value=11, inplace=True)\n",
    "\n",
    "df_clean['82 - [103] SOS crédit / Minute SOS/ SOS Solde'] = df_clean['82 - [103] SOS crédit / Minute SOS/ SOS Solde'].astype(str).str[:2]\n",
    "\n",
    "df_clean['82 - [103] SOS crédit / Minute SOS/ SOS Solde'] = df_clean['82 - [103] SOS crédit / Minute SOS/ SOS Solde'].astype(int)\n",
    "\n",
    "df_clean['82 - [103] SOS crédit / Minute SOS/ SOS Solde']\n",
    "\n",
    "df_clean['83 - [104] Orange fidélité/ Points Merci/ Kelma'].replace(to_replace='Jamais', value=1, inplace=True)\n",
    "df_clean['83 - [104] Orange fidélité/ Points Merci/ Kelma'].replace(to_replace='Rarement', value=2, inplace=True)\n",
    "df_clean['83 - [104] Orange fidélité/ Points Merci/ Kelma'].replace(to_replace='Souvent', value=3, inplace=True)\n",
    "df_clean['83 - [104] Orange fidélité/ Points Merci/ Kelma'].replace(to_replace='Toujours', value=4, inplace=True)\n",
    "df_clean['83 - [104] Orange fidélité/ Points Merci/ Kelma'].replace(to_replace='1.', value=1, inplace=True)\n",
    "df_clean['83 - [104] Orange fidélité/ Points Merci/ Kelma'].replace(to_replace='2.', value=2, inplace=True)\n",
    "df_clean['83 - [104] Orange fidélité/ Points Merci/ Kelma'].replace(to_replace='3.', value=3, inplace=True)\n",
    "df_clean['83 - [104] Orange fidélité/ Points Merci/ Kelma'].replace(to_replace='4.', value=4, inplace=True)\n",
    "df_clean['83 - [104] Orange fidélité/ Points Merci/ Kelma'].replace(to_replace='Oui', value=11, inplace=True)\n",
    "df_clean['83 - [104] Orange fidélité/ Points Merci/ Kelma'].replace(to_replace='Non', value=11, inplace=True)\n",
    "\n",
    "df_clean['83 - [104] Orange fidélité/ Points Merci/ Kelma'] = df_clean['83 - [104] Orange fidélité/ Points Merci/ Kelma'].astype(str).str[:2]\n",
    "\n",
    "df_clean['83 - [104] Orange fidélité/ Points Merci/ Kelma'] = df_clean['83 - [104] Orange fidélité/ Points Merci/ Kelma'].astype(int)\n",
    "\n",
    "df_clean['83 - [104] Orange fidélité/ Points Merci/ Kelma']\n",
    "\n",
    "df_clean['84 - [105] Messagerie vocale'].replace(to_replace='Jamais', value=1, inplace=True)\n",
    "df_clean['84 - [105] Messagerie vocale'].replace(to_replace='Rarement', value=2, inplace=True)\n",
    "df_clean['84 - [105] Messagerie vocale'].replace(to_replace='Souvent', value=3, inplace=True)\n",
    "df_clean['84 - [105] Messagerie vocale'].replace(to_replace='Toujours', value=4, inplace=True)\n",
    "df_clean['84 - [105] Messagerie vocale'].replace(to_replace='1.', value=1, inplace=True)\n",
    "df_clean['84 - [105] Messagerie vocale'].replace(to_replace='2.', value=2, inplace=True)\n",
    "df_clean['84 - [105] Messagerie vocale'].replace(to_replace='3.', value=3, inplace=True)\n",
    "df_clean['84 - [105] Messagerie vocale'].replace(to_replace='4.', value=4, inplace=True)\n",
    "df_clean['84 - [105] Messagerie vocale'].replace(to_replace='Oui', value=11, inplace=True)\n",
    "df_clean['84 - [105] Messagerie vocale'].replace(to_replace='Non', value=11, inplace=True)\n",
    "\n",
    "df_clean['84 - [105] Messagerie vocale'] = df_clean['84 - [105] Messagerie vocale'].astype(str).str[:2]\n",
    "\n",
    "df_clean['84 - [105] Messagerie vocale'] = df_clean['84 - [105] Messagerie vocale'].astype(int)\n",
    "\n",
    "df_clean['84 - [105] Messagerie vocale']\n",
    "\n",
    "df_clean['85 - [106] Appelez jusqu\\'à six/ Conf Call pro/ Appel en conférence'].replace(to_replace='Jamais', value=1, inplace=True)\n",
    "df_clean['85 - [106] Appelez jusqu\\'à six/ Conf Call pro/ Appel en conférence'].replace(to_replace='Rarement', value=2, inplace=True)\n",
    "df_clean['85 - [106] Appelez jusqu\\'à six/ Conf Call pro/ Appel en conférence'].replace(to_replace='Souvent', value=3, inplace=True)\n",
    "df_clean['85 - [106] Appelez jusqu\\'à six/ Conf Call pro/ Appel en conférence'].replace(to_replace='Toujours', value=4, inplace=True)\n",
    "df_clean['85 - [106] Appelez jusqu\\'à six/ Conf Call pro/ Appel en conférence'].replace(to_replace='1.', value=1, inplace=True)\n",
    "df_clean['85 - [106] Appelez jusqu\\'à six/ Conf Call pro/ Appel en conférence'].replace(to_replace='2.', value=2, inplace=True)\n",
    "df_clean['85 - [106] Appelez jusqu\\'à six/ Conf Call pro/ Appel en conférence'].replace(to_replace='3.', value=3, inplace=True)\n",
    "df_clean['85 - [106] Appelez jusqu\\'à six/ Conf Call pro/ Appel en conférence'].replace(to_replace='4.', value=4, inplace=True)\n",
    "df_clean['85 - [106] Appelez jusqu\\'à six/ Conf Call pro/ Appel en conférence'].replace(to_replace='Oui', value=11, inplace=True)\n",
    "df_clean['85 - [106] Appelez jusqu\\'à six/ Conf Call pro/ Appel en conférence'].replace(to_replace='Non', value=11, inplace=True)\n",
    "\n",
    "df_clean['85 - [106] Appelez jusqu\\'à six/ Conf Call pro/ Appel en conférence'] = df_clean['85 - [106] Appelez jusqu\\'à six/ Conf Call pro/ Appel en conférence'].astype(str).str[:2]\n",
    "\n",
    "df_clean['85 - [106] Appelez jusqu\\'à six/ Conf Call pro/ Appel en conférence'] = df_clean['85 - [106] Appelez jusqu\\'à six/ Conf Call pro/ Appel en conférence'].astype(int)\n",
    "\n",
    "df_clean['85 - [106] Appelez jusqu\\'à six/ Conf Call pro/ Appel en conférence']\n",
    "\n",
    "## Resultfor col in df_clean.select_dtypes('object'):\n",
    "      print(f'{col:-<80}{df_clean[col].unique()}')"
   ]
  }
 ],
 "metadata": {
  "celltoolbar": "Aucun(e)",
  "hide_input": false,
  "kernelspec": {
   "display_name": "Python 3",
   "language": "python",
   "name": "python3"
  },
  "language_info": {
   "codemirror_mode": {
    "name": "ipython",
    "version": 3
   },
   "file_extension": ".py",
   "mimetype": "text/x-python",
   "name": "python",
   "nbconvert_exporter": "python",
   "pygments_lexer": "ipython3",
   "version": "3.8.5"
  },
  "toc": {
   "base_numbering": 1,
   "nav_menu": {
    "height": "450px",
    "width": "312px"
   },
   "number_sections": true,
   "sideBar": true,
   "skip_h1_title": false,
   "title_cell": "Table of Contents",
   "title_sidebar": "Contents",
   "toc_cell": false,
   "toc_position": {
    "height": "calc(100% - 180px)",
    "left": "10px",
    "top": "150px",
    "width": "236.188px"
   },
   "toc_section_display": true,
   "toc_window_display": false
  },
  "varInspector": {
   "cols": {
    "lenName": 16,
    "lenType": 16,
    "lenVar": 40
   },
   "kernels_config": {
    "python": {
     "delete_cmd_postfix": "",
     "delete_cmd_prefix": "del ",
     "library": "var_list.py",
     "varRefreshCmd": "print(var_dic_list())"
    },
    "r": {
     "delete_cmd_postfix": ") ",
     "delete_cmd_prefix": "rm(",
     "library": "var_list.r",
     "varRefreshCmd": "cat(var_dic_list()) "
    }
   },
   "position": {
    "height": "346px",
    "left": "891px",
    "right": "20px",
    "top": "96px",
    "width": "383px"
   },
   "types_to_exclude": [
    "module",
    "function",
    "builtin_function_or_method",
    "instance",
    "_Feature"
   ],
   "window_display": false
  }
 },
 "nbformat": 4,
 "nbformat_minor": 4
}
