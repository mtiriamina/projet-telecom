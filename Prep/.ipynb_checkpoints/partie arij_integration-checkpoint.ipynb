{
 "cells": [
  {
   "cell_type": "markdown",
   "metadata": {},
   "source": [
    "# Info_Facility_Understand_ajuste"
   ]
  },
  {
   "cell_type": "code",
   "execution_count": null,
   "metadata": {},
   "outputs": [],
   "source": [
    "df_clean['Info_Facility_Understand_ajuste']=df_clean['Info_Facility_Understand_ajuste'].replace(\"Chez votre distributeur\", np.nan)\n",
    "df_clean['Info_Facility_Understand_ajuste']=df_clean['Info_Facility_Understand_ajuste'].replace(\"En appelant le Service Client\", np.nan)"
   ]
  },
  {
   "cell_type": "code",
   "execution_count": null,
   "metadata": {},
   "outputs": [],
   "source": [
    "df_clean[\"Info_Facility_Understand_ajuste\"].value_counts()"
   ]
  },
  {
   "cell_type": "code",
   "execution_count": null,
   "metadata": {},
   "outputs": [],
   "source": [
    "df_clean['Info_Facility_Understand_ajuste']=df_clean['Info_Facility_Understand_ajuste'].replace(\"Via la télévision/8.\", '4.Via la télévision')\n",
    "df_clean['Info_Facility_Understand_ajuste']=df_clean['Info_Facility_Understand_ajuste'].replace(\"Visite d’un commercial/2.\", '1.Visite d’un commercial')\n",
    "df_clean['Info_Facility_Understand_ajuste']=df_clean['Info_Facility_Understand_ajuste'].replace(\"Via la télévision/5.\", '4.Via la télévision')\n",
    "df_clean['Info_Facility_Understand_ajuste']=df_clean['Info_Facility_Understand_ajuste'].replace(\"Via la télévision/7.\", '4.Via la télévision')\n",
    "df_clean['Info_Facility_Understand_ajuste']=df_clean['Info_Facility_Understand_ajuste'].replace(\"Par SMS (message texte)/9.\", '8.Par SMS (message texte)')\n",
    "df_clean['Info_Facility_Understand_ajuste']=df_clean['Info_Facility_Understand_ajuste'].replace(\"Via la radio/5.\", '3.Via la radio')\n",
    "df_clean['Info_Facility_Understand_ajuste']=df_clean['Info_Facility_Understand_ajuste'].replace(\"Visite d’un commercial/4.\", '1.Visite d’un commercial')\n",
    "df_clean['Info_Facility_Understand_ajuste']=df_clean['Info_Facility_Understand_ajuste'].replace(\"Via affichage publicitaire/8.\", '2.Via affichage publicitaire')\n",
    "\n",
    "df_clean['Info_Facility_Understand_ajuste']=df_clean['Info_Facility_Understand_ajuste'].replace('nan',np.nan)\n",
    "\n",
    "df_clean['Info_Facility_Understand_ajuste']=df_clean['Info_Facility_Understand_ajuste'].replace(\"Par SMS (message texte)\", '8.Par SMS (message texte)')\n",
    "df_clean['Info_Facility_Understand_ajuste']=df_clean['Info_Facility_Understand_ajuste'].replace('Sur Facebook, Twitter, etc.', '9.Sur Facebook, Twitter, etc')\n",
    "df_clean['Info_Facility_Understand_ajuste']=df_clean['Info_Facility_Understand_ajuste'].replace('Par le service client','11.Par le service client')\n",
    "df_clean['Info_Facility_Understand_ajuste']=df_clean['Info_Facility_Understand_ajuste'].replace('Via la télévision','4.Via la télévision')\n",
    "\n"
   ]
  },
  {
   "cell_type": "code",
   "execution_count": null,
   "metadata": {},
   "outputs": [],
   "source": [
    "df_clean[\"Info_Facility_Understand_ajuste\"].value_counts()"
   ]
  },
  {
   "cell_type": "code",
   "execution_count": null,
   "metadata": {},
   "outputs": [],
   "source": [
    "#df_clean['Info_Facility_Understand_ajuste'] = df_clean['Info_Facility_Understand_ajuste'].astype(str)\n",
    "#################################################################################\n",
    "print(str(df_clean[\"Other_Opert_Information_Receipt\"].isna().sum())+\" missing values befor \")\n",
    "##############################################################################\n",
    "df_clean[\"Other_Opert_Information_Receipt\"]=np.where(df_clean[\"Info_Facility_Understand_ajuste\"].notna(),\n",
    "                                          df_clean['Other_Opert_Information_Receipt']+' '+df_clean['Info_Facility_Understand_ajuste']\n",
    "                                           ,df_clean[\"Other_Opert_Information_Receipt\"])\n",
    "##########################################################################################\n",
    "print(str(df_clean[\"Other_Opert_Information_Receipt\"].isna().sum())+\" missing values after \")"
   ]
  },
  {
   "cell_type": "code",
   "execution_count": null,
   "metadata": {},
   "outputs": [],
   "source": [
    "df_clean[\"Other_Opert_Information_Receipt\"].unique()"
   ]
  },
  {
   "cell_type": "markdown",
   "metadata": {},
   "source": [
    "Contract_Operation_numeric"
   ]
  },
  {
   "cell_type": "markdown",
   "metadata": {},
   "source": [
    "df_clean['Contract_Operation_numeric'] = df_clean['Contract_Operation_numeric'].astype(str)\n",
    "df_clean['Contract_Operation_numeric']=df_clean['Contract_Operation_numeric'].replace('nan',np.nan)"
   ]
  },
  {
   "cell_type": "code",
   "execution_count": null,
   "metadata": {},
   "outputs": [],
   "source": [
    "\n",
    "#########################################################################\n",
    "df_clean['Contract_Operation_numeric']=df_clean['Contract_Operation_numeric'].replace(\"1\", '1.Visite d’un commercial')\n",
    "df_clean['Contract_Operation_numeric']=df_clean['Contract_Operation_numeric'].replace(\"2\", '2.Via affichage publicitair')\n",
    "df_clean['Contract_Operation_numeric']=df_clean['Contract_Operation_numeric'].replace(\"3\", '3.Via la radio')\n",
    "df_clean['Contract_Operation_numeric']=df_clean['Contract_Operation_numeric'].replace(\"4\", '4.Via la télévision')\n",
    "df_clean['Contract_Operation_numeric']=df_clean['Contract_Operation_numeric'].replace(\"5\", '5.Dans la presse')\n",
    "df_clean['Contract_Operation_numeric']=df_clean['Contract_Operation_numeric'].replace(\"6\", '6.Dans un prospectus')\n",
    "df_clean['Contract_Operation_numeric']=df_clean['Contract_Operation_numeric'].replace(\"7\", '7.Dans un mailing, par courrier')\n",
    "df_clean['Contract_Operation_numeric']=df_clean['Contract_Operation_numeric'].replace(\"8\", '8.Par SMS (message texte)')\n",
    "df_clean['Contract_Operation_numeric']=df_clean['Contract_Operation_numeric'].replace(\"9\", '9.Sur Facebook, Twitter, etc')\n",
    "#######################################################################\n",
    "df_clean[\"Other_Opert_Information_Receipt\"]=np.where(df_clean[\"Contract_Operation_numeric\"].notna(),\n",
    "                                          df_clean['Other_Opert_Information_Receipt']+' '+df_clean['Contract_Operation_numeric']\n",
    "                                           ,df_clean[\"Other_Opert_Information_Receipt\"])"
   ]
  },
  {
   "cell_type": "code",
   "execution_count": null,
   "metadata": {},
   "outputs": [],
   "source": [
    "df_clean[\"Other_Opert_Information_Receipt\"].unique()"
   ]
  },
  {
   "cell_type": "markdown",
   "metadata": {},
   "source": [
    "Way_For_Operation_numeric"
   ]
  },
  {
   "cell_type": "code",
   "execution_count": null,
   "metadata": {},
   "outputs": [],
   "source": [
    "df_clean[\"Way_For_Operation_numeric\"].unique() # arij"
   ]
  },
  {
   "cell_type": "code",
   "execution_count": null,
   "metadata": {},
   "outputs": [],
   "source": [
    " df_clean['Way_For_Operation_numeric'] = df_clean['Way_For_Operation_numeric'].astype(str)\n",
    "df_clean['Way_For_Operation_numeric']=df_clean['Way_For_Operation_numeric'].replace('nan',np.nan)\n",
    "#################################################################################\n",
    "df_clean['Way_For_Operation_numeric']=df_clean['Way_For_Operation_numeric'].replace(\"1\", '1.Visite d’un commercial')\n",
    "df_clean['Way_For_Operation_numeric']=df_clean['Way_For_Operation_numeric'].replace(\"2\", '2.Via affichage publicitair')\n",
    "df_clean['Way_For_Operation_numeric']=df_clean['Way_For_Operation_numeric'].replace(\"3\", '3.Via la radio')\n",
    "df_clean['Way_For_Operation_numeric']=df_clean['Way_For_Operation_numeric'].replace(\"4\", '4.Via la télévision')\n",
    "df_clean['Way_For_Operation_numeric']=df_clean['Way_For_Operation_numeric'].replace(\"5\", '5.Dans la presse')\n",
    "df_clean['Way_For_Operation_numeric']=df_clean['Way_For_Operation_numeric'].replace(\"6\", '6.Dans un prospectus')\n",
    "df_clean['Way_For_Operation_numeric']=df_clean['Way_For_Operation_numeric'].replace(\"7\", '7.Dans un mailing, par courrier')\n",
    "df_clean['Way_For_Operation_numeric']=df_clean['Way_For_Operation_numeric'].replace(\"8\", '8.Par SMS (message texte)')\n",
    "df_clean['Way_For_Operation_numeric']=df_clean['Way_For_Operation_numeric'].replace(\"9\", '9.Sur Facebook, Twitter, etc')\n",
    "####################################################################################\n",
    "print(str(df_clean[\"Other_Opert_Information_Receipt\"].isna().sum())+\" missing values befor \")\n",
    "##########################################################################################\n",
    "df_clean[\"Other_Opert_Information_Receipt\"]=np.where(df_clean[\"Way_For_Operation_numeric\"].notna(),\n",
    "                                          df_clean['Other_Opert_Information_Receipt']+'**'+df_clean['Way_For_Operation_numeric']\n",
    "                                           ,df_clean[\"Other_Opert_Information_Receipt\"])\n",
    "############################################################################################\n",
    "print(str(df_clean[\"Other_Opert_Information_Receipt\"].isna().sum())+\" missing values after \")"
   ]
  },
  {
   "cell_type": "code",
   "execution_count": null,
   "metadata": {},
   "outputs": [],
   "source": [
    "df_clean[\"Other_Opert_Information_Receipt\"].unique()"
   ]
  },
  {
   "cell_type": "markdown",
   "metadata": {},
   "source": [
    "Visit_Eval_ajuste"
   ]
  },
  {
   "cell_type": "code",
   "execution_count": null,
   "metadata": {},
   "outputs": [],
   "source": [
    "df_clean['Visit_Eval_ajuste']=df_clean['Visit_Eval_ajuste'].replace(\"Résilié un contrat ou abonnement\",np.nan)\n",
    "df_clean['Visit_Eval_ajuste']=df_clean['Visit_Eval_ajuste'].replace(\"Via la télévision/5.\",\"4.Via la télévision\")\n",
    "df_clean['Visit_Eval_ajuste']=df_clean['Visit_Eval_ajuste'].replace(\"Par SMS (message texte)\",\"8.Par SMS (message texte)\")\n",
    "df_clean['Visit_Eval_ajuste']=df_clean['Visit_Eval_ajuste'].replace(\"Par le service client\",\"11.Par le service client\")\n",
    "df_clean['Visit_Eval_ajuste']=df_clean['Visit_Eval_ajuste'].replace(\"Par SMS (message texte)/9.\",\"8.Par SMS (message texte)\")\n",
    "df_clean['Visit_Eval_ajuste']=df_clean['Visit_Eval_ajuste'].replace(\"Par SMS (message texte)/11.\",\"8.Par SMS (message texte)\")\n",
    "df_clean['Visit_Eval_ajuste']=df_clean['Visit_Eval_ajuste'].replace(\"Via affichage publicitaire/3.\",\"2.Via affichage publicitaire\")\n",
    "\n",
    "\n",
    "\n"
   ]
  },
  {
   "cell_type": "code",
   "execution_count": null,
   "metadata": {},
   "outputs": [],
   "source": [
    "df_clean['Visit_Eval_ajuste'] = df_clean['Visit_Eval_ajuste'].astype(str)\n",
    "df_clean['Visit_Eval_ajuste']=df_clean['Visit_Eval_ajuste'].replace('nan',np.nan)"
   ]
  },
  {
   "cell_type": "code",
   "execution_count": null,
   "metadata": {},
   "outputs": [],
   "source": [
    "df_clean[\"Visit_Eval_ajuste\"].value_counts()"
   ]
  },
  {
   "cell_type": "code",
   "execution_count": null,
   "metadata": {},
   "outputs": [],
   "source": [
    "######################################################################################\n",
    "print(str(df_clean[\"Other_Opert_Information_Receipt\"].isna().sum())+\" missing values befor \")\n",
    "##########################################################################################\n",
    "df_clean[\"Other_Opert_Information_Receipt\"]=np.where(df_clean[\"Visit_Eval_ajuste\"].notna(),\n",
    "                                          df_clean['Other_Opert_Information_Receipt']+' ** '+df_clean['Visit_Eval_ajuste']\n",
    "                                           ,df_clean[\"Other_Opert_Information_Receipt\"])\n",
    "############################################################################################\n",
    "print(str(df_clean[\"Other_Opert_Information_Receipt\"].isna().sum())+\" missing values after \")"
   ]
  },
  {
   "cell_type": "code",
   "execution_count": null,
   "metadata": {},
   "outputs": [],
   "source": [
    "df_clean[\"Other_Opert_Information_Receipt\"].unique()"
   ]
  },
  {
   "cell_type": "code",
   "execution_count": null,
   "metadata": {},
   "outputs": [],
   "source": []
  }
 ],
 "metadata": {
  "kernelspec": {
   "display_name": "Python 3",
   "language": "python",
   "name": "python3"
  },
  "language_info": {
   "codemirror_mode": {
    "name": "ipython",
    "version": 3
   },
   "file_extension": ".py",
   "mimetype": "text/x-python",
   "name": "python",
   "nbconvert_exporter": "python",
   "pygments_lexer": "ipython3",
   "version": "3.8.5"
  }
 },
 "nbformat": 4,
 "nbformat_minor": 4
}
